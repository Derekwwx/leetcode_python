{
 "cells": [
  {
   "cell_type": "markdown",
   "metadata": {},
   "source": [
    "# 字符串\n",
    "## 字符编码\n",
    "ASCII编码: 由于计算机是美国人发明的，因此，最早只有127个字符被编码到计算机里，也就是大小写英文字母、数字和一些符号，这个编码表被称为ASCII编码，比如大写字母A的编码是65，小写字母z的编码是122。\n",
    "\n",
    "Unicode编码：Unicode把所有语言都统一到一套编码里，最常用的是用两个字节表示一个字符（如果要用到非常偏僻的字符，就需要4个字节）\n",
    "\n",
    "UTF-8编码：本着节约的原则把Unicode编码转化为“可变长编码”的UTF-8编码。UTF-8编码把一个Unicode字符根据不同的数字大小编码成1-6个字节，常用的英文字母被编码成1个字节，汉字通常是3个字节，只有很生僻的字符才会被编码成4-6个字节。如果你要传输的文本包含大量英文字符，用UTF-8编码就能节省空间。\n",
    "\n",
    "现在计算机系统通用的字符编码工作方式：\n",
    "\n",
    "在计算机内存中，统一使用Unicode编码，当需要保存到硬盘或者需要传输的时候，就转换为UTF-8编码。\n",
    "\n",
    "例如，用记事本编辑的时候，从文件读取的UTF-8字符被转换为Unicode字符到内存里，编辑完成后，保存的时候再把Unicode转换为UTF-8保存到文件\n",
    "\n",
    "在最新的Python 3版本中，字符串是以Unicode编码的，也就是说，Python的字符串支持多语言，例如："
   ]
  },
  {
   "cell_type": "code",
   "execution_count": 1,
   "metadata": {},
   "outputs": [
    {
     "name": "stdout",
     "output_type": "stream",
     "text": [
      "你好abc\n"
     ]
    }
   ],
   "source": [
    "print('你好abc') #包含中文的字符串"
   ]
  },
  {
   "cell_type": "markdown",
   "metadata": {},
   "source": [
    "对于单个字符的编码，Python提供了ord()函数获取字符的整数表示，chr()函数把编码转换为对应的字符："
   ]
  },
  {
   "cell_type": "code",
   "execution_count": 2,
   "metadata": {},
   "outputs": [
    {
     "data": {
      "text/plain": [
       "29579"
      ]
     },
     "execution_count": 2,
     "metadata": {},
     "output_type": "execute_result"
    }
   ],
   "source": [
    "ord('王')"
   ]
  },
  {
   "cell_type": "code",
   "execution_count": 7,
   "metadata": {},
   "outputs": [
    {
     "data": {
      "text/plain": [
       "'蜇'"
      ]
     },
     "execution_count": 7,
     "metadata": {},
     "output_type": "execute_result"
    }
   ],
   "source": [
    "chr(34567)"
   ]
  },
  {
   "cell_type": "markdown",
   "metadata": {},
   "source": [
    "由于Python的字符串类型是str，在内存中以Unicode表示，一个字符对应若干个字节。如果要在网络上传输，或者保存到磁盘上，就需要把str变为以字节为单位的bytes。\n",
    "\n",
    "Python对bytes类型的数据用带b前缀的单引号或双引号表示："
   ]
  },
  {
   "cell_type": "code",
   "execution_count": 29,
   "metadata": {},
   "outputs": [
    {
     "name": "stdout",
     "output_type": "stream",
     "text": [
      "中文 2 6 78\n"
     ]
    }
   ],
   "source": [
    "y='中文'\n",
    "print(y, len(y), len(y.encode('utf-8')),y.__sizeof__())\n",
    "\n",
    "#len()函数计算的是str的字符数，如果换成bytes，len()函数就计算字节数："
   ]
  },
  {
   "cell_type": "code",
   "execution_count": 10,
   "metadata": {},
   "outputs": [
    {
     "name": "stdout",
     "output_type": "stream",
     "text": [
      " 3-01\n",
      "3.14\n"
     ]
    }
   ],
   "source": [
    "print('%2d-%02d' % (3, 1))\n",
    "print('%.2f' % 3.1415926)"
   ]
  },
  {
   "cell_type": "code",
   "execution_count": 2,
   "metadata": {},
   "outputs": [
    {
     "name": "stdout",
     "output_type": "stream",
     "text": [
      "54321\n"
     ]
    }
   ],
   "source": [
    "# 字符串倒序输出\n",
    "string = '12345'\n",
    "\n",
    "print(string[::-1]) # note there are two commas before  - 1"
   ]
  },
  {
   "cell_type": "code",
   "execution_count": 3,
   "metadata": {},
   "outputs": [
    {
     "name": "stdout",
     "output_type": "stream",
     "text": [
      "yes\n"
     ]
    }
   ],
   "source": [
    "# 用in关键字判断子串\n",
    "if '34' in '12345':\n",
    "    print('yes')"
   ]
  },
  {
   "cell_type": "code",
   "execution_count": 7,
   "metadata": {},
   "outputs": [
    {
     "name": "stdout",
     "output_type": "stream",
     "text": [
      "3.3007654965537085\n"
     ]
    }
   ],
   "source": [
    "# perf_counter() 返回一个CPU级别的精确时间计数器，单位为秒\n",
    "import time\n",
    "start = time.perf_counter()\n",
    "time.sleep(3.3)\n",
    "end = time.perf_counter()\n",
    "print(end - start)"
   ]
  },
  {
   "cell_type": "raw",
   "metadata": {},
   "source": [
    "文本进度条"
   ]
  },
  {
   "cell_type": "code",
   "execution_count": 9,
   "metadata": {},
   "outputs": [
    {
     "name": "stdout",
     "output_type": "stream",
     "text": [
      "-----------执行开始----------\n",
      "100%[**************************************************->]5.05s\n",
      "-----------执行结束----------\n"
     ]
    }
   ],
   "source": [
    "import time\n",
    "scale = 50\n",
    "print('执行开始'.center(scale//2, '-'))\n",
    "start = time.perf_counter()\n",
    "for i in range(scale + 1):\n",
    "    a = '*' * i\n",
    "    b = '.' * (scale - i)\n",
    "    c = (i / scale) * 100\n",
    "    dur = time.perf_counter() - start\n",
    "    print('\\r{:^3.0f}%[{}->{}]{:.2f}s'.format(c, a, b, dur), end='')\n",
    "    time.sleep(0.1)\n",
    "print('\\n'+'执行结束'.center(scale//2, '-'))"
   ]
  },
  {
   "cell_type": "markdown",
   "metadata": {},
   "source": [
    "# For else\n",
    "\n",
    "英文原文\n",
    "\n",
    "A break statement executed in the first suite terminates the loop without executing the else clause’s suite. A continue statement executed in the first suite skips the rest of the suite and continues with the next item, or with the else clause if there is no next item.\n",
    "\n",
    "中文译文 \n",
    "用 break 关键字终止当前循环就不会执行当前的 else 语句，而使用 continue 关键字快速进入下一论循环，或者没有使用其他关键字，循环的正常结束后，就会触发 else 语句"
   ]
  },
  {
   "cell_type": "code",
   "execution_count": 1,
   "metadata": {},
   "outputs": [
    {
     "name": "stdout",
     "output_type": "stream",
     "text": [
      "1\n",
      "2\n",
      "3\n",
      "4\n",
      "5\n",
      "else\n"
     ]
    }
   ],
   "source": [
    "# 触发 else --正常结束循环\n",
    "list = [1,2,3,4,5]\n",
    "for x in list:\n",
    "    print(x)\n",
    "else:\n",
    "    print(\"else\")"
   ]
  },
  {
   "cell_type": "code",
   "execution_count": 2,
   "metadata": {},
   "outputs": [
    {
     "name": "stdout",
     "output_type": "stream",
     "text": [
      "else\n"
     ]
    }
   ],
   "source": [
    "# 触发 else --使用continue关键字\n",
    "list = [1,2,3,4,5]\n",
    "for x in list:\n",
    "    continue\n",
    "    print(x)\n",
    "else:\n",
    "    print('else')"
   ]
  },
  {
   "cell_type": "code",
   "execution_count": 3,
   "metadata": {},
   "outputs": [
    {
     "name": "stdout",
     "output_type": "stream",
     "text": [
      "1\n"
     ]
    }
   ],
   "source": [
    "# 不触发 else --使用break关键字\n",
    "list = [1,2,3,4,5]\n",
    "for x in list:\n",
    "    print(x)\n",
    "    break\n",
    "else:\n",
    "    print('else')"
   ]
  },
  {
   "cell_type": "raw",
   "metadata": {},
   "source": [
    "for else语句可以总结成以下话。 \n",
    "如果我依次做完了所有的事情(for正常结束)，我就去做其他事(执行else)，若做到一半就停下来不做了（中途遇到break），我就不去做其他事了(不执行else)。\n",
    "\n",
    "1.只有循环完所有次数，才会执行 else 。\n",
    "2.break 可以阻止 else 语句块的执行。"
   ]
  },
  {
   "cell_type": "markdown",
   "metadata": {},
   "source": [
    "# List and tuple\n",
    "## list\n",
    "Python内置的一种数据类型是列表：list。list是一种有序的集合，可以随时添加和删除其中的元素。\n",
    "\n",
    "note:list是一个可变的有序表，所以，可以往list中追加元素到末尾："
   ]
  },
  {
   "cell_type": "code",
   "execution_count": 19,
   "metadata": {},
   "outputs": [
    {
     "data": {
      "text/plain": [
       "['Bob', 'Jack', 'Tom']"
      ]
     },
     "execution_count": 19,
     "metadata": {},
     "output_type": "execute_result"
    }
   ],
   "source": [
    "classmates = ['Bob','Jack']\n",
    "classmates.append('Tom')\n",
    "classmates"
   ]
  },
  {
   "cell_type": "code",
   "execution_count": 20,
   "metadata": {},
   "outputs": [
    {
     "data": {
      "text/plain": [
       "['Bob', 'Rachel', 'Jack', 'Tom']"
      ]
     },
     "execution_count": 20,
     "metadata": {},
     "output_type": "execute_result"
    }
   ],
   "source": [
    "classmates.insert(1,'Rachel') #插入指定位置, 改用insert\n",
    "classmates"
   ]
  },
  {
   "cell_type": "code",
   "execution_count": 21,
   "metadata": {},
   "outputs": [
    {
     "data": {
      "text/plain": [
       "['Bob', 'Rachel', 'Jack']"
      ]
     },
     "execution_count": 21,
     "metadata": {},
     "output_type": "execute_result"
    }
   ],
   "source": [
    "classmates.pop() #删除末尾元素\n",
    "classmates"
   ]
  },
  {
   "cell_type": "code",
   "execution_count": 22,
   "metadata": {},
   "outputs": [
    {
     "data": {
      "text/plain": [
       "['Bob', 'Jack']"
      ]
     },
     "execution_count": 22,
     "metadata": {},
     "output_type": "execute_result"
    }
   ],
   "source": [
    "classmates.pop(1) # 删除指定元素\n",
    "classmates"
   ]
  },
  {
   "cell_type": "code",
   "execution_count": 24,
   "metadata": {},
   "outputs": [
    {
     "data": {
      "text/plain": [
       "['Bob', 'Sarah']"
      ]
     },
     "execution_count": 24,
     "metadata": {},
     "output_type": "execute_result"
    }
   ],
   "source": [
    "classmates[1] = 'Sarah' #替换某元素，可以直接赋值\n",
    "classmates"
   ]
  },
  {
   "cell_type": "markdown",
   "metadata": {},
   "source": [
    "## tuple\n",
    "另一种有序列表叫元组：tuple。tuple和list非常类似，但是tuple一旦初始化就不能修改\n",
    "\n",
    "不可变的tuple有什么意义？因为tuple不可变，所以代码更安全。如果可能，能用tuple代替list就尽量用tuple。\n",
    "\n",
    "tuple的注意事项：\n",
    "\n",
    "    1)当你定义一个tuple时，在定义的时候，tuple的元素就必须被确定下来；\n",
    "    2)多个变量可以同时接收一个tuple，按位置赋给对应的值"
   ]
  },
  {
   "cell_type": "code",
   "execution_count": 38,
   "metadata": {},
   "outputs": [
    {
     "data": {
      "text/plain": [
       "1"
      ]
     },
     "execution_count": 38,
     "metadata": {},
     "output_type": "execute_result"
    }
   ],
   "source": [
    "x, y=(1,2)\n",
    "x"
   ]
  },
  {
   "cell_type": "markdown",
   "metadata": {},
   "source": [
    "### 推导式\n",
    "推导式comprehensions（又称解析式），是Python的一种独有特性。推导式是可以从一个数据序列构建另一个新的数据序列的结构体。 共有三种推导，在Python2和3中都有支持：\n",
    "\n",
    "列表(list)推导式\n",
    "字典(dict)推导式\n",
    "集合(set)推导式"
   ]
  },
  {
   "cell_type": "raw",
   "metadata": {},
   "source": [
    "列表推导式\n",
    "\n",
    "列表推导式总共有两种形式：\n",
    "\n",
    "①[x for x in data if condition]\n",
    "\n",
    "    此处if主要起条件判断作用，data数据中只有满足if条件的才会被留下，最后统一生成为一个数据列表\n",
    "\n",
    "②[exp1 if condition else exp2 for x in data]\n",
    "\n",
    "    此处if...else主要起赋值作用，当data中的数据满足if条件时将其做exp1处理，否则按照exp2处理，最后统一生成为一个数据列表"
   ]
  },
  {
   "cell_type": "code",
   "execution_count": 4,
   "metadata": {},
   "outputs": [
    {
     "name": "stdout",
     "output_type": "stream",
     "text": [
      "[2058, 2537.0]\n",
      "['driver', '2017-07-13', 1827, 2058, 978, 1636, 1863, 2537, 1061]\n"
     ]
    }
   ],
   "source": [
    "data = ['driver', '2017-07-13', 1827.0, 2058, 978.0, 1636.0, 1863.0, 2537.0, 1061.0]\n",
    "print([x for x in data if isinstance(x, (float, int)) and x > 2000])\n",
    "print([int(x) if type(x) == float else x for x in data])"
   ]
  },
  {
   "cell_type": "markdown",
   "metadata": {},
   "source": [
    "#### 字典推导式\n",
    "字典推导和列表推导的使用方法是类似的，只不中括号该改成大括号"
   ]
  },
  {
   "cell_type": "code",
   "execution_count": 6,
   "metadata": {},
   "outputs": [
    {
     "name": "stdout",
     "output_type": "stream",
     "text": [
      "{'a': 17, 'b': 34}\n"
     ]
    }
   ],
   "source": [
    "# 大小写key合并\n",
    "mcase = {'a': 10, 'b': 34, 'A': 7, 'Z': 3}\n",
    "mcase_frequency = {\n",
    "    k.lower(): mcase.get(k.lower(), 0) + mcase.get(k.upper(), 0)\n",
    "    for k in mcase.keys()\n",
    "    if k.lower() in ['a', 'b']\n",
    "}\n",
    "print(mcase_frequency)"
   ]
  },
  {
   "cell_type": "code",
   "execution_count": 8,
   "metadata": {},
   "outputs": [
    {
     "name": "stdout",
     "output_type": "stream",
     "text": [
      "{17: 'a', 34: 'b'}\n"
     ]
    }
   ],
   "source": [
    "# 快速更换key and value\n",
    "d = {'a': 17, 'b': 34}\n",
    "print({v: k for k, v in d.items()})"
   ]
  },
  {
   "cell_type": "markdown",
   "metadata": {},
   "source": [
    "#### 集合推导式\n",
    "它们跟列表推导式也是类似的。 唯一的区别在于它使用大括号{}。\n",
    "\n",
    "例：\n",
    "\n",
    "squared = {x**2 for x in [1, 1, 2]}\n",
    "print(squared)\n",
    "\n",
    "Output: set([1, 4])"
   ]
  },
  {
   "cell_type": "markdown",
   "metadata": {},
   "source": [
    "# Dict and Set\n",
    "Python内置了字典：dict的支持，dict全称dictionary，在其他语言中也称为map，使用键-值（key-value）存储，具有极快的查找速度"
   ]
  },
  {
   "cell_type": "code",
   "execution_count": 25,
   "metadata": {
    "collapsed": true
   },
   "outputs": [],
   "source": [
    " d = {'Michael': 95, 'Bob': 75, 'Tracy': 85}"
   ]
  },
  {
   "cell_type": "code",
   "execution_count": 26,
   "metadata": {},
   "outputs": [
    {
     "data": {
      "text/plain": [
       "False"
      ]
     },
     "execution_count": 26,
     "metadata": {},
     "output_type": "execute_result"
    }
   ],
   "source": [
    "'Tomas' in d #通过in判断key是否存在"
   ]
  },
  {
   "cell_type": "code",
   "execution_count": 27,
   "metadata": {
    "collapsed": true
   },
   "outputs": [],
   "source": [
    "d.get('Tomas') #通过dict提供的get()方法，如果key不存在，可以返回None，或者自己指定的value"
   ]
  },
  {
   "cell_type": "code",
   "execution_count": 28,
   "metadata": {},
   "outputs": [
    {
     "data": {
      "text/plain": [
       "-1"
      ]
     },
     "execution_count": 28,
     "metadata": {},
     "output_type": "execute_result"
    }
   ],
   "source": [
    "d.get('Tomas', -1)"
   ]
  },
  {
   "cell_type": "markdown",
   "metadata": {},
   "source": [
    "set和dict类似，也是一组key的集合，但不存储value。由于key不能重复，所以，在set中，没有重复的key (初始化时重复的key会被自动删除)。\n",
    "\n",
    "要创建一个set，需要提供一个list作为输入集合："
   ]
  },
  {
   "cell_type": "code",
   "execution_count": 30,
   "metadata": {},
   "outputs": [
    {
     "data": {
      "text/plain": [
       "{1, 2, 3}"
      ]
     },
     "execution_count": 30,
     "metadata": {},
     "output_type": "execute_result"
    }
   ],
   "source": [
    "s=set([1,2,3])\n",
    "s"
   ]
  },
  {
   "cell_type": "code",
   "execution_count": 31,
   "metadata": {},
   "outputs": [
    {
     "data": {
      "text/plain": [
       "{1, 2, 3, 4}"
      ]
     },
     "execution_count": 31,
     "metadata": {},
     "output_type": "execute_result"
    }
   ],
   "source": [
    "s.add(4) #可以添加元素到set中，可以重复添加，但不会有效果\n",
    "s"
   ]
  },
  {
   "cell_type": "code",
   "execution_count": 32,
   "metadata": {},
   "outputs": [
    {
     "data": {
      "text/plain": [
       "{1, 2, 3}"
      ]
     },
     "execution_count": 32,
     "metadata": {},
     "output_type": "execute_result"
    }
   ],
   "source": [
    "s.remove(4)\n",
    "s"
   ]
  },
  {
   "cell_type": "code",
   "execution_count": 35,
   "metadata": {},
   "outputs": [
    {
     "data": {
      "text/plain": [
       "'0x7c'"
      ]
     },
     "execution_count": 35,
     "metadata": {},
     "output_type": "execute_result"
    }
   ],
   "source": [
    "hex(124)"
   ]
  },
  {
   "cell_type": "markdown",
   "metadata": {},
   "source": [
    "# 函数\n",
    "定义函数时，需要确定函数名和参数个数；\n",
    "\n",
    "如果有必要，可以先对参数的数据类型做检查(isinstance)；\n",
    "\n",
    "函数体内部可以用return随时返回函数结果；\n",
    "\n",
    "函数执行完毕也没有return语句时，自动return None。\n",
    "\n",
    "函数可以同时返回多个值，但其实就是一个tuple。"
   ]
  },
  {
   "cell_type": "markdown",
   "metadata": {},
   "source": [
    "### 默认参数\n",
    "定义默认参数要牢记一点：默认参数必须指向不变对象！"
   ]
  },
  {
   "cell_type": "code",
   "execution_count": 40,
   "metadata": {},
   "outputs": [
    {
     "name": "stdout",
     "output_type": "stream",
     "text": [
      "['END']\n",
      "['END', 'END']\n"
     ]
    }
   ],
   "source": [
    "def add_end(L=[]):\n",
    "    L.append('END')\n",
    "    return L\n",
    "\n",
    "print(add_end()) # []是可变的list，因此会出现这样的错误\n",
    "print(add_end())"
   ]
  },
  {
   "cell_type": "code",
   "execution_count": 41,
   "metadata": {},
   "outputs": [
    {
     "name": "stdout",
     "output_type": "stream",
     "text": [
      "['END']\n",
      "['END']\n"
     ]
    }
   ],
   "source": [
    "def add_end(L=None):\n",
    "    if L is None:\n",
    "        L = []\n",
    "    L.append('END')\n",
    "    return L\n",
    "\n",
    "print(add_end()) \n",
    "print(add_end())"
   ]
  },
  {
   "cell_type": "markdown",
   "metadata": {},
   "source": [
    "### 可变参数\n",
    "顾名思义，可变参数就是传入的参数个数是可变的，可以是1个、2个到任意个，还可以是0个\n",
    "\n",
    "定义可变参数和定义一个list或tuple参数相比，仅仅在参数前面加了一个*号。在函数内部，参数numbers接收到的是一个tuple，因此，函数代码完全不变。但是，调用该函数时，可以传入任意个参数，包括0个参数："
   ]
  },
  {
   "cell_type": "code",
   "execution_count": 42,
   "metadata": {},
   "outputs": [
    {
     "data": {
      "text/plain": [
       "21"
      ]
     },
     "execution_count": 42,
     "metadata": {},
     "output_type": "execute_result"
    }
   ],
   "source": [
    "def calc(*numbers):\n",
    "    sum = 0\n",
    "    for n in numbers:\n",
    "        sum = sum + n * n\n",
    "    return sum\n",
    "\n",
    "calc(1,2,4) #若函数定义时使用list作为传入参数，则需写成 calc([1,2,4])"
   ]
  },
  {
   "cell_type": "markdown",
   "metadata": {},
   "source": [
    "Python允许你在list或tuple前面加一个*号，把list或tuple的元素变成可变参数传进去:"
   ]
  },
  {
   "cell_type": "code",
   "execution_count": 45,
   "metadata": {},
   "outputs": [
    {
     "data": {
      "text/plain": [
       "21"
      ]
     },
     "execution_count": 45,
     "metadata": {},
     "output_type": "execute_result"
    }
   ],
   "source": [
    "num=[1,2,4]\n",
    "calc(*num)"
   ]
  },
  {
   "cell_type": "markdown",
   "metadata": {},
   "source": [
    "### 关键字参数\n",
    "可变参数允许你传入0个或任意个参数，这些可变参数在函数调用时自动组装为一个tuple。而关键字参数允许你传入0个或任意个含参数名的参数，这些关键字参数在函数内部自动组装为一个dict。例如:"
   ]
  },
  {
   "cell_type": "code",
   "execution_count": 46,
   "metadata": {},
   "outputs": [
    {
     "name": "stdout",
     "output_type": "stream",
     "text": [
      "name: Michael age: 20 other: {}\n"
     ]
    }
   ],
   "source": [
    "def person(name, age, **kw):\n",
    "    print('name:', name, 'age:', age, 'other:', kw)\n",
    "    \n",
    "person('Michael',20)"
   ]
  },
  {
   "cell_type": "code",
   "execution_count": 47,
   "metadata": {},
   "outputs": [
    {
     "name": "stdout",
     "output_type": "stream",
     "text": [
      "name: Adam age: 45 other: {'gender': 'M', 'job': 'Engineer'}\n"
     ]
    }
   ],
   "source": [
    "person('Adam', 45, gender='M', job='Engineer')"
   ]
  },
  {
   "cell_type": "markdown",
   "metadata": {},
   "source": [
    "关键字参数有什么用？它可以扩展函数的功能。比如，在person函数里，我们保证能接收到name和age这两个参数，但是，如果调用者愿意提供更多的参数，我们也能收到。\n",
    "\n",
    "note: **extra表示把extra这个dict的所有key-value用关键字参数传入到函数的**kw参数，kw将获得一个dict，注意kw获得的dict是extra的一份拷贝，对kw的改动不会影响到函数外的extra。"
   ]
  },
  {
   "cell_type": "code",
   "execution_count": 48,
   "metadata": {},
   "outputs": [
    {
     "name": "stdout",
     "output_type": "stream",
     "text": [
      "name: Jack age: 20 other: {'city': 'Beijing', 'job': 'Engineer'}\n"
     ]
    }
   ],
   "source": [
    "extra={'city':'Beijing', 'job':'Engineer'}\n",
    "person('Jack', 20, **extra)"
   ]
  },
  {
   "cell_type": "markdown",
   "metadata": {},
   "source": [
    "### 命名关键字参数\n",
    "对于关键字参数，函数的调用者可以传入任意不受限制的关键字参数。至于到底传入了哪些，就需要在函数内部通过kw检查。\n",
    "如果要限制关键字参数的名字，就可以用命名关键字参数，例如，只接收city和job作为关键字参数。这种方式定义的函数如下："
   ]
  },
  {
   "cell_type": "code",
   "execution_count": 50,
   "metadata": {
    "collapsed": true
   },
   "outputs": [],
   "source": [
    "def person(name, age, *, city, job): #和关键字参数**kw不同，命名关键字参数需要一个特殊分隔符*\n",
    "    print(name, age, city, job)      # *后面的参数被视为命名关键字参数。"
   ]
  },
  {
   "cell_type": "code",
   "execution_count": 55,
   "metadata": {},
   "outputs": [
    {
     "name": "stdout",
     "output_type": "stream",
     "text": [
      "Jason 18 Beijing military\n"
     ]
    }
   ],
   "source": [
    "person('Jason',18,city='Beijing',job='military')"
   ]
  },
  {
   "cell_type": "markdown",
   "metadata": {},
   "source": [
    "如果函数定义中已经有了一个可变参数，后面跟着的命名关键字参数就不再需要一个特殊分隔符*了，但如果没有可变参数，就必须加一个*作为特殊分隔符。如果缺少*，Python解释器将无法识别位置参数和命名关键字参数："
   ]
  },
  {
   "cell_type": "code",
   "execution_count": 56,
   "metadata": {
    "collapsed": true
   },
   "outputs": [],
   "source": [
    "def person(name, age, *args, city, job):\n",
    "    print(name, age, args, city, job)"
   ]
  },
  {
   "cell_type": "markdown",
   "metadata": {},
   "source": [
    "## 递归\n",
    "递归函数的优点是定义简单，逻辑清晰。理论上，所有的递归函数都可以写成循环的方式，但循环的逻辑不如递归清晰。\n",
    "\n",
    "使用递归函数需要注意防止栈溢出。在计算机中，函数调用是通过栈（stack）这种数据结构实现的，每当进入一个函数调用，栈就会加一层栈帧，每当函数返回，栈就会减一层栈帧。由于栈的大小不是无限的，所以，递归调用的次数过多，会导致栈溢出。\n",
    "\n",
    "解决递归调用栈溢出的方法是通过尾递归优化，事实上尾递归和循环的效果是一样的，所以，把循环看成是一种特殊的尾递归函数也是可以的。\n",
    "\n",
    "## 尾递归\n",
    "尾递归是指，在函数返回的时候，调用自身本身，并且，return语句不能包含表达式。这样，编译器或者解释器就可以把尾递归做优化，使递归本身无论调用多少次，都只占用一个栈帧，不会出现栈溢出的情况"
   ]
  },
  {
   "cell_type": "code",
   "execution_count": 57,
   "metadata": {
    "collapsed": true
   },
   "outputs": [],
   "source": [
    "def fact(n):\n",
    "    return fact_iter(n, 1)\n",
    "\n",
    "def fact_iter(num, product):\n",
    "    if num == 1:\n",
    "        return product\n",
    "    return fact_iter(num - 1, num * product)  # return中不能有表达式，包括乘法，加法等"
   ]
  },
  {
   "cell_type": "markdown",
   "metadata": {},
   "source": [
    "汉诺塔问题"
   ]
  },
  {
   "cell_type": "code",
   "execution_count": 62,
   "metadata": {},
   "outputs": [
    {
     "name": "stdout",
     "output_type": "stream",
     "text": [
      "A --> C\n",
      "A --> B\n",
      "C --> B\n",
      "A --> C\n",
      "B --> A\n",
      "B --> C\n",
      "A --> C\n"
     ]
    }
   ],
   "source": [
    "def move(n,a,b,c):\n",
    "    if n == 1:\n",
    "        print(a, '-->', c)\n",
    "    else:\n",
    "        move(n-1,a,c,b)\n",
    "        move(1,a,b,c)\n",
    "        move(n-1,b,a,c)\n",
    "\n",
    "move(3, 'A', 'B', 'C')"
   ]
  },
  {
   "cell_type": "markdown",
   "metadata": {},
   "source": [
    "## 切片"
   ]
  },
  {
   "cell_type": "code",
   "execution_count": 66,
   "metadata": {},
   "outputs": [
    {
     "data": {
      "text/plain": [
       "[0, 1, 2, 3, 4, 5, 6, 7, 8, 9]"
      ]
     },
     "execution_count": 66,
     "metadata": {},
     "output_type": "execute_result"
    }
   ],
   "source": [
    "L=list(range(100))\n",
    "L[:10] #前10个数"
   ]
  },
  {
   "cell_type": "code",
   "execution_count": 123,
   "metadata": {},
   "outputs": [
    {
     "data": {
      "text/plain": [
       "[0, 1, 2]"
      ]
     },
     "execution_count": 123,
     "metadata": {},
     "output_type": "execute_result"
    }
   ],
   "source": [
    "L[0:3] # L[0:3]表示，从索引0开始取，直到索引3为止，但不包括索引3。即索引0，1，2，正好是3个元素。"
   ]
  },
  {
   "cell_type": "code",
   "execution_count": 67,
   "metadata": {},
   "outputs": [
    {
     "data": {
      "text/plain": [
       "[90, 91, 92, 93, 94, 95, 96, 97, 98, 99]"
      ]
     },
     "execution_count": 67,
     "metadata": {},
     "output_type": "execute_result"
    }
   ],
   "source": [
    "L[-10:] # 后10个数"
   ]
  },
  {
   "cell_type": "code",
   "execution_count": 127,
   "metadata": {
    "collapsed": true
   },
   "outputs": [],
   "source": [
    "def trim(s):  #去除首尾的空格\n",
    "    if s.isspace() or s == '':\n",
    "        return ''\n",
    "    else:\n",
    "        i=0\n",
    "        j=-1\n",
    "        for char in s:\n",
    "            if char.isspace():\n",
    "                i=i+1\n",
    "            else:\n",
    "                break\n",
    "        #print('i is %d'%i)\n",
    "        while s[j].isspace():\n",
    "            j=j-1    \n",
    "        #print('j is %d'%j)\n",
    "        return s[i:j+len(s)+1]"
   ]
  },
  {
   "cell_type": "code",
   "execution_count": 128,
   "metadata": {},
   "outputs": [
    {
     "name": "stdout",
     "output_type": "stream",
     "text": [
      "测试成功!\n"
     ]
    }
   ],
   "source": [
    "# 测试:\n",
    "if trim('hello  ') != 'hello':\n",
    "    print('测试失败1!')\n",
    "elif trim('  hello') != 'hello':\n",
    "    print('测试失败2!')\n",
    "elif trim('  hello  ') != 'hello':\n",
    "    print('测试失败3!')\n",
    "elif trim('  hello  world  ') != 'hello  world':\n",
    "    print('测试失败4!')\n",
    "elif trim('') != '':\n",
    "    print('测试失败5!')\n",
    "elif trim('    ') != '':\n",
    "    print('测试失败6!')\n",
    "else:\n",
    "    print('测试成功!')"
   ]
  },
  {
   "cell_type": "markdown",
   "metadata": {},
   "source": [
    "## 迭代\n",
    "Python的for循环不仅可以用在list或tuple上，还可以作用在其他可迭代对象上。\n",
    "list这种数据类型虽然有下标，但很多其他数据类型是没有下标的，但是，只要是可迭代对象，无论有无下标，都可以迭代，比如dict就可以迭代："
   ]
  },
  {
   "cell_type": "code",
   "execution_count": 130,
   "metadata": {},
   "outputs": [
    {
     "name": "stdout",
     "output_type": "stream",
     "text": [
      "a\n",
      "b\n",
      "c\n"
     ]
    }
   ],
   "source": [
    "d = {'a':1, 'b':2, 'c':3}\n",
    "for key in d:\n",
    "    print(key)"
   ]
  },
  {
   "cell_type": "markdown",
   "metadata": {},
   "source": [
    "因为dict的存储不是按照list的方式顺序排列，所以，迭代出的结果顺序很可能不一样。\n",
    "\n",
    "默认情况下，dict迭代的是key。如果要迭代value，可以用for value in d.values()，如果要同时迭代key和value，可以用**<font color=red>for k, v in d.items()</font>**。"
   ]
  },
  {
   "cell_type": "code",
   "execution_count": 131,
   "metadata": {},
   "outputs": [
    {
     "name": "stdout",
     "output_type": "stream",
     "text": [
      "0 A\n",
      "1 B\n",
      "2 C\n"
     ]
    }
   ],
   "source": [
    "for i, value in enumerate(['A','B','C']): #Python内置的enumerate函数可以把一个list变成索引-元素对\n",
    "    print(i, value)"
   ]
  },
  {
   "cell_type": "markdown",
   "metadata": {},
   "source": [
    "for循环里，同时引用了两个变量，在Python里是很常见的，比如下面的代码："
   ]
  },
  {
   "cell_type": "code",
   "execution_count": 132,
   "metadata": {},
   "outputs": [
    {
     "name": "stdout",
     "output_type": "stream",
     "text": [
      "1 2\n",
      "3 4\n",
      "5 6\n"
     ]
    }
   ],
   "source": [
    "for x, y in [(1,2),(3,4),(5,6)]:\n",
    "    print(x, y)"
   ]
  },
  {
   "cell_type": "code",
   "execution_count": 151,
   "metadata": {
    "collapsed": true
   },
   "outputs": [],
   "source": [
    "def findMinAndMax(L):\n",
    "    if L == []:\n",
    "        return(None, None)\n",
    "    else:\n",
    "        minimum = L[0]\n",
    "        maximum = L[0]\n",
    "        for i in L:\n",
    "            if i < minimum:\n",
    "                minimum = i\n",
    "            if i > maximum:\n",
    "                maximum = i\n",
    "        return(minimum, maximum)"
   ]
  },
  {
   "cell_type": "code",
   "execution_count": 152,
   "metadata": {},
   "outputs": [
    {
     "name": "stdout",
     "output_type": "stream",
     "text": [
      "测试成功!\n"
     ]
    }
   ],
   "source": [
    "if findMinAndMax([]) != (None, None):\n",
    "    print('测试失败!')\n",
    "elif findMinAndMax([7]) != (7, 7):\n",
    "    print('测试失败!')\n",
    "elif findMinAndMax([7, 1]) != (1, 7):\n",
    "    print('测试失败!')\n",
    "elif findMinAndMax([7, 1, 3, 9, 5]) != (1, 9):\n",
    "    print('测试失败!')\n",
    "else:\n",
    "    print('测试成功!')"
   ]
  },
  {
   "cell_type": "markdown",
   "metadata": {},
   "source": [
    "## 列表生成器\n",
    "列表生成式即List Comprehensions"
   ]
  },
  {
   "cell_type": "code",
   "execution_count": 153,
   "metadata": {},
   "outputs": [
    {
     "data": {
      "text/plain": [
       "[4, 16, 36, 64, 100]"
      ]
     },
     "execution_count": 153,
     "metadata": {},
     "output_type": "execute_result"
    }
   ],
   "source": [
    "[x * x for x in range(1,11) if x%2 == 0]"
   ]
  },
  {
   "cell_type": "code",
   "execution_count": 154,
   "metadata": {},
   "outputs": [
    {
     "data": {
      "text/plain": [
       "['AD', 'AE', 'AF', 'BD', 'BE', 'BF', 'CD', 'CE', 'CF']"
      ]
     },
     "execution_count": 154,
     "metadata": {},
     "output_type": "execute_result"
    }
   ],
   "source": [
    "[m + n for m in 'ABC' for n in 'DEF'] # 使用两层循环，可以生成全排列"
   ]
  },
  {
   "cell_type": "code",
   "execution_count": 155,
   "metadata": {},
   "outputs": [
    {
     "name": "stdout",
     "output_type": "stream",
     "text": [
      "a=x\n",
      "b=y\n",
      "c=z\n"
     ]
    }
   ],
   "source": [
    "d = {'a':'x', 'b':'y', 'c':'z'}\n",
    "for key, value in d.items():\n",
    "    print(key + '=' + value)"
   ]
  },
  {
   "cell_type": "code",
   "execution_count": 158,
   "metadata": {},
   "outputs": [
    {
     "data": {
      "text/plain": [
       "['hello', 'world', 'apple']"
      ]
     },
     "execution_count": 158,
     "metadata": {},
     "output_type": "execute_result"
    }
   ],
   "source": [
    "L1 = ['Hello', 'World', 18, 'Apple', None]\n",
    "L2 = [ x.lower() for x in L1 if isinstance(x, str)]\n",
    "L2"
   ]
  },
  {
   "cell_type": "markdown",
   "metadata": {},
   "source": [
    "## 生成器\n",
    "在Python中，这种一边循环一边计算的机制，称为生成器：generator。\n",
    "第一种方法很简单，只要把一个列表生成式的[]改成()，就创建了一个generator："
   ]
  },
  {
   "cell_type": "code",
   "execution_count": 165,
   "metadata": {},
   "outputs": [
    {
     "name": "stdout",
     "output_type": "stream",
     "text": [
      "[0, 1, 4, 9, 16, 25, 36, 49, 64, 81]\n",
      "<generator object <genexpr> at 0x0000017E2D883E08>\n"
     ]
    }
   ],
   "source": [
    "L=[x * x for x in range(10)]\n",
    "g = (x * x for x in range(10))\n",
    "print(L)\n",
    "print(g)"
   ]
  },
  {
   "cell_type": "markdown",
   "metadata": {},
   "source": [
    "generator保存的是算法，每次调用next(g)，就计算出g的下一个元素的值，直到计算到最后一个元素，没有更多的元素时，抛出StopIteration的错误. 但是我们创建了一个generator后，基本上永远不会调用next()，而是通过for循环来迭代它，并且不需要关心StopIteration的错误。\n",
    "\n",
    "generator的第二种生成方法: 如果一个函数定义中包含yield关键字，那么这个函数就不再是一个普通函数，而是一个generator"
   ]
  },
  {
   "cell_type": "code",
   "execution_count": 166,
   "metadata": {},
   "outputs": [
    {
     "name": "stdout",
     "output_type": "stream",
     "text": [
      "0 1 4 9 16 25 36 49 64 81 "
     ]
    }
   ],
   "source": [
    "for n in g:  # for循环来迭代generator\n",
    "    print(n, end=' ')"
   ]
  },
  {
   "cell_type": "code",
   "execution_count": 2,
   "metadata": {},
   "outputs": [
    {
     "data": {
      "text/plain": [
       "<generator object fib at 0x0000029534E44D58>"
      ]
     },
     "execution_count": 2,
     "metadata": {},
     "output_type": "execute_result"
    }
   ],
   "source": [
    "def fib(max):\n",
    "    n, a, b = 0, 0, 1\n",
    "    while n < max:   # 故而要给循环设置一个条件来退出循环，不然就会产生一个无限数列出来。\n",
    "        yield b      # 在循环过程中不断调用yield，就会不断中断。\n",
    "        a, b = b, a + b\n",
    "        n = n + 1\n",
    "    return 'done'\n",
    "\n",
    "f=fib(6)\n",
    "f"
   ]
  },
  {
   "cell_type": "markdown",
   "metadata": {},
   "source": [
    "同样的，把函数改成generator后，我们基本上从来不会用next()来获取下一个返回值，而是直接使用for循环来迭代："
   ]
  },
  {
   "cell_type": "code",
   "execution_count": 168,
   "metadata": {},
   "outputs": [
    {
     "name": "stdout",
     "output_type": "stream",
     "text": [
      "1 1 2 3 5 8 "
     ]
    }
   ],
   "source": [
    "for n in fib(6):\n",
    "    print(n, end=' ')"
   ]
  },
  {
   "cell_type": "markdown",
   "metadata": {},
   "source": [
    "但是用for循环调用generator时，发现拿不到generator的return语句的返回值。如果想要拿到返回值，必须捕获StopIteration错误，返回值包含在StopIteration的value中："
   ]
  },
  {
   "cell_type": "code",
   "execution_count": null,
   "metadata": {
    "collapsed": true
   },
   "outputs": [],
   "source": [
    "g = fib(6)\n",
    "while True:\n",
    "    try:\n",
    "        x = next(g)\n",
    "        print('g:', x)\n",
    "    except StopIteration as e:\n",
    "        print('Generator return value:', e.value)\n",
    "        break"
   ]
  },
  {
   "cell_type": "code",
   "execution_count": 45,
   "metadata": {},
   "outputs": [
    {
     "name": "stdout",
     "output_type": "stream",
     "text": [
      "[1]\n",
      "[1, 1]\n",
      "[1, 2, 1]\n",
      "[1, 3, 3, 1]\n",
      "[1, 4, 6, 4, 1]\n",
      "[1, 5, 10, 10, 5, 1]\n",
      "[1, 6, 15, 20, 15, 6, 1]\n",
      "[1, 7, 21, 35, 35, 21, 7, 1]\n",
      "[1, 8, 28, 56, 70, 56, 28, 8, 1]\n",
      "[1, 9, 36, 84, 126, 126, 84, 36, 9, 1]\n",
      "测试通过!\n"
     ]
    }
   ],
   "source": [
    "def triangles(): # 在函数参数传递的时候，Python其实就是把参数里传入的变量对应的对象的引用\n",
    "                 # 依次赋值给对应的函数内部变量\n",
    "    L = [1]\n",
    "    while True:\n",
    "        yield L\n",
    "        L=[x+y for x, y in zip([0]+L, L+[0])] #由于list的长度增加了，所以L重新指向新的内存位置\n",
    "        # t = L  note： 赋值语句总是建立对象的引用值，而不是复制对象\n",
    "    return 'done'\n",
    "\n",
    "n = 0\n",
    "results = []\n",
    "for t in triangles():\n",
    "    print(t)\n",
    "    results.append(t)\n",
    "    n = n + 1\n",
    "    if n == 10:\n",
    "        break\n",
    "if results == [\n",
    "    [1],\n",
    "    [1, 1],\n",
    "    [1, 2, 1],\n",
    "    [1, 3, 3, 1],\n",
    "    [1, 4, 6, 4, 1],\n",
    "    [1, 5, 10, 10, 5, 1],\n",
    "    [1, 6, 15, 20, 15, 6, 1],\n",
    "    [1, 7, 21, 35, 35, 21, 7, 1],\n",
    "    [1, 8, 28, 56, 70, 56, 28, 8, 1],\n",
    "    [1, 9, 36, 84, 126, 126, 84, 36, 9, 1]\n",
    "]:\n",
    "    print('测试通过!')\n",
    "else:\n",
    "    print('测试失败!')"
   ]
  },
  {
   "cell_type": "markdown",
   "metadata": {},
   "source": [
    "python 深入理解 赋值、引用、拷贝、作用域：https://www.cnblogs.com/jiangzhaowei/p/5740913.html\n",
    "\n",
    "引用 VS 拷贝：\n",
    "\n",
    "（1）没有限制条件的分片表达式（L[:]）能够复制序列，但此法只能浅层复制。\n",
    "\n",
    "（2）字典 copy 方法，D.copy() 能够复制字典，但此法只能浅层复制\n",
    "\n",
    "（3）有些内置函数，例如 list，能够生成拷贝 list(L)\n",
    "\n",
    "（4）copy 标准库模块能够生成完整拷贝：deepcopy 本质上是递归 copy\n",
    "\n",
    "（5）对于不可变对象和可变对象来说，浅复制都是复制的引用，只是因为复制不变对象和复制不变对象的引用是等效的（因为对象不可变，当改变时会新建对象重新赋值）。所以看起来浅复制只复制不可变对象（整数，实数，字符串等），对于可变对象，浅复制其实是创建了一个对于该对象的引用，也就是说只是给同一个对象贴上了另一个标签而已。"
   ]
  },
  {
   "cell_type": "markdown",
   "metadata": {},
   "source": [
    "### 迭代器 iterator\n",
    "可以直接作用于for循环的数据类型有以下几种：\n",
    "\n",
    "一类是集合数据类型，如list、tuple、dict、set、str等；\n",
    "\n",
    "一类是generator，包括生成器和带yield的generator function。\n",
    "\n",
    "这些可以直接作用于for循环的对象统称为可迭代对象：Iterable。\n",
    "\n",
    "可以使用isinstance()判断一个对象是否是Iterable对象："
   ]
  },
  {
   "cell_type": "code",
   "execution_count": 50,
   "metadata": {},
   "outputs": [
    {
     "name": "stdout",
     "output_type": "stream",
     "text": [
      "True\n",
      "True\n",
      "True\n"
     ]
    }
   ],
   "source": [
    "from collections import Iterable\n",
    "print(isinstance([],Iterable))\n",
    "print(isinstance({},Iterable))\n",
    "print(isinstance('abc',Iterable))"
   ]
  },
  {
   "cell_type": "markdown",
   "metadata": {},
   "source": [
    "生成器都是Iterator对象，但list、dict、str虽然是Iterable，却不是Iterator。\n",
    "\n",
    "把list、dict、str等Iterable变成Iterator可以使用iter()函数\n",
    "\n",
    "note: 为什么list、dict、str等数据类型不是Iterator？\n",
    "\n",
    "这是因为Python的Iterator对象表示的是一个数据流，Iterator对象可以被next()函数调用并不断返回下一个数据，直到没有数据时抛出StopIteration错误。"
   ]
  },
  {
   "cell_type": "markdown",
   "metadata": {},
   "source": [
    "## 函数式编程\n",
    "高阶函数英文叫Higher-order function，变量可以指向函数，函数的参数能接收变量，那么一个函数就可以接收另一个函数作为参数，这种函数就称之为高阶函数。\n",
    "\n",
    "map()函数接收两个参数，一个是函数，一个是Iterable，map将传入的函数依次作用到序列的每个元素，并把结果作为新的Iterator返回。"
   ]
  },
  {
   "cell_type": "code",
   "execution_count": 52,
   "metadata": {},
   "outputs": [
    {
     "name": "stdout",
     "output_type": "stream",
     "text": [
      "<map object at 0x00000189614BA9B0>\n"
     ]
    },
    {
     "data": {
      "text/plain": [
       "[1, 4, 9, 16, 25]"
      ]
     },
     "execution_count": 52,
     "metadata": {},
     "output_type": "execute_result"
    }
   ],
   "source": [
    "def f(x):\n",
    "    return x * x\n",
    "\n",
    "r = map(f,[1,2,3,4,5])\n",
    "print(r)\n",
    "list(r) #由于结果r是一个Iterator，Iterator是惰性序列，\n",
    "        #因此通过list()函数让它把整个序列都计算出来并返回一个list。"
   ]
  },
  {
   "cell_type": "markdown",
   "metadata": {},
   "source": [
    "reduce把一个函数作用在一个序列[x1, x2, x3, ...]上，这个函数必须接收两个参数，reduce把结果继续和序列的下一个元素做累积计算，其效果就是"
   ]
  },
  {
   "cell_type": "markdown",
   "metadata": {},
   "source": [
    "reduce(f,[x1,x2,x3,x4])=f(f(f(x1,x2),x3),x4)"
   ]
  },
  {
   "cell_type": "code",
   "execution_count": 54,
   "metadata": {},
   "outputs": [
    {
     "data": {
      "text/plain": [
       "13579"
      ]
     },
     "execution_count": 54,
     "metadata": {},
     "output_type": "execute_result"
    }
   ],
   "source": [
    "from functools import reduce\n",
    "def fn(x,y):\n",
    "    return x * 10 + y\n",
    "\n",
    "reduce(fn,[1,3,5,7,9])"
   ]
  },
  {
   "cell_type": "code",
   "execution_count": 59,
   "metadata": {},
   "outputs": [
    {
     "name": "stdout",
     "output_type": "stream",
     "text": [
      "['Adam', 'Lisa', 'Bart']\n"
     ]
    }
   ],
   "source": [
    "def normalize(name):\n",
    "    s = name[0].upper()\n",
    "    s = s + name[1:len(name)].lower()\n",
    "    return s\n",
    "\n",
    "L1 = ['adam','LISA','barT']\n",
    "L2 = list(map(normalize,L1))\n",
    "print(L2)"
   ]
  },
  {
   "cell_type": "code",
   "execution_count": 62,
   "metadata": {},
   "outputs": [
    {
     "name": "stdout",
     "output_type": "stream",
     "text": [
      "3 * 5 * 7 * 9= 945\n",
      "tests success\n"
     ]
    }
   ],
   "source": [
    "from functools import reduce  # 可以接受一个list并求积\n",
    "def prod(L):\n",
    "    return reduce(lambda x, y:x * y, L)\n",
    "\n",
    "print('3 * 5 * 7 * 9=', prod([3,5,7,9]))\n",
    "if prod([3,5,7,9]) == 945:\n",
    "    print('tests success')\n",
    "else:\n",
    "    print('test failure')"
   ]
  },
  {
   "cell_type": "code",
   "execution_count": 64,
   "metadata": {},
   "outputs": [
    {
     "name": "stdout",
     "output_type": "stream",
     "text": [
      "str2float('123.456')= 123.456\n",
      "test success\n"
     ]
    }
   ],
   "source": [
    "from functools import reduce  # str2float函数，把字符串'123.456'转换成浮点数123.456\n",
    "\n",
    "DIGITS = {'0': 0, '1': 1, '2': 2, '3': 3, '4': 4, '5': 5, '6': 6, '7': 7, '8': 8, '9': 9}\n",
    "\n",
    "def char2num(s):\n",
    "        return DIGITS[s]\n",
    "    \n",
    "def str2float(s):\n",
    "    s1 = ''\n",
    "    s2 = ''\n",
    "    flt = 0\n",
    "    [s1, s2] = s.split('.')\n",
    "    flt = reduce(lambda x, y: 10 * x + y, map(char2num, s1))\n",
    "    div = 10\n",
    "    for char in s2:\n",
    "        flt = flt + char2num(char)/div\n",
    "        div = div * 10\n",
    "    return flt\n",
    "\n",
    "print('str2float(\\'123.456\\')=', str2float('123.456'))\n",
    "if abs(str2float('123.456') - 123.456) < 0.00001:\n",
    "    print('test success')\n",
    "else:\n",
    "    print('test failure')"
   ]
  },
  {
   "cell_type": "code",
   "execution_count": 1,
   "metadata": {},
   "outputs": [
    {
     "name": "stdout",
     "output_type": "stream",
     "text": [
      "1~1000: [1, 2, 3, 4, 5, 6, 7, 8, 9, 11, 22, 33, 44, 55, 66, 77, 88, 99, 101, 111, 121, 131, 141, 151, 161, 171, 181, 191, 202, 212, 222, 232, 242, 252, 262, 272, 282, 292, 303, 313, 323, 333, 343, 353, 363, 373, 383, 393, 404, 414, 424, 434, 444, 454, 464, 474, 484, 494, 505, 515, 525, 535, 545, 555, 565, 575, 585, 595, 606, 616, 626, 636, 646, 656, 666, 676, 686, 696, 707, 717, 727, 737, 747, 757, 767, 777, 787, 797, 808, 818, 828, 838, 848, 858, 868, 878, 888, 898, 909, 919, 929, 939, 949, 959, 969, 979, 989, 999]\n",
      "test success\n"
     ]
    }
   ],
   "source": [
    "def is_palindrome(n):\n",
    "    s = str(n)\n",
    "    i = 0\n",
    "    if len(s) == 1:\n",
    "        return True\n",
    "    else:\n",
    "         while i < (len(s) - 1)/2:\n",
    "                if s[i] != s[len(s)-1-i]:\n",
    "                    return False\n",
    "                i = i + 1\n",
    "    return True\n",
    "\n",
    "output = filter(is_palindrome, range(1,1000))\n",
    "print('1~1000:', list(output))\n",
    "if list(filter(is_palindrome, range(1,200))) == [1, 2, 3, 4, 5, 6, 7, 8, 9, 11, 22, 33, 44, 55, 66, 77, 88, 99, 101, 111, 121, 131, 141, 151, 161, 171, 181, 191]:\n",
    "    print('test success')\n",
    "else:\n",
    "    print('test failure')"
   ]
  },
  {
   "cell_type": "code",
   "execution_count": 28,
   "metadata": {},
   "outputs": [
    {
     "name": "stdout",
     "output_type": "stream",
     "text": [
      "[('Bart', 66), ('Bob', 75), ('Lisa', 88), ('Adam', 92)]\n"
     ]
    }
   ],
   "source": [
    " # sorted()排序函数\n",
    "L = [('Bob', 75), ('Adam', 92), ('Bart', 66), ('Lisa', 88)]\n",
    "def by_name(t):\n",
    "    #print('L adrress:',id(L))\n",
    "    #print('t address',id(t))\n",
    "    return t[1]\n",
    "                \n",
    "L2 = sorted(L, key=by_name)\n",
    "print(L2)"
   ]
  },
  {
   "cell_type": "markdown",
   "metadata": {},
   "source": [
    "## 返回函数\n",
    "高阶函数除了可以接受函数作为参数外，还可以把函数作为结果值返回。"
   ]
  },
  {
   "cell_type": "code",
   "execution_count": 25,
   "metadata": {},
   "outputs": [
    {
     "name": "stdout",
     "output_type": "stream",
     "text": [
      "<function lazy_sum.<locals>.sum at 0x000001E2D2ACE598>\n",
      "18\n"
     ]
    }
   ],
   "source": [
    "def lazy_sum(*args):\n",
    "    def sum():\n",
    "        ax = 0\n",
    "        for n in args:\n",
    "            ax = n + ax\n",
    "        return ax\n",
    "    return sum\n",
    "\n",
    "f = lazy_sum(1,3,5,9)\n",
    "print(f)\n",
    "print(f())"
   ]
  },
  {
   "cell_type": "markdown",
   "metadata": {},
   "source": [
    "在函数lazy_sum中又定义了函数sum，并且，内部函数sum可以引用外部函数lazy_sum的参数和局部变量，当lazy_sum返回函数sum时，相关参数和变量都保存在返回的函数中，这种称为“闭包（Closure）”的程序结构拥有极大的威力。\n",
    "\n",
    "需要注意的问题是，返回的函数并没有立刻执行，而是直到调用了f()才执行。"
   ]
  },
  {
   "cell_type": "code",
   "execution_count": 32,
   "metadata": {},
   "outputs": [
    {
     "name": "stdout",
     "output_type": "stream",
     "text": [
      "1 2 3\n",
      "test success\n"
     ]
    }
   ],
   "source": [
    "# 利用闭包返回一个计数器函数，每次调用它返回递增整数：\n",
    "def createCounter():\n",
    "    count = 0\n",
    "    def counter():\n",
    "        nonlocal count  #nonlocal关键字用来在函数或其他作用域中修改外层(非全局)变量\n",
    "                        #global关键字则是用于修改全局变量\n",
    "        count += 1\n",
    "        return count\n",
    "    return counter\n",
    "\n",
    "counterA = createCounter()\n",
    "print(counterA(), counterA(), counterA())\n",
    "counterB = createCounter()\n",
    "if [counterB(), counterB(), counterB(), counterB()] == [1, 2, 3, 4]:\n",
    "    print('test success')\n",
    "else:\n",
    "    print('test failure')"
   ]
  },
  {
   "cell_type": "markdown",
   "metadata": {},
   "source": [
    "## 匿名函数\n",
    "关键字lambda表示匿名函数，冒号前面的x表示函数参数。\n",
    "\n",
    "匿名函数有个限制，就是只能有一个表达式，不用写return，返回值就是该表达式的结果。"
   ]
  },
  {
   "cell_type": "code",
   "execution_count": 33,
   "metadata": {},
   "outputs": [
    {
     "data": {
      "text/plain": [
       "<function __main__.<lambda>>"
      ]
     },
     "execution_count": 33,
     "metadata": {},
     "output_type": "execute_result"
    }
   ],
   "source": [
    "f = lambda x: x * x\n",
    "f"
   ]
  },
  {
   "cell_type": "code",
   "execution_count": 34,
   "metadata": {},
   "outputs": [
    {
     "data": {
      "text/plain": [
       "25"
      ]
     },
     "execution_count": 34,
     "metadata": {},
     "output_type": "execute_result"
    }
   ],
   "source": [
    "f(5)"
   ]
  },
  {
   "cell_type": "markdown",
   "metadata": {},
   "source": [
    "同样，也可以把匿名函数作为返回值返回，比如:"
   ]
  },
  {
   "cell_type": "code",
   "execution_count": 35,
   "metadata": {
    "collapsed": true
   },
   "outputs": [],
   "source": [
    "def build(x,y):\n",
    "    return lambda: x * x + y * y"
   ]
  },
  {
   "cell_type": "code",
   "execution_count": 38,
   "metadata": {},
   "outputs": [
    {
     "name": "stdout",
     "output_type": "stream",
     "text": [
      "[1, 3, 5, 7, 9, 11, 13, 15, 17, 19]\n"
     ]
    }
   ],
   "source": [
    "L = list(filter(lambda x: x % 2 == 1, range(1, 20)))\n",
    "print(L)"
   ]
  },
  {
   "cell_type": "code",
   "execution_count": 33,
   "metadata": {},
   "outputs": [
    {
     "name": "stdout",
     "output_type": "stream",
     "text": [
      "[<function <listcomp>.<lambda> at 0x000001CE8466D620>, <function <listcomp>.<lambda> at 0x000001CE8466D9D8>, <function <listcomp>.<lambda> at 0x000001CE8458B378>]\n",
      "2\n"
     ]
    }
   ],
   "source": [
    "x = [lambda: x for x in range(3)]\n",
    "print(x)\n",
    "print(x[0]())\n",
    "# note here x is a list of 3 functions. The reason is due to the precedence of operators.\n",
    "# [lambda: x for x in range(3)] is equivalent to [(lambda: x) for x in range(3)]"
   ]
  },
  {
   "cell_type": "markdown",
   "metadata": {},
   "source": [
    "## 装饰器 decorator\n",
    "在代码运行期间动态增加功能的方式，称之为“装饰器”（Decorator）。\n",
    "\n",
    "本质上，decorator就是一个返回函数的高阶函数。所以，我们要定义一个能打印日志的decorator，可以定义如下："
   ]
  },
  {
   "cell_type": "code",
   "execution_count": 39,
   "metadata": {},
   "outputs": [
    {
     "name": "stdout",
     "output_type": "stream",
     "text": [
      "call now():\n",
      "2015-03-25\n"
     ]
    }
   ],
   "source": [
    "def log(func):\n",
    "    def wrapper(*args, **kw):\n",
    "        print('call %s():' %func.__name__) #函数对象有一个__name__属性，可以拿到函数的名字\n",
    "        return func(*args, **kw)\n",
    "    return wrapper\n",
    "\n",
    "# 作为decorator的log，接受一个函数作为参数，并返回一个函数。\n",
    "# 通过借助Python的@语法，我们把decorator置于函数的定义处：\n",
    "\n",
    "@log  #将@log放到now()函数的定义处，相当于执行了语句:now = log(now)\n",
    "def now():\n",
    "    print('2015-03-25')\n",
    "\n",
    "# 调用now()函数，不仅会运行now()函数本身，还会在运行now()函数前打印一行日志\n",
    "now()"
   ]
  },
  {
   "cell_type": "markdown",
   "metadata": {},
   "source": [
    "由于log()是一个decorator，返回一个函数，所以，原来的now()函数仍然存在，只是现在同名的now变量指向了新的函数，于是调用now()将执行新函数，即在log()函数中返回的wrapper()函数。"
   ]
  },
  {
   "cell_type": "code",
   "execution_count": 42,
   "metadata": {},
   "outputs": [
    {
     "name": "stdout",
     "output_type": "stream",
     "text": [
      "fast executed in 0.001977682113647461 ms\n",
      "slow executed in 0.12408781051635742 ms\n"
     ]
    }
   ],
   "source": [
    "import time, functools\n",
    "\n",
    "def metric(fn):\n",
    "    @functools.wraps(fn) #相当于执行了wrapper.__name__ = func.__name__\n",
    "    def wrapper(*args, **kw):\n",
    "        start = time.time()\n",
    "        result = fn(*args, **kw)\n",
    "        end = time.time()\n",
    "        print('%s executed in %s ms' % (fn.__name__, end-start))\n",
    "        return result \n",
    "    return wrapper\n",
    "\n",
    "@metric\n",
    "def fast(x,y):\n",
    "    time.sleep(0.00012)\n",
    "    return x + y\n",
    "\n",
    "@metric\n",
    "def slow(x,y,z):\n",
    "    time.sleep(0.1234)\n",
    "    return x * y * z\n",
    "f = fast(11,22)\n",
    "s = slow(11,22,33)\n",
    "if f != 33:\n",
    "    print('test failure')\n",
    "elif s!= 7986:\n",
    "    print('test failure')\n",
    "    "
   ]
  },
  {
   "cell_type": "markdown",
   "metadata": {},
   "source": [
    "## 偏函数\n",
    "functools.partial的作用就是，把一个函数的某些参数给固定住（也就是设置默认值），返回一个新的函数，调用这个新函数会更简单。"
   ]
  },
  {
   "cell_type": "code",
   "execution_count": 46,
   "metadata": {},
   "outputs": [
    {
     "data": {
      "text/plain": [
       "74565"
      ]
     },
     "execution_count": 46,
     "metadata": {},
     "output_type": "execute_result"
    }
   ],
   "source": [
    "int('12345', base=16)"
   ]
  },
  {
   "cell_type": "markdown",
   "metadata": {},
   "source": [
    "# 面向对象编程 OOP\n",
    "## 类与实例"
   ]
  },
  {
   "cell_type": "code",
   "execution_count": 50,
   "metadata": {
    "collapsed": true
   },
   "outputs": [],
   "source": [
    "class Student(object):\n",
    "    def __init__(self,name,score):\n",
    "        self.__name = name\n",
    "        self.__score = score\n",
    "# 在Python中，实例的变量名如果以__开头，就变成了一个私有变量（private），只有内部可以访问，外部不能访问\n",
    "    def print_score(self):\n",
    "        print('%s: %s' %(self.name, self.score))\n",
    "        "
   ]
  },
  {
   "cell_type": "code",
   "execution_count": 51,
   "metadata": {},
   "outputs": [
    {
     "ename": "AttributeError",
     "evalue": "'Student' object has no attribute '__name'",
     "output_type": "error",
     "traceback": [
      "\u001b[1;31m---------------------------------------------------------------------------\u001b[0m",
      "\u001b[1;31mAttributeError\u001b[0m                            Traceback (most recent call last)",
      "\u001b[1;32m<ipython-input-51-ed93bb580d2d>\u001b[0m in \u001b[0;36m<module>\u001b[1;34m()\u001b[0m\n\u001b[0;32m      1\u001b[0m \u001b[0mbart\u001b[0m \u001b[1;33m=\u001b[0m \u001b[0mStudent\u001b[0m\u001b[1;33m(\u001b[0m\u001b[1;34m'Bart Simpson'\u001b[0m\u001b[1;33m,\u001b[0m \u001b[1;36m59\u001b[0m\u001b[1;33m)\u001b[0m\u001b[1;33m\u001b[0m\u001b[0m\n\u001b[1;32m----> 2\u001b[1;33m \u001b[0mbart\u001b[0m\u001b[1;33m.\u001b[0m\u001b[0m__name\u001b[0m\u001b[1;33m\u001b[0m\u001b[0m\n\u001b[0m",
      "\u001b[1;31mAttributeError\u001b[0m: 'Student' object has no attribute '__name'"
     ]
    }
   ],
   "source": [
    "bart = Student('Bart Simpson', 59)\n",
    "bart.__name"
   ]
  },
  {
   "cell_type": "markdown",
   "metadata": {},
   "source": [
    "## 实例属性和类属性\n",
    "由于Python是动态语言，根据类创建的实例可以任意绑定属性。\n",
    "\n",
    "给实例绑定属性的方法是通过实例变量，或者通过self变量, 而类属性可以直接在class中定义，归类所有。\n",
    "\n",
    "类变量是静态的，实例变量是非静态的。\n",
    "静态变量的定义就是只初始化一次，然后存在内存中便于修改访问。\n",
    "\n",
    "类和实例变量的严格访问方式：\n",
    "1、在内部和外部，类变量都用类名.类变量名来进行访问，比如Student.count。\n",
    "2、在内部，实例变量用self.实例变量来进行访问，比如self.count；在外部，实例变量用实例名.实例变量来进行访问，比如stu.count。\n",
    "\n",
    "如果实例变量名和类变量名一样，访问优先级是实例变量>类变量"
   ]
  },
  {
   "cell_type": "code",
   "execution_count": 61,
   "metadata": {},
   "outputs": [
    {
     "name": "stdout",
     "output_type": "stream",
     "text": [
      "Student\n",
      "Student\n",
      "Mike\n",
      "Student\n"
     ]
    }
   ],
   "source": [
    "class Student(object):\n",
    "    name = 'Student' # 类属性\n",
    "s = Student()\n",
    "print(s.name)\n",
    "print(Student.name)\n",
    "s.name='Mike'\n",
    "print(s.name) \n",
    "print(Student.name)"
   ]
  },
  {
   "cell_type": "code",
   "execution_count": 70,
   "metadata": {},
   "outputs": [
    {
     "name": "stdout",
     "output_type": "stream",
     "text": [
      "Students: 2\n",
      "test success\n"
     ]
    }
   ],
   "source": [
    "# 为了统计学生人数，可以给Student类增加一个类属性，每创建一个实例，该属性自动增加：\n",
    "class Student(object):\n",
    "    count = 0\n",
    "    \n",
    "    def __init__(self, name):\n",
    "        self.name = name\n",
    "        Student.count += 1  #类属性\n",
    "\n",
    "if Student.count != 0:\n",
    "    print('test failure1')\n",
    "else:\n",
    "    bart = Student('Bart')\n",
    "    if Student.count != 1:\n",
    "        print('test failure2')\n",
    "    else:\n",
    "        lisa = Student('Bart')\n",
    "        if Student.count != 2:\n",
    "            print('test failure3')\n",
    "        else:\n",
    "            print('Students:', Student.count)\n",
    "            print('test success')"
   ]
  },
  {
   "cell_type": "markdown",
   "metadata": {},
   "source": [
    "Python 用下划线作为变量前缀和后缀指定特殊变量。\n",
    "_xxx      不能用'from module import *'导入\n",
    "__xxx__ 系统定义名字\n",
    "__xxx    类中的私有变量名\n",
    "单下划线\" 开始的成员变量叫做保护变量，意思是只有类对象和子类对象自己能访问到这些变量；\n",
    "\"双下划线\" 开始的是私有成员，意思是只有类对象自己能访问，连子类对象也不能访问到这个数据。\n",
    "以单下划线开头（_foo）的代表不能直接访问的类属性，需通过类提供的接口进行访问，不能用“from xxx import *”而导入；以双下划线开头的（__foo）代表类的私有成员；以双下划线开头和结尾的（__foo__）代表python里特殊方法专用的标识，如 __init__（）代表类的构造函数。"
   ]
  },
  {
   "cell_type": "markdown",
   "metadata": {},
   "source": [
    "## 使用__slots__\n",
    "\n",
    "正常情况下，当我们定义了一个class，创建了一个class的实例后，我们可以给该实例绑定任何属性和方法，这就是动态语言的灵活性。先定义class："
   ]
  },
  {
   "cell_type": "code",
   "execution_count": 71,
   "metadata": {},
   "outputs": [
    {
     "name": "stdout",
     "output_type": "stream",
     "text": [
      "25\n"
     ]
    }
   ],
   "source": [
    "class Student(object):\n",
    "    pass\n",
    "s= Student()\n",
    "s.name = 'Michael' #给实例绑定一个属性\n",
    "\n",
    "# 给实例绑定一个方法\n",
    "def set_age(self, age): #定义一个函数作为方法\n",
    "    self.age = age\n",
    "from types import MethodType\n",
    "s.set_age = MethodType(set_age, s) #给实例s绑定方法set_age\n",
    "s.set_age(25)\n",
    "print(s.age)"
   ]
  },
  {
   "cell_type": "markdown",
   "metadata": {},
   "source": [
    "给一个实例绑定的方法，对另一个实例不起作用，为了给所有实例绑定方法，可以给class绑定"
   ]
  },
  {
   "cell_type": "code",
   "execution_count": 72,
   "metadata": {
    "collapsed": true
   },
   "outputs": [],
   "source": [
    "def set_score(self, score):\n",
    "    self.score=score\n",
    "\n",
    "Student.set_score = set_score"
   ]
  },
  {
   "cell_type": "code",
   "execution_count": 73,
   "metadata": {},
   "outputs": [
    {
     "data": {
      "text/plain": [
       "80"
      ]
     },
     "execution_count": 73,
     "metadata": {},
     "output_type": "execute_result"
    }
   ],
   "source": [
    "s.set_score(80)\n",
    "s.score"
   ]
  },
  {
   "cell_type": "markdown",
   "metadata": {},
   "source": [
    "为了达到限制实例属性的目的，Python允许在定义class的时候，定义一个特殊的__slots__变量，来限制该class实例能添加的属性："
   ]
  },
  {
   "cell_type": "code",
   "execution_count": 74,
   "metadata": {},
   "outputs": [
    {
     "ename": "AttributeError",
     "evalue": "'Student' object has no attribute 'score'",
     "output_type": "error",
     "traceback": [
      "\u001b[1;31m---------------------------------------------------------------------------\u001b[0m",
      "\u001b[1;31mAttributeError\u001b[0m                            Traceback (most recent call last)",
      "\u001b[1;32m<ipython-input-74-6a9de072ce47>\u001b[0m in \u001b[0;36m<module>\u001b[1;34m()\u001b[0m\n\u001b[0;32m      3\u001b[0m \u001b[0ms\u001b[0m \u001b[1;33m=\u001b[0m \u001b[0mStudent\u001b[0m\u001b[1;33m(\u001b[0m\u001b[1;33m)\u001b[0m\u001b[1;33m\u001b[0m\u001b[0m\n\u001b[0;32m      4\u001b[0m \u001b[0ms\u001b[0m\u001b[1;33m.\u001b[0m\u001b[0mname\u001b[0m \u001b[1;33m=\u001b[0m \u001b[1;34m'Mike'\u001b[0m\u001b[1;33m\u001b[0m\u001b[0m\n\u001b[1;32m----> 5\u001b[1;33m \u001b[0ms\u001b[0m\u001b[1;33m.\u001b[0m\u001b[0mscore\u001b[0m \u001b[1;33m=\u001b[0m \u001b[1;36m99\u001b[0m\u001b[1;33m\u001b[0m\u001b[0m\n\u001b[0m",
      "\u001b[1;31mAttributeError\u001b[0m: 'Student' object has no attribute 'score'"
     ]
    }
   ],
   "source": [
    "class Student(object):\n",
    "    __slots__ = ('name', 'age')\n",
    "s = Student()\n",
    "s.name = 'Mike'\n",
    "s.score = 99\n",
    "# note 使用__slots__要注意，__slots__定义的属性\n",
    "# 仅对当前类实例起作用，对继承的子类是不起作用的"
   ]
  },
  {
   "cell_type": "markdown",
   "metadata": {},
   "source": [
    "## @property\n",
    "对于类的方法，装饰器一样起作用。Python内置的@property装饰器就是负责把一个方法变成属性调用的. \n",
    "\n",
    "把一个getter方法变成属性，只需要加上@property就可以了，此时，@property本身又创建了另一个装饰器@score.setter，负责把一个setter方法变成属性赋值，于是，我们就拥有一个可控的属性操作"
   ]
  },
  {
   "cell_type": "code",
   "execution_count": 81,
   "metadata": {
    "collapsed": true
   },
   "outputs": [],
   "source": [
    "class Student(object):\n",
    "    @property\n",
    "    def score(self):\n",
    "        return self._score\n",
    "    \n",
    "    @score.setter\n",
    "    def score(self, value):\n",
    "        if not isinstance(value, int):\n",
    "            raise ValueError('score must be an integer')\n",
    "        if value < 0 and value > 100:\n",
    "            raise ValueError('score must between 0 ~ 100')\n",
    "        self._score = value"
   ]
  },
  {
   "cell_type": "code",
   "execution_count": 83,
   "metadata": {},
   "outputs": [
    {
     "name": "stdout",
     "output_type": "stream",
     "text": [
      "60\n"
     ]
    }
   ],
   "source": [
    "s = Student()\n",
    "s.score = 60 # 转化为s.set_score\n",
    "print(s.score) #转化为s.get_score"
   ]
  },
  {
   "cell_type": "code",
   "execution_count": 85,
   "metadata": {},
   "outputs": [
    {
     "name": "stdout",
     "output_type": "stream",
     "text": [
      "resolution = 786432\n",
      "测试通过!\n"
     ]
    }
   ],
   "source": [
    "class Screen(object):\n",
    "    @property\n",
    "    def width(self):\n",
    "        return self._width\n",
    "    @width.setter\n",
    "    def width(self, w):\n",
    "        self._width = w\n",
    "    \n",
    "    @property\n",
    "    def height(self):\n",
    "        return self._height\n",
    "    @height.setter\n",
    "    def height(self, h):\n",
    "        self._height = h\n",
    "    \n",
    "    @property\n",
    "    def resolution(self):\n",
    "        return self._width * self._height\n",
    "\n",
    "# 测试:\n",
    "s = Screen()\n",
    "s.width = 1024\n",
    "s.height = 768\n",
    "print('resolution =', s.resolution)\n",
    "if s.resolution == 786432:\n",
    "    print('测试通过!')\n",
    "else:\n",
    "    print('测试失败!')"
   ]
  },
  {
   "cell_type": "markdown",
   "metadata": {},
   "source": [
    "## 定制类"
   ]
  },
  {
   "cell_type": "code",
   "execution_count": 86,
   "metadata": {},
   "outputs": [
    {
     "name": "stdout",
     "output_type": "stream",
     "text": [
      "<__main__.Student object at 0x000001E2D2AA4240>\n"
     ]
    }
   ],
   "source": [
    "class Student(object):\n",
    "    def __init__(self, name):\n",
    "        self.name = name\n",
    "print(Student('Mike'))"
   ]
  },
  {
   "cell_type": "code",
   "execution_count": 89,
   "metadata": {},
   "outputs": [
    {
     "name": "stdout",
     "output_type": "stream",
     "text": [
      "Student object (name: Mike)\n"
     ]
    }
   ],
   "source": [
    "# 只需要定义好__str__()方法，返回一个好看的字符串就可以:\n",
    "class Student(object):\n",
    "    def __init__(self, name):\n",
    "        self.name = name\n",
    "    def __str__(self):\n",
    "        return 'Student object (name: %s)'%self.name\n",
    "\n",
    "print(Student('Mike'))"
   ]
  },
  {
   "cell_type": "code",
   "execution_count": 90,
   "metadata": {},
   "outputs": [
    {
     "data": {
      "text/plain": [
       "Student object (name: Mike)"
      ]
     },
     "execution_count": 90,
     "metadata": {},
     "output_type": "execute_result"
    }
   ],
   "source": [
    "s = Student('Mike')\n",
    "s"
   ]
  },
  {
   "cell_type": "raw",
   "metadata": {},
   "source": [
    "这是因为直接显示变量调用的不是__str__()，而是__repr__()，两者的区别是__str__()返回用户看到的字符串，而__repr__()返回程序开发者看到的字符串，也就是说，__repr__()是为调试服务的。\n",
    "\n",
    "解决办法是再定义一个__repr__()。但是通常__str__()和__repr__()代码都是一样的，所以，有个偷懒的写法: __repr__ = __str__\n",
    "\n",
    "如果一个类想被用于for ... in循环，类似list或tuple那样，就必须实现一个__iter__()方法，该方法返回一个迭代对象，然后，Python的for循环就会不断调用该迭代对象的__next__()方法拿到循环的下一个值，直到遇到StopIteration错误时退出循环。\n",
    "\n",
    "我们以斐波那契数列为例，写一个Fib类，可以作用于for循环："
   ]
  },
  {
   "cell_type": "code",
   "execution_count": 99,
   "metadata": {},
   "outputs": [
    {
     "name": "stdout",
     "output_type": "stream",
     "text": [
      "1\n",
      "1\n",
      "2\n",
      "3\n",
      "5\n",
      "8\n",
      "13\n",
      "21\n",
      "34\n",
      "55\n",
      "89\n",
      "144\n",
      "233\n",
      "377\n",
      "610\n",
      "987\n"
     ]
    }
   ],
   "source": [
    "class Fib(object):\n",
    "    def __init__(self):\n",
    "        self.a, self.b = 0, 1 # 初始化\n",
    "    def __iter__(self):\n",
    "        return self  #实例本身是迭代对象，故返回自己\n",
    "    def __next__(self):\n",
    "        self.a, self.b = self.b, self.a + self.b\n",
    "        if self.a > 1000:\n",
    "            raise StopIteration()\n",
    "        return self.a\n",
    "for n in Fib():\n",
    "    print(n)"
   ]
  },
  {
   "cell_type": "code",
   "execution_count": 96,
   "metadata": {},
   "outputs": [
    {
     "name": "stdout",
     "output_type": "stream",
     "text": [
      "1469931712 1469931744\n",
      "3 2\n",
      "1469931744 1469931712\n"
     ]
    }
   ],
   "source": [
    "a, b = 2, 3\n",
    "print(id(a), id(b))\n",
    "a, b = b, a\n",
    "print(a, b)\n",
    "print(id(a), id(b))"
   ]
  },
  {
   "cell_type": "raw",
   "metadata": {},
   "source": [
    "__getattr__: 动态调用类的属性\n",
    "正常情况下，当我们调用类的方法或属性时，如果不存在，就会报错。除了可以加上一个新属性外，Python还有另一个机制，那就是写一个__getattr__()方法，动态返回一个属性。\n",
    "\n",
    "注意，只有在没有找到属性的情况下，才调用__getattr__，已有的属性，比如name，不会在__getattr__中查找。\n",
    "\n",
    "此外，注意到任意调用如s.abc都会返回None，这是因为我们定义的__getattr__默认返回就是None。要让class只响应特定的几个属性，我们就要按照约定，抛出AttributeError的错误："
   ]
  },
  {
   "cell_type": "code",
   "execution_count": 100,
   "metadata": {
    "collapsed": true
   },
   "outputs": [],
   "source": [
    "class Student(object):\n",
    "    def __init__(self):\n",
    "        self.name = 'Michael'\n",
    "    def __getattr__(self, attr):\n",
    "        if attr == 'score':\n",
    "            return 99\n",
    "        raise AttributeError('\\'Student\\' object has no attribute \\'%s\\''% attr)"
   ]
  },
  {
   "cell_type": "markdown",
   "metadata": {},
   "source": [
    "## 使用枚举类\n",
    "\n",
    "既可以用成员名称引用枚举常量，又可以直接根据value的值获得枚举常量。"
   ]
  },
  {
   "cell_type": "code",
   "execution_count": 103,
   "metadata": {},
   "outputs": [
    {
     "name": "stdout",
     "output_type": "stream",
     "text": [
      "Weekday.Mon\n",
      "Weekday.Tue\n",
      "Weekday.Tue\n",
      "True\n",
      "Weekday.Mon\n",
      "Sun >= Weekday.Sun\n",
      "Mon >= Weekday.Mon\n",
      "Tue >= Weekday.Tue\n",
      "Wed >= Weekday.Wed\n",
      "Thu >= Weekday.Thu\n",
      "Fri >= Weekday.Fri\n",
      "Sat >= Weekday.Sat\n"
     ]
    }
   ],
   "source": [
    "from enum import Enum, unique\n",
    "\n",
    "@unique  # @装饰器帮助检查保证没有重复值\n",
    "class Weekday(Enum):\n",
    "    Sun = 0  # Sun的value被设定为0\n",
    "    Mon = 1\n",
    "    Tue = 2\n",
    "    Wed = 3\n",
    "    Thu = 4\n",
    "    Fri = 5\n",
    "    Sat = 6\n",
    "day1 = Weekday.Mon\n",
    "print(day1)\n",
    "print(Weekday.Tue)\n",
    "print(Weekday['Tue'])\n",
    "print(day1 == Weekday.Mon)\n",
    "print(Weekday(1))  # 注意是 Weekday(1), 不是Weekday[1]\n",
    "for name, member in Weekday.__members__.items():\n",
    "    print(name, '>=', member)"
   ]
  },
  {
   "cell_type": "code",
   "execution_count": 105,
   "metadata": {},
   "outputs": [
    {
     "name": "stdout",
     "output_type": "stream",
     "text": [
      "test success\n"
     ]
    }
   ],
   "source": [
    "from enum import Enum, unique\n",
    "\n",
    "@unique\n",
    "class Gender(Enum):\n",
    "    Male = 0\n",
    "    Female = 1\n",
    "class Student(object):\n",
    "    def __init__(self, name, gender):\n",
    "        self.name = name\n",
    "        self.gender = gender\n",
    "# test\n",
    "bart = Student('Bart', Gender.Male)\n",
    "if bart.gender == Gender.Male:\n",
    "    print('test success')\n",
    "else:\n",
    "    print('test failure')"
   ]
  },
  {
   "cell_type": "code",
   "execution_count": null,
   "metadata": {
    "collapsed": true
   },
   "outputs": [],
   "source": [
    "from functools import reduce\n",
    "import logging\n",
    "\n",
    "def str2num(s):\n",
    "    sl = s.split('.') \n",
    "    if len(sl) == 1:\n",
    "        return int(sl[0])\n",
    "    else:\n",
    "        return int(sl[0])+int(sl[1])/10**len(sl[1])\n",
    "\n",
    "def calc(exp):\n",
    "    ss = exp.split('+')\n",
    "    ns = map(str2num, ss)\n",
    "    return reduce(lambda acc, x: acc + x, ns)\n",
    "\n",
    "def main():\n",
    "    r = calc('100 + 200 + 345')\n",
    "    print('100 + 200 + 345 =', r)\n",
    "    r = calc('99 + 88 + 7.6')\n",
    "    pdb.set_trace()\n",
    "    print('99 + 88 + 7.6 =', r)\n",
    "\n",
    "main()\n",
    "print('end')"
   ]
  },
  {
   "cell_type": "markdown",
   "metadata": {},
   "source": [
    "# IO编程\n",
    "## 文件读写"
   ]
  },
  {
   "cell_type": "code",
   "execution_count": null,
   "metadata": {
    "collapsed": true
   },
   "outputs": [],
   "source": [
    "#为了保证无论是否出错都能正确地关闭文件，我们可以使用try ... finally来实现：\n",
    "try:\n",
    "    f = open('/path/to/file', 'r')\n",
    "    print(f.read())\n",
    "finally:\n",
    "    if f:\n",
    "        f.close()\n",
    "# 为了简便，Python引入了with语句来自动帮我们调用close()方法\n",
    "with open('/path/to/file', 'r') as f:\n",
    "    print(f.read()) \n",
    "#如果文件很小，read()一次性读取最方便；\n",
    "#如果不能确定文件大小，反复调用read(size)读取size个字节比较保险；\n",
    "#如果是配置文件，调用readlines()最方便"
   ]
  },
  {
   "cell_type": "code",
   "execution_count": 1,
   "metadata": {},
   "outputs": [
    {
     "name": "stdout",
     "output_type": "stream",
     "text": [
      "; for 16-bit app support\n",
      "[386Enh]\n",
      "woafont=dosapp.fon\n",
      "EGA80WOA.FON=EGA80WOA.FON\n",
      "EGA40WOA.FON=EGA40WOA.FON\n",
      "CGA80WOA.FON=CGA80WOA.FON\n",
      "CGA40WOA.FON=CGA40WOA.FON\n",
      "\n",
      "[drivers]\n",
      "wave=mmdrv.dll\n",
      "timer=timer.drv\n",
      "\n",
      "[mci]\n",
      "\n"
     ]
    }
   ],
   "source": [
    "fpath = r'C:\\Windows\\system.ini'\n",
    "\n",
    "with open(fpath, 'r') as f:\n",
    "    s = f.read()\n",
    "    print(s)"
   ]
  },
  {
   "cell_type": "code",
   "execution_count": 3,
   "metadata": {},
   "outputs": [
    {
     "data": {
      "text/plain": [
       "'D:\\\\software\\\\Anaconda\\\\projects'"
      ]
     },
     "execution_count": 3,
     "metadata": {},
     "output_type": "execute_result"
    }
   ],
   "source": [
    "import os\n",
    "os.path.abspath('.')"
   ]
  },
  {
   "cell_type": "code",
   "execution_count": 7,
   "metadata": {},
   "outputs": [
    {
     "name": "stdout",
     "output_type": "stream",
     "text": [
      "{\"name\": \"\\u5c0f\\u660e\", \"age\": 20}\n"
     ]
    }
   ],
   "source": [
    "# 序列化\n",
    "# -*- coding:utf-8 -*-\n",
    "import json\n",
    "obj = dict(name = '小明', age=20)\n",
    "s = json.dumps(obj, ensure_ascii = True)\n",
    "print(s)"
   ]
  },
  {
   "cell_type": "code",
   "execution_count": 11,
   "metadata": {},
   "outputs": [
    {
     "data": {
      "text/plain": [
       "['a', 'b', '', 'c']"
      ]
     },
     "execution_count": 11,
     "metadata": {},
     "output_type": "execute_result"
    }
   ],
   "source": [
    "'a b  c'.split(' ')"
   ]
  },
  {
   "cell_type": "markdown",
   "metadata": {},
   "source": [
    "## 正则表达式"
   ]
  },
  {
   "cell_type": "raw",
   "metadata": {},
   "source": [
    "[], (), {}区别\n",
    "\n",
    "(pattern) : 匹配pattern并获取这一匹配,是为了提取匹配的字符串，表达式中有几个字符就匹配几个, eg:\n",
    "    (\\s*) 连续空格的字符串\n",
    "    \n",
    "[] : 定义匹配的字符范围, eg [\\s*] 空格或者*号\n",
    "\n",
    "{} :表示匹配的长度, eg \\s{1,3} 一到三个空格"
   ]
  },
  {
   "cell_type": "code",
   "execution_count": 16,
   "metadata": {},
   "outputs": [
    {
     "data": {
      "text/plain": [
       "('19', '05', '30')"
      ]
     },
     "execution_count": 16,
     "metadata": {},
     "output_type": "execute_result"
    }
   ],
   "source": [
    "# 正则表达式\n",
    "import re\n",
    "t = '19:05:30'\n",
    "m = re.match(r'^(0[0-9]|1[0-9]|2[0-3]|[0-9])\\:(0[0-9]|1[0-9]2[0-9]|3[0-9]4[0-9]|5[0-9]|[0-9]])\\:(0[0-9]|1[0-9]|2[0-9]|3[0-9]|4[0-9]|5[0-9]|[0-9])$',t)\n",
    "m.groups()"
   ]
  },
  {
   "cell_type": "code",
   "execution_count": 17,
   "metadata": {},
   "outputs": [
    {
     "name": "stdout",
     "output_type": "stream",
     "text": [
      "ok\n"
     ]
    }
   ],
   "source": [
    "# 正则表达式--验证Email地址\n",
    "# -*- coding:utf-8 -*-\n",
    "import re\n",
    "#出于效率的考虑，我们可以预编译该正则表达式\n",
    "re_email = re.compile(r'^(\\w+?)[\\.]*(\\w+)@([a-z]+).(com|org|edu)$')\n",
    "def is_valid_email(addr):\n",
    "    #用预编译的正则去匹配字符串\n",
    "    if re_email.match(addr):\n",
    "        return True\n",
    "    return False\n",
    "# 测试:\n",
    "assert is_valid_email('someone@gmail.com')\n",
    "assert is_valid_email('bill.gates@microsoft.com')\n",
    "assert not is_valid_email('bob#example.com')\n",
    "assert not is_valid_email('mr-bob@example.com')\n",
    "print('ok')"
   ]
  },
  {
   "cell_type": "markdown",
   "metadata": {},
   "source": [
    "# 常用内建模块\n",
    "## datetime"
   ]
  },
  {
   "cell_type": "code",
   "execution_count": 23,
   "metadata": {},
   "outputs": [
    {
     "name": "stdout",
     "output_type": "stream",
     "text": [
      "2018-02-20 19:00:16.287554\n",
      "2015-04-19 12:20:00\n",
      "1429417200.0\n",
      "2015-04-19 15:06:41\n",
      "2015-04-19 07:06:41\n"
     ]
    }
   ],
   "source": [
    "from datetime import datetime\n",
    "now = datetime.now()\n",
    "print(now)\n",
    "dt = datetime(2015,4,19,12,20) #指定时间日期\n",
    "print(dt)\n",
    "print(dt.timestamp()) #datetime转timestamp\n",
    "t = 1429427201.0\n",
    "print(datetime.fromtimestamp(t)) #timestamp转datetime--本地\n",
    "print(datetime.utcfromtimestamp(t))  #timestamp转datetime --utc"
   ]
  },
  {
   "cell_type": "raw",
   "metadata": {},
   "source": [
    "在计算机中，时间实际上是用数字表示的。我们把1970年1月1日 00:00:00 UTC+00:00时区的时刻称为epoch time，记为0（1970年以前的时间timestamp为负数），当前时间就是相对于epoch time的秒数，称为timestamp。"
   ]
  },
  {
   "cell_type": "markdown",
   "metadata": {},
   "source": [
    "## urllib"
   ]
  },
  {
   "cell_type": "code",
   "execution_count": 30,
   "metadata": {},
   "outputs": [
    {
     "name": "stdout",
     "output_type": "stream",
     "text": [
      "Status: 200 OK\n",
      "Date: Tue, 20 Feb 2018 13:53:48 GMT\n",
      "Content-Type: application/json; charset=utf-8\n",
      "Content-Length: 2058\n",
      "Connection: close\n",
      "Vary: Accept-Encoding\n",
      "X-Ratelimit-Remaining2: 99\n",
      "X-Ratelimit-Limit2: 100\n",
      "Expires: Sun, 1 Jan 2006 01:00:00 GMT\n",
      "Pragma: no-cache\n",
      "Cache-Control: must-revalidate, no-cache, private\n",
      "Set-Cookie: bid=xK9jAnZh57s; Expires=Wed, 20-Feb-19 13:53:48 GMT; Domain=.douban.com; Path=/\n",
      "X-DOUBAN-NEWBID: xK9jAnZh57s\n",
      "X-DAE-Node: dis8\n",
      "X-DAE-App: book\n",
      "Server: dae\n",
      "Data: {\"rating\":{\"max\":10,\"numRaters\":16,\"average\":\"7.4\",\"min\":0},\"subtitle\":\"\",\"author\":[\"廖雪峰\"],\"pubdate\":\"2007\",\"tags\":[{\"count\":21,\"name\":\"spring\",\"title\":\"spring\"},{\"count\":13,\"name\":\"Java\",\"title\":\"Java\"},{\"count\":6,\"name\":\"javaee\",\"title\":\"javaee\"},{\"count\":5,\"name\":\"j2ee\",\"title\":\"j2ee\"},{\"count\":4,\"name\":\"计算机\",\"title\":\"计算机\"},{\"count\":4,\"name\":\"编程\",\"title\":\"编程\"},{\"count\":3,\"name\":\"藏书\",\"title\":\"藏书\"},{\"count\":3,\"name\":\"POJO\",\"title\":\"POJO\"}],\"origin_title\":\"\",\"image\":\"https://img3.doubanio.com\\/mpic\\/s2552283.jpg\",\"binding\":\"平装\",\"translator\":[],\"catalog\":\"\",\"pages\":\"509\",\"images\":{\"small\":\"https://img3.doubanio.com\\/spic\\/s2552283.jpg\",\"large\":\"https://img3.doubanio.com\\/lpic\\/s2552283.jpg\",\"medium\":\"https://img3.doubanio.com\\/mpic\\/s2552283.jpg\"},\"alt\":\"https:\\/\\/book.douban.com\\/subject\\/2129650\\/\",\"id\":\"2129650\",\"publisher\":\"电子工业出版社\",\"isbn10\":\"7121042622\",\"isbn13\":\"9787121042621\",\"title\":\"Spring 2.0核心技术与最佳实践\",\"url\":\"https:\\/\\/api.douban.com\\/v2\\/book\\/2129650\",\"alt_title\":\"\",\"author_intro\":\"\",\"summary\":\"本书注重实践而又深入理论，由浅入深且详细介绍了Spring 2.0框架的几乎全部的内容，并重点突出2.0版本的新特性。本书将为读者展示如何应用Spring 2.0框架创建灵活高效的JavaEE应用，并提供了一个真正可直接部署的完整的Web应用程序——Live在线书店(http:\\/\\/www.livebookstore.net)。\\n在介绍Spring框架的同时，本书还介绍了与Spring相关的大量第三方框架，涉及领域全面，实用性强。本书另一大特色是实用性强，易于上手，以实际项目为出发点，介绍项目开发中应遵循的最佳开发模式。\\n本书还介绍了大量实践性极强的例子，并给出了完整的配置步骤，几乎覆盖了Spring 2.0版本的新特性。\\n本书适合有一定Java基础的读者，对JavaEE开发人员特别有帮助。本书既可以作为Spring 2.0的学习指南，也可以作为实际项目开发的参考手册。\",\"price\":\"59.8\"}\n"
     ]
    }
   ],
   "source": [
    "from urllib import request\n",
    "with request.urlopen('https://api.douban.com/v2/book/2129650') as f:\n",
    "    data=f.read()\n",
    "    print('Status:', f.status, f.reason)\n",
    "    for k, v in f.getheaders():\n",
    "        print('%s: %s'%(k, v))\n",
    "    print('Data:', data.decode('utf-8'))"
   ]
  },
  {
   "cell_type": "markdown",
   "metadata": {
    "collapsed": true
   },
   "source": [
    "# Struct\n",
    "\n",
    "准确地讲，Python没有专门处理字节的数据类型。但由于b'str'可以表示字节，所以，字节数组＝二进制str。而在C语言中，我们可以很方便地用struct、union来处理字节，以及字节和int，float的转换。"
   ]
  },
  {
   "cell_type": "code",
   "execution_count": 3,
   "metadata": {},
   "outputs": [
    {
     "data": {
      "text/plain": [
       "15"
      ]
     },
     "execution_count": 3,
     "metadata": {},
     "output_type": "execute_result"
    }
   ],
   "source": [
    "# python 二进制，十进制，十六进制的转换\n",
    "\n",
    "# 转换成十进制，使用int()函数\n",
    "\n",
    "int('0xf', 16) # 第一个参数是字符串 '0Xf' ,第二个参数是说明，这个字符串是几进制的数"
   ]
  },
  {
   "cell_type": "code",
   "execution_count": 15,
   "metadata": {},
   "outputs": [
    {
     "name": "stdout",
     "output_type": "stream",
     "text": [
      "21\n",
      "15\n"
     ]
    }
   ],
   "source": [
    "#二进制到十进制\n",
    "print(int('10101',2))\n",
    "#八进制到十进制\n",
    "print(int('17', 8))"
   ]
  },
  {
   "cell_type": "code",
   "execution_count": 21,
   "metadata": {},
   "outputs": [
    {
     "name": "stdout",
     "output_type": "stream",
     "text": [
      "0xb\n",
      "0o13\n",
      "0o4\n",
      "0o17\n"
     ]
    }
   ],
   "source": [
    "#十进制到十六进制\n",
    "print(hex(11))\n",
    "\n",
    "print(oct(11)) # 10-->8\n",
    "print(oct(0b100)) # 2-->8\n",
    "print(oct(0xf))  #16-->8"
   ]
  },
  {
   "cell_type": "code",
   "execution_count": 6,
   "metadata": {},
   "outputs": [
    {
     "data": {
      "text/plain": [
       "'0b1010'"
      ]
     },
     "execution_count": 6,
     "metadata": {},
     "output_type": "execute_result"
    }
   ],
   "source": [
    "#十进制到二进制\n",
    "bin(10)"
   ]
  },
  {
   "cell_type": "code",
   "execution_count": 12,
   "metadata": {},
   "outputs": [
    {
     "name": "stdout",
     "output_type": "stream",
     "text": [
      "0o13\n"
     ]
    }
   ],
   "source": [
    "print(oct(11))"
   ]
  },
  {
   "cell_type": "markdown",
   "metadata": {},
   "source": [
    "**在Python中，比方说要把一个32位无符号整数变成字节，也就是4个长度的bytes，你得配合位运算符这么写**"
   ]
  },
  {
   "cell_type": "code",
   "execution_count": 35,
   "metadata": {},
   "outputs": [
    {
     "name": "stdout",
     "output_type": "stream",
     "text": [
      "0b100111000100000001100011\n",
      "24\n"
     ]
    }
   ],
   "source": [
    "n = 10240099\n",
    "print(bin(n))\n",
    "print(len(bin(n))-2)  # 27 bits binary number"
   ]
  },
  {
   "cell_type": "code",
   "execution_count": 26,
   "metadata": {},
   "outputs": [
    {
     "name": "stdout",
     "output_type": "stream",
     "text": [
      "0b11111111000000000000000000000000\n",
      "32\n"
     ]
    }
   ],
   "source": [
    "print(bin(0xff000000))\n",
    "print(len(bin(0xff000000))-2) #32 bits"
   ]
  },
  {
   "cell_type": "code",
   "execution_count": 45,
   "metadata": {
    "collapsed": true
   },
   "outputs": [],
   "source": [
    "b1 = (n & 0xff00000) >> 24"
   ]
  },
  {
   "cell_type": "code",
   "execution_count": 44,
   "metadata": {
    "collapsed": true
   },
   "outputs": [],
   "source": [
    "b2 = (n & 0xff000) >> 16"
   ]
  },
  {
   "cell_type": "code",
   "execution_count": 42,
   "metadata": {
    "collapsed": true
   },
   "outputs": [],
   "source": [
    "b3 = (n & 0xff00) >> 8"
   ]
  },
  {
   "cell_type": "code",
   "execution_count": 43,
   "metadata": {
    "collapsed": true
   },
   "outputs": [],
   "source": [
    "b4 = n & 0xff"
   ]
  },
  {
   "cell_type": "code",
   "execution_count": 46,
   "metadata": {},
   "outputs": [
    {
     "name": "stdout",
     "output_type": "stream",
     "text": [
      "b'\\x00\\x0c@c'\n"
     ]
    }
   ],
   "source": [
    "bs = bytes([b1, b2, b3, b4])\n",
    "print(bs)"
   ]
  },
  {
   "cell_type": "markdown",
   "metadata": {},
   "source": [
    " struct模块中最主要的三个函数式pack()、unpack()、calcsize()。\n",
    "\n",
    "     pack(fmt, v1, v2, ...)  ------ 根据所给的fmt描述的格式将值v1，v2，...转换为一个字符串。\n",
    "\n",
    "     unpack(fmt, bytes)    ------ 根据所给的fmt描述的格式将bytes反向解析出来，返回一个元组。\n",
    "\n",
    "     calcsize(fmt)             ------ 根据所给的fmt描述的格式返回该结构的大小"
   ]
  },
  {
   "cell_type": "code",
   "execution_count": 47,
   "metadata": {},
   "outputs": [
    {
     "data": {
      "text/plain": [
       "b'\\x00\\x9c@c'"
      ]
     },
     "execution_count": 47,
     "metadata": {},
     "output_type": "execute_result"
    }
   ],
   "source": [
    "import struct\n",
    "struct.pack('>I', 10240099)"
   ]
  },
  {
   "cell_type": "code",
   "execution_count": 49,
   "metadata": {},
   "outputs": [
    {
     "data": {
      "text/plain": [
       "(4042322160, 61680)"
      ]
     },
     "execution_count": 49,
     "metadata": {},
     "output_type": "execute_result"
    }
   ],
   "source": [
    "# pack的第一个参数是处理指令，'>I'的意思是：\n",
    "# >表示字节顺序是big-endian，也就是网络序，I表示4字节无符号整数\n",
    "# note: H：2字节无符号整数\n",
    "struct.unpack('>IH', b'\\xf0\\xf0\\xf0\\xf0\\xf0\\xf0')"
   ]
  },
  {
   "cell_type": "code",
   "execution_count": 59,
   "metadata": {},
   "outputs": [
    {
     "name": "stdout",
     "output_type": "stream",
     "text": [
      "b'BM6,\"\\x00\\x00\\x00\\x00\\x006\\x00\\x00\\x00(\\x00\\x00\\x00\\x80\\x04\\x00\\x00\\x88\\x02\\x00\\x00\\x01\\x00\\x18\\x00'\n",
      "(b'B', b'M', 2239542, 0, 54, 40, 1152, 648, 1, 24)\n"
     ]
    }
   ],
   "source": [
    "with open('save.bmp', 'rb') as f:\n",
    "    s = f.read(30)\n",
    "    print(s)\n",
    "    print(struct.unpack('<ccIIIIIIHH', s))"
   ]
  },
  {
   "cell_type": "code",
   "execution_count": 92,
   "metadata": {},
   "outputs": [
    {
     "name": "stdout",
     "output_type": "stream",
     "text": [
      "ffd8ffdb\n",
      "转换完成\n"
     ]
    }
   ],
   "source": [
    "# 16进制转二进制数据\n",
    "import binascii\n",
    "\n",
    "photohexstr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n",
    "if len(photohexstr) % 2 != 0:\n",
    "    photohexstr = photohexstr + '0'\n",
    "content = binascii.unhexlify(photohexstr)\n",
    "# unhexlify(hexstr) or a2b_hex(hexstr): Return the binary data represented by the hexadecimal string \n",
    "# hexstr. This function is the inverse of b2a_hex(). hexstr must contain an even number of hexadecimal \n",
    "# digits (which can be upper or lower case), otherwise a TypeError is raised.\n",
    "\n",
    "fmt = binascii.hexlify(content[0:4]).decode('utf-8') #读取前4字节转化为16进制字符串\n",
    "# Return the hexadecimal representation of the binary data. Every byte of data is converted into the \n",
    "# corresponding 2-digit hex representation. The resulting string is therefore twice as long as the \n",
    "# length of data.\n",
    "print(fmt)\n",
    "\n",
    "phototype = {'47494638': '.gif', 'ffd8ffe0': '.jpg', 'ffd8ffe1': '.jpg', 'ffd8ffdb': '.jpg', \n",
    "             '89504e47': '.png'}  # 智能识别图片文件格式\n",
    "\n",
    "qualified_file_name = 'testphoto' + phototype[fmt]\n",
    "with open(qualified_file_name, 'wb') as f:\n",
    "    f.write(content)\n",
    "    print('转换完成')"
   ]
  },
  {
   "cell_type": "markdown",
   "metadata": {},
   "source": [
    "## Hashlib\n",
    "摘要算法又称哈希算法、散列算法。它通过一个函数，把任意长度的数据转换为一个长度固定的数据串（通常用16进制的字符串表示）。它的目的是为了发现原始数据是否被人篡改过。\n",
    "\n",
    "摘要算法之所以能指出数据是否被篡改过，就是因为摘要函数是一个单向函数，计算f(data)很容易，但通过digest反推data却非常困难。而且，对原始数据做一个bit的修改，都会导致计算出的摘要完全不同。"
   ]
  },
  {
   "cell_type": "code",
   "execution_count": 93,
   "metadata": {},
   "outputs": [
    {
     "name": "stdout",
     "output_type": "stream",
     "text": [
      "d26a53750bc40b38b65a520292f69306\n"
     ]
    }
   ],
   "source": [
    "# MD5 最常见的摘要算法，速度很快，生成结果是固定的128 bit字节，通常用一个32位的16进制字符串表示\n",
    "import hashlib\n",
    "\n",
    "md5 = hashlib.md5()\n",
    "md5.update('how to use md5 in python hashlib?'.encode('utf-8'))\n",
    "print(md5.hexdigest())"
   ]
  },
  {
   "cell_type": "code",
   "execution_count": 96,
   "metadata": {},
   "outputs": [
    {
     "name": "stdout",
     "output_type": "stream",
     "text": [
      "d26a53750bc40b38b65a520292f69306\n",
      "32\n"
     ]
    }
   ],
   "source": [
    "# 可分块多次调用，结果一样\n",
    "import hashlib\n",
    "md5 = hashlib.md5()\n",
    "md5.update('how to use md5 '.encode('utf-8'))\n",
    "md5.update('in python hashlib?'.encode('utf-8'))\n",
    "print(md5.hexdigest())\n",
    "print(len(md5.hexdigest()))"
   ]
  },
  {
   "cell_type": "code",
   "execution_count": 103,
   "metadata": {},
   "outputs": [
    {
     "name": "stdout",
     "output_type": "stream",
     "text": [
      "OK\n"
     ]
    }
   ],
   "source": [
    "# 设计一个验证用户登录的函数，根据用户输入的口令是否正确，返回True或False：\n",
    "# -*- coding:utf-8 -*-\n",
    "import hashlib\n",
    "db ={\n",
    "    'michael': 'e10adc3949ba59abbe56e057f20f883e',\n",
    "    'bob': '878ef96e86145580c38c87f0410ad153',\n",
    "    'alice': '99b1c2188db85afee403b1536010c2c9'\n",
    "}\n",
    "\n",
    "def login(user, password):\n",
    "    md5 = hashlib.md5()\n",
    "    md5.update(password.encode('utf-8'))\n",
    "    if user in db:\n",
    "        if db[user] == md5.hexdigest():\n",
    "            return True\n",
    "    return False\n",
    "\n",
    "assert login('michael', '123456')\n",
    "assert login('bob', 'abc999')\n",
    "assert login('alice', 'alice2008')\n",
    "assert not login('michael', '1234567')\n",
    "assert not login('bob', '123456')\n",
    "assert not login('alice', 'Alice2008')\n",
    "print('OK')"
   ]
  },
  {
   "cell_type": "markdown",
   "metadata": {},
   "source": [
    "## itertools\n",
    "Python的内建模块itertools提供了非常有用的用于操作迭代对象的函数"
   ]
  },
  {
   "cell_type": "code",
   "execution_count": 108,
   "metadata": {},
   "outputs": [
    {
     "name": "stdout",
     "output_type": "stream",
     "text": [
      "1 2 3 4 5 6 7 8 9 10 "
     ]
    }
   ],
   "source": [
    "import itertools\n",
    "naturals = itertools.count(1) # count()会创建一个无限的迭代器, 类似的无限迭代器还有 cycle('ABC'), repeat('A')\n",
    "for n in naturals:\n",
    "    if n > 10:\n",
    "        break\n",
    "    else:\n",
    "        print(n, end=' ')"
   ]
  },
  {
   "cell_type": "code",
   "execution_count": 107,
   "metadata": {},
   "outputs": [
    {
     "data": {
      "text/plain": [
       "[1, 2, 3, 4, 5, 6, 7, 8, 9]"
      ]
     },
     "execution_count": 107,
     "metadata": {},
     "output_type": "execute_result"
    }
   ],
   "source": [
    "# 同时，我们也可以通过takewhile()等函数根据条件判断来‘截取’(记住是截取，而不是选择)出一个有限的序列：\n",
    "naturals = itertools.count(1)\n",
    "ns = itertools.takewhile(lambda x: x < 10, naturals)\n",
    "list(ns)"
   ]
  },
  {
   "cell_type": "code",
   "execution_count": 115,
   "metadata": {},
   "outputs": [
    {
     "name": "stdout",
     "output_type": "stream",
     "text": [
      "3.140592653839794\n"
     ]
    }
   ],
   "source": [
    "import itertools\n",
    "\n",
    "def pi(N):\n",
    "    naturals = itertools.count(1)  \n",
    "    maximum = itertools.takewhile(lambda x: x <= 2*N-1, naturals)\n",
    "    sum = 0\n",
    "    sign = 1\n",
    "    for x in maximum:\n",
    "        if x%2 != 0:\n",
    "            sum = sum + sign*4/x\n",
    "            sign = -sign\n",
    "    return sum\n",
    "\n",
    "print(pi(1000))\n",
    "\n",
    "## a better way to do this is to use itertools.count(start=1, step=2)"
   ]
  },
  {
   "cell_type": "markdown",
   "metadata": {
    "collapsed": true
   },
   "source": [
    "## contextlib\n",
    "并不是只有open()函数返回的fp对象才能使用with语句。实际上，任何对象，只要正确实现了上下文管理，就可以用于with语句。"
   ]
  },
  {
   "cell_type": "raw",
   "metadata": {},
   "source": [
    "实现上下文管理是通过__enter__和__exit__这两个方法实现的，但编写__enter__和__exit__仍然很繁琐，因此Python的标准库contextlib提供了更简单的写法. @contextmanager这个decorator接受一个generator，用yield语句把with ... as var把变量输出出去，然后，with语句就可以正常地工作了："
   ]
  },
  {
   "cell_type": "code",
   "execution_count": 1,
   "metadata": {},
   "outputs": [
    {
     "name": "stdout",
     "output_type": "stream",
     "text": [
      "Begin\n",
      "Query info about Bob...\n",
      "End\n"
     ]
    }
   ],
   "source": [
    "from contextlib import contextmanager\n",
    "\n",
    "class Query(object):\n",
    "    def __init__(self,name):\n",
    "        self.name=name\n",
    "    def query(self):\n",
    "        print('Query info about %s...'%self.name)\n",
    "\n",
    "@contextmanager\n",
    "def create_query(name):\n",
    "    print('Begin')\n",
    "    q = Query(name)\n",
    "    yield q\n",
    "    print('End')\n",
    "\n",
    "with create_query('Bob') as q:\n",
    "    q.query()"
   ]
  },
  {
   "cell_type": "markdown",
   "metadata": {},
   "source": [
    "## Urllib"
   ]
  },
  {
   "cell_type": "code",
   "execution_count": 3,
   "metadata": {},
   "outputs": [
    {
     "name": "stdout",
     "output_type": "stream",
     "text": [
      "status: 200 OK\n",
      "Date：Mon, 05 Mar 2018 01:54:15 GMT\n",
      "Content-Type：application/json; charset=utf-8\n",
      "Content-Length：2058\n",
      "Connection：close\n",
      "Vary：Accept-Encoding\n",
      "X-Ratelimit-Remaining2：97\n",
      "X-Ratelimit-Limit2：100\n",
      "Expires：Sun, 1 Jan 2006 01:00:00 GMT\n",
      "Pragma：no-cache\n",
      "Cache-Control：must-revalidate, no-cache, private\n",
      "Set-Cookie：bid=UhaQt28I3-s; Expires=Tue, 05-Mar-19 01:54:15 GMT; Domain=.douban.com; Path=/\n",
      "X-DOUBAN-NEWBID：UhaQt28I3-s\n",
      "X-DAE-Node：daisy8b\n",
      "X-DAE-App：book\n",
      "Server：dae\n",
      "Data: {\"rating\":{\"max\":10,\"numRaters\":16,\"average\":\"7.4\",\"min\":0},\"subtitle\":\"\",\"author\":[\"廖雪峰\"],\"pubdate\":\"2007\",\"tags\":[{\"count\":21,\"name\":\"spring\",\"title\":\"spring\"},{\"count\":13,\"name\":\"Java\",\"title\":\"Java\"},{\"count\":6,\"name\":\"javaee\",\"title\":\"javaee\"},{\"count\":5,\"name\":\"j2ee\",\"title\":\"j2ee\"},{\"count\":4,\"name\":\"计算机\",\"title\":\"计算机\"},{\"count\":4,\"name\":\"编程\",\"title\":\"编程\"},{\"count\":3,\"name\":\"藏书\",\"title\":\"藏书\"},{\"count\":3,\"name\":\"POJO\",\"title\":\"POJO\"}],\"origin_title\":\"\",\"image\":\"https://img3.doubanio.com\\/mpic\\/s2552283.jpg\",\"binding\":\"平装\",\"translator\":[],\"catalog\":\"\",\"pages\":\"509\",\"images\":{\"small\":\"https://img3.doubanio.com\\/spic\\/s2552283.jpg\",\"large\":\"https://img3.doubanio.com\\/lpic\\/s2552283.jpg\",\"medium\":\"https://img3.doubanio.com\\/mpic\\/s2552283.jpg\"},\"alt\":\"https:\\/\\/book.douban.com\\/subject\\/2129650\\/\",\"id\":\"2129650\",\"publisher\":\"电子工业出版社\",\"isbn10\":\"7121042622\",\"isbn13\":\"9787121042621\",\"title\":\"Spring 2.0核心技术与最佳实践\",\"url\":\"https:\\/\\/api.douban.com\\/v2\\/book\\/2129650\",\"alt_title\":\"\",\"author_intro\":\"\",\"summary\":\"本书注重实践而又深入理论，由浅入深且详细介绍了Spring 2.0框架的几乎全部的内容，并重点突出2.0版本的新特性。本书将为读者展示如何应用Spring 2.0框架创建灵活高效的JavaEE应用，并提供了一个真正可直接部署的完整的Web应用程序——Live在线书店(http:\\/\\/www.livebookstore.net)。\\n在介绍Spring框架的同时，本书还介绍了与Spring相关的大量第三方框架，涉及领域全面，实用性强。本书另一大特色是实用性强，易于上手，以实际项目为出发点，介绍项目开发中应遵循的最佳开发模式。\\n本书还介绍了大量实践性极强的例子，并给出了完整的配置步骤，几乎覆盖了Spring 2.0版本的新特性。\\n本书适合有一定Java基础的读者，对JavaEE开发人员特别有帮助。本书既可以作为Spring 2.0的学习指南，也可以作为实际项目开发的参考手册。\",\"price\":\"59.8\"}\n"
     ]
    }
   ],
   "source": [
    "from urllib import request\n",
    "\n",
    "with request.urlopen('https://api.douban.com/v2/book/2129650') as f:\n",
    "    data = f.read()\n",
    "    print('status:', f.status, f.reason)\n",
    "    for k, v in f.getheaders():\n",
    "        print('%s：%s' %(k, v))\n",
    "    print('Data:', data.decode('utf-8'))"
   ]
  },
  {
   "cell_type": "raw",
   "metadata": {},
   "source": [
    "如果我们要想模拟浏览器发送GET请求，就需要使用Request对象，通过往Request对象添加HTTP头，我们就可以把请求伪装成浏览器。例如，模拟iPhone 6去请求豆瓣首页："
   ]
  },
  {
   "cell_type": "code",
   "execution_count": 7,
   "metadata": {},
   "outputs": [
    {
     "name": "stdout",
     "output_type": "stream",
     "text": [
      "status: 200 OK\n",
      "Date: Mon, 05 Mar 2018 03:31:34 GMT\n",
      "Content-Type: text/html; charset=utf-8\n",
      "Content-Length: 11534\n",
      "Connection: close\n",
      "Vary: Accept-Encoding\n",
      "X-Xss-Protection: 1; mode=block\n",
      "X-Douban-Mobileapp: 0\n",
      "Expires: Sun, 1 Jan 2006 01:00:00 GMT\n",
      "Pragma: no-cache\n",
      "Cache-Control: must-revalidate, no-cache, private\n",
      "Set-Cookie: bid=CZz7AFtyTxM; Expires=Tue, 05-Mar-19 03:31:34 GMT; Domain=.douban.com; Path=/\n",
      "X-DOUBAN-NEWBID: CZz7AFtyTxM\n",
      "X-DAE-Node: nain1\n",
      "X-DAE-App: talion\n",
      "Server: dae\n",
      "Strict-Transport-Security: max-age=15552000;\n",
      "X-Content-Type-Options: nosniff\n",
      "Data: \n",
      "\n",
      "\n",
      "<!DOCTYPE html>\n",
      "<html itemscope itemtype=\"http://schema.org/WebPage\">\n",
      "    <head>\n",
      "        <meta charset=\"UTF-8\">\n",
      "        <title>豆瓣(手机版)</title>\n",
      "        <meta name=\"viewport\" content=\"width=device-width, height=device-height, user-scalable=no, initial-scale=1.0, minimum-scale=1.0, maximum-scale=1.0\">\n",
      "        <meta name=\"format-detection\" content=\"telephone=no\">\n",
      "        <link rel=\"canonical\" href=\"\n",
      "http://m.douban.com/\">\n",
      "        <link href=\"https://img3.doubanio.com/f/talion/842daade93d98a46624b7a382b46765edfded376/css/card/base.css\" rel=\"stylesheet\">\n",
      "        \n",
      "    <meta name=\"description\" content=\"读书、看电影、涨知识、学穿搭...，加入兴趣小组，获得达人们的高质量生活经验，找到有相同爱好的小伙伴。\">\n",
      "    <meta name=\"keywords\" content=\"豆瓣,手机豆瓣,豆瓣手机版,豆瓣电影,豆瓣读书,豆瓣同城\">\n",
      "    \n",
      "    \n",
      "\n",
      "    <!-- Schema.org markup for Google+ -->\n",
      "    <meta itemprop=\"name\" content=\"豆瓣\">\n",
      "    <meta itemprop=\"description\" content=\"读书、看电影、涨知识、学穿搭...，加入兴趣小组，获得达人们的高质量生活经验，找到有相同爱好的小伙伴。\">\n",
      "    <meta itemprop=\"image\" content=\"https://img3.doubanio.com/f/talion/8e7b9cbd097c02972c4191aa03fdb084524505c4/pics/icon/m_logo_180.png\">\n",
      "    <!-- Twitter meta -->\n",
      "    <meta name=\"twitter:card\" content=\"summary\" />\n",
      "    <!-- Open Graph meta -->\n",
      "    <meta property=\"og:title\" content=\"豆瓣\" />\n",
      "    <meta property=\"og:description\" content=\"读书、看电影、涨知识、学穿搭...，加入兴趣小组，获得达人们的高质量生活经验，找到有相同爱好的小伙伴。\" />\n",
      "    <meta property=\"og:site_name\" content=\"豆瓣(手机版)\" />\n",
      "    <meta property=\"og:url\" content=\"https://m.douban.com/\" />\n",
      "    <meta property=\"og:image\" content=\"https://img3.doubanio.com/f/talion/8e7b9cbd097c02972c4191aa03fdb084524505c4/pics/icon/m_logo_180.png\" />\n",
      "    <meta property=\"og:image:type\" content=\"image/png\" />\n",
      "    <meta property=\"og:image:width\" content=\"300\" />\n",
      "    <meta property=\"og:image:height\" content=\"300\" />\n",
      "    <meta property=\"og:type\" content=\"article\" />\n",
      "    <!-- Wechat meta -->\n",
      "    <meta property=\"weixin:timeline_title\" content=\"豆瓣\" />\n",
      "    <meta property=\"weixin:chat_title\" content=\"豆瓣\" />\n",
      "    <meta property=\"weixin:description\" content=\"读书、看电影、涨知识、学穿搭...，加入兴趣小组，获得达人们的高质量生活经验，找到有相同爱好的小伙伴。\" />\n",
      "    <meta property=\"weixin:image\" content=\"https://img3.doubanio.com/f/talion/8e7b9cbd097c02972c4191aa03fdb084524505c4/pics/icon/m_logo_180.png\" />\n",
      "    \n",
      "\n",
      "\n",
      "        <link rel=\"stylesheet\" href=\"https://img3.doubanio.com/misc/mixed_static/468e9211d89502ad.css\">\n",
      "        <link rel=\"icon\" type=\"image/png\" sizes=\"16x16\" href=\"https://img3.doubanio.com/f/talion/c970bb0d720963a7392f7dd6c77068bb9925caaf/pics/icon/dou16.png\">\n",
      "        <link rel=\"icon\" type=\"image/png\" sizes=\"32x32\" href=\"https://img3.doubanio.com/f/talion/2f3c0bc0f35b031d4535fd993ae3936f4e40e6c8/pics/icon/dou32.png\">\n",
      "        <link rel=\"icon\" type=\"image/png\" sizes=\"48x48\" href=\"https://img3.doubanio.com/f/talion/10a4a913a5715f628e4b598f7f9f2c18621bdcb3/pics/icon/dou48.png\">\n",
      "        <!-- iOS touch icon -->\n",
      "        <link rel=\"apple-touch-icon-precomposed\" href=\"https://img3.doubanio.com/f/talion/997f2018d82979da970030a5eb84c77f0123ae5f/pics/icon/m_logo_76.png\">\n",
      "        <link rel=\"apple-touch-icon-precomposed\" sizes=\"76x76\" href=\"https://img3.doubanio.com/f/talion/997f2018d82979da970030a5eb84c77f0123ae5f/pics/icon/m_logo_76.png\">\n",
      "        <link rel=\"apple-touch-icon-precomposed\" sizes=\"120x120\" href=\"https://img3.doubanio.com/f/talion/18932a3e71a60ed7150ca2ca7ebf21ddadd7092e/pics/icon/m_logo_120.png\">\n",
      "        <link rel=\"apple-touch-icon-precomposed\" sizes=\"152x152\" href=\"https://img3.doubanio.com/f/talion/b99497ff8538c54b9ba6f40867da932396ab2562/pics/icon/m_logo_152.png\">\n",
      "        <link rel=\"apple-touch-icon-precomposed\" sizes=\"167x167\" href=\"https://img3.doubanio.com/f/talion/0c233ada957a95e632f81607e30230d16e8293e8/pics/icon/m_logo_167.png\">\n",
      "        <link rel=\"apple-touch-icon-precomposed\" sizes=\"180x180\" href=\"https://img3.doubanio.com/f/talion/8e7b9cbd097c02972c4191aa03fdb084524505c4/pics/icon/m_logo_180.png\">\n",
      "        <link rel=\"apple-touch-icon-precomposed\" sizes=\"200x200\" href=\"https://img3.doubanio.com/f/talion/7c6364aadf368dc0210173c940cfd0f64ceddc66/pics/icon/m_logo_200.png\">\n",
      "        <!-- For Android -->\n",
      "        <link rel=\"icon\" sizes=\"128x128\" href=\"https://img3.doubanio.com/f/talion/b99497ff8538c54b9ba6f40867da932396ab2562/pics/icon/m_logo_152.png\">\n",
      "        <link rel=\"icon\" sizes=\"192x192\" href=\"https://img3.doubanio.com/f/talion/7c6364aadf368dc0210173c940cfd0f64ceddc66/pics/icon/m_logo_200.png\">\n",
      "        <!-- For Web App Manifest -->\n",
      "        \n",
      "  \n",
      "  \n",
      "  <link rel=\"manifest\" href=\"/pwa/manifest?path=/&short_name=%E8%B1%86%E7%93%A3%28%E6%89%8B%E6%9C%BA%E7%89%88%29&name=%E8%B1%86%E7%93%A3%28%E6%89%8B%E6%9C%BA%E7%89%88%29\">\n",
      "  <meta name=\"theme-color\" content=\"#42bd56\">\n",
      "\n",
      "\n",
      "        <link type=\"application/opensearchdescription+xml\" rel=\"search\" href=\"/opensearch\"/>\n",
      "            <!-- hm baidu -->\n",
      "            <script type=\"text/javascript\">\n",
      "            var _hmt = _hmt || [];\n",
      "            (function() {\n",
      "              var hm = document.createElement(\"script\");\n",
      "              hm.src = \"https://hm.baidu.com/hm.js?6d4a8cfea88fa457c3127e14fb5fabc2\";\n",
      "              var s = document.getElementsByTagName(\"script\")[0];\n",
      "              s.parentNode.insertBefore(hm, s);\n",
      "            })();\n",
      "            </script>\n",
      "    </head>\n",
      "    <body ontouchstart=\"\">\n",
      "        \n",
      "        \n",
      "\n",
      "        \n",
      "    \n",
      "    <div id=\"TalionNav\"><header class=\"TalionNav\"><div class=\"TalionNav-primary\"><a href=\"/\"><h1>豆瓣</h1></a><nav><ul><li><a href=\"/movie\" style=\"color: #2384E8;\">电影</a></li><li><a href=\"/book\" style=\"color: #9F7860;\">图书</a></li><li><a href=\"/status\" style=\"color: #E4A813;\">广播</a></li><li><a href=\"/group\" style=\"color: #2AB8CC;\">小组</a></li></ul><span class=\"\"></span></nav></div><div class=\"TalionNav-secondary\"><a class=\"close-nav\" href=\"javascript:;\">关闭</a><form action=\"/search\" method=\"GET\"><div><input name=\"query\" type=\"search\"></div></form><ul><li><div><a href=\"/movie\" target=\"_blank\"><strong style=\"color: #2384E8;\">电影</strong><span>影院热映</span></a><a href=\"https://douban.com/location\" target=\"\"><strong style=\"color: #E6467E;\">同城</strong><span>周末活动</span></a><a href=\"https://read.douban.com\" target=\"\"><strong style=\"color: #9F7860;\">阅读</strong><span>电子书</span></a><a href=\"/status\" target=\"_blank\"><strong style=\"color: #E1644D;\">广播</strong><span>友邻动态</span></a></div></li><li><div><a href=\"/tv\" target=\"_blank\"><strong style=\"color: #7A6ADB;\">电视</strong><span>正在热播</span></a><a href=\"/group\" target=\"_blank\"><strong style=\"color: #2AB8CC;\">小组</strong><span>志趣相投</span></a><a href=\"/game\" target=\"_blank\"><strong style=\"color: #5774C5;\">游戏</strong><span>虚拟世界</span></a><a href=\"https://douban.fm\" target=\"\"><strong style=\"color: #40CFA9;\">FM</strong><span>红心歌单</span></a></div></li><li><div><a href=\"/book\" target=\"_blank\"><strong style=\"color: #9F7860;\">图书</strong><span>畅销排行</span></a><a href=\"/music\" target=\"_blank\"><strong style=\"color: #F48F2E;\">音乐</strong><span>新碟榜</span></a><a href=\"/mobileapp\" target=\"_blank\"><strong style=\"color: #596CDD;\">应用</strong><span>玩手机</span></a><a href=\"https://market.douban.com/?utm_campaign=mobile_web_douban_nav&amp;utm_source=douban&amp;utm_medium=mobile_web\" target=\"\"><strong style=\"color: #42BD56;\">市集</strong><span>购买原创</span></a></div></li></ul><div class=\"navBottom\"><div class=\"nav-item\"><a class=\"toUser\" href=\"/mine/\">我的豆瓣</a><a class=\"toExit\" href=\"https://accounts.douban.com/logout?ck=undefined\">退出豆瓣</a></div><div class=\"nav-item\"><a class=\"toPC\" href=\"/to_pc/?url=about%3Ablank\">使用桌面版</a><a class=\"toApp\">使用豆瓣App</a></div></div></div></header></div>\n",
      "\n",
      "\n",
      "\n",
      "        <div class=\"page\">\n",
      "            \n",
      "    <div class=\"card\">\n",
      "        <ul class=\"quick-nav\">\n",
      "            <li>\n",
      "                <a href=\"/movie/nowintheater?loc_id=108288\">影院热映</a>\n",
      "            </li>\n",
      "              <li>\n",
      "                  <a href=\"/group/explore/beauty/\">变瘦变美变漂亮</a>\n",
      "              </li>\n",
      "            <li>\n",
      "                <a id=\"hot-topics\" href=\"https://m.douban.com/time/?dt_time_source=douban-msite_shortcut\">豆瓣时间</a>\n",
      "            </li>\n",
      "            <li>\n",
      "                <a href=\"https://www.douban.com/doubanapp/app?channel=card_home&direct_dl=1\">使用豆瓣App</a>\n",
      "            </li>\n",
      "        </ul>\n",
      "        <section id=\"recommend-feed\"></section>\n",
      "    </div>\n",
      "\n",
      "        </div>\n",
      "\n",
      "        <script src=\"https://img3.doubanio.com/f/talion/ee8e0c54293aefb5709ececbdf082f8091ad5e49/js/card/zepto.min.js\"></script>\n",
      "        <script src=\"https://img3.doubanio.com/f/talion/a5fe648108eb3658360032681251087b3601d6dd/js/card/main.js\"></script>\n",
      "\n",
      "\n",
      "\n",
      "        \n",
      "  \n",
      "\n",
      "  \n",
      "        <script src=\"https://img3.doubanio.com/f/talion/88fc2b21c8dda5c93aa4c011eb15b74f8850978f/js/lib/react/15.3.0/react-all.min.js\"></script>\n",
      "\n",
      "\n",
      "  <script type=\"text/javascript\">\n",
      "    var userCfg = {}\n",
      "  </script>\n",
      "\n",
      "  \n",
      "\n",
      "  \n",
      "  \n",
      "\n",
      "\n",
      "\n",
      "        <script type=\"text/javascript\" src=\"https://img3.doubanio.com/misc/mixed_static/2aa96ac756cc809.js\"></script>\n",
      "        \n",
      "\n",
      "\n",
      "<script type=\"text/javascript\" data-mobile=\"true\">\n",
      "    (function (global) {\n",
      "        var newNode = global.document.createElement('script'),\n",
      "            existingNode = global.document.getElementsByTagName('script')[0],\n",
      "            adSource = '//erebor.douban.com/',\n",
      "            userId = '',\n",
      "            browserId = 'CZz7AFtyTxM',\n",
      "            criteria = '3:/',\n",
      "            preview = '',\n",
      "            debug = false;\n",
      "\n",
      "        global.DoubanAdRequest = {src: adSource, uid: userId, bid: browserId, crtr: criteria, prv: preview, debug: debug};\n",
      "\n",
      "        newNode.setAttribute('type', 'text/javascript');\n",
      "        newNode.setAttribute('src', 'https://img3.doubanio.com/f/adjs/d59867ddbe8a25645584b467a58a41cbd672c9be/ad.release.js');\n",
      "        newNode.setAttribute('async', true);\n",
      "        existingNode.parentNode.insertBefore(newNode, existingNode);\n",
      "    })(this);\n",
      "</script>\n",
      "\n",
      "\n",
      "        \n",
      "  \n",
      "\n",
      "\n",
      "        <script type='text/javascript'>\n",
      "            \n",
      "            ;(function(global) {\n",
      "                if (window.DoubanAdRequest) {\n",
      "                    window.DoubanAdRequest.filter = []\n",
      "                }\n",
      "                global.DoubanAdSlots = global.DoubanAdSlots || []\n",
      "            })(window);\n",
      "        </script>\n",
      "            <!-- Google Tag Manager -->\n",
      "<noscript><iframe src=\"//www.googletagmanager.com/ns.html?id=GTM-NZHN7H\" height=\"0\" width=\"0\" style=\"display:none;visibility:hidden\"></iframe></noscript>\n",
      "<script>(function(w,d,s,l,i){w[l]=w[l]||[];w[l].push({'gtm.start':new Date().getTime(),event:'gtm.js'});var f=d.getElementsByTagName(s)[0],j=d.createElement(s),dl=l!='dataLayer'?'&l='+l:'';j.async=true;j.src='//www.googletagmanager.com/gtm.js?id='+i+dl;f.parentNode.insertBefore(j,f);})(window,document,'script','dataLayer','GTM-NZHN7H');</script>\n",
      "<!-- End Google Tag Manager -->\n",
      "<!-- Google Analytics -->\n",
      "<script>\n",
      "window.ga=window.ga||function(){(ga.q=ga.q||[]).push(arguments)};ga.l=+new Date;\n",
      "ga('create', 'UA-53594431-3', {'sampleRate': 4});\n",
      "ga('send', 'pageview');\n",
      "</script>\n",
      "<script async src='//www.google-analytics.com/analytics.js'></script>\n",
      "<!-- End Google Analytics -->\n",
      "\n",
      "        \n",
      "\n",
      "\n",
      "\n",
      "\n",
      "\n",
      "\n",
      "    </body>\n",
      "</html>\n",
      "\n",
      "\n",
      "\n",
      "\n",
      "\n",
      "\n",
      "\n",
      "\n",
      "\n",
      "\n",
      "\n",
      "\n",
      "\n"
     ]
    }
   ],
   "source": [
    "from urllib import request\n",
    "\n",
    "req = request.Request('http://www.douban.com')\n",
    "req.add_header('User-Agent', 'Mozilla/6.0 (iPhone; CPU iPhone OS 8_0 like Mac OS X) ApppleWebKit/53 6.26 (KHTML, like Gecko) Version/8.0 Mobile/10A5376e Safari/8536.25')\n",
    "with request.urlopen(req) as f:\n",
    "    print('status:', f.status, f.reason)\n",
    "    for k, v in f.getheaders():\n",
    "        print('%s: %s'%(k, v))\n",
    "    print('Data:', f.read().decode('utf-8'))"
   ]
  },
  {
   "cell_type": "code",
   "execution_count": 36,
   "metadata": {},
   "outputs": [
    {
     "name": "stdout",
     "output_type": "stream",
     "text": [
      "sax:start_element: ol, attrs: {}, type of attrs: <class 'dict'>\n",
      "sax:char_data: \n",
      "\n",
      "sax:char_data:     \n",
      "sax:start_element: li, attrs: {}, type of attrs: <class 'dict'>\n",
      "sax:start_element: a, attrs: {'href': '/python'}, type of attrs: <class 'dict'>\n",
      "sax:char_data: Python\n",
      "sax:end_element: a\n",
      "sax:end_element: li\n",
      "sax:char_data: \n",
      "\n",
      "sax:char_data:     \n",
      "sax:start_element: li, attrs: {}, type of attrs: <class 'dict'>\n",
      "sax:start_element: a, attrs: {'href': '/ruby'}, type of attrs: <class 'dict'>\n",
      "sax:char_data: Ruby\n",
      "sax:end_element: a\n",
      "sax:end_element: li\n",
      "sax:char_data: \n",
      "\n",
      "sax:end_element: ol\n"
     ]
    },
    {
     "data": {
      "text/plain": [
       "1"
      ]
     },
     "execution_count": 36,
     "metadata": {},
     "output_type": "execute_result"
    }
   ],
   "source": [
    "from xml.parsers.expat import ParserCreate\n",
    "\n",
    "class DefaultSaxHandler(object):\n",
    "    def start_element(self, name, attrs):\n",
    "        print('sax:start_element: %s, attrs: %s, type of attrs: %s' % (name, str(attrs), type(attrs)))\n",
    "\n",
    "    def end_element(self, name):\n",
    "        print('sax:end_element: %s' % name)\n",
    "\n",
    "    def char_data(self, text):\n",
    "        print('sax:char_data: %s' % text)\n",
    "\n",
    "xml = r'''<?xml version=\"1.0\"?>\n",
    "<ol>\n",
    "    <li><a href=\"/python\">Python</a></li>\n",
    "    <li><a href=\"/ruby\">Ruby</a></li>\n",
    "</ol>\n",
    "'''\n",
    "\n",
    "handler = DefaultSaxHandler()\n",
    "parser = ParserCreate()\n",
    "parser.StartElementHandler = handler.start_element\n",
    "parser.EndElementHandler = handler.end_element\n",
    "parser.CharacterDataHandler = handler.char_data\n",
    "parser.Parse(xml)"
   ]
  },
  {
   "cell_type": "code",
   "execution_count": 29,
   "metadata": {},
   "outputs": [
    {
     "name": "stdout",
     "output_type": "stream",
     "text": [
      "sax:start_element: query, attrs: {'xmlns:yahoo': 'http://www.yahooapis.com/v1/base.rng', 'yahoo:count': '1', 'yahoo:created': '2018-03-05T06:49:47Z', 'yahoo:lang': 'en-US'}\n",
      "sax:start_element: results, attrs: {}\n",
      "sax:start_element: channel, attrs: {}\n",
      "sax:start_element: yweather:units, attrs: {'xmlns:yweather': 'http://xml.weather.yahoo.com/ns/rss/1.0', 'distance': 'mi', 'pressure': 'in', 'speed': 'mph', 'temperature': 'F'}\n",
      "sax: end_element: yweather:units\n",
      "sax:start_element: title, attrs: {}\n",
      "sax: char_data: Yahoo! Weather - Beijing, Beijing, CN\n",
      "sax: end_element: title\n",
      "sax:start_element: link, attrs: {}\n",
      "sax: char_data: http://us.rd.yahoo.com/dailynews/rss/weather/Country__Country/*https://weather.yahoo.com/country/state/city-2151330/\n",
      "sax: end_element: link\n",
      "sax:start_element: description, attrs: {}\n",
      "sax: char_data: Yahoo! Weather for Beijing, Beijing, CN\n",
      "sax: end_element: description\n",
      "sax:start_element: language, attrs: {}\n",
      "sax: char_data: en-us\n",
      "sax: end_element: language\n",
      "sax:start_element: lastBuildDate, attrs: {}\n",
      "sax: char_data: Mon, 05 Mar 2018 02:49 PM CST\n",
      "sax: end_element: lastBuildDate\n",
      "sax:start_element: ttl, attrs: {}\n",
      "sax: char_data: 60\n",
      "sax: end_element: ttl\n",
      "sax:start_element: yweather:location, attrs: {'xmlns:yweather': 'http://xml.weather.yahoo.com/ns/rss/1.0', 'city': 'Beijing', 'country': 'China', 'region': ' Beijing'}\n",
      "sax: end_element: yweather:location\n",
      "sax:start_element: yweather:wind, attrs: {'xmlns:yweather': 'http://xml.weather.yahoo.com/ns/rss/1.0', 'chill': '43', 'direction': '180', 'speed': '18'}\n",
      "sax: end_element: yweather:wind\n",
      "sax:start_element: yweather:atmosphere, attrs: {'xmlns:yweather': 'http://xml.weather.yahoo.com/ns/rss/1.0', 'humidity': '23', 'pressure': '1025.0', 'rising': '0', 'visibility': '16.1'}\n",
      "sax: end_element: yweather:atmosphere\n",
      "sax:start_element: yweather:astronomy, attrs: {'xmlns:yweather': 'http://xml.weather.yahoo.com/ns/rss/1.0', 'sunrise': '6:41 am', 'sunset': '6:11 pm'}\n",
      "sax: end_element: yweather:astronomy\n",
      "sax:start_element: image, attrs: {}\n",
      "sax:start_element: title, attrs: {}\n",
      "sax: char_data: Yahoo! Weather\n",
      "sax: end_element: title\n",
      "sax:start_element: width, attrs: {}\n",
      "sax: char_data: 142\n",
      "sax: end_element: width\n",
      "sax:start_element: height, attrs: {}\n",
      "sax: char_data: 18\n",
      "sax: end_element: height\n",
      "sax:start_element: link, attrs: {}\n",
      "sax: char_data: http://weather.yahoo.com\n",
      "sax: end_element: link\n",
      "sax:start_element: url, attrs: {}\n",
      "sax: char_data: http://l.yimg.com/a/i/brand/purplelogo//uh/us/news-wea.gif\n",
      "sax: end_element: url\n",
      "sax: end_element: image\n",
      "sax:start_element: item, attrs: {}\n",
      "sax:start_element: title, attrs: {}\n",
      "sax: char_data: Conditions for Beijing, Beijing, CN at 02:00 PM CST\n",
      "sax: end_element: title\n",
      "sax:start_element: geo:lat, attrs: {'xmlns:geo': 'http://www.w3.org/2003/01/geo/wgs84_pos#'}\n",
      "sax: char_data: 39.90601\n",
      "sax: end_element: geo:lat\n",
      "sax:start_element: geo:long, attrs: {'xmlns:geo': 'http://www.w3.org/2003/01/geo/wgs84_pos#'}\n",
      "sax: char_data: 116.387909\n",
      "sax: end_element: geo:long\n",
      "sax:start_element: link, attrs: {}\n",
      "sax: char_data: http://us.rd.yahoo.com/dailynews/rss/weather/Country__Country/*https://weather.yahoo.com/country/state/city-2151330/\n",
      "sax: end_element: link\n",
      "sax:start_element: pubDate, attrs: {}\n",
      "sax: char_data: Mon, 05 Mar 2018 02:00 PM CST\n",
      "sax: end_element: pubDate\n",
      "sax:start_element: yweather:condition, attrs: {'xmlns:yweather': 'http://xml.weather.yahoo.com/ns/rss/1.0', 'code': '32', 'date': 'Mon, 05 Mar 2018 02:00 PM CST', 'temp': '48', 'text': 'Sunny'}\n",
      "sax: end_element: yweather:condition\n",
      "sax:start_element: yweather:forecast, attrs: {'xmlns:yweather': 'http://xml.weather.yahoo.com/ns/rss/1.0', 'code': '32', 'date': '05 Mar 2018', 'day': 'Mon', 'high': '46', 'low': '21', 'text': 'Sunny'}\n",
      "sax: end_element: yweather:forecast\n",
      "sax:start_element: yweather:forecast, attrs: {'xmlns:yweather': 'http://xml.weather.yahoo.com/ns/rss/1.0', 'code': '28', 'date': '06 Mar 2018', 'day': 'Tue', 'high': '42', 'low': '24', 'text': 'Mostly Cloudy'}\n",
      "sax: end_element: yweather:forecast\n",
      "sax:start_element: yweather:forecast, attrs: {'xmlns:yweather': 'http://xml.weather.yahoo.com/ns/rss/1.0', 'code': '28', 'date': '07 Mar 2018', 'day': 'Wed', 'high': '44', 'low': '28', 'text': 'Mostly Cloudy'}\n",
      "sax: end_element: yweather:forecast\n",
      "sax:start_element: yweather:forecast, attrs: {'xmlns:yweather': 'http://xml.weather.yahoo.com/ns/rss/1.0', 'code': '32', 'date': '08 Mar 2018', 'day': 'Thu', 'high': '46', 'low': '27', 'text': 'Sunny'}\n",
      "sax: end_element: yweather:forecast\n",
      "sax:start_element: yweather:forecast, attrs: {'xmlns:yweather': 'http://xml.weather.yahoo.com/ns/rss/1.0', 'code': '32', 'date': '09 Mar 2018', 'day': 'Fri', 'high': '53', 'low': '25', 'text': 'Sunny'}\n",
      "sax: end_element: yweather:forecast\n",
      "sax:start_element: yweather:forecast, attrs: {'xmlns:yweather': 'http://xml.weather.yahoo.com/ns/rss/1.0', 'code': '32', 'date': '10 Mar 2018', 'day': 'Sat', 'high': '58', 'low': '28', 'text': 'Sunny'}\n",
      "sax: end_element: yweather:forecast\n",
      "sax:start_element: yweather:forecast, attrs: {'xmlns:yweather': 'http://xml.weather.yahoo.com/ns/rss/1.0', 'code': '34', 'date': '11 Mar 2018', 'day': 'Sun', 'high': '54', 'low': '29', 'text': 'Mostly Sunny'}\n",
      "sax: end_element: yweather:forecast\n",
      "sax:start_element: yweather:forecast, attrs: {'xmlns:yweather': 'http://xml.weather.yahoo.com/ns/rss/1.0', 'code': '32', 'date': '12 Mar 2018', 'day': 'Mon', 'high': '62', 'low': '34', 'text': 'Sunny'}\n",
      "sax: end_element: yweather:forecast\n",
      "sax:start_element: yweather:forecast, attrs: {'xmlns:yweather': 'http://xml.weather.yahoo.com/ns/rss/1.0', 'code': '34', 'date': '13 Mar 2018', 'day': 'Tue', 'high': '66', 'low': '38', 'text': 'Mostly Sunny'}\n",
      "sax: end_element: yweather:forecast\n",
      "sax:start_element: yweather:forecast, attrs: {'xmlns:yweather': 'http://xml.weather.yahoo.com/ns/rss/1.0', 'code': '30', 'date': '14 Mar 2018', 'day': 'Wed', 'high': '64', 'low': '41', 'text': 'Partly Cloudy'}\n",
      "sax: end_element: yweather:forecast\n",
      "sax:start_element: description, attrs: {}\n",
      "sax: char_data: <\n",
      "sax: char_data: ![CDATA[\n",
      "sax: char_data: <\n",
      "sax: char_data: img src=\"http://l.yimg.com/a/i/us/we/52/32.gif\"/\n",
      "sax: char_data: >\n",
      "sax: char_data: \n",
      "\n",
      "sax: char_data: <\n",
      "sax: char_data: BR /\n",
      "sax: char_data: >\n",
      "sax: char_data: \n",
      "\n",
      "sax: char_data: <\n",
      "sax: char_data: b\n",
      "sax: char_data: >\n",
      "sax: char_data: Current Conditions:\n",
      "sax: char_data: <\n",
      "sax: char_data: /b\n",
      "sax: char_data: >\n",
      "sax: char_data: \n",
      "\n",
      "sax: char_data: <\n",
      "sax: char_data: BR /\n",
      "sax: char_data: >\n",
      "sax: char_data: Sunny\n",
      "sax: char_data: \n",
      "\n",
      "sax: char_data: <\n",
      "sax: char_data: BR /\n",
      "sax: char_data: >\n",
      "sax: char_data: \n",
      "\n",
      "sax: char_data: <\n",
      "sax: char_data: BR /\n",
      "sax: char_data: >\n",
      "sax: char_data: \n",
      "\n",
      "sax: char_data: <\n",
      "sax: char_data: b\n",
      "sax: char_data: >\n",
      "sax: char_data: Forecast:\n",
      "sax: char_data: <\n",
      "sax: char_data: /b\n",
      "sax: char_data: >\n",
      "sax: char_data: \n",
      "\n",
      "sax: char_data: <\n",
      "sax: char_data: BR /\n",
      "sax: char_data: >\n",
      "sax: char_data:  Mon - Sunny. High: 46Low: 21\n",
      "sax: char_data: \n",
      "\n",
      "sax: char_data: <\n",
      "sax: char_data: BR /\n",
      "sax: char_data: >\n",
      "sax: char_data:  Tue - Mostly Cloudy. High: 42Low: 24\n",
      "sax: char_data: \n",
      "\n",
      "sax: char_data: <\n",
      "sax: char_data: BR /\n",
      "sax: char_data: >\n",
      "sax: char_data:  Wed - Mostly Cloudy. High: 44Low: 28\n",
      "sax: char_data: \n",
      "\n",
      "sax: char_data: <\n",
      "sax: char_data: BR /\n",
      "sax: char_data: >\n",
      "sax: char_data:  Thu - Sunny. High: 46Low: 27\n",
      "sax: char_data: \n",
      "\n",
      "sax: char_data: <\n",
      "sax: char_data: BR /\n",
      "sax: char_data: >\n",
      "sax: char_data:  Fri - Sunny. High: 53Low: 25\n",
      "sax: char_data: \n",
      "\n",
      "sax: char_data: <\n",
      "sax: char_data: BR /\n",
      "sax: char_data: >\n",
      "sax: char_data: \n",
      "\n",
      "sax: char_data: <\n",
      "sax: char_data: BR /\n",
      "sax: char_data: >\n",
      "sax: char_data: \n",
      "\n",
      "sax: char_data: <\n",
      "sax: char_data: a href=\"http://us.rd.yahoo.com/dailynews/rss/weather/Country__Country/*https://weather.yahoo.com/country/state/city-2151330/\"\n",
      "sax: char_data: >\n",
      "sax: char_data: Full Forecast at Yahoo! Weather\n",
      "sax: char_data: <\n",
      "sax: char_data: /a\n",
      "sax: char_data: >\n",
      "sax: char_data: \n",
      "\n",
      "sax: char_data: <\n",
      "sax: char_data: BR /\n",
      "sax: char_data: >\n",
      "sax: char_data: \n",
      "\n",
      "sax: char_data: <\n",
      "sax: char_data: BR /\n",
      "sax: char_data: >\n",
      "sax: char_data: \n",
      "\n",
      "sax: char_data: <\n",
      "sax: char_data: BR /\n",
      "sax: char_data: >\n",
      "sax: char_data: \n",
      "\n",
      "sax: char_data: ]]\n",
      "sax: char_data: >\n",
      "sax: end_element: description\n",
      "sax:start_element: guid, attrs: {'isPermaLink': 'false'}\n",
      "sax: end_element: guid\n",
      "sax: end_element: item\n",
      "sax: end_element: channel\n",
      "sax: end_element: results\n",
      "sax: end_element: query\n",
      "{'city': 'Beijing', 'forecast': [{'date': '2018-03-05', 'high': '46', 'low': '21'}, {'date': '2018-03-06', 'high': '42', 'low': '24'}, {'date': '2018-03-07', 'high': '44', 'low': '28'}, {'date': '2018-03-08', 'high': '46', 'low': '27'}, {'date': '2018-03-09', 'high': '53', 'low': '25'}, {'date': '2018-03-10', 'high': '58', 'low': '28'}, {'date': '2018-03-11', 'high': '54', 'low': '29'}, {'date': '2018-03-12', 'high': '62', 'low': '34'}, {'date': '2018-03-13', 'high': '66', 'low': '38'}, {'date': '2018-03-14', 'high': '64', 'low': '41'}]}\n",
      "ok\n"
     ]
    }
   ],
   "source": [
    "from xml.parsers.expat import ParserCreate\n",
    "from urllib import request\n",
    "import time\n",
    "class DefaultSaxHandler(object):\n",
    "    def __init__(self):\n",
    "        self.location = {}\n",
    "        self.forecast = []\n",
    "    def start_element(self, name, attrs):\n",
    "        print('sax:start_element: %s, attrs: %s' % (name, str(attrs)))\n",
    "        if name == 'yweather:location':\n",
    "            self.location = attrs\n",
    "        if name == 'yweather:forecast':\n",
    "            data = {}\n",
    "            date = time.strftime('%Y-%m-%d', time.strptime(attrs['date'],'%d %b %Y'))\n",
    "            data['date'] = date\n",
    "            data['high'] = attrs['high']\n",
    "            data['low'] = attrs['low']\n",
    "            self.forecast.append(data)\n",
    "\n",
    "    def end_element(self, name):\n",
    "        print('sax: end_element: %s'%name)\n",
    "    def char_data(self, text):\n",
    "        print('sax: char_data: %s'%text)\n",
    "\n",
    "def parseXml(xml_str):\n",
    "    handler = DefaultSaxHandler()\n",
    "    parser = ParserCreate()\n",
    "    parser.StartElementHandler = handler.start_element\n",
    "    parser.EndElementHandler = handler.end_element\n",
    "    parser.CharacterDataHandler = handler.char_data\n",
    "    parser.Parse(xml_str)\n",
    "    return {\n",
    "        'city': handler.location['city'],\n",
    "        'forecast': handler.forecast\n",
    "    }\n",
    "\n",
    "# 测试:\n",
    "URL = 'https://query.yahooapis.com/v1/public/yql?q=select%20*%20from%20weather.forecast%20where%20woeid%20%3D%202151330&format=xml'\n",
    "\n",
    "with request.urlopen(URL, timeout=4) as f:\n",
    "    data = f.read()\n",
    "\n",
    "result = parseXml(data.decode('utf-8'))\n",
    "print(result)\n",
    "assert result['city'] == 'Beijing'\n",
    "print('ok')"
   ]
  },
  {
   "cell_type": "markdown",
   "metadata": {},
   "source": [
    "## HTMLParser"
   ]
  },
  {
   "cell_type": "code",
   "execution_count": 34,
   "metadata": {},
   "outputs": [
    {
     "name": "stdout",
     "output_type": "stream",
     "text": [
      "<body>\n",
      "\n",
      "\n",
      "<head>\n",
      "</head>\n",
      "\n",
      "\n",
      "<body>\n",
      "\n",
      "\n",
      "<!--  test html parser -->\n",
      "\n",
      "    \n",
      "<p>\n",
      "Some \n",
      "<a>\n",
      "html\n",
      "</a>\n",
      " HTML tutorial...\n",
      "<br>\n",
      "END\n",
      "</p>\n",
      "\n",
      "\n",
      "</body>\n",
      "</html>\n",
      "\n",
      "\n"
     ]
    }
   ],
   "source": [
    "from html.parser import HTMLParser\n",
    "from html.entities import name2codepoint\n",
    "\n",
    "class MyHTMLParser(HTMLParser):\n",
    "    def handle_starttag(self, tag, attrs):\n",
    "        print('<%s>' % tag)\n",
    "    def handle_endtag(self, tag):\n",
    "        print('</%s>' % tag)\n",
    "    def handle_startendtag(self, tag, attrs):\n",
    "        print('<%s/>' % tag)\n",
    "    def handle_data(self, data):\n",
    "        print(data)\n",
    "    def handle_comment(self, data):\n",
    "        print('<!--', data, '-->')\n",
    "    def handle_entityref(self, name):\n",
    "        print('&%s;' % name)\n",
    "    def handle_charref(self, name):\n",
    "        print('&#%s;' % name)\n",
    "parser = MyHTMLParser()\n",
    "parser.feed('''<body>\n",
    "<head></head>\n",
    "<body>\n",
    "<!-- test html parser-->\n",
    "    <p>Some <a>html</a> HTML&nbsp;tutorial...<br>END</p>\n",
    "</body></html>\n",
    "''')"
   ]
  },
  {
   "cell_type": "code",
   "execution_count": 49,
   "metadata": {},
   "outputs": [
    {
     "name": "stdout",
     "output_type": "stream",
     "text": [
      "-------------\n",
      "title: PyCon SK 2018\n",
      "time: 09 March – 12 March \n",
      "addr: Bratislava, Slovakia\n",
      "-------------\n",
      "title: PythonCamp 2018 - Cologne\n",
      "time: 07 April – 09 April \n",
      "addr: GFU Cyrus AG, Am Grauen Stein 27, 51105 Köln, Germany\n",
      "-------------\n",
      "title: PyCon IT 9\n",
      "time: 19 April – 23 April \n",
      "addr: Hotel Mediterraneo - Lungarno del Tempio, 44, 50121 Firenze FI, Italy\n",
      "-------------\n",
      "title: PyDays Vienna\n",
      "time: 04 May – 06 May \n",
      "addr: FH Technikum Wien, Hoechstaedtplatz 6, Vienna, Austria\n",
      "-------------\n",
      "title: GeoPython 2018\n",
      "time: 07 May – 10 May \n",
      "addr: Basel, Switzerland\n",
      "-------------\n",
      "title: PyCon US 2018\n",
      "time: 09 May – 18 May \n",
      "addr: Cleveland, Ohio, USA\n",
      "-------------\n",
      "title: PyCon Belarus 2018\n",
      "time: 24 Feb. – 25 Feb. \n",
      "addr: Minsk, Belarus\n",
      "-------------\n",
      "title: PyCon PH 2018\n",
      "time: 24 Feb. – 26 Feb. \n",
      "addr: Makati City, Metro Manila, Philippines\n"
     ]
    },
    {
     "data": {
      "text/plain": [
       "\"\\nexplanation for 'self.res[len(self.res) - 1][self.is_get_data] = data':\\nres是一个list，存储所有会议, list的元素是dict, 每个dict表示一个会议\\n\\n获得title,即会议名时，给res添加一个新dict：\\nself.res.append({self.is_get_data: data})\\nres 由[] 变为 [{'title':'PyCascades 2018'}]\\n\\n获得addr，time这样的其它属性时,先把最后一个dict（即当前处理的dict）取出：\\n即self.res[len(self.res) - 1]\\n再把新属性加入：\\nself.res[len(self.res) - 1][self.is_get_data] = data\\n [{'title':'PyCascades 2018','time':'22 Jan. – 24 Jan.'}]\\n\\n\""
      ]
     },
     "execution_count": 49,
     "metadata": {},
     "output_type": "execute_result"
    }
   ],
   "source": [
    "from html.parser import HTMLParser\n",
    "from urllib import request\n",
    "import re\n",
    "\n",
    "class MyHTMLParser(HTMLParser):\n",
    "    flag = 0\n",
    "    res = []\n",
    "    is_get_data = 0\n",
    "    \n",
    "    def handle_starttag(self, tag, attrs):\n",
    "        # find the target tag\n",
    "# note:  tag是的html标签，attrs是 tag包含的所有(属性，值)元组(tuple)组成的列表(list).\n",
    "        if tag == 'ul':\n",
    "            for attr in attrs:\n",
    "                if re.match(r'list-recent-events', attr[1]):\n",
    "                    # print('attrs is %s of type %s' % (attrs, type(attrs)))\n",
    "                    # print('attr is %s' % type(attr))\n",
    "                    self.flag = 1\n",
    "        # deal with element a\n",
    "        if tag == 'a' and self.flag == 1:\n",
    "            self.is_get_data = 'title'\n",
    "        \n",
    "        # deal withe element time\n",
    "        if tag == 'time' and self.flag == 1:\n",
    "            self.is_get_data = 'time'\n",
    "        \n",
    "        if tag == 'span' and self.flag == 1:\n",
    "            self.is_get_data = 'addr'\n",
    "    \n",
    "    def handle_endtag(self, tag):\n",
    "        if self.flag == 1 and tag == 'ul':\n",
    "            self.flag = 0\n",
    "    \n",
    "    def handle_data(self, data):\n",
    "        if self.is_get_data and self.flag == 1:\n",
    "            if self.is_get_data == 'title':\n",
    "                self.res.append({self.is_get_data:data})\n",
    "            else:\n",
    "                self.res[len(self.res) - 1][self.is_get_data] = data\n",
    "            self.is_get_data = None\n",
    "parser = MyHTMLParser()\n",
    "\n",
    "with request.urlopen('https://www.python.org/events/python-events/') as f:\n",
    "    data = f.read().decode('utf-8')\n",
    "parser.feed(data)\n",
    "for item in MyHTMLParser.res:\n",
    "    print('-------------')\n",
    "    for k, v in item.items():\n",
    "        print('%s: %s' % (k, v))\n",
    "        \n",
    "'''\n",
    "explanation for 'self.res[len(self.res) - 1][self.is_get_data] = data':\n",
    "res是一个list，存储所有会议, list的元素是dict, 每个dict表示一个会议\n",
    "\n",
    "获得title,即会议名时，给res添加一个新dict：\n",
    "self.res.append({self.is_get_data: data})\n",
    "res 由[] 变为 [{'title':'PyCascades 2018'}]\n",
    "\n",
    "获得addr，time这样的其它属性时,先把最后一个dict（即当前处理的dict）取出：\n",
    "即self.res[len(self.res) - 1]\n",
    "再把新属性加入：\n",
    "self.res[len(self.res) - 1][self.is_get_data] = data\n",
    " [{'title':'PyCascades 2018','time':'22 Jan. – 24 Jan.'}]\n",
    "\n",
    "'''"
   ]
  },
  {
   "cell_type": "markdown",
   "metadata": {},
   "source": [
    "## Pillow\n",
    "\n",
    "PIL：Python Imaging Library，已经是Python平台事实上的图像处理标准库了。PIL功能非常强大，但API却非常简单易用。\n",
    "\n",
    "由于PIL仅支持到Python 2.7，加上年久失修，于是一群志愿者在PIL的基础上创建了兼容的版本，名字叫Pillow，支持最新Python 3.x，又加入了许多新特性，因此，我们可以直接安装使用Pillow。\n",
    "\n",
    "### 操作图像"
   ]
  },
  {
   "cell_type": "code",
   "execution_count": 50,
   "metadata": {},
   "outputs": [
    {
     "name": "stdout",
     "output_type": "stream",
     "text": [
      "Origianl image size: 2592x1456\n",
      "Resize image to：1296x728\n"
     ]
    }
   ],
   "source": [
    "from PIL import Image\n",
    "\n",
    "im = Image.open('test.jpg')\n",
    "w, h = im.size\n",
    "print('Origianl image size: %sx%s' % (w, h))\n",
    "\n",
    "#缩放到50%\n",
    "im.thumbnail((w//2, h//2))\n",
    "print('Resize image to：%sx%s' % (w//2, h//2))\n",
    "\n",
    "im.save('thumbnail.jpg', 'jpeg')"
   ]
  },
  {
   "cell_type": "raw",
   "metadata": {
    "collapsed": true
   },
   "source": [
    "其他功能如切片、旋转、滤镜、输出文字、调色板等一应俱全。\n",
    "\n",
    "比如，模糊效果也只需几行代码："
   ]
  },
  {
   "cell_type": "code",
   "execution_count": 1,
   "metadata": {
    "collapsed": true
   },
   "outputs": [],
   "source": [
    "from PIL import Image, ImageFilter\n",
    "\n",
    "im = Image.open('test.jpg')\n",
    "\n",
    "im2 = im.filter(ImageFilter.BLUR)\n",
    "im2.save('blur.jpg', 'jpeg')"
   ]
  },
  {
   "cell_type": "code",
   "execution_count": 5,
   "metadata": {
    "collapsed": true
   },
   "outputs": [],
   "source": [
    "from PIL import Image, ImageDraw, ImageFont, ImageFilter\n",
    "import random\n",
    "\n",
    "def rndChar():\n",
    "    return chr(random.randint(65, 90))\n",
    "\n",
    "def rndColor():\n",
    "    return (random.randint(64,255),random.randint(64,255),random.randint(64,255))\n",
    "\n",
    "def rndColor2():\n",
    "    return (random.randint(32,127),random.randint(32,127),random.randint(32,127))\n",
    "\n",
    "width = 60 * 4\n",
    "height = 60\n",
    "\n",
    "image = Image.new('RGB', (width, height), (255,255,255))\n",
    "\n",
    "font = ImageFont.truetype('C:/Windows/Fonts/Arial.ttf', 36)\n",
    "\n",
    "draw = ImageDraw.Draw(image)\n",
    "\n",
    "#填充每个像素作为背景\n",
    "for x in range(width):\n",
    "    for y in range(height):\n",
    "        draw.point((x,y), fill=rndColor())\n",
    "#输出文字\n",
    "for t in range(4):\n",
    "    draw.text((60 * t + 10, 10), rndChar(), font=font, fill=rndColor2())\n",
    "\n",
    "image = image.filter(ImageFilter.BLUR)\n",
    "image.save('code.jpg', 'jpeg')"
   ]
  },
  {
   "cell_type": "markdown",
   "metadata": {},
   "source": [
    "## requests\n",
    "Python内置的urllib模块，用于访问网络资源。但是，它用起来比较麻烦，而且，缺少很多实用的高级功能。\n",
    "\n",
    "更好的方案是使用requests。它是一个Python第三方库，处理URL资源特别方便:"
   ]
  },
  {
   "cell_type": "code",
   "execution_count": 6,
   "metadata": {},
   "outputs": [
    {
     "name": "stdout",
     "output_type": "stream",
     "text": [
      "200 <!DOCTYPE HTML>\n",
      "<html lang=\"zh-cmn-Hans\" class=\"\">\n",
      "<head>\n",
      "<meta charset=\"UTF-8\">\n",
      "<meta name=\"description\" content=\"提供图书、电影、音乐唱片的推荐、评论和价格比较，以及城市独特的文化生活。\">\n",
      "<meta name=\"keywords\" content=\"豆瓣,广播,登陆豆瓣\">\n",
      "<meta property=\"qc:admins\" content=\"2554215131764752166375\" />\n",
      "<meta property=\"wb:webmaster\" content=\"375d4a17a4fa24c2\" />\n",
      "<meta name=\"mobile-agent\" content=\"format=html5; url=https://m.douban.com\">\n",
      "<title>豆瓣</title>\n",
      "<script>\n",
      "function set_cookie(t,e,o,n){var i,a,r=new Date;r.setTime(r.getTime()+24*(e||30)*60*60*1e3),i=\"; expires=\"+r.toGMTString();for(a in t)document.cookie=a+\"=\"+t[a]+i+\"; domain=\"+(o||\"douban.com\")+\"; path=\"+(n||\"/\")}function get_cookie(t){var e,o,n=t+\"=\",i=document.cookie.split(\";\");for(e=0;e<i.length;e++){for(o=i[e];\" \"==o.charAt(0);)o=o.substring(1,o.length);if(0===o.indexOf(n))return o.substring(n.length,o.length).replace(/\\\"/g,\"\")}return null}window.Douban=window.Douban||{};var Do=function(){Do.actions.push([].slice.call(arguments))};Do.ready=function(){Do.actions.push([].slice.call(arguments))},Do.add=Do.define=function(t,e){Do.mods[t]=e},Do.global=function(){Do.global.mods=Array.prototype.concat(Do.global.mods,[].slice.call(arguments))},Do.global.mods=[],Do.mods={},Do.actions=[],Douban.init_show_login=function(t){Do(\"dialog\",function(){var t=\"/j/misc/login_form\";dui.Dialog({title:\"登录\",url:t,width:/device-mobile/i.test(document.documentElement.className)?.9*document.documentElement.offsetWidth:350,cache:!0,callback:function(t,e){e.node.addClass(\"dialog-login\"),e.node.find(\"h2\").css(\"display\",\"none\"),e.node.find(\".hd h3\").replaceWith(e.node.find(\".bd h3\")),e.node.find(\"form\").css({border:\"none\",width:\"auto\",padding:\"0\"}),e.update()}}).open()})},Do(function(){function t(t,e){var o=[\"ref=\"+encodeURIComponent(location.pathname)];for(var n in e)e.hasOwnProperty(n)&&o.push(n+\"=\"+e[n]);window._SPLITTEST&&o.push(\"splittest=\"+window._SPLITTEST),localStorage.setItem(\"report\",(localStorage.getItem(\"report\")||\"\")+\"_moreurl_separator_\"+o.join(\"&\"))}!function(){\"localStorage\"in window||(window.localStorage=function(){var t=document;if(!t.documentElement.addBehavior)throw\"don't support localstorage or userdata.\";var e=\"_localstorage_ie\",o=t.createElement(\"input\");o.type=\"hidden\";var n=function(n){return function(){t.body.appendChild(o),o.addBehavior(\"#default#userData\");var i=new Date;i.setDate(i.getDate()+365),o.expires=i.toUTCString(),o.load(e);var a=n.apply(o,arguments);return t.body.removeChild(o),a}};return{getItem:n(function(t){return this.getAttribute(t)}),setItem:n(function(t,o){this.setAttribute(t,o),this.save(e)}),removeItem:n(function(t){this.removeAttribute(t),this.save(e)}),clear:n(function(){for(var t,o=this.XMLDocument.documentElement.attributes,n=0;t=o[n];n++)this.removeAttribute(t.name);this.save(e)})}}())}(),$(window).one(\"load\",function(){var t=localStorage.getItem(\"report\");if(t){t=t.split(\"_moreurl_separator_\");var e=function(o){return\"\"==o?void e(t.shift()):void $.get(\"undefined\"==typeof _MOREURL_REQ?\"/stat.html?\"+o:_MOREURL_REQ+\"?\"+o,function(){return t.length?(e(t.shift()),void localStorage.setItem(\"report\",t.join(\"_moreurl_separator_\"))):void localStorage.removeItem(\"report\")})};e(t.shift())}}),window.moreurl=t,$(document).click(function(e){var o=e.target,n=$(o).data(\"moreurl-dict\");n&&t(o,n)}),$.ajax_withck=function(t){return\"POST\"==t.type&&(t.data=$.extend(t.data||{},{ck:get_cookie(\"ck\")})),$.ajax(t)},$.postJSON_withck=function(t,e,o){return $.post_withck(t,e,o,\"json\")},$.post_withck=function(t,e,o,n){return $.isFunction(e)&&(n=o,o=e,e={}),$.ajax({type:\"POST\",url:t,data:$.extend(e,{ck:get_cookie(\"ck\")}),success:o,dataType:n||\"text\"})},$(\"html\").click(function(t){var e=$(t.target),o=e.attr(\"class\");o&&$(o.match(/a_(\\w+)/gi)).each($.proxy(function(e,o){var n=Douban[o.replace(/^a_/,\"init_\")];\"function\"==typeof n&&(t.preventDefault(),n.call(this,t))},e[0]))})});\n",
      "\n",
      "Do.add('dialog', {path: 'https://img3.doubanio.com/f/shire/4ea3216519a6183c7bcd4f7d1a6d4fd57ce1a244/js/ui/dialog.js', type: 'js', requires: ['https://img3.doubanio.com/f/shire/8377b9498330a2e6f056d863987cc7a37eb4d486/css/ui/dialog.css']});\n",
      "Do.global('https://img3.doubanio.com/f/sns/b5793c2d7c298173d57ecf7d96708b5615336def/js/sns/fp/base.js', 'dialog');\n",
      "</script>\n",
      "<link rel=\"stylesheet\" href=\"https://img3.doubanio.com/f/shire/8b9fa55c839b74f72d2279a4f6839a2c8a1a9553/css/core/_init_.css\">\n",
      "<link rel=\"stylesheet\" href=\"https://img3.doubanio.com/f/sns/4bf12c614add15f5f3a961f4fd3999f507cff199/css/sns/anonymous_home.css\">\n",
      "<style type=\"text/css\">\n",
      ".rec_topics_name{\n",
      "    display: inline-block;\n",
      "    margin-bottom: 6px;\n",
      "    font-size: 14px;\n",
      "    line-height: 1.3;\n",
      "    color: #3377aa;\n",
      "}\n",
      ".rec_topics_subtitle{\n",
      "    display: block;\n",
      "    margin-bottom: 15px;\n",
      "    font-size: 13px;\n",
      "    line-height: 1;\n",
      "    color: #aaaaaa;\n",
      "    white-space: nowrap;\n",
      "    overflow: hidden;\n",
      "    text-overflow: ellipsis;\n",
      "}\n",
      ".rec_topics_label{\n",
      "    transform: translateY(-0.5px);\n",
      "    display: inline-block;\n",
      "    font-size: 13px;\n",
      "    margin-left: 2px;\n",
      "}\n",
      ".rec_topics{\n",
      "    line-height: 1;\n",
      "    margin-bottom: 15px;\n",
      "}\n",
      ".rec_topics:last-child{\n",
      "    margin-bottom: 0;\n",
      "}\n",
      ".rec_topics_label_ad{\n",
      "    color: #c9c9c9;\n",
      "    -moz-transform: scale(0.91);\n",
      "    -webkit-transform: scale(0.91);\n",
      "    transform: scale(0.91);\n",
      "}\n",
      "\n",
      "html[class*=ua-ff] .rec_topics_subtitle{\n",
      "    line-height: 14px;\n",
      "}\n",
      "\n",
      "</style>\n",
      "</head>\n",
      "\n",
      "<body>\n",
      "\n",
      "\n",
      "  <div id=\"anony-nav\">\n",
      "    <div class=\"anony-nav-links\">\n",
      "    <ul>\n",
      "    <li> <a target=\"_blank\" class=\"lnk-book\" href=\"https://book.douban.com\">豆瓣读书</a></li>\n",
      "    <li> <a target=\"_blank\" class=\"lnk-movie\" href=\"https://movie.douban.com\">豆瓣电影</a></li>\n",
      "    <li> <a target=\"_blank\" class=\"lnk-music\" href=\"https://music.douban.com\">豆瓣音乐</a></li>\n",
      "    <li> <a target=\"_blank\" class=\"lnk-group\" href=\"https://www.douban.com/group/\">豆瓣小组</a></li>\n",
      "    <li> <a target=\"_blank\" class=\"lnk-events\" href=\"https://www.douban.com/location/\">豆瓣同城</a></li>\n",
      "    <li> <a target=\"_blank\" class=\"lnk-fm\" href=\"https://douban.fm\">豆瓣FM</a></li>\n",
      "    <li> <a target=\"_blank\" class=\"lnk-shijian\" href=\"https://www.douban.com/time/?dt_time_source=douban-web_anonymous_index_top_nav\">豆瓣时间</a></li>\n",
      "    <li> <a target=\"_blank\" class=\"lnk-market\" href=\"https://market.douban.com?utm_campaign=anonymous_top_nav&utm_source=douban&utm_medium=pc_web\">豆瓣市集</a></li>\n",
      "    </ul>\n",
      "    </div>\n",
      "\n",
      "    <h1><a href=\"https://www.douban.com\">豆瓣</a></h1>\n",
      "\n",
      "    <div class=\"anony-srh\">\n",
      "    <form action=\"https://www.douban.com/search\" method=\"get\">\n",
      "      <span class=\"inp\"><input type=\"text\" maxlength=\"60\" size=\"12\" placeholder=\"书籍、电影、音乐、小组、小站、成员\" name=\"q\" autocomplete=\"off\"></span>\n",
      "    <span class=\"bn\"><input type=\"submit\" value=\"搜索\"></span>\n",
      "    </form>\n",
      "    </div>\n",
      "  </div>\n",
      "\n",
      "\n",
      "\n",
      "<div id=\"anony-reg-new\">\n",
      "  <div class=\"wrapper\">\n",
      "    \n",
      "<div class=\"login\">\n",
      "    <form id=\"lzform\" name=\"lzform\" method=\"post\" action=\"https://www.douban.com/accounts/login\">\n",
      "        <fieldset>\n",
      "            <legend>登录</legend>\n",
      "            <input type=\"hidden\" value=\"index_nav\" name=\"source\">\n",
      "            <div class=\"item item-account\">\n",
      "                <input type=\"text\" name=\"form_email\" id=\"form_email\" value=\"\" class=\"inp\" placeholder=\"邮箱 / 手机号\" tabIndex=\"1\">\n",
      "            </div>\n",
      "            <div class=\"item item-passwd\">\n",
      "                <input name=\"form_password\" placeholder=\"密码\" id=\"form_password\" class=\"inp\" type=\"password\" tabIndex=\"2\">\n",
      "                <div class=\"opt\">\n",
      "                    <a href=\"https://www.douban.com/accounts/resetpassword\">帮助</a>\n",
      "                </div>\n",
      "            </div>\n",
      "            <div class=\"item item-submit\">\n",
      "                <input value=\"登录豆瓣\" type=\"submit\" class=\"bn-submit\" tabIndex=\"4\">\n",
      "                <a href=\"/accounts/register\" class=\"lnk-reg\">注册帐号</a>\n",
      "            </div>\n",
      "            <div class=\"item-action\">\n",
      "                <label for=\"form_remember\">\n",
      "                    <input name=\"remember\" type=\"checkbox\" id=\"form_remember\" tabIndex=\"4\">记住我\n",
      "                </label>\n",
      "                <ul class=\"item-action-third\">\n",
      "                    <li><a class=\"wechat\" href=\"https://www.douban.com/accounts/connect/wechat/?from=douban-web-anony-home\" target=\"_blank\" title=\"微信登录\">微信登录</a></li>\n",
      "                    <li><a class=\"weibo\" href=\"https://www.douban.com/accounts/connect/sina_weibo/?from=douban-web-anony-home\" target=\"_blank\" title=\"微博登录\">微博登录</a></li>\n",
      "                </ul>\n",
      "            </div>\n",
      "        </fieldset>\n",
      "    </form>\n",
      "    <div style=\"display:none;\">\n",
      "        <img src=\"https://www.douban.com/pics/blank.gif\" onload=\"(function(url){document.getElementById('lzform').action=url;})('https://www.douban.com/accounts/login')\"/>\n",
      "    </div>\n",
      "</div>\n",
      "\n",
      "    <div class=\"app\">\n",
      "      <p class=\"app-title\">豆瓣<span>5.0</span></p>\n",
      "      <p class=\"app-slogan\"><span>我们的精神角落</span></p>\n",
      "      <a href=\"https://www.douban.com/doubanapp/app?channel=nimingye\" class=\"lnk-app\">下载豆瓣 App</a>\n",
      "      <div class=\"app-qr\">\n",
      "        <a href=\"javascript: void 0;\" class=\"lnk-qr\" id=\"expand-qr\"><img src=\"https://img3.doubanio.com/f/sns/0c708de69ce692883c1310053c5748c538938cb0/pics/sns/anony_home/icon_qrcode_green.png\" width=\"28\" height=\"28\" /></a>\n",
      "        <div class=\"app-qr-expand\">\n",
      "          <img src=\"https://img3.doubanio.com/f/sns/1cad523e614ec4ecb6bf91b054436bb79098a958/pics/sns/anony_home/doubanapp_qrcode.png\" width=\"160\" height=\"160\" />\n",
      "          <p>iOS / Android 扫码直接下载</p>\n",
      "        </div>\n",
      "      </div>\n",
      "    </div>\n",
      "  </div>\n",
      "  <script>\n",
      "  Do(function() {\n",
      "    var app_qr = $('.app-qr');\n",
      "    app_qr.hover(function() {\n",
      "      app_qr.addClass('open');\n",
      "    }, function() {\n",
      "      app_qr.removeClass('open');\n",
      "    });\n",
      "  });\n",
      "  </script>\n",
      "</div>\n",
      "\n",
      "\n",
      "\n",
      "\n",
      "\n",
      "\n",
      "\n",
      "      \n",
      "<div id=\"anony-sns\" class=\"section\">\n",
      "  <div class=\"wrapper\">\n",
      "  \n",
      "<!-- douban ad begin -->\n",
      "<div id=\"dale_anonymous_homepage_top_for_crazy_ad\"></div>\n",
      "<!-- douban ad end -->\n",
      "\n",
      "  \n",
      "  <div class=\"side\">\n",
      "  <div style=\"margin:10px 0px;\">\n",
      "    <div id=\"dale_anonymous_homepage_right_top\"></div>\n",
      "  </div>\n",
      "  <div class=\"online\">\n",
      "    <ul>\n",
      "      \n",
      "\n",
      "\n",
      "\n",
      "\n",
      "\n",
      "\n",
      "<div class=\"mod\">\n",
      "    \n",
      "    <h2>\n",
      "        热门话题\n",
      "            &nbsp;&middot;&nbsp;&middot;&nbsp;&middot;&nbsp;&middot;&nbsp;&middot;&nbsp;&middot;\n",
      "            <span class=\"pl\">&nbsp;(\n",
      "                \n",
      "                    <a href=\"/gallery/\" target=\"_self\">去话题广场</a>\n",
      "                ) </span>\n",
      "    </h2>\n",
      "\n",
      "\n",
      "    <ul>\n",
      "        \n",
      "            <li class=\"rec_topics\">\n",
      "                    <a href=\"https://www.douban.com/gallery/topic/2701/?from=hot_topic_anony_sns\" class=\"rec_topics_name\">第90届奥斯卡</a>\n",
      "                    \n",
      "                    <span class=\"rec_topics_subtitle\">113352人浏览</span>\n",
      "            </li>\n",
      "            <li class=\"rec_topics\">\n",
      "                    <a href=\"https://erebor.douban.com/redirect/?ad=193791&amp;uid=&amp;bid=IA1IQZSKfgQ&amp;unit=dale_topic_web_homepage_second&amp;crtr=&amp;mark=&amp;hn=daisy9b&amp;sig=2e2a5fa91deeb65f49f30a0d0eade22524c466bd9373e3f2a03c3ca0b29467589f7990ef3013b009f8393065574f073c76ede1dd5f0dec1e424b7cb3307563b4&amp;pid=debug_ceec4b332d7ad0b7d1a25a4cf7066bdb4082e390&amp;screen_width=0&amp;screen_height=0&amp;target=aHR0cHM6Ly93d3cuZG91YmFuLmNvbS9nYWxsZXJ5L3RvcGljLzI4OTgv&amp;dumpling=&amp;apple=&amp;mooncake=&amp;icecream=&amp;onion=\" class=\"rec_topics_name\">你最喜欢哪种类型的爱情？<span class=\"rec_topics_label rec_topics_label_ad\">广告</span></a>\n",
      "                    <span class=\"rec_topics_subtitle\">品牌话题 · 10783人浏览</span>\n",
      "                        <img src=\"https://erebor.douban.com/count/?ad=193791&amp;uid=&amp;bid=IA1IQZSKfgQ&amp;unit=dale_topic_web_homepage_second&amp;crtr=&amp;mark=&amp;hn=daisy9b&amp;ns=1520240383040285925&amp;type=impression&amp;pid=debug_ceec4b332d7ad0b7d1a25a4cf7066bdb4082e390\" style=\"width: 0; height: 0; position: absolute;\">\n",
      "            </li>\n",
      "            <li class=\"rec_topics\">\n",
      "                    <a href=\"https://www.douban.com/gallery/topic/635/?from=hot_topic_anony_sns\" class=\"rec_topics_name\">猜灯谜</a>\n",
      "                    \n",
      "                    <span class=\"rec_topics_subtitle\">79305人浏览</span>\n",
      "            </li>\n",
      "            <li class=\"rec_topics\">\n",
      "                    <a href=\"https://www.douban.com/gallery/topic/2859/?from=hot_topic_anony_sns\" class=\"rec_topics_name\">方言中的有趣表达</a>\n",
      "                    \n",
      "                    <span class=\"rec_topics_subtitle\">82103人浏览</span>\n",
      "            </li>\n",
      "            <li class=\"rec_topics\">\n",
      "                    <a href=\"https://www.douban.com/gallery/topic/2839/?from=hot_topic_anony_sns\" class=\"rec_topics_name\">你是如何与父母沟通的</a>\n",
      "                    \n",
      "                    <span class=\"rec_topics_subtitle\">135690人浏览</span>\n",
      "            </li>\n",
      "            <li class=\"rec_topics\">\n",
      "                    <a href=\"https://www.douban.com/gallery/topic/78/?from=hot_topic_anony_sns\" class=\"rec_topics_name\">走亲访友异闻录</a>\n",
      "                    \n",
      "                    <span class=\"rec_topics_subtitle\">182212人浏览</span>\n",
      "            </li>\n",
      "    </ul>\n",
      "</div>\n",
      "\n",
      "      <!-- douban ad begin -->\n",
      "      <li>\n",
      "        <div id=\"dale_homepage_online_activity_promo_1\"></div>\n",
      "      </li>\n",
      "      <li>\n",
      "        <div id=\"dale_anonymous_homepage_doublemint\"></div>\n",
      "      </li>\n",
      "      <!-- douban ad end -->\n",
      "    </ul>\n",
      "  </div>\n",
      "</div>\n",
      "  <div class=\"main\">\n",
      "<div class=\"mod\">\n",
      "\n",
      "  \n",
      "    <h2>\n",
      "        热点内容\n",
      "            &nbsp;&middot;&nbsp;&middot;&nbsp;&middot;&nbsp;&middot;&nbsp;&middot;&nbsp;&middot;\n",
      "            <span class=\"pl\">&nbsp;(\n",
      "                \n",
      "                    <a href=\"https://www.douban.com/explore/\" target=\"_self\">更多</a>\n",
      "                ) </span>\n",
      "    </h2>\n",
      "\n",
      "  <div class=\"albums\">\n",
      "    <ul>\n",
      "      <li>\n",
      "      <div class=\"pic\">\n",
      "          <a href=\"https://www.douban.com/photos/album/1658433533/\"><img src=\"https://img3.doubanio.com/f/shire/a1fdee122b95748d81cee426d717c05b5174fe96/pics/blank.gif\" data-origin=\"https://img3.doubanio.com/view/photo/albumcover/public/p2514110405.jpg\" alt=\"\" /></a>\n",
      "      </div>\n",
      "      <a href=\"https://www.douban.com/photos/album/1658433533/\">大西洋上的孤单</a>\n",
      "      <span class=\"num\">126张照片</span>\n",
      "      <li>\n",
      "      <div class=\"pic\">\n",
      "          <a href=\"https://www.douban.com/photos/album/83666008/\"><img src=\"https://img3.doubanio.com/f/shire/a1fdee122b95748d81cee426d717c05b5174fe96/pics/blank.gif\" data-origin=\"https://img3.doubanio.com/view/photo/albumcover/public/p1824501382.jpg\" alt=\"\" /></a>\n",
      "      </div>\n",
      "      <a href=\"https://www.douban.com/photos/album/83666008/\">味经ing</a>\n",
      "      <span class=\"num\">34张照片</span>\n",
      "      <li>\n",
      "      <div class=\"pic\">\n",
      "          <a href=\"https://www.douban.com/photos/album/1647800086/\"><img src=\"https://img3.doubanio.com/f/shire/a1fdee122b95748d81cee426d717c05b5174fe96/pics/blank.gif\" data-origin=\"https://img3.doubanio.com/view/photo/albumcover/public/p2462781922.jpg\" alt=\"\" /></a>\n",
      "      </div>\n",
      "      <a href=\"https://www.douban.com/photos/album/1647800086/\">The Moment</a>\n",
      "      <span class=\"num\">11张照片</span>\n",
      "      <li>\n",
      "      <div class=\"pic\">\n",
      "          <a href=\"https://www.douban.com/photos/album/1647968465/\"><img src=\"https://img3.doubanio.com/f/shire/a1fdee122b95748d81cee426d717c05b5174fe96/pics/blank.gif\" data-origin=\"https://img1.doubanio.com/view/photo/albumcover/public/p2514316327.jpg\" alt=\"\" /></a>\n",
      "      </div>\n",
      "      <a href=\"https://www.douban.com/photos/album/1647968465/\">美国</a>\n",
      "      <span class=\"num\">25张照片</span>\n",
      "    </ul>\n",
      "  </div>\n",
      "  <div class=\"notes\">\n",
      "    <ul>\n",
      "      <li class=\"first\">\n",
      "      <div class=\"title\">\n",
      "          <a href=\"https://www.douban.com/note/659055809/\">女演员最好的样子，都在民国扮相里</a>\n",
      "      </div>\n",
      "      <div class=\"author\">\n",
      "        陈苍苍的日记\n",
      "      </div>\n",
      "      <p>对于女明星来说，最显著的关乎美不美的考验不是古装戏、不是现代戏，而是民国戏。...</p>\n",
      "      </li>\n",
      "\n",
      "      <li><a href=\"https://www.douban.com/note/658802889/\">在这里，愚蠢统治着一切</a></li>\n",
      "      <li><a href=\"https://www.douban.com/note/659028426/\">从新宿出发——缔造日影的疯狂年代</a></li>\n",
      "      <li><a href=\"https://www.douban.com/note/658503604/\">我唐日常（十七）食堂及其他</a></li>\n",
      "      <li><a href=\"https://www.douban.com/note/657941054/\">纽约宾夕法尼亚车站</a></li>\n",
      "      <li><a href=\"https://www.douban.com/note/659159054/\">他打了 10 年工，还是没想明白打工者的生活何以至此 | 房子和我们的生活⑰</a></li>\n",
      "      <li><a href=\"https://www.douban.com/note/657361171/\">我们仍然留存：2017观影总结</a></li>\n",
      "      <li><a href=\"https://www.douban.com/note/659143117/\">逛街日记 | 那些藏在港澳深处的小店</a></li>\n",
      "      <li><a href=\"https://www.douban.com/note/659182314/\">越长大，就越害怕活成我妈</a></li>\n",
      "      <li><a href=\"https://www.douban.com/note/659170356/\">短篇中的纳博科夫：无可反抗的宿命与婉言相告的残酷</a></li>\n",
      "    </ul>\n",
      "  </div>\n",
      "</div>\n",
      "</div>\n",
      "  </div>\n",
      "  \n",
      "\n",
      "</div>\n",
      "\n",
      "\n",
      "\n",
      "\n",
      "\n",
      "\n",
      "\n",
      "\n",
      "      \n",
      "<div id=\"anony-time\" class=\"section\">\n",
      "  <div class=\"wrapper\">\n",
      "  \n",
      "  \n",
      "    <div class=\"sidenav\">\n",
      "        <h2 class=\"section-title\"><a href=\"/time\">豆瓣时间</a></h2>\n",
      "    </div>\n",
      "\n",
      "  <div class=\"side\"></div>\n",
      "  <div class=\"main\">\n",
      "    \n",
      "    <h2>\n",
      "        热门专栏\n",
      "            &nbsp;&middot;&nbsp;&middot;&nbsp;&middot;&nbsp;&middot;&nbsp;&middot;&nbsp;&middot;\n",
      "            <span class=\"pl\">&nbsp;(\n",
      "                \n",
      "                    <a href=\"/time?dt_time_source=douban-web_anonymous\" target=\"_self\">更多</a>\n",
      "                ) </span>\n",
      "    </h2>\n",
      "\n",
      "\n",
      "    \n",
      "\n",
      "\n",
      "\n",
      "<ul class=\"time-list\">\n",
      "        <li>\n",
      "            \n",
      "            <a class=\"cover listen new \" href=\"https://m.douban.com/time/column/76?dt_time_source=douban-web_anonymous\" target=\"_blank\">\n",
      "                <img src=\"https://img3.doubanio.com/dae/niffler/niffler/images/f90e218a-b8aa-11e7-9cc5-0242ac110021.jpg\" alt=\"52倍人生——戴锦华大师电影课\">\n",
      "            </a>\n",
      "            <a class=\"title\" href=\"https://m.douban.com/time/column/76?dt_time_source=douban-web_anonymous\" target=\"_blank\">52倍人生——戴锦华大师电影课</a>\n",
      "            <span class=\"type\">音频专栏</span>\n",
      "        </li>\n",
      "        <li>\n",
      "            \n",
      "            <a class=\"cover listen  \" href=\"https://m.douban.com/time/column/91?dt_time_source=douban-web_anonymous\" target=\"_blank\">\n",
      "                <img src=\"https://img3.doubanio.com/dae/niffler/niffler/images/c4972ec0-e3bf-11e7-9d88-0242ac110021.jpg\" alt=\"一个故事的诞生——22堂创意思维写作课\">\n",
      "            </a>\n",
      "            <a class=\"title\" href=\"https://m.douban.com/time/column/91?dt_time_source=douban-web_anonymous\" target=\"_blank\">一个故事的诞生——22堂创意思维写作课</a>\n",
      "            <span class=\"type\">音频专栏</span>\n",
      "        </li>\n",
      "        <li>\n",
      "            \n",
      "            <a class=\"cover listen  \" href=\"https://m.douban.com/time/column/94?dt_time_source=douban-web_anonymous\" target=\"_blank\">\n",
      "                <img src=\"https://img1.doubanio.com/dae/niffler/niffler/images/96d45122-0023-11e8-a36d-0242ac110049.jpg\" alt=\"小说课——毕飞宇解读中外经典\">\n",
      "            </a>\n",
      "            <a class=\"title\" href=\"https://m.douban.com/time/column/94?dt_time_source=douban-web_anonymous\" target=\"_blank\">小说课——毕飞宇解读中外经典</a>\n",
      "            <span class=\"type\">音频专栏</span>\n",
      "        </li>\n",
      "        <li>\n",
      "            \n",
      "            <a class=\"cover listen  \" href=\"https://m.douban.com/time/column/93?dt_time_source=douban-web_anonymous\" target=\"_blank\">\n",
      "                <img src=\"https://img3.doubanio.com/dae/niffler/niffler/images/9b402bb0-f50f-11e7-86fa-0242ac110030.jpg\" alt=\"梵高地图——行走在书信与光影中\">\n",
      "            </a>\n",
      "            <a class=\"title\" href=\"https://m.douban.com/time/column/93?dt_time_source=douban-web_anonymous\" target=\"_blank\">梵高地图——行走在书信与光影中</a>\n",
      "            <span class=\"type\">音频专栏</span>\n",
      "        </li>\n",
      "        <li>\n",
      "            \n",
      "            <a class=\"cover listen  \" href=\"https://m.douban.com/time/column/79?dt_time_source=douban-web_anonymous\" target=\"_blank\">\n",
      "                <img src=\"https://img1.doubanio.com/dae/niffler/niffler/images/b5d54766-c3ab-11e7-9bba-0242ac110008.jpg\" alt=\"亲密而独立——洞悉爱情的20堂心理课\">\n",
      "            </a>\n",
      "            <a class=\"title\" href=\"https://m.douban.com/time/column/79?dt_time_source=douban-web_anonymous\" target=\"_blank\">亲密而独立——洞悉爱情的20堂心理课</a>\n",
      "            <span class=\"type\">音频专栏</span>\n",
      "        </li>\n",
      "        <li>\n",
      "            \n",
      "            <a class=\"cover listen  \" href=\"https://m.douban.com/time/column/72?dt_time_source=douban-web_anonymous\" target=\"_blank\">\n",
      "                <img src=\"https://img1.doubanio.com/dae/niffler/niffler/images/50d72036-b010-11e7-a539-0242ac110017.png\" alt=\"觉知即新生——终止童年创伤的心理修复课\">\n",
      "            </a>\n",
      "            <a class=\"title\" href=\"https://m.douban.com/time/column/72?dt_time_source=douban-web_anonymous\" target=\"_blank\">觉知即新生——终止童年创伤的心理修复课</a>\n",
      "            <span class=\"type\">音频专栏</span>\n",
      "        </li>\n",
      "        <li>\n",
      "            \n",
      "            <a class=\"cover listen  new\" href=\"https://m.douban.com/time/column/57?dt_time_source=douban-web_anonymous\" target=\"_blank\">\n",
      "                <img src=\"https://img1.doubanio.com/dae/niffler/niffler/images/abd3c3ec-922c-11e7-8a20-0242ac11000c.png\" alt=\"控制力幻象——焦虑感背后的心理觉察\">\n",
      "            </a>\n",
      "            <a class=\"title\" href=\"https://m.douban.com/time/column/57?dt_time_source=douban-web_anonymous\" target=\"_blank\">控制力幻象——焦虑感背后的心理觉察</a>\n",
      "            <span class=\"type\">音频专栏</span>\n",
      "        </li>\n",
      "        <li>\n",
      "            \n",
      "            <a class=\"cover listen  new\" href=\"https://m.douban.com/time/column/85?dt_time_source=douban-web_anonymous\" target=\"_blank\">\n",
      "                <img src=\"https://img3.doubanio.com/dae/niffler/niffler/images/f9493ac4-d428-11e7-a75c-0242ac11002e.jpg\" alt=\"黑镜人生——网络生活的传播学肖像\">\n",
      "            </a>\n",
      "            <a class=\"title\" href=\"https://m.douban.com/time/column/85?dt_time_source=douban-web_anonymous\" target=\"_blank\">黑镜人生——网络生活的传播学肖像</a>\n",
      "            <span class=\"type\">音频专栏</span>\n",
      "        </li>\n",
      "        <li>\n",
      "            \n",
      "            <a class=\"cover listen  \" href=\"https://m.douban.com/time/column/83?dt_time_source=douban-web_anonymous\" target=\"_blank\">\n",
      "                <img src=\"https://img3.doubanio.com/dae/niffler/niffler/images/6da43bc4-cdd7-11e7-bb25-0242ac110014.png\" alt=\"哲学闪耀时——不一样的西方哲学史\">\n",
      "            </a>\n",
      "            <a class=\"title\" href=\"https://m.douban.com/time/column/83?dt_time_source=douban-web_anonymous\" target=\"_blank\">哲学闪耀时——不一样的西方哲学史</a>\n",
      "            <span class=\"type\">音频专栏</span>\n",
      "        </li>\n",
      "        <li>\n",
      "            \n",
      "            <a class=\"cover listen  \" href=\"https://m.douban.com/time/column/39?dt_time_source=douban-web_anonymous\" target=\"_blank\">\n",
      "                <img src=\"https://img1.doubanio.com/dae/niffler/niffler/images/54d34448-1dea-11e7-afa9-0242ac11002c.jpg\" alt=\"古今——杨照史记百讲\">\n",
      "            </a>\n",
      "            <a class=\"title\" href=\"https://m.douban.com/time/column/39?dt_time_source=douban-web_anonymous\" target=\"_blank\">古今——杨照史记百讲</a>\n",
      "            <span class=\"type\">音频专栏</span>\n",
      "        </li>\n",
      "</ul>\n",
      "\n",
      "</div>\n",
      "  </div>\n",
      "  \n",
      "</div>\n",
      "\n",
      "\n",
      "\n",
      "\n",
      "\n",
      "\n",
      "\n",
      "\n",
      "      \n",
      "<div id=\"anony-video\" class=\"section\">\n",
      "  <div class=\"wrapper\">\n",
      "  \n",
      "  \n",
      "    <div class=\"sidenav\">\n",
      "        <h2 class=\"section-title\"><a href=\"https://video.douban.com?dt_time_source=douban-web_anonymous\">视频</a></h2>\n",
      "    </div>\n",
      "\n",
      "  <div class=\"side\"></div>\n",
      "  <div class=\"main\">\n",
      "    <a href=\"https://video.douban.com/column/1001/\">\n",
      "        \n",
      "    <h2>\n",
      "        如是\n",
      "            &nbsp;&middot;&nbsp;&middot;&nbsp;&middot;&nbsp;&middot;&nbsp;&middot;&nbsp;&middot;\n",
      "    </h2>\n",
      "\n",
      "    </a>\n",
      "    \n",
      "    <ul class=\"video-list video-rushi\">\n",
      "        <li>\n",
      "            <div class=\"video-cover\"><a><span></span></a></div>\n",
      "            <a class=\"video-title\"></a>\n",
      "        </li>\n",
      "        <li>\n",
      "            <div class=\"video-cover\"><a><span></span></a></div>\n",
      "            <a class=\"video-title\"></a>\n",
      "        </li>\n",
      "        <li>\n",
      "            <div class=\"video-cover\"><a><span></span></a></div>\n",
      "            <a class=\"video-title\"></a>\n",
      "        </li>\n",
      "    </ul>\n",
      "\n",
      "\n",
      "    <a href=\"https://video.douban.com/column/10006/\">\n",
      "        \n",
      "    <h2>\n",
      "        瓣嘴\n",
      "            &nbsp;&middot;&nbsp;&middot;&nbsp;&middot;&nbsp;&middot;&nbsp;&middot;&nbsp;&middot;\n",
      "    </h2>\n",
      "\n",
      "    </a>\n",
      "    \n",
      "    <ul class=\"video-list video-banzui\">\n",
      "        <li>\n",
      "            <div class=\"video-cover\"><a><span></span></a></div>\n",
      "            <a class=\"video-title\"></a>\n",
      "        </li>\n",
      "        <li>\n",
      "            <div class=\"video-cover\"><a><span></span></a></div>\n",
      "            <a class=\"video-title\"></a>\n",
      "        </li>\n",
      "        <li>\n",
      "            <div class=\"video-cover\"><a><span></span></a></div>\n",
      "            <a class=\"video-title\"></a>\n",
      "        </li>\n",
      "    </ul>\n",
      "\n",
      "</div>\n",
      "  </div>\n",
      "  \n",
      "</div>\n",
      "\n",
      "\n",
      "\n",
      "\n",
      "\n",
      "\n",
      "\n",
      "\n",
      "      \n",
      "<div id=\"anony-movie\" class=\"section\">\n",
      "  <div class=\"wrapper\">\n",
      "  \n",
      "  \n",
      "<div class=\"sidenav\">\n",
      "  <h2 class=\"section-title\"><a href=\"https://movie.douban.com\">电影</a></h2>\n",
      "  \n",
      "  \n",
      "  <div class=\"side-links nav-anon\">\n",
      "      <ul>\n",
      "                          \n",
      "                 <li><a href=\"https://movie.douban.com/nowplaying/\">影讯&amp;购票</a></li>\n",
      "             \n",
      "                 <li class=\"site-nav-bt\">\n",
      "                     <a href=\"https://movie.douban.com/explore\">选电影</a>\n",
      "                     <img style=\"top: -5px; position: relative;\" src=\"https://img3.doubanio.com/pics/new_menu.gif\"/>\n",
      "                 </li>\n",
      "             \n",
      "                 <li><a href=\"https://movie.douban.com/tv/\">电视剧</a></li>\n",
      "             \n",
      "                 <li><a href=\"https://movie.douban.com/chart\">排行榜</a></li>\n",
      "             \n",
      "                 <li><a href=\"https://movie.douban.com/tag/\">分类</a></li>\n",
      "             \n",
      "                 <li><a href=\"https://movie.douban.com/review/best/\">影评</a></li>\n",
      "             \n",
      "                 <li class=\"site-nav-bt\"><a href=\"https://movie.douban.com/trailers\">预告片</a></li>\n",
      "             \n",
      "                 <li><a href=\"https://movie.douban.com/askmatrix/hot_questions/all\">问答</a></li>\n",
      "      \n",
      "      </ul>\n",
      "  </div>\n",
      " \n",
      "  \n",
      "\n",
      "\n",
      "    <div class=\"apps-list\">\n",
      "    <ul>\n",
      "    </ul>\n",
      "    </div>\n",
      "\n",
      "</div>\n",
      "\n",
      "  <div class=\"side\">\n",
      "<div class=\"mod\">\n",
      "\n",
      "\n",
      "    <h2>\n",
      "        影片分类\n",
      "            &nbsp;&middot;&nbsp;&middot;&nbsp;&middot;&nbsp;&middot;&nbsp;&middot;&nbsp;&middot;\n",
      "            <span class=\"pl\">&nbsp;(\n",
      "                \n",
      "                    <a href=\"https://movie.douban.com/tag/?view=type\" target=\"_self\">更多</a>\n",
      "                ) </span>\n",
      "    </h2>\n",
      "\n",
      "<div class=\"tags list\">\n",
      "  <ul>\n",
      "    <li><a href=\"https://movie.douban.com/tag/爱情\">爱情</a></li>\n",
      "    <li><a href=\"https://movie.douban.com/tag/喜剧\">喜剧</a></li>\n",
      "    <li><a href=\"https://movie.douban.com/tag/剧情\">剧情</a></li>\n",
      "    <li><a href=\"https://movie.douban.com/tag/动画\">动画</a></li>\n",
      "    <li><a href=\"https://movie.douban.com/tag/科幻\">科幻</a></li>\n",
      "    <li><a href=\"https://movie.douban.com/tag/动作\">动作</a></li>\n",
      "    <li><a href=\"https://movie.douban.com/tag/经典\">经典</a></li>\n",
      "    <li><a href=\"https://movie.douban.com/tag/悬疑\">悬疑</a></li>\n",
      "    <li><a href=\"https://movie.douban.com/tag/犯罪\">犯罪</a></li>\n",
      "    <li><a href=\"https://movie.douban.com/tag/青春\">青春</a></li>\n",
      "    <li><a href=\"https://movie.douban.com/tag/惊悚\">惊悚</a></li>\n",
      "    <li><a href=\"https://movie.douban.com/tag/文艺\">文艺</a></li>\n",
      "    <li><a href=\"https://movie.douban.com/tag/搞笑\">搞笑</a></li>\n",
      "    <li><a href=\"https://movie.douban.com/tag/纪录片\">纪录片</a></li>\n",
      "    <li><a href=\"https://movie.douban.com/tag/励志\">励志</a></li>\n",
      "    <li><a href=\"https://movie.douban.com/tag/战争\">战争</a></li>\n",
      "    <li><a href=\"https://movie.douban.com/tag/恐怖\">恐怖</a></li>\n",
      "    <li><a href=\"https://movie.douban.com/tag/黑色幽默\">黑色幽默</a></li>\n",
      "    <li><a href=\"https://movie.douban.com/tag/美国\">美国</a></li>\n",
      "    <li><a href=\"https://movie.douban.com/tag/日本\">日本</a></li>\n",
      "    <li><a href=\"https://movie.douban.com/tag/香港\">香港</a></li>\n",
      "    <li><a href=\"https://movie.douban.com/tag/英国\">英国</a></li>\n",
      "    <li><a href=\"https://movie.douban.com/tag/中国\">中国</a></li>\n",
      "    <li><a href=\"https://movie.douban.com/tag/韩国\">韩国</a></li>\n",
      "    <li><a href=\"https://movie.douban.com/tag/法国\">法国</a></li>\n",
      "    <li><a href=\"https://movie.douban.com/tag/台湾\">台湾</a></li>\n",
      "    <li><a href=\"https://movie.douban.com/tag/中国大陆\">中国大陆</a></li>\n",
      "    <li><a href=\"https://movie.douban.com/tag/德国\">德国</a></li>\n",
      "  </ul>\n",
      "</div>\n",
      "</div>\n",
      "\n",
      "<div class=\"mod\">\n",
      "\n",
      "\n",
      "    <h2>\n",
      "        近期热门\n",
      "            &nbsp;&middot;&nbsp;&middot;&nbsp;&middot;&nbsp;&middot;&nbsp;&middot;&nbsp;&middot;\n",
      "            <span class=\"pl\">&nbsp;(\n",
      "                \n",
      "                    <a href=\"https://movie.douban.com/chart\" target=\"_self\">更多</a>\n",
      "                ) </span>\n",
      "    </h2>\n",
      "\n",
      "<div class=\"list1 movie-charts\">\n",
      "  <ol>\n",
      "    <li>\n",
      "    <a href=\"https://movie.douban.com/subject/11584016/\">与神同行</a>\n",
      "    </li>\n",
      "    <li>\n",
      "    <a href=\"https://movie.douban.com/subject/26752852/\">水形物语</a>\n",
      "    </li>\n",
      "    <li>\n",
      "    <a href=\"https://movie.douban.com/subject/26588314/\">伯德小姐</a>\n",
      "    </li>\n",
      "    <li>\n",
      "    <a href=\"https://movie.douban.com/subject/26862829/\">芳华</a>\n",
      "    </li>\n",
      "    <li>\n",
      "    <a href=\"https://movie.douban.com/subject/27059130/\">大佛普拉斯</a>\n",
      "    </li>\n",
      "    <li>\n",
      "    <a href=\"https://movie.douban.com/subject/26942674/\">神秘巨星</a>\n",
      "    </li>\n",
      "    <li>\n",
      "    <a href=\"https://movie.douban.com/subject/26761416/\">至暗时刻</a>\n",
      "    </li>\n",
      "    <li>\n",
      "    <a href=\"https://movie.douban.com/subject/26809592/\">魅影缝匠</a>\n",
      "    </li>\n",
      "    <li>\n",
      "    <a href=\"https://movie.douban.com/subject/5350027/\">妖猫传</a>\n",
      "    </li>\n",
      "    <li>\n",
      "    <a href=\"https://movie.douban.com/subject/26990609/\">华盛顿邮报</a>\n",
      "    </li>\n",
      "  </ol>\n",
      "</div>\n",
      "</div>\n",
      "</div>\n",
      "  <div class=\"main\">\n",
      "\n",
      "\n",
      "    <h2>\n",
      "        正在热映\n",
      "            &nbsp;&middot;&nbsp;&middot;&nbsp;&middot;&nbsp;&middot;&nbsp;&middot;&nbsp;&middot;\n",
      "            <span class=\"pl\">&nbsp;(\n",
      "                \n",
      "                    <a href=\"https://movie.douban.com/showtimes/\" target=\"_self\">更多</a>\n",
      "                ) </span>\n",
      "    </h2>\n",
      "\n",
      "<div class=\"movie-list list\">\n",
      "  <ul>\n",
      "    <li>\n",
      "    <div class=\"pic\">\n",
      "        <a href=\"https://movie.douban.com/subject/26861685/\"><img src=\"https://img3.doubanio.com/f/shire/a1fdee122b95748d81cee426d717c05b5174fe96/pics/blank.gif\" data-origin=\"https://img3.doubanio.com/view/photo/s_ratio_poster/public/p2514175916.jpg\" alt=\"红海行动\" /></a>\n",
      "    </div>\n",
      "    <div class=\"title\">\n",
      "      <a href=\"https://movie.douban.com/subject/26861685/\">红海行动</a>\n",
      "    </div>\n",
      "    <div class=\"rating\">\n",
      "        <span class=\"allstar45\"></span><i>8.5</i>\n",
      "    </div>\n",
      "    <a href=\"https://movie.douban.com/subject/26861685/cinema/\" class=\"bn-link bn-ticket\">选座购票</a>\n",
      "    <li>\n",
      "    <div class=\"pic\">\n",
      "        <a href=\"https://movie.douban.com/subject/26698897/\"><img src=\"https://img3.doubanio.com/f/shire/a1fdee122b95748d81cee426d717c05b5174fe96/pics/blank.gif\" data-origin=\"https://img3.doubanio.com/view/photo/s_ratio_poster/public/p2511355624.jpg\" alt=\"唐人街探案2\" /></a>\n",
      "    </div>\n",
      "    <div class=\"title\">\n",
      "      <a href=\"https://movie.douban.com/subject/26698897/\">唐人街探案2</a>\n",
      "    </div>\n",
      "    <div class=\"rating\">\n",
      "        <span class=\"allstar35\"></span><i>7.1</i>\n",
      "    </div>\n",
      "    <a href=\"https://movie.douban.com/subject/26698897/cinema/\" class=\"bn-link bn-ticket\">选座购票</a>\n",
      "    <li>\n",
      "    <div class=\"pic\">\n",
      "        <a href=\"https://movie.douban.com/subject/26393561/\"><img src=\"https://img3.doubanio.com/f/shire/a1fdee122b95748d81cee426d717c05b5174fe96/pics/blank.gif\" data-origin=\"https://img3.doubanio.com/view/photo/s_ratio_poster/public/p2510956726.jpg\" alt=\"小萝莉的猴神大叔\" /></a>\n",
      "    </div>\n",
      "    <div class=\"title\">\n",
      "      <a href=\"https://movie.douban.com/subject/26393561/\">小萝莉的猴神大...</a>\n",
      "    </div>\n",
      "    <div class=\"rating\">\n",
      "        <span class=\"allstar45\"></span><i>8.6</i>\n",
      "    </div>\n",
      "    <a href=\"https://movie.douban.com/subject/26393561/cinema/\" class=\"bn-link bn-ticket\">选座购票</a>\n",
      "    <li>\n",
      "    <div class=\"pic\">\n",
      "        <a href=\"https://movie.douban.com/subject/26575103/\"><img src=\"https://img3.doubanio.com/f/shire/a1fdee122b95748d81cee426d717c05b5174fe96/pics/blank.gif\" data-origin=\"https://img3.doubanio.com/view/photo/s_ratio_poster/public/p2509643816.jpg\" alt=\"捉妖记2\" /></a>\n",
      "    </div>\n",
      "    <div class=\"title\">\n",
      "      <a href=\"https://movie.douban.com/subject/26575103/\">捉妖记2</a>\n",
      "    </div>\n",
      "    <div class=\"rating\">\n",
      "        <span class=\"allstar25\"></span><i>5.2</i>\n",
      "    </div>\n",
      "    <a href=\"https://movie.douban.com/subject/26575103/cinema/\" class=\"bn-link bn-ticket\">选座购票</a>\n",
      "    <li>\n",
      "    <div class=\"pic\">\n",
      "        <a href=\"https://movie.douban.com/subject/25856453/\"><img src=\"https://img3.doubanio.com/f/shire/a1fdee122b95748d81cee426d717c05b5174fe96/pics/blank.gif\" data-origin=\"https://img1.doubanio.com/view/photo/s_ratio_poster/public/p2514909788.jpg\" alt=\"闺蜜2\" /></a>\n",
      "    </div>\n",
      "    <div class=\"title\">\n",
      "      <a href=\"https://movie.douban.com/subject/25856453/\">闺蜜2</a>\n",
      "    </div>\n",
      "    <div class=\"rating\">\n",
      "        <span class=\"allstar15\"></span><i>2.8</i>\n",
      "    </div>\n",
      "    <a href=\"https://movie.douban.com/subject/25856453/cinema/\" class=\"bn-link bn-ticket\">选座购票</a>\n",
      "    <li>\n",
      "    <div class=\"pic\">\n",
      "        <a href=\"https://movie.douban.com/subject/26649604/\"><img src=\"https://img3.doubanio.com/f/shire/a1fdee122b95748d81cee426d717c05b5174fe96/pics/blank.gif\" data-origin=\"https://img1.doubanio.com/view/photo/s_ratio_poster/public/p2511721149.jpg\" alt=\"比得兔\" /></a>\n",
      "    </div>\n",
      "    <div class=\"title\">\n",
      "      <a href=\"https://movie.douban.com/subject/26649604/\">比得兔</a>\n",
      "    </div>\n",
      "    <div class=\"rating\">\n",
      "        <span class=\"allstar40\"></span><i>7.5</i>\n",
      "    </div>\n",
      "    <a href=\"https://movie.douban.com/subject/26649604/cinema/\" class=\"bn-link bn-ticket\">选座购票</a>\n",
      "    <li>\n",
      "    <div class=\"pic\">\n",
      "        <a href=\"https://movie.douban.com/subject/30152451/\"><img src=\"https://img3.doubanio.com/f/shire/a1fdee122b95748d81cee426d717c05b5174fe96/pics/blank.gif\" data-origin=\"https://img3.doubanio.com/view/photo/s_ratio_poster/public/p2514293556.jpg\" alt=\"厉害了，我的国\" /></a>\n",
      "    </div>\n",
      "    <div class=\"title\">\n",
      "      <a href=\"https://movie.douban.com/subject/30152451/\">厉害了，我的国...</a>\n",
      "    </div>\n",
      "    <div class=\"rating\">\n",
      "        <span class=\"txt-tip\">暂无评分</span>\n",
      "    </div>\n",
      "    <a href=\"https://movie.douban.com/subject/30152451/cinema/\" class=\"bn-link bn-ticket\">选座购票</a>\n",
      "    <li>\n",
      "    <div class=\"pic\">\n",
      "        <a href=\"https://movie.douban.com/subject/25829175/\"><img src=\"https://img3.doubanio.com/f/shire/a1fdee122b95748d81cee426d717c05b5174fe96/pics/blank.gif\" data-origin=\"https://img3.doubanio.com/view/photo/s_ratio_poster/public/p2511375626.jpg\" alt=\"西游记女儿国\" /></a>\n",
      "    </div>\n",
      "    <div class=\"title\">\n",
      "      <a href=\"https://movie.douban.com/subject/25829175/\">西游记女儿国</a>\n",
      "    </div>\n",
      "    <div class=\"rating\">\n",
      "        <span class=\"allstar25\"></span><i>4.7</i>\n",
      "    </div>\n",
      "    <a href=\"https://movie.douban.com/subject/25829175/cinema/\" class=\"bn-link bn-ticket\">选座购票</a>\n",
      "  </ul>\n",
      "</div>\n",
      "</div>\n",
      "  </div>\n",
      "  \n",
      "    <div id=\"dale_anonymous_homepage_movie_bottom\" class=\"extra\"></div>\n",
      "\n",
      "</div>\n",
      "\n",
      "\n",
      "\n",
      "\n",
      "\n",
      "\n",
      "\n",
      "\n",
      "      \n",
      "<div id=\"anony-group\" class=\"section\">\n",
      "  <div class=\"wrapper\">\n",
      "  \n",
      "  \n",
      "<div class=\"sidenav\">\n",
      "  <h2 class=\"section-title\"><a href=\"https://www.douban.com/group/\">小组</a></h2>\n",
      "  \n",
      "  \n",
      "  <div class=\"side-links nav-anon\">\n",
      "      <ul>\n",
      "                          \n",
      "                 <li><a href=\"/group/explore\">精选</a></li>\n",
      "             \n",
      "                 <li><a href=\"/group/explore/culture\">文化</a></li>\n",
      "             \n",
      "                 <li><a href=\"/group/explore/travel\">行摄</a></li>\n",
      "             \n",
      "                 <li><a href=\"/group/explore/ent\">娱乐</a></li>\n",
      "             \n",
      "                 <li><a href=\"/group/explore/fashion\">时尚</a></li>\n",
      "             \n",
      "                 <li><a href=\"/group/explore/life\">生活</a></li>\n",
      "             \n",
      "                 <li><a href=\"/group/explore/tech\">科技</a></li>\n",
      "      \n",
      "      </ul>\n",
      "  </div>\n",
      " \n",
      "  \n",
      "\n",
      "\n",
      "    <div class=\"apps-list\">\n",
      "    <ul>\n",
      "    </ul>\n",
      "    </div>\n",
      "\n",
      "</div>\n",
      "\n",
      "  <div class=\"side\">\n",
      "<div class=\"mod\">\n",
      "\n",
      "    <h2>\n",
      "        小组分类\n",
      "            &nbsp;&middot;&nbsp;&middot;&nbsp;&middot;&nbsp;&middot;&nbsp;&middot;&nbsp;&middot;\n",
      "    </h2>\n",
      "\n",
      "   <div class=\"cate group-cate\">\n",
      "       <ul>\n",
      "       <li class=\"cate-label\"><a href=\"https://www.douban.com/group/explore?tag=兴趣\">兴趣&raquo; </a></li>\n",
      "       <li><a href=\"https://www.douban.com/group/explore?tag=旅行\">旅行</a></li>\n",
      "       <li><a href=\"https://www.douban.com/group/explore?tag=摄影\">摄影</a></li>\n",
      "       <li><a href=\"https://www.douban.com/group/explore?tag=影视\">影视</a></li>\n",
      "       <li><a href=\"https://www.douban.com/group/explore?tag=音乐\">音乐</a></li>\n",
      "       <li><a href=\"https://www.douban.com/group/explore?tag=文学\">文学</a></li>\n",
      "       <li><a href=\"https://www.douban.com/group/explore?tag=游戏\">游戏</a></li>\n",
      "       <li><a href=\"https://www.douban.com/group/explore?tag=动漫\">动漫</a></li>\n",
      "       <li><a href=\"https://www.douban.com/group/explore?tag=运动\">运动</a></li>\n",
      "       <li><a href=\"https://www.douban.com/group/explore?tag=戏曲\">戏曲</a></li>\n",
      "       <li><a href=\"https://www.douban.com/group/explore?tag=桌游\">桌游</a></li>\n",
      "       <li><a href=\"https://www.douban.com/group/explore?tag=怪癖\">怪癖</a></li>\n",
      "       </ul>\n",
      "    </div>\n",
      "   <div class=\"cate group-cate\">\n",
      "       <ul>\n",
      "       <li class=\"cate-label\"><a href=\"https://www.douban.com/group/explore?tag=生活\">生活&raquo; </a></li>\n",
      "       <li><a href=\"https://www.douban.com/group/explore?tag=健康\">健康</a></li>\n",
      "       <li><a href=\"https://www.douban.com/group/explore?tag=美食\">美食</a></li>\n",
      "       <li><a href=\"https://www.douban.com/group/explore?tag=宠物\">宠物</a></li>\n",
      "       <li><a href=\"https://www.douban.com/group/explore?tag=美容\">美容</a></li>\n",
      "       <li><a href=\"https://www.douban.com/group/explore?tag=化妆\">化妆</a></li>\n",
      "       <li><a href=\"https://www.douban.com/group/explore?tag=护肤\">护肤</a></li>\n",
      "       <li><a href=\"https://www.douban.com/group/explore?tag=服饰\">服饰</a></li>\n",
      "       <li><a href=\"https://www.douban.com/group/explore?tag=公益\">公益</a></li>\n",
      "       <li><a href=\"https://www.douban.com/group/explore?tag=家庭\">家庭</a></li>\n",
      "       <li><a href=\"https://www.douban.com/group/explore?tag=育儿\">育儿</a></li>\n",
      "       <li><a href=\"https://www.douban.com/group/explore?tag=汽车\">汽车</a></li>\n",
      "       </ul>\n",
      "    </div>\n",
      "   <div class=\"cate group-cate\">\n",
      "       <ul>\n",
      "       <li class=\"cate-label\"><a href=\"https://www.douban.com/group/explore?tag=购物\">购物&raquo; </a></li>\n",
      "       <li><a href=\"https://www.douban.com/group/explore?tag=淘宝\">淘宝</a></li>\n",
      "       <li><a href=\"https://www.douban.com/group/explore?tag=二手\">二手</a></li>\n",
      "       <li><a href=\"https://www.douban.com/group/explore?tag=团购\">团购</a></li>\n",
      "       <li><a href=\"https://www.douban.com/group/explore?tag=数码\">数码</a></li>\n",
      "       <li><a href=\"https://www.douban.com/group/explore?tag=品牌\">品牌</a></li>\n",
      "       <li><a href=\"https://www.douban.com/group/explore?tag=文具\">文具</a></li>\n",
      "       </ul>\n",
      "    </div>\n",
      "   <div class=\"cate group-cate\">\n",
      "       <ul>\n",
      "       <li class=\"cate-label\"><a href=\"https://www.douban.com/group/explore?tag=社会\">社会&raquo; </a></li>\n",
      "       <li><a href=\"https://www.douban.com/group/explore?tag=求职\">求职</a></li>\n",
      "       <li><a href=\"https://www.douban.com/group/explore?tag=租房\">租房</a></li>\n",
      "       <li><a href=\"https://www.douban.com/group/explore?tag=励志\">励志</a></li>\n",
      "       <li><a href=\"https://www.douban.com/group/explore?tag=留学\">留学</a></li>\n",
      "       <li><a href=\"https://www.douban.com/group/explore?tag=出国\">出国</a></li>\n",
      "       <li><a href=\"https://www.douban.com/group/explore?tag=理财\">理财</a></li>\n",
      "       <li><a href=\"https://www.douban.com/group/explore?tag=传媒\">传媒</a></li>\n",
      "       <li><a href=\"https://www.douban.com/group/explore?tag=创业\">创业</a></li>\n",
      "       <li><a href=\"https://www.douban.com/group/explore?tag=考试\">考试</a></li>\n",
      "       </ul>\n",
      "    </div>\n",
      "   <div class=\"cate group-cate\">\n",
      "       <ul>\n",
      "       <li class=\"cate-label\"><a href=\"https://www.douban.com/group/explore?tag=艺术\">艺术&raquo; </a></li>\n",
      "       <li><a href=\"https://www.douban.com/group/explore?tag=设计\">设计</a></li>\n",
      "       <li><a href=\"https://www.douban.com/group/explore?tag=手工\">手工</a></li>\n",
      "       <li><a href=\"https://www.douban.com/group/explore?tag=展览\">展览</a></li>\n",
      "       <li><a href=\"https://www.douban.com/group/explore?tag=曲艺\">曲艺</a></li>\n",
      "       <li><a href=\"https://www.douban.com/group/explore?tag=舞蹈\">舞蹈</a></li>\n",
      "       <li><a href=\"https://www.douban.com/group/explore?tag=雕塑\">雕塑</a></li>\n",
      "       <li><a href=\"https://www.douban.com/group/explore?tag=纹身\">纹身</a></li>\n",
      "       </ul>\n",
      "    </div>\n",
      "   <div class=\"cate group-cate\">\n",
      "       <ul>\n",
      "       <li class=\"cate-label\"><a href=\"https://www.douban.com/group/explore?tag=学术\">学术&raquo; </a></li>\n",
      "       <li><a href=\"https://www.douban.com/group/explore?tag=人文\">人文</a></li>\n",
      "       <li><a href=\"https://www.douban.com/group/explore?tag=社科\">社科</a></li>\n",
      "       <li><a href=\"https://www.douban.com/group/explore?tag=自然\">自然</a></li>\n",
      "       <li><a href=\"https://www.douban.com/group/explore?tag=建筑\">建筑</a></li>\n",
      "       <li><a href=\"https://www.douban.com/group/explore?tag=国学\">国学</a></li>\n",
      "       <li><a href=\"https://www.douban.com/group/explore?tag=语言\">语言</a></li>\n",
      "       <li><a href=\"https://www.douban.com/group/explore?tag=宗教\">宗教</a></li>\n",
      "       <li><a href=\"https://www.douban.com/group/explore?tag=哲学\">哲学</a></li>\n",
      "       <li><a href=\"https://www.douban.com/group/explore?tag=软件\">软件</a></li>\n",
      "       <li><a href=\"https://www.douban.com/group/explore?tag=硬件\">硬件</a></li>\n",
      "       <li><a href=\"https://www.douban.com/group/explore?tag=互联网\">互联网</a></li>\n",
      "       </ul>\n",
      "    </div>\n",
      "   <div class=\"cate group-cate\">\n",
      "       <ul>\n",
      "       <li class=\"cate-label\"><a href=\"https://www.douban.com/group/explore?tag=情感\">情感&raquo; </a></li>\n",
      "       <li><a href=\"https://www.douban.com/group/explore?tag=恋爱\">恋爱</a></li>\n",
      "       <li><a href=\"https://www.douban.com/group/explore?tag=心情\">心情</a></li>\n",
      "       <li><a href=\"https://www.douban.com/group/explore?tag=心理学\">心理学</a></li>\n",
      "       <li><a href=\"https://www.douban.com/group/explore?tag=星座\">星座</a></li>\n",
      "       <li><a href=\"https://www.douban.com/group/explore?tag=塔罗\">塔罗</a></li>\n",
      "       <li><a href=\"https://www.douban.com/group/explore?tag=LES\">LES</a></li>\n",
      "       <li><a href=\"https://www.douban.com/group/explore?tag=GAY\">GAY</a></li>\n",
      "       </ul>\n",
      "    </div>\n",
      "   <div class=\"cate group-cate\">\n",
      "       <ul>\n",
      "       <li class=\"cate-label\"><a href=\"https://www.douban.com/group/explore?tag=闲聊\">闲聊&raquo; </a></li>\n",
      "       <li><a href=\"https://www.douban.com/group/explore?tag=吐槽\">吐槽</a></li>\n",
      "       <li><a href=\"https://www.douban.com/group/explore?tag=笑话\">笑话</a></li>\n",
      "       <li><a href=\"https://www.douban.com/group/explore?tag=直播\">直播</a></li>\n",
      "       <li><a href=\"https://www.douban.com/group/explore?tag=八卦\">八卦</a></li>\n",
      "       <li><a href=\"https://www.douban.com/group/explore?tag=发泄\">发泄</a></li>\n",
      "       </ul>\n",
      "    </div>\n",
      "</div>\n",
      "</div>\n",
      "  <div class=\"main\">\n",
      "\n",
      "\n",
      "    <h2>\n",
      "        热门小组\n",
      "            &nbsp;&middot;&nbsp;&middot;&nbsp;&middot;&nbsp;&middot;&nbsp;&middot;&nbsp;&middot;\n",
      "            <span class=\"pl\">&nbsp;(\n",
      "                \n",
      "                    <a href=\"https://www.douban.com/group/explore\" target=\"_self\">更多</a>\n",
      "                ) </span>\n",
      "    </h2>\n",
      "\n",
      "<div class=\"group-list list\">\n",
      "  <ul>\n",
      "    <li>\n",
      "    <div class=\"pic\">\n",
      "        <a href=\"https://www.douban.com/group/149062/\"><img src=\"https://img3.doubanio.com/f/shire/a1fdee122b95748d81cee426d717c05b5174fe96/pics/blank.gif\" data-origin=\"https://img1.doubanio.com/icon/g149062-18.jpg\" alt=\"\" width=\"48\" /></a>\n",
      "    </div>\n",
      "    <div class=\"info\">\n",
      "      <div class=\"title\">\n",
      "        <a href=\"https://www.douban.com/group/149062/\">◎变态学英语交流小组◎</a>\n",
      "      </div>\n",
      "      309489 个成员\n",
      "    </div>\n",
      "    <li>\n",
      "    <div class=\"pic\">\n",
      "        <a href=\"https://www.douban.com/group/16533/\"><img src=\"https://img3.doubanio.com/f/shire/a1fdee122b95748d81cee426d717c05b5174fe96/pics/blank.gif\" data-origin=\"https://img3.doubanio.com/icon/g16533-1.jpg\" alt=\"\" width=\"48\" /></a>\n",
      "    </div>\n",
      "    <div class=\"info\">\n",
      "      <div class=\"title\">\n",
      "        <a href=\"https://www.douban.com/group/16533/\">帮助大山里的孩子</a>\n",
      "      </div>\n",
      "      21759 个成员\n",
      "    </div>\n",
      "    <li>\n",
      "    <div class=\"pic\">\n",
      "        <a href=\"https://www.douban.com/group/feixv/\"><img src=\"https://img3.doubanio.com/f/shire/a1fdee122b95748d81cee426d717c05b5174fe96/pics/blank.gif\" data-origin=\"https://img3.doubanio.com/icon/g66112-1.jpg\" alt=\"\" width=\"48\" /></a>\n",
      "    </div>\n",
      "    <div class=\"info\">\n",
      "      <div class=\"title\">\n",
      "        <a href=\"https://www.douban.com/group/feixv/\">北京废墟探险团</a>\n",
      "      </div>\n",
      "      7383 个成员\n",
      "    </div>\n",
      "    <li>\n",
      "    <div class=\"pic\">\n",
      "        <a href=\"https://www.douban.com/group/MandT/\"><img src=\"https://img3.doubanio.com/f/shire/a1fdee122b95748d81cee426d717c05b5174fe96/pics/blank.gif\" data-origin=\"https://img3.doubanio.com/view/group/sqxs/public/470a8fd05763ce4.jpg\" alt=\"\" width=\"48\" /></a>\n",
      "    </div>\n",
      "    <div class=\"info\">\n",
      "      <div class=\"title\">\n",
      "        <a href=\"https://www.douban.com/group/MandT/\">推理翻译</a>\n",
      "      </div>\n",
      "      8728 个成员\n",
      "    </div>\n",
      "    <li>\n",
      "    <div class=\"pic\">\n",
      "        <a href=\"https://www.douban.com/group/chan-cha/\"><img src=\"https://img3.doubanio.com/f/shire/a1fdee122b95748d81cee426d717c05b5174fe96/pics/blank.gif\" data-origin=\"https://img3.doubanio.com/view/group/sqxs/public/93655a778268e44.jpg\" alt=\"\" width=\"48\" /></a>\n",
      "    </div>\n",
      "    <div class=\"info\">\n",
      "      <div class=\"title\">\n",
      "        <a href=\"https://www.douban.com/group/chan-cha/\">好姑娘永垂不朽！</a>\n",
      "      </div>\n",
      "      11027 个成员\n",
      "    </div>\n",
      "    <li>\n",
      "    <div class=\"pic\">\n",
      "        <a href=\"https://www.douban.com/group/13196/\"><img src=\"https://img3.doubanio.com/f/shire/a1fdee122b95748d81cee426d717c05b5174fe96/pics/blank.gif\" data-origin=\"https://img3.doubanio.com/icon/g13196-1.jpg\" alt=\"\" width=\"48\" /></a>\n",
      "    </div>\n",
      "    <div class=\"info\">\n",
      "      <div class=\"title\">\n",
      "        <a href=\"https://www.douban.com/group/13196/\">用自己的光照亮自己  [限量版]</a>\n",
      "      </div>\n",
      "      4746 个成员\n",
      "    </div>\n",
      "    <li>\n",
      "    <div class=\"pic\">\n",
      "        <a href=\"https://www.douban.com/group/393455/\"><img src=\"https://img3.doubanio.com/f/shire/a1fdee122b95748d81cee426d717c05b5174fe96/pics/blank.gif\" data-origin=\"https://img3.doubanio.com/icon/g393455-1.jpg\" alt=\"\" width=\"48\" /></a>\n",
      "    </div>\n",
      "    <div class=\"info\">\n",
      "      <div class=\"title\">\n",
      "        <a href=\"https://www.douban.com/group/393455/\">帮友邻找对象小组</a>\n",
      "      </div>\n",
      "      23654 个成员\n",
      "    </div>\n",
      "    <li>\n",
      "    <div class=\"pic\">\n",
      "        <a href=\"https://www.douban.com/group/119078/\"><img src=\"https://img3.doubanio.com/f/shire/a1fdee122b95748d81cee426d717c05b5174fe96/pics/blank.gif\" data-origin=\"https://img3.doubanio.com/view/group/sqxs/public/d7d7baa1896e53f.jpg\" alt=\"\" width=\"48\" /></a>\n",
      "    </div>\n",
      "    <div class=\"info\">\n",
      "      <div class=\"title\">\n",
      "        <a href=\"https://www.douban.com/group/119078/\">昨晚你做梦了吗  *  *！~</a>\n",
      "      </div>\n",
      "      1751 个成员\n",
      "    </div>\n",
      "    <li>\n",
      "    <div class=\"pic\">\n",
      "        <a href=\"https://www.douban.com/group/Coursera-er/\"><img src=\"https://img3.doubanio.com/f/shire/a1fdee122b95748d81cee426d717c05b5174fe96/pics/blank.gif\" data-origin=\"https://img3.doubanio.com/view/group/sqxs/public/89335c9261adcb0.jpg\" alt=\"\" width=\"48\" /></a>\n",
      "    </div>\n",
      "    <div class=\"info\">\n",
      "      <div class=\"title\">\n",
      "        <a href=\"https://www.douban.com/group/Coursera-er/\">Coursera Learning Platform</a>\n",
      "      </div>\n",
      "      21825 个成员\n",
      "    </div>\n",
      "    <li>\n",
      "    <div class=\"pic\">\n",
      "        <a href=\"https://www.douban.com/group/cuthair/\"><img src=\"https://img3.doubanio.com/f/shire/a1fdee122b95748d81cee426d717c05b5174fe96/pics/blank.gif\" data-origin=\"https://img3.doubanio.com/icon/g109498-1.jpg\" alt=\"\" width=\"48\" /></a>\n",
      "    </div>\n",
      "    <div class=\"info\">\n",
      "      <div class=\"title\">\n",
      "        <a href=\"https://www.douban.com/group/cuthair/\">自己给自己剪头发</a>\n",
      "      </div>\n",
      "      32988 个成员\n",
      "    </div>\n",
      "    <li>\n",
      "    <div class=\"pic\">\n",
      "        <a href=\"https://www.douban.com/group/badteeth/\"><img src=\"https://img3.doubanio.com/f/shire/a1fdee122b95748d81cee426d717c05b5174fe96/pics/blank.gif\" data-origin=\"https://img3.doubanio.com/view/group/sqxs/public/e2db5ea77d1e7d4.jpg\" alt=\"\" width=\"48\" /></a>\n",
      "    </div>\n",
      "    <div class=\"info\">\n",
      "      <div class=\"title\">\n",
      "        <a href=\"https://www.douban.com/group/badteeth/\">我们都有一口烂牙</a>\n",
      "      </div>\n",
      "      19161 个成员\n",
      "    </div>\n",
      "    <li>\n",
      "    <div class=\"pic\">\n",
      "        <a href=\"https://www.douban.com/group/behavior/\"><img src=\"https://img3.doubanio.com/f/shire/a1fdee122b95748d81cee426d717c05b5174fe96/pics/blank.gif\" data-origin=\"https://img3.doubanio.com/view/group/sqxs/public/38f7bd223f79c2f.jpg\" alt=\"\" width=\"48\" /></a>\n",
      "    </div>\n",
      "    <div class=\"info\">\n",
      "      <div class=\"title\">\n",
      "        <a href=\"https://www.douban.com/group/behavior/\">如何与众怪兽相处</a>\n",
      "      </div>\n",
      "      14672 个成员\n",
      "    </div>\n",
      "  </ul>\n",
      "</div>\n",
      "</div>\n",
      "  </div>\n",
      "  \n",
      "</div>\n",
      "\n",
      "\n",
      "\n",
      "\n",
      "\n",
      "\n",
      "\n",
      "\n",
      "      \n",
      "<div id=\"anony-book\" class=\"section\">\n",
      "  <div class=\"wrapper\">\n",
      "  \n",
      "  \n",
      "<div class=\"sidenav\">\n",
      "  <div class=\"mod\">\n",
      "  <h2 class=\"section-title\"><a href=\"https://book.douban.com\">读书</a></h2>\n",
      "  \n",
      "  \n",
      "  <div class=\"side-links nav-anon\">\n",
      "      <ul>\n",
      "                                                    \n",
      "                 <li><a href=\"https://book.douban.com/tag/\">分类浏览</a></li>\n",
      "             \n",
      "                <li>\n",
      "                    <a target=\"_blank\" href=\"https://read.douban.com?dcn=entry&amp;dcs=book-nav&amp;dcm=douban\">阅读</a>\n",
      "                    <img style=\"top: 4px; position: absolute;\" src=\"https://img3.doubanio.com/pics/new_menu.gif\"/>\n",
      "                </li>\n",
      "             \n",
      "                 <li><a href=\"https://book.douban.com/writers/\">作者</a></li>\n",
      "             \n",
      "                 <li><a href=\"https://book.douban.com/review/best/\">书评</a></li>\n",
      "      \n",
      "          <li class=\"site-nav-prom\">\n",
      "              <a class=\"lnk-buy\" href=\"https://book.douban.com/cart\">\n",
      "                  <em>购书单</em>\n",
      "              </a>\n",
      "          </li>\n",
      "      </ul>\n",
      "  </div>\n",
      " \n",
      "  </div>\n",
      "\n",
      "  \n",
      "\n",
      "\n",
      "    <div class=\"apps-list\">\n",
      "    <ul>\n",
      "    <li><a href=\"https://read.douban.com/app/\" class=\"lnk-icon\"><i class=\"app-icon app-icon-read\"></i></a><a href=\"https://read.douban.com/app/\">豆瓣阅读</a></li>\n",
      "    </ul>\n",
      "    </div>\n",
      "\n",
      "</div>\n",
      "\n",
      "  <div class=\"side\">\n",
      "\n",
      "<div class=\"mod\">\n",
      "\n",
      "    <h2>\n",
      "        热门标签\n",
      "            &nbsp;&middot;&nbsp;&middot;&nbsp;&middot;&nbsp;&middot;&nbsp;&middot;&nbsp;&middot;\n",
      "            <span class=\"pl\">&nbsp;(\n",
      "                \n",
      "                    <a href=\"https://book.douban.com/tag/?view=type\" target=\"_self\">更多</a>\n",
      "                ) </span>\n",
      "    </h2>\n",
      "\n",
      "<div class=\"book-cate-mod\">\n",
      "<div class=\"cate book-cate\">\n",
      "  <ul>\n",
      "  <li class=\"cate-label\">[文学]</li>\n",
      "  <li><a href=\"https://book.douban.com/tag/小说\">小说</a></li>\n",
      "  <li><a href=\"https://book.douban.com/tag/随笔\">随笔</a></li>\n",
      "  <li><a href=\"https://book.douban.com/tag/日本文学\">日本文学</a></li>\n",
      "  <li><a href=\"https://book.douban.com/tag/散文\">散文</a></li>\n",
      "  <li><a href=\"https://book.douban.com/tag/诗歌\">诗歌</a></li>\n",
      "  <li><a href=\"https://book.douban.com/tag/童话\">童话</a></li>\n",
      "  <li><a href=\"https://book.douban.com/tag/名著\">名著</a></li>\n",
      "  <li><a href=\"https://book.douban.com/tag/港台\">港台</a></li>\n",
      "  <li><a href=\"https://book.douban.com/tag/?view=type#文学\">更多</a></li>\n",
      "  </ul>\n",
      "</div>\n",
      "<div class=\"cate book-cate\">\n",
      "  <ul>\n",
      "  <li class=\"cate-label\">[流行]</li>\n",
      "  <li><a href=\"https://book.douban.com/tag/漫画\">漫画</a></li>\n",
      "  <li><a href=\"https://book.douban.com/tag/推理\">推理</a></li>\n",
      "  <li><a href=\"https://book.douban.com/tag/绘本\">绘本</a></li>\n",
      "  <li><a href=\"https://book.douban.com/tag/青春\">青春</a></li>\n",
      "  <li><a href=\"https://book.douban.com/tag/科幻\">科幻</a></li>\n",
      "  <li><a href=\"https://book.douban.com/tag/言情\">言情</a></li>\n",
      "  <li><a href=\"https://book.douban.com/tag/奇幻\">奇幻</a></li>\n",
      "  <li><a href=\"https://book.douban.com/tag/武侠\">武侠</a></li>\n",
      "  <li><a href=\"https://book.douban.com/tag/?view=type#流行\">更多</a></li>\n",
      "  </ul>\n",
      "</div>\n",
      "<div class=\"cate book-cate\">\n",
      "  <ul>\n",
      "  <li class=\"cate-label\">[文化]</li>\n",
      "  <li><a href=\"https://book.douban.com/tag/历史\">历史</a></li>\n",
      "  <li><a href=\"https://book.douban.com/tag/哲学\">哲学</a></li>\n",
      "  <li><a href=\"https://book.douban.com/tag/传记\">传记</a></li>\n",
      "  <li><a href=\"https://book.douban.com/tag/设计\">设计</a></li>\n",
      "  <li><a href=\"https://book.douban.com/tag/建筑\">建筑</a></li>\n",
      "  <li><a href=\"https://book.douban.com/tag/电影\">电影</a></li>\n",
      "  <li><a href=\"https://book.douban.com/tag/回忆录\">回忆录</a></li>\n",
      "  <li><a href=\"https://book.douban.com/tag/音乐\">音乐</a></li>\n",
      "  <li><a href=\"https://book.douban.com/tag/?view=type#文化\">更多</a></li>\n",
      "  </ul>\n",
      "</div>\n",
      "<div class=\"cate book-cate\">\n",
      "  <ul>\n",
      "  <li class=\"cate-label\">[生活]</li>\n",
      "  <li><a href=\"https://book.douban.com/tag/旅行\">旅行</a></li>\n",
      "  <li><a href=\"https://book.douban.com/tag/励志\">励志</a></li>\n",
      "  <li><a href=\"https://book.douban.com/tag/职场\">职场</a></li>\n",
      "  <li><a href=\"https://book.douban.com/tag/教育\">教育</a></li>\n",
      "  <li><a href=\"https://book.douban.com/tag/美食\">美食</a></li>\n",
      "  <li><a href=\"https://book.douban.com/tag/灵修\">灵修</a></li>\n",
      "  <li><a href=\"https://book.douban.com/tag/健康\">健康</a></li>\n",
      "  <li><a href=\"https://book.douban.com/tag/家居\">家居</a></li>\n",
      "  <li><a href=\"https://book.douban.com/tag/?view=type#生活\">更多</a></li>\n",
      "  </ul>\n",
      "</div>\n",
      "<div class=\"cate book-cate\">\n",
      "  <ul>\n",
      "  <li class=\"cate-label\">[经管]</li>\n",
      "  <li><a href=\"https://book.douban.com/tag/经济学\">经济学</a></li>\n",
      "  <li><a href=\"https://book.douban.com/tag/管理\">管理</a></li>\n",
      "  <li><a href=\"https://book.douban.com/tag/商业\">商业</a></li>\n",
      "  <li><a href=\"https://book.douban.com/tag/金融\">金融</a></li>\n",
      "  <li><a href=\"https://book.douban.com/tag/营销\">营销</a></li>\n",
      "  <li><a href=\"https://book.douban.com/tag/理财\">理财</a></li>\n",
      "  <li><a href=\"https://book.douban.com/tag/股票\">股票</a></li>\n",
      "  <li><a href=\"https://book.douban.com/tag/企业史\">企业史</a></li>\n",
      "  <li><a href=\"https://book.douban.com/tag/?view=type#经管\">更多</a></li>\n",
      "  </ul>\n",
      "</div>\n",
      "<div class=\"cate book-cate\">\n",
      "  <ul>\n",
      "  <li class=\"cate-label\">[科技]</li>\n",
      "  <li><a href=\"https://book.douban.com/tag/科普\">科普</a></li>\n",
      "  <li><a href=\"https://book.douban.com/tag/互联网\">互联网</a></li>\n",
      "  <li><a href=\"https://book.douban.com/tag/编程\">编程</a></li>\n",
      "  <li><a href=\"https://book.douban.com/tag/交互设计\">交互设计</a></li>\n",
      "  <li><a href=\"https://book.douban.com/tag/算法\">算法</a></li>\n",
      "  <li><a href=\"https://book.douban.com/tag/通信\">通信</a></li>\n",
      "  <li><a href=\"https://book.douban.com/tag/神经网络\">神经网络</a></li>\n",
      "  <li><a href=\"https://book.douban.com/tag/?view=type#科技\">更多</a></li>\n",
      "  </ul>\n",
      "</div>\n",
      "</div>\n",
      "</div>\n",
      "</div>\n",
      "  <div class=\"main\">\n",
      "\n",
      "<div class=\"mod\">\n",
      "\n",
      "    <h2>\n",
      "        新书速递\n",
      "            &nbsp;&middot;&nbsp;&middot;&nbsp;&middot;&nbsp;&middot;&nbsp;&middot;&nbsp;&middot;\n",
      "            <span class=\"pl\">&nbsp;(\n",
      "                \n",
      "                    <a href=\"https://book.douban.com/latest\" target=\"_self\">更多</a>\n",
      "                ) </span>\n",
      "    </h2>\n",
      "\n",
      "<div class=\"book-list list\">\n",
      "  <ul>\n",
      "      <li>\n",
      "      <div class=\"pic\">\n",
      "          <a href=\"https://book.douban.com/subject/27156021/\"><img src=\"https://img3.doubanio.com/f/shire/a1fdee122b95748d81cee426d717c05b5174fe96/pics/blank.gif\" data-origin=\"https://img1.doubanio.com/mpic/s29702588.jpg\" alt=\"十二怒汉\" /></a>\n",
      "      </div>\n",
      "      <div class=\"title\">\n",
      "        <a href=\"https://book.douban.com/subject/27156021/\" >十二怒汉</a>\n",
      "      </div>\n",
      "      <div class=\"author\">〔美〕雷金纳德...</div>\n",
      "      <a href=\"https://read.douban.com/reader/ebook/45661099/\" target=\"_blank\" class=\"bn-link\">免费试读</a>\n",
      "      <li>\n",
      "      <div class=\"pic\">\n",
      "          <a href=\"https://book.douban.com/subject/27175514/\"><img src=\"https://img3.doubanio.com/f/shire/a1fdee122b95748d81cee426d717c05b5174fe96/pics/blank.gif\" data-origin=\"https://img3.doubanio.com/mpic/s29668376.jpg\" alt=\"复明症漫记\" /></a>\n",
      "      </div>\n",
      "      <div class=\"title\">\n",
      "        <a href=\"https://book.douban.com/subject/27175514/\" >复明症漫记</a>\n",
      "      </div>\n",
      "      <div class=\"author\">〔葡〕若泽·萨...</div>\n",
      "      <a href=\"https://read.douban.com/reader/ebook/46108596/\" target=\"_blank\" class=\"bn-link\">免费试读</a>\n",
      "      <li>\n",
      "      <div class=\"pic\">\n",
      "          <a href=\"https://book.douban.com/subject/27131100/\"><img src=\"https://img3.doubanio.com/f/shire/a1fdee122b95748d81cee426d717c05b5174fe96/pics/blank.gif\" data-origin=\"https://img3.doubanio.com/mpic/s29651751.jpg\" alt=\"小王子的领悟\" /></a>\n",
      "      </div>\n",
      "      <div class=\"title\">\n",
      "        <a href=\"https://book.douban.com/subject/27131100/\" >小王子的领悟</a>\n",
      "      </div>\n",
      "      <div class=\"author\">周保松</div>\n",
      "      <a href=\"https://read.douban.com/reader/ebook/45900448/\" target=\"_blank\" class=\"bn-link\">免费试读</a>\n",
      "      <li>\n",
      "      <div class=\"pic\">\n",
      "          <a href=\"https://book.douban.com/subject/27622006/\"><img src=\"https://img3.doubanio.com/f/shire/a1fdee122b95748d81cee426d717c05b5174fe96/pics/blank.gif\" data-origin=\"https://img1.doubanio.com/mpic/s29700059.jpg\" alt=\"投资中不简单的事\" /></a>\n",
      "      </div>\n",
      "      <div class=\"title\">\n",
      "        <a href=\"https://book.douban.com/subject/27622006/\" >投资中不简单的...</a>\n",
      "      </div>\n",
      "      <div class=\"author\">邱国鹭 等</div>\n",
      "      <a href=\"https://read.douban.com/reader/ebook/45709396/\" target=\"_blank\" class=\"bn-link\">免费试读</a>\n",
      "  </ul>\n",
      "</div>\n",
      "</div>\n",
      "\n",
      "<div class=\"mod\">\n",
      "\n",
      "    <h2>\n",
      "        原创数字作品\n",
      "            &nbsp;&middot;&nbsp;&middot;&nbsp;&middot;&nbsp;&middot;&nbsp;&middot;&nbsp;&middot;\n",
      "            <span class=\"pl\">&nbsp;(\n",
      "                \n",
      "                    <a href=\"https://read.douban.com/category/fiction?sort=top&amp;cat=article\" target=\"_self\">更多</a>\n",
      "                ) </span>\n",
      "    </h2>\n",
      "\n",
      "<div class=\"book-list list\">\n",
      "  <ul>\n",
      "    <li>\n",
      "    <div class=\"pic\">\n",
      "        <a href=\"https://read.douban.com/ebook/44341972\" target=\"_blank\"><img src=\"https://img3.doubanio.com/f/shire/a1fdee122b95748d81cee426d717c05b5174fe96/pics/blank.gif\" data-origin=\"https://img3.doubanio.com/view/ark_article_cover/large/public/44341972.jpg?v=1514538913.0\" alt=\"我三十八岁的做作\" /></a>\n",
      "    </div>\n",
      "    <div class=\"title\">\n",
      "      <a href=\"https://read.douban.com/ebook/44341972\" target=\"_blank\">我三十八岁的做...</a>\n",
      "    </div>\n",
      "    <div class=\"author\">李泊文</div>\n",
      "    <div class=\"price\">\n",
      "        0.10元\n",
      "    </div>\n",
      "    <a href=\"https://read.douban.com/reader/ebook/44341972/\" target=\"_blank\" class=\"bn-link\">免费试读</a>\n",
      "    <li>\n",
      "    <div class=\"pic\">\n",
      "        <a href=\"https://read.douban.com/ebook/33097190\" target=\"_blank\"><img src=\"https://img3.doubanio.com/f/shire/a1fdee122b95748d81cee426d717c05b5174fe96/pics/blank.gif\" data-origin=\"https://img3.doubanio.com/view/ark_article_cover/large/public/33097190.jpg?v=1517553692.0\" alt=\"幸福将至\" /></a>\n",
      "    </div>\n",
      "    <div class=\"title\">\n",
      "      <a href=\"https://read.douban.com/ebook/33097190\" target=\"_blank\">幸福将至</a>\n",
      "    </div>\n",
      "    <div class=\"author\">邬志敏</div>\n",
      "    <div class=\"price\">\n",
      "        2.99元\n",
      "    </div>\n",
      "    <a href=\"https://read.douban.com/reader/ebook/33097190/\" target=\"_blank\" class=\"bn-link\">免费试读</a>\n",
      "    <li>\n",
      "    <div class=\"pic\">\n",
      "        <a href=\"https://read.douban.com/ebook/44087216\" target=\"_blank\"><img src=\"https://img3.doubanio.com/f/shire/a1fdee122b95748d81cee426d717c05b5174fe96/pics/blank.gif\" data-origin=\"https://img3.doubanio.com/view/ark_article_cover/large/public/44087216.jpg?v=1514538996.0\" alt=\"天涯共此时（上）\" /></a>\n",
      "    </div>\n",
      "    <div class=\"title\">\n",
      "      <a href=\"https://read.douban.com/ebook/44087216\" target=\"_blank\">天涯共此时（上...</a>\n",
      "    </div>\n",
      "    <div class=\"author\">孙宇</div>\n",
      "    <div class=\"price\">\n",
      "        5.99元\n",
      "    </div>\n",
      "    <a href=\"https://read.douban.com/reader/ebook/44087216/\" target=\"_blank\" class=\"bn-link\">免费试读</a>\n",
      "    <li>\n",
      "    <div class=\"pic\">\n",
      "        <a href=\"https://read.douban.com/ebook/42697639\" target=\"_blank\"><img src=\"https://img3.doubanio.com/f/shire/a1fdee122b95748d81cee426d717c05b5174fe96/pics/blank.gif\" data-origin=\"https://img1.doubanio.com/view/ark_article_cover/large/public/42697639.jpg?v=1515742688.0\" alt=\"我的南唐\" /></a>\n",
      "    </div>\n",
      "    <div class=\"title\">\n",
      "      <a href=\"https://read.douban.com/ebook/42697639\" target=\"_blank\">我的南唐</a>\n",
      "    </div>\n",
      "    <div class=\"author\">桃溪洞主</div>\n",
      "    <div class=\"price\">\n",
      "        3.99元\n",
      "    </div>\n",
      "    <a href=\"https://read.douban.com/reader/ebook/42697639/\" target=\"_blank\" class=\"bn-link\">免费试读</a>\n",
      "  </ul>\n",
      "</div>\n",
      "</div>\n",
      "</div>\n",
      "  </div>\n",
      "  \n",
      "</div>\n",
      "\n",
      "\n",
      "\n",
      "\n",
      "\n",
      "\n",
      "\n",
      "\n",
      "      \n",
      "<div id=\"anony-music\" class=\"section\">\n",
      "  <div class=\"wrapper\">\n",
      "  \n",
      "  \n",
      "  <div class=\"sidenav\">\n",
      "    <h2 class=\"section-title\"><a href=\"https://music.douban.com\">音乐</a></h2>\n",
      "    \n",
      "  \n",
      "  <div class=\"side-links nav-anon\">\n",
      "      <ul>\n",
      "                          \n",
      "                 <li><a href=\"https://music.douban.com/artists/\">音乐人</a></li>\n",
      "             \n",
      "                 <li><a href=\"https://www.douban.com/wetware/\">潮潮豆瓣音乐周</a></li>\n",
      "             \n",
      "                 <li><a href=\"https://music.douban.com/artists/royalty/\">金羊毛计划</a></li>\n",
      "             \n",
      "                 <li><a href=\"https://music.douban.com/topics/\">专题</a></li>\n",
      "             \n",
      "                 <li><a href=\"https://music.douban.com/chart\">排行榜</a></li>\n",
      "             \n",
      "                 <li><a href=\"https://music.douban.com/tag/\">分类浏览</a></li>\n",
      "             \n",
      "                 <li><a href=\"https://music.douban.com/review/latest/\">乐评</a></li>\n",
      "             \n",
      "                 <li><a href=\"https://douban.fm/?from_=music_nav\">豆瓣FM</a></li>\n",
      "             \n",
      "                 <li><a href=\"https://douban.fm/explore/songlists/\">歌单</a></li>\n",
      "             \n",
      "                 <li><a href=\"https://artist.douban.com/abilu/\">阿比鹿音乐奖</a></li>\n",
      "      \n",
      "      </ul>\n",
      "  </div>\n",
      "\n",
      "    \n",
      "\n",
      "\n",
      "    <div class=\"apps-list\">\n",
      "    <ul>\n",
      "    <li><a href=\"https://douban.fm/app?from_=shire_anonymous_home\" class=\"lnk-icon\"><i class=\"app-icon app-icon-fm\"></i></a><a href=\"https://douban.fm/app?from_=shire_anonymous_home\">豆瓣FM</a></li>\n",
      "    <li><a href=\"https://artist.douban.com/app\" class=\"lnk-icon\"><i class=\"app-icon app-icon-artists\"></i></a><a href=\"https://artist.douban.com/app\">豆瓣音乐人</a></li>\n",
      "    </ul>\n",
      "    </div>\n",
      "\n",
      "  </div>\n",
      "\n",
      "  <div class=\"side\">\n",
      "  <div class=\"mod\">\n",
      "    \n",
      "    \n",
      "    <h2>\n",
      "        本周流行音乐人\n",
      "            &nbsp;&middot;&nbsp;&middot;&nbsp;&middot;&nbsp;&middot;&nbsp;&middot;&nbsp;&middot;\n",
      "            <span class=\"pl\">&nbsp;(\n",
      "                \n",
      "                    <a href=\"https://music.douban.com/artists/\" target=\"_self\">更多</a>\n",
      "                ) </span>\n",
      "    </h2>\n",
      "\n",
      "    <div class=\"list1 artist-charts\">\n",
      "      <ul>\n",
      "          <li>\n",
      "            <span class=\"num\">1.</span>\n",
      "            <div class=\"pic artist-song-play\" data-sids=\"[&#34;721211&#34;, &#34;96645&#34;, &#34;70443&#34;]\">\n",
      "              <a href=\"https://site.douban.com/baishui/\"><img src=\"https://img3.doubanio.com/f/shire/a1fdee122b95748d81cee426d717c05b5174fe96/pics/blank.gif\" data-origin=\"https://img3.doubanio.com/view/site/small/public/1aa014ef81b271d.jpg\" width=\"48\"></a>\n",
      "              <i class=\"icon icon-bg\"></i>\n",
      "              <i class=\"icon icon-stat icon-play\"></i>\n",
      "            </div>\n",
      "            <div class=\"content\">\n",
      "              <a href=\"https://site.douban.com/baishui/\">白水</a>\n",
      "              <div class=\"desc\">\n",
      "                流派: 原声 Soundtrack\n",
      "                <br>27780人关注\n",
      "              </div>\n",
      "            </div>\n",
      "          </li>\n",
      "          <li>\n",
      "            <span class=\"num\">2.</span>\n",
      "            <div class=\"pic artist-song-play\" data-sids=\"[&#34;721288&#34;, &#34;483220&#34;, &#34;441770&#34;]\">\n",
      "              <a href=\"https://site.douban.com/faraway/\"><img src=\"https://img3.doubanio.com/f/shire/a1fdee122b95748d81cee426d717c05b5174fe96/pics/blank.gif\" data-origin=\"https://img1.doubanio.com/view/site/small/public/78099390cb9f758.jpg\" width=\"48\"></a>\n",
      "              <i class=\"icon icon-bg\"></i>\n",
      "              <i class=\"icon icon-stat icon-play\"></i>\n",
      "            </div>\n",
      "            <div class=\"content\">\n",
      "              <a href=\"https://site.douban.com/faraway/\">边远</a>\n",
      "              <div class=\"desc\">\n",
      "                流派: 世界音乐 World\n",
      "                <br>3095人关注\n",
      "              </div>\n",
      "            </div>\n",
      "          </li>\n",
      "          <li>\n",
      "            <span class=\"num\">3.</span>\n",
      "            <div class=\"pic artist-song-play\" data-sids=\"[&#34;721168&#34;, &#34;335968&#34;, &#34;483&#34;]\">\n",
      "              <a href=\"https://site.douban.com/tiaogezi/\"><img src=\"https://img3.doubanio.com/f/shire/a1fdee122b95748d81cee426d717c05b5174fe96/pics/blank.gif\" data-origin=\"https://img3.doubanio.com/view/site/small/public/7e7752822836a02.jpg\" width=\"48\"></a>\n",
      "              <i class=\"icon icon-bg\"></i>\n",
      "              <i class=\"icon icon-stat icon-play\"></i>\n",
      "            </div>\n",
      "            <div class=\"content\">\n",
      "              <a href=\"https://site.douban.com/tiaogezi/\">跳格子</a>\n",
      "              <div class=\"desc\">\n",
      "                流派: 民谣 Folk\n",
      "                <br>1803人关注\n",
      "              </div>\n",
      "            </div>\n",
      "          </li>\n",
      "          <li>\n",
      "            <span class=\"num\">4.</span>\n",
      "            <div class=\"pic artist-song-play\" data-sids=\"[&#34;720793&#34;, &#34;315253&#34;, &#34;598441&#34;]\">\n",
      "              <a href=\"https://site.douban.com/eddie/\"><img src=\"https://img3.doubanio.com/f/shire/a1fdee122b95748d81cee426d717c05b5174fe96/pics/blank.gif\" data-origin=\"https://img3.doubanio.com/view/site/small/public/ee7470c5e4ddca0.jpg\" width=\"48\"></a>\n",
      "              <i class=\"icon icon-bg\"></i>\n",
      "              <i class=\"icon icon-stat icon-play\"></i>\n",
      "            </div>\n",
      "            <div class=\"content\">\n",
      "              <a href=\"https://site.douban.com/eddie/\">Eddie.Beatz</a>\n",
      "              <div class=\"desc\">\n",
      "                流派: 说唱 Rap\n",
      "                <br>5888人关注\n",
      "              </div>\n",
      "            </div>\n",
      "          </li>\n",
      "          <li>\n",
      "            <span class=\"num\">5.</span>\n",
      "            <div class=\"pic artist-song-play\" data-sids=\"[&#34;720511&#34;, &#34;661670&#34;, &#34;663513&#34;]\">\n",
      "              <a href=\"https://site.douban.com/dahe/\"><img src=\"https://img3.doubanio.com/f/shire/a1fdee122b95748d81cee426d717c05b5174fe96/pics/blank.gif\" data-origin=\"https://img3.doubanio.com/view/site/small/public/dc1861ffe02119d.jpg\" width=\"48\"></a>\n",
      "              <i class=\"icon icon-bg\"></i>\n",
      "              <i class=\"icon icon-stat icon-play\"></i>\n",
      "            </div>\n",
      "            <div class=\"content\">\n",
      "              <a href=\"https://site.douban.com/dahe/\">何大河</a>\n",
      "              <div class=\"desc\">\n",
      "                流派: 民谣 Folk\n",
      "                <br>2262人关注\n",
      "              </div>\n",
      "            </div>\n",
      "          </li>\n",
      "      </ul>\n",
      "    </div>\n",
      "  </div>\n",
      "</div>\n",
      "  <div class=\"main\">\n",
      "\n",
      "  \n",
      "    \n",
      "    <h2>\n",
      "        豆瓣新碟榜\n",
      "            &nbsp;&middot;&nbsp;&middot;&nbsp;&middot;&nbsp;&middot;&nbsp;&middot;&nbsp;&middot;\n",
      "            <span class=\"pl\">&nbsp;(\n",
      "                \n",
      "                    <a href=\"https://music.douban.com#new1\" target=\"_self\">更多</a>\n",
      "                ) </span>\n",
      "    </h2>\n",
      "\n",
      "    <div class=\"album-list list\">\n",
      "      <ul>\n",
      "          <li>\n",
      "            <div class=\"pic\">\n",
      "              <a href=\"https://music.douban.com/subject/27613392/\">\n",
      "                <img src=\"https://img3.doubanio.com/f/shire/a1fdee122b95748d81cee426d717c05b5174fe96/pics/blank.gif\" data-origin=\"https://img1.doubanio.com/view/subject/s/public/s29649408.jpg\" alt=\"蔡依林Play世界巡迴演唱會 LIVE DVD\" />\n",
      "              </a>\n",
      "            </div>\n",
      "            <div class=\"title\">\n",
      "              1. <a href=\"https://music.douban.com/subject/27613392/\">蔡依林Play世界巡迴演唱會 LIVE DVD</a>\n",
      "            </div>\n",
      "            <div class=\"artist\">\n",
      "              <a href=\"\">蔡依林</a>\n",
      "            </div>\n",
      "            <div class=\"rating\">\n",
      "              <span class=\"allstar45\"></span><i>8.8</i>\n",
      "            </div>\n",
      "          </li>\n",
      "          <li>\n",
      "            <div class=\"pic\">\n",
      "              <a href=\"https://music.douban.com/subject/30155090/\">\n",
      "                <img src=\"https://img3.doubanio.com/f/shire/a1fdee122b95748d81cee426d717c05b5174fe96/pics/blank.gif\" data-origin=\"https://img3.doubanio.com/view/subject/s/public/s29702334.jpg\" alt=\"儿童乐园\" />\n",
      "              </a>\n",
      "            </div>\n",
      "            <div class=\"title\">\n",
      "              2. <a href=\"https://music.douban.com/subject/30155090/\">儿童乐园</a>\n",
      "            </div>\n",
      "            <div class=\"artist\">\n",
      "              <a href=\"\">白水</a>\n",
      "            </div>\n",
      "            <div class=\"rating\">\n",
      "              <span class=\"allstar40\"></span><i>7.5</i>\n",
      "            </div>\n",
      "          </li>\n",
      "          <li>\n",
      "            <div class=\"pic\">\n",
      "              <a href=\"https://music.douban.com/subject/30123693/\">\n",
      "                <img src=\"https://img3.doubanio.com/f/shire/a1fdee122b95748d81cee426d717c05b5174fe96/pics/blank.gif\" data-origin=\"https://img3.doubanio.com/view/subject/s/public/s29674554.jpg\" alt=\"一二三, 三二一\" />\n",
      "              </a>\n",
      "            </div>\n",
      "            <div class=\"title\">\n",
      "              3. <a href=\"https://music.douban.com/subject/30123693/\">一二三, 三二一</a>\n",
      "            </div>\n",
      "            <div class=\"artist\">\n",
      "              <a href=\"\">杨千嬅</a>\n",
      "            </div>\n",
      "            <div class=\"rating\">\n",
      "              <span class=\"allstar40\"></span><i>8.2</i>\n",
      "            </div>\n",
      "          </li>\n",
      "          <li>\n",
      "            <div class=\"pic\">\n",
      "              <a href=\"https://music.douban.com/subject/30119109/\">\n",
      "                <img src=\"https://img3.doubanio.com/f/shire/a1fdee122b95748d81cee426d717c05b5174fe96/pics/blank.gif\" data-origin=\"https://img1.doubanio.com/view/subject/s/public/s29673188.jpg\" alt=\"兵马司十周年\" />\n",
      "              </a>\n",
      "            </div>\n",
      "            <div class=\"title\">\n",
      "              4. <a href=\"https://music.douban.com/subject/30119109/\">兵马司十周年</a>\n",
      "            </div>\n",
      "            <div class=\"artist\">\n",
      "              <a href=\"\">群星</a>\n",
      "            </div>\n",
      "            <div class=\"rating\">\n",
      "              <span class=\"allstar45\"></span><i>9.0</i>\n",
      "            </div>\n",
      "          </li>\n",
      "          <li>\n",
      "            <div class=\"pic\">\n",
      "              <a href=\"https://music.douban.com/subject/27622585/\">\n",
      "                <img src=\"https://img3.doubanio.com/f/shire/a1fdee122b95748d81cee426d717c05b5174fe96/pics/blank.gif\" data-origin=\"https://img1.doubanio.com/view/subject/s/public/s29658327.jpg\" alt=\"Man of the woods\" />\n",
      "              </a>\n",
      "            </div>\n",
      "            <div class=\"title\">\n",
      "              5. <a href=\"https://music.douban.com/subject/27622585/\">Man of the woods</a>\n",
      "            </div>\n",
      "            <div class=\"artist\">\n",
      "              <a href=\"\">Justin Timberlake</a>\n",
      "            </div>\n",
      "            <div class=\"rating\">\n",
      "              <span class=\"allstar30\"></span><i>6.1</i>\n",
      "            </div>\n",
      "          </li>\n",
      "          <li>\n",
      "            <div class=\"pic\">\n",
      "              <a href=\"https://music.douban.com/subject/27621290/\">\n",
      "                <img src=\"https://img3.doubanio.com/f/shire/a1fdee122b95748d81cee426d717c05b5174fe96/pics/blank.gif\" data-origin=\"https://img3.doubanio.com/view/subject/s/public/s29657166.jpg\" alt=\"Twin Fantasy\" />\n",
      "              </a>\n",
      "            </div>\n",
      "            <div class=\"title\">\n",
      "              6. <a href=\"https://music.douban.com/subject/27621290/\">Twin Fantasy</a>\n",
      "            </div>\n",
      "            <div class=\"artist\">\n",
      "              <a href=\"\">Car Seat Headrest</a>\n",
      "            </div>\n",
      "            <div class=\"rating\">\n",
      "              <span class=\"allstar45\"></span><i>8.6</i>\n",
      "            </div>\n",
      "          </li>\n",
      "          <li>\n",
      "            <div class=\"pic\">\n",
      "              <a href=\"https://music.douban.com/subject/30125146/\">\n",
      "                <img src=\"https://img3.doubanio.com/f/shire/a1fdee122b95748d81cee426d717c05b5174fe96/pics/blank.gif\" data-origin=\"https://img3.doubanio.com/view/subject/s/public/s29679670.jpg\" alt=\"THE PERFECT RED VELVET\" />\n",
      "              </a>\n",
      "            </div>\n",
      "            <div class=\"title\">\n",
      "              7. <a href=\"https://music.douban.com/subject/30125146/\">THE PERFECT RED VELVET</a>\n",
      "            </div>\n",
      "            <div class=\"artist\">\n",
      "              <a href=\"\">RED VELVET</a>\n",
      "            </div>\n",
      "            <div class=\"rating\">\n",
      "              <span class=\"allstar40\"></span><i>8.0</i>\n",
      "            </div>\n",
      "          </li>\n",
      "          <li>\n",
      "            <div class=\"pic\">\n",
      "              <a href=\"https://music.douban.com/subject/27960000/\">\n",
      "                <img src=\"https://img3.doubanio.com/f/shire/a1fdee122b95748d81cee426d717c05b5174fe96/pics/blank.gif\" data-origin=\"https://img3.doubanio.com/view/subject/s/public/s29676143.jpg\" alt=\"RETURN\" />\n",
      "              </a>\n",
      "            </div>\n",
      "            <div class=\"title\">\n",
      "              8. <a href=\"https://music.douban.com/subject/27960000/\">RETURN</a>\n",
      "            </div>\n",
      "            <div class=\"artist\">\n",
      "              <a href=\"\">iKON</a>\n",
      "            </div>\n",
      "            <div class=\"rating\">\n",
      "              <span class=\"allstar40\"></span><i>7.5</i>\n",
      "            </div>\n",
      "          </li>\n",
      "      </ul>\n",
      "    </div>\n",
      "\n",
      "  \n",
      "  \n",
      "    <h2>\n",
      "        热门歌单\n",
      "            &nbsp;&middot;&nbsp;&middot;&nbsp;&middot;&nbsp;&middot;&nbsp;&middot;&nbsp;&middot;\n",
      "            <span class=\"pl\">&nbsp;(\n",
      "                \n",
      "                    <a href=\"https://music.douban.com/programmes/\" target=\"_self\">更多</a>\n",
      "                ) </span>\n",
      "    </h2>\n",
      "\n",
      "  <div class=\"programme-list list\">\n",
      "    <ul>\n",
      "        \n",
      "          <li>\n",
      "            <div class=\"pic cover\"><img width=80 src=\"https://img3.doubanio.com/img/songlist/large/238328-1.jpg\"><a href=\"https://music.douban.com/programme/238328\" target=\"_blank\"><i></i></a></div>\n",
      "            <div class=\"title\">宫崎骏的久石让</div>\n",
      "          </li>\n",
      "        \n",
      "          <li>\n",
      "            <div class=\"pic cover\"><img width=80 src=\"https://img3.doubanio.com/img/songlist/large/10359537-1.jpg\"><a href=\"https://music.douban.com/programme/10359537\" target=\"_blank\"><i></i></a></div>\n",
      "            <div class=\"title\">在豆瓣的一些中国独立音乐</div>\n",
      "          </li>\n",
      "        \n",
      "          <li>\n",
      "            <div class=\"pic cover\"><img width=80 src=\"https://img3.doubanio.com/img/songlist/large/724064-1.jpg\"><a href=\"https://music.douban.com/programme/724064\" target=\"_blank\"><i></i></a></div>\n",
      "            <div class=\"title\">气势史诗恢弘3</div>\n",
      "          </li>\n",
      "        \n",
      "          <li>\n",
      "            <div class=\"pic cover\"><img width=80 src=\"https://img3.doubanio.com/img/songlist/large/457361-1.jpg\"><a href=\"https://music.douban.com/programme/457361\" target=\"_blank\"><i></i></a></div>\n",
      "            <div class=\"title\">一生等待</div>\n",
      "          </li>\n",
      "        \n",
      "          <li>\n",
      "            <div class=\"pic cover\"><img width=80 src=\"https://img3.doubanio.com/img/songlist/large/46724-2.jpg\"><a href=\"https://music.douban.com/programme/46724\" target=\"_blank\"><i></i></a></div>\n",
      "            <div class=\"title\">纯音乐精选①</div>\n",
      "          </li>\n",
      "        \n",
      "          <li>\n",
      "            <div class=\"pic cover\"><img width=80 src=\"https://img3.doubanio.com/img/songlist/large/255529-1.jpg\"><a href=\"https://music.douban.com/programme/255529\" target=\"_blank\"><i></i></a></div>\n",
      "            <div class=\"title\">原声</div>\n",
      "          </li>\n",
      "    </ul>\n",
      "  </div>\n",
      "\n",
      "</div>\n",
      "  </div>\n",
      "  \n",
      "  <div id=\"dale_anonymous_home_page_middle_2\" class=\"extra\"></div>\n",
      "\n",
      "</div>\n",
      "\n",
      "\n",
      "\n",
      "\n",
      "\n",
      "\n",
      "\n",
      "\n",
      "      \n",
      "<div id=\"anony-market\" class=\"section\">\n",
      "  <div class=\"wrapper\">\n",
      "  \n",
      "  \n",
      "<div class=\"sidenav\">\n",
      "  <h2 class=\"section-title\">\n",
      "    <a href=\"https://market.douban.com?dcs=anonymous-home-sidenav&amp;dcm=douban\">\n",
      "      市集\n",
      "    </a>\n",
      "  </h2>\n",
      "</div>\n",
      "\n",
      "  <div class=\"side\">\n",
      "<div class=\"mod\">\n",
      "  \n",
      "    <h2>\n",
      "        热门活动\n",
      "            &nbsp;&middot;&nbsp;&middot;&nbsp;&middot;&nbsp;&middot;&nbsp;&middot;&nbsp;&middot;\n",
      "    </h2>\n",
      "\n",
      "  <ul class=\"market-topics\">\n",
      "      <li class=\"market-topic-item\" >\n",
      "        <a href=\"https://www.douban.com/update/topic/%E6%88%91%E9%80%89%E6%97%A9%E9%A4%90?dcm=douban&dcs=anonymous-home-topic\" \n",
      "          target=\"_blank\">\n",
      "          <div class=\"market-topic-pic\" \n",
      "            style=\"background-image:url(https://img3.doubanio.com/img/files/file-1513305186-3.jpg)\">\n",
      "          </div>\n",
      "        </a>\n",
      "        <p class=\"market-topic-footer\">\n",
      "          <a href=\"https://www.douban.com/update/topic/%E6%88%91%E9%80%89%E6%97%A9%E9%A4%90?dcm=douban&dcs=anonymous-home-topic\" \n",
      "            target=\"_blank\">\n",
      "          我的豆瓣收藏夹里有什么\n",
      "          </a>\n",
      "        </p>\n",
      "      </li>\n",
      "  </ul>\n",
      "</div>\n",
      "\n",
      "  <div class=\"mod\">\n",
      "    \n",
      "    <h2>\n",
      "        市集小组\n",
      "            &nbsp;&middot;&nbsp;&middot;&nbsp;&middot;&nbsp;&middot;&nbsp;&middot;&nbsp;&middot;\n",
      "            <span class=\"pl\">&nbsp;(\n",
      "                \n",
      "                    <a href=\"https://www.douban.com/group/588598?dcs=anonymous-home-more-shops&amp;dcm=douban#hot-shop-wrapper\" target=\"_self\">更多</a>\n",
      "                ) </span>\n",
      "    </h2>\n",
      "\n",
      "    <ul class=\"market-group-topics\">\n",
      "        <li>\n",
      "          <p class=\"market-group-topic-title\">\n",
      "            <a href=\"https://www.douban.com/group/topic/110121403?dcm=douban&dcs=anonymous-home-group\" \n",
      "              target=\"_blank\">\n",
      "              2018豆瓣电影日历发货时间答疑\n",
      "            </a>\n",
      "          </p>\n",
      "          <p class=\"market-group-topic-footer\">\n",
      "            <span class=\"market-group-topic-date\">\n",
      "              01-03\n",
      "            </span>\n",
      "            <span class=\"market-group-topic-amount\">\n",
      "              94 人参与\n",
      "            </span>\n",
      "          </p>\n",
      "        </li>\n",
      "        <li>\n",
      "          <p class=\"market-group-topic-title\">\n",
      "            <a href=\"https://www.douban.com/group/topic/109227642?dcm=douban&dcs=anonymous-home-group\" \n",
      "              target=\"_blank\">\n",
      "              有奖建议征集→你心目中“豆瓣”味道的咖啡豆是什么味？\n",
      "            </a>\n",
      "          </p>\n",
      "          <p class=\"market-group-topic-footer\">\n",
      "            <span class=\"market-group-topic-date\">\n",
      "              12-21\n",
      "            </span>\n",
      "            <span class=\"market-group-topic-amount\">\n",
      "              91 人参与\n",
      "            </span>\n",
      "          </p>\n",
      "        </li>\n",
      "        <li>\n",
      "          <p class=\"market-group-topic-title\">\n",
      "            <a href=\"https://www.douban.com/group/topic/109228247?dcm=douban&dcs=anonymous-home-group\" \n",
      "              target=\"_blank\">\n",
      "              有奖建议征集→如果出一款手机壳，你希望上面有什么样的设计？\n",
      "            </a>\n",
      "          </p>\n",
      "          <p class=\"market-group-topic-footer\">\n",
      "            <span class=\"market-group-topic-date\">\n",
      "              02-04\n",
      "            </span>\n",
      "            <span class=\"market-group-topic-amount\">\n",
      "              329 人参与\n",
      "            </span>\n",
      "          </p>\n",
      "        </li>\n",
      "    </ul>\n",
      "  </div>\n",
      "</div>\n",
      "  <div class=\"main\">\n",
      "  \n",
      "    <h2>\n",
      "        热卖商品\n",
      "            &nbsp;&middot;&nbsp;&middot;&nbsp;&middot;&nbsp;&middot;&nbsp;&middot;&nbsp;&middot;\n",
      "            <span class=\"pl\">&nbsp;(\n",
      "                \n",
      "                    <a href=\"https://market.douban.com?dcs=anonymous-home-more-skus&amp;dcm=douban\" target=\"_self\">更多</a>\n",
      "                ) </span>\n",
      "    </h2>\n",
      "\n",
      "  <ul class=\"market-spu-list\">\n",
      "      \n",
      "      <li class=\"main-sku\">\n",
      "        <a href=\"https://market.douban.com/campaign/calendar2018?dcm=douban&dcs=anonymous-home-spu\"\n",
      "          target=\"_blank\">\n",
      "          <div class=\"market-spu-pic\"\n",
      "            style=\"background-image: url(https://img3.doubanio.com/img/files/file-1513305186-0.jpg)\">\n",
      "          </div>\n",
      "        </a>\n",
      "        <div class=\"market-spu-footer\">\n",
      "          <span class=\"market-spu-price\">\n",
      "            ￥98.00\n",
      "          </span>\n",
      "          <a href=\"https://market.douban.com/campaign/calendar2018?dcm=douban&dcs=anonymous-home-spu\"\n",
      "            target=\"_blank\"\n",
      "            class=\"market-spu-title\">\n",
      "            豆瓣电影日历2018\n",
      "          </a>\n",
      "        </div>\n",
      "    </li>\n",
      "      \n",
      "      <li class=\"main-sku\">\n",
      "        <a href=\"https://market.douban.com/campaign/notebook?dcm=douban&dcs=anonymous-home-spu\"\n",
      "          target=\"_blank\">\n",
      "          <div class=\"market-spu-pic\"\n",
      "            style=\"background-image: url(https://img3.doubanio.com/img/files/file-1513305186-5.jpg)\">\n",
      "          </div>\n",
      "        </a>\n",
      "        <div class=\"market-spu-footer\">\n",
      "          <span class=\"market-spu-price\">\n",
      "            ￥48.00\n",
      "          </span>\n",
      "          <a href=\"https://market.douban.com/campaign/notebook?dcm=douban&dcs=anonymous-home-spu\"\n",
      "            target=\"_blank\"\n",
      "            class=\"market-spu-title\">\n",
      "            豆瓣笔记本·遇见你系列\n",
      "          </a>\n",
      "        </div>\n",
      "    </li>\n",
      "      \n",
      "      <li class=\"main-sku\">\n",
      "        <a href=\"https://market.douban.com/campaign/collection?dcm=douban&dcs=anonymous-home-spu\"\n",
      "          target=\"_blank\">\n",
      "          <div class=\"market-spu-pic\"\n",
      "            style=\"background-image: url(https://img3.doubanio.com/img/files/file-1513305186-4.jpg)\">\n",
      "          </div>\n",
      "        </a>\n",
      "        <div class=\"market-spu-footer\">\n",
      "          <span class=\"market-spu-price\">\n",
      "            ￥99.00\n",
      "          </span>\n",
      "          <a href=\"https://market.douban.com/campaign/collection?dcm=douban&dcs=anonymous-home-spu\"\n",
      "            target=\"_blank\"\n",
      "            class=\"market-spu-title\">\n",
      "            豆瓣收藏夹\n",
      "          </a>\n",
      "        </div>\n",
      "    </li>\n",
      "      \n",
      "      <li class=\"main-sku\">\n",
      "        <a href=\"https://market.douban.com/campaign/canvasbag?dcm=douban&dcs=anonymous-home-spu\"\n",
      "          target=\"_blank\">\n",
      "          <div class=\"market-spu-pic\"\n",
      "            style=\"background-image: url(https://img3.doubanio.com/img/files/file-1513305186-2.jpg)\">\n",
      "          </div>\n",
      "        </a>\n",
      "        <div class=\"market-spu-footer\">\n",
      "          <span class=\"market-spu-price\">\n",
      "            ￥149.00\n",
      "          </span>\n",
      "          <a href=\"https://market.douban.com/campaign/canvasbag?dcm=douban&dcs=anonymous-home-spu\"\n",
      "            target=\"_blank\"\n",
      "            class=\"market-spu-title\">\n",
      "            豆瓣帆布包·早餐系列\n",
      "          </a>\n",
      "        </div>\n",
      "    </li>\n",
      "    </ul>\n",
      "</div>\n",
      "  </div>\n",
      "  \n",
      "</div>\n",
      "\n",
      "\n",
      "\n",
      "\n",
      "\n",
      "\n",
      "\n",
      "\n",
      "      \n",
      "<div id=\"anony-events\" class=\"section\">\n",
      "  <div class=\"wrapper\">\n",
      "  \n",
      "  \n",
      "<div class=\"sidenav\">\n",
      "  <h2 class=\"section-title\"><a href=\"https://www.douban.com/location/\">同城</a></h2>\n",
      "  \n",
      "  \n",
      "  <div class=\"side-links nav-anon\">\n",
      "      <ul>\n",
      "        \n",
      "  \n",
      "    \n",
      "    <li>\n",
      "        <a\n",
      "        href=\"https://www.douban.com/location/shenzhen/events\">近期活动</a>\n",
      "    </li>\n",
      "    \n",
      "    <li>\n",
      "        <a\n",
      "        href=\"https://www.douban.com/location/shenzhen/hosts\">主办方</a>\n",
      "    </li>\n",
      "    \n",
      "    <li>\n",
      "        <a\n",
      "        href=\"https://www.douban.com/location/drama/\">舞台剧</a>\n",
      "    </li>\n",
      "    \n",
      "    <li>\n",
      "        <a\n",
      "        href=\"https://www.douban.com/location/drama/annual2016\">2016舞台剧榜单</a>\n",
      "    </li>\n",
      "\n",
      "      \n",
      "      </ul>\n",
      "  </div>\n",
      " \n",
      "  \n",
      "\n",
      "\n",
      "    <div class=\"apps-list\">\n",
      "    <ul>\n",
      "    </ul>\n",
      "    </div>\n",
      "\n",
      "</div>\n",
      "\n",
      "  <div class=\"side\">\n",
      "\n",
      "<div class=\"mod\">\n",
      "\n",
      "    <h2>\n",
      "        活动标签\n",
      "            &nbsp;&middot;&nbsp;&middot;&nbsp;&middot;&nbsp;&middot;&nbsp;&middot;&nbsp;&middot;\n",
      "    </h2>\n",
      "\n",
      "<div class=\"cate events-cate\">\n",
      "  <ul>\n",
      "  <li class=\"cate-label\"><a href=\"https://www.douban.com/location/shenzhen/events/week-music\">音乐&raquo;</a></li>\n",
      "    <li><a href=\"https://www.douban.com/location/shenzhen/events/week-1001\">小型现场</a></li>\n",
      "    <li><a href=\"https://www.douban.com/location/shenzhen/events/week-1002\">音乐会</a></li>\n",
      "    <li><a href=\"https://www.douban.com/location/shenzhen/events/week-1003\">演唱会</a></li>\n",
      "    <li><a href=\"https://www.douban.com/location/shenzhen/events/week-1004\">音乐节</a></li>\n",
      "  </ul>\n",
      "</div>\n",
      "<div class=\"cate events-cate\">\n",
      "  <ul>\n",
      "  <li class=\"cate-label\"><a href=\"https://www.douban.com/location/shenzhen/events/week-drama\">戏剧&raquo;</a></li>\n",
      "    <li><a href=\"https://www.douban.com/location/shenzhen/events/week-1101\">话剧</a></li>\n",
      "    <li><a href=\"https://www.douban.com/location/shenzhen/events/week-1102\">音乐剧</a></li>\n",
      "    <li><a href=\"https://www.douban.com/location/shenzhen/events/week-1103\">舞剧</a></li>\n",
      "    <li><a href=\"https://www.douban.com/location/shenzhen/events/week-1104\">歌剧</a></li>\n",
      "    <li><a href=\"https://www.douban.com/location/shenzhen/events/week-1105\">戏曲</a></li>\n",
      "    <li><a href=\"https://www.douban.com/location/shenzhen/events/week-1106\">其他</a></li>\n",
      "  </ul>\n",
      "</div>\n",
      "<div class=\"cate events-cate\">\n",
      "  <ul>\n",
      "  <li class=\"cate-label\"><a href=\"https://www.douban.com/location/shenzhen/events/week-party\">聚会&raquo;</a></li>\n",
      "    <li><a href=\"https://www.douban.com/location/shenzhen/events/week-1401\">生活</a></li>\n",
      "    <li><a href=\"https://www.douban.com/location/shenzhen/events/week-1402\">集市</a></li>\n",
      "    <li><a href=\"https://www.douban.com/location/shenzhen/events/week-1403\">摄影</a></li>\n",
      "    <li><a href=\"https://www.douban.com/location/shenzhen/events/week-1404\">外语</a></li>\n",
      "    <li><a href=\"https://www.douban.com/location/shenzhen/events/week-1405\">桌游</a></li>\n",
      "    <li><a href=\"https://www.douban.com/location/shenzhen/events/week-1406\">夜店</a></li>\n",
      "    <li><a href=\"https://www.douban.com/location/shenzhen/events/week-1407\">交友</a></li>\n",
      "    <li><a href=\"https://www.douban.com/location/shenzhen/events/week-1408\">美食</a></li>\n",
      "    <li><a href=\"https://www.douban.com/location/shenzhen/events/week-1409\">派对</a></li>\n",
      "  </ul>\n",
      "</div>\n",
      "<div class=\"cate events-cate\">\n",
      "  <ul>\n",
      "  <li class=\"cate-label\"><a href=\"https://www.douban.com/location/shenzhen/events/week-film\">电影&raquo;</a></li>\n",
      "    <li><a href=\"https://www.douban.com/location/shenzhen/events/week-1801\">主题放映</a></li>\n",
      "    <li><a href=\"https://www.douban.com/location/shenzhen/events/week-1802\">影展</a></li>\n",
      "    <li><a href=\"https://www.douban.com/location/shenzhen/events/week-1803\">影院活动</a></li>\n",
      "  </ul>\n",
      "</div>\n",
      "<div class=\"cate events-cate\">\n",
      "  <ul>\n",
      "  <li class=\"cate-label\"><a href=\"https://www.douban.com/location/shenzhen/events/week-all\">其他&raquo;</a></li>\n",
      "    <li><a href=\"https://www.douban.com/location/shenzhen/events/week-salon\">讲座</a></li>\n",
      "    <li><a href=\"https://www.douban.com/location/shenzhen/events/week-exhibition\">展览</a></li>\n",
      "    <li><a href=\"https://www.douban.com/location/shenzhen/events/week-sports\">运动</a></li>\n",
      "    <li><a href=\"https://www.douban.com/location/shenzhen/events/week-travel\">旅行</a></li>\n",
      "    <li><a href=\"https://www.douban.com/location/shenzhen/events/week-commonweal\">公益</a></li>\n",
      "  </ul>\n",
      "</div>\n",
      "</div>\n",
      "</div>\n",
      "  <div class=\"main\">\n",
      "\n",
      "\n",
      "    <h2>\n",
      "        深圳 · 本周热门活动\n",
      "            &nbsp;&middot;&nbsp;&middot;&nbsp;&middot;&nbsp;&middot;&nbsp;&middot;&nbsp;&middot;\n",
      "            <span class=\"pl\">&nbsp;(\n",
      "                \n",
      "                    <a href=\"https://www.douban.com/location/\" target=\"_self\">更多</a>\n",
      "                ) </span>\n",
      "    </h2>\n",
      "\n",
      "<div class=\"events-list list\">\n",
      "  <ul>\n",
      "    <li>\n",
      "      <div class=\"pic\">\n",
      "        <a href=\"https://www.douban.com/event/29779104/\">\n",
      "            <img data-origin=\"https://img1.doubanio.com/pview/event_poster/small/public/ac351346cfaca07.jpg\" src=\"https://img3.doubanio.com/f/shire/a1fdee122b95748d81cee426d717c05b5174fe96/pics/blank.gif\" width=\"70\">\n",
      "        </a>\n",
      "      </div>\n",
      "      <div class=\"info\">\n",
      "        <div class=\"title\">\n",
      "          <a href=\"https://www.douban.com/event/29779104/\" title=\"安室奈美惠 Final Tour 2018 〜Finally〜 in Asia 深圳站\">\n",
      "            安室奈美惠 Final Tour 2018 〜Finally〜 in Asia...\n",
      "          </a>\n",
      "        </div>\n",
      "        <div class=\"datetime\">\n",
      "            3月17日 周六 - 3月18日 周日\n",
      "        </div>\n",
      "        <address title=\"滨海大道3001号 深圳湾体育中心\">\n",
      "          滨海大道3001号 深圳湾体育...\n",
      "        </address>\n",
      "        <div class=\"follow\">\n",
      "          141人关注\n",
      "        </div>\n",
      "      </div>\n",
      "    <li>\n",
      "      <div class=\"pic\">\n",
      "        <a href=\"https://www.douban.com/event/30067549/\">\n",
      "            <img data-origin=\"https://img3.doubanio.com/pview/event_poster/small/public/45883d593432b74.jpg\" src=\"https://img3.doubanio.com/f/shire/a1fdee122b95748d81cee426d717c05b5174fe96/pics/blank.gif\" width=\"70\">\n",
      "        </a>\n",
      "      </div>\n",
      "      <div class=\"info\">\n",
      "        <div class=\"title\">\n",
      "          <a href=\"https://www.douban.com/event/30067549/\" title=\"John Legend 2018年中国巡回演唱会--深圳站\">\n",
      "            John Legend 2018年中国巡回演唱会--深圳站\n",
      "          </a>\n",
      "        </div>\n",
      "        <div class=\"datetime\">\n",
      "            3月6日 周二 20:00 - 22:00\n",
      "        </div>\n",
      "        <address title=\"华润深圳湾体育中心＂春茧＂体育馆 深圳市滨海大道3001号（南山区科苑南路与海德三道交汇处）\">\n",
      "          华润深圳湾体育中心＂春茧...\n",
      "        </address>\n",
      "        <div class=\"follow\">\n",
      "          72人关注\n",
      "        </div>\n",
      "      </div>\n",
      "    <li>\n",
      "      <div class=\"pic\">\n",
      "        <a href=\"https://www.douban.com/event/30087641/\">\n",
      "            <img data-origin=\"https://img1.doubanio.com/pview/event_poster/small/public/f00519da648ab1a.jpg\" src=\"https://img3.doubanio.com/f/shire/a1fdee122b95748d81cee426d717c05b5174fe96/pics/blank.gif\" width=\"70\">\n",
      "        </a>\n",
      "      </div>\n",
      "      <div class=\"info\">\n",
      "        <div class=\"title\">\n",
      "          <a href=\"https://www.douban.com/event/30087641/\" title=\"[ 深圳福利 ] 香港红馆：2018年周杰伦演唱会，领取免费门票\">\n",
      "            [ 深圳福利 ] 香港红馆：2018年周杰伦演唱会，领取免...\n",
      "          </a>\n",
      "        </div>\n",
      "        <div class=\"datetime\">\n",
      "            3月15日 周四 - 3月21日 周三\n",
      "        </div>\n",
      "        <address title=\"新天世纪商务中心\">\n",
      "          新天世纪商务中心\n",
      "        </address>\n",
      "        <div class=\"follow\">\n",
      "          293人关注\n",
      "        </div>\n",
      "      </div>\n",
      "    <li>\n",
      "      <div class=\"pic\">\n",
      "        <a href=\"https://www.douban.com/event/29840076/\">\n",
      "            <img data-origin=\"https://img3.doubanio.com/pview/event_poster/small/public/8eb52e1f1110a75.jpg\" src=\"https://img3.doubanio.com/f/shire/a1fdee122b95748d81cee426d717c05b5174fe96/pics/blank.gif\" width=\"70\">\n",
      "        </a>\n",
      "      </div>\n",
      "      <div class=\"info\">\n",
      "        <div class=\"title\">\n",
      "          <a href=\"https://www.douban.com/event/29840076/\" title=\"Katy Perry 凯蒂·佩里 香港演唱会2018年3月30日\">\n",
      "            Katy Perry 凯蒂·佩里 香港演唱会2018年3月30日\n",
      "          </a>\n",
      "        </div>\n",
      "        <div class=\"datetime\">\n",
      "            3月30日 周五 20:00 - 22:30\n",
      "        </div>\n",
      "        <address title=\"香港亚洲国际博览馆\">\n",
      "          香港亚洲国际博览馆\n",
      "        </address>\n",
      "        <div class=\"follow\">\n",
      "          27人关注\n",
      "        </div>\n",
      "      </div>\n",
      "  </ul>\n",
      "</div>\n",
      "</div>\n",
      "  </div>\n",
      "  \n",
      "</div>\n",
      "\n",
      "\n",
      "\n",
      "\n",
      "\n",
      "\n",
      "\n",
      "\n",
      "\n",
      "<div class=\"wrapper\">\n",
      "  <div id=\"dale_anonymous_home_page_bottom\" class=\"extra\"></div>\n",
      "  <div id=\"ft\">\n",
      "  \n",
      "  \n",
      "<span id=\"icp\" class=\"fleft gray-link\">\n",
      "    &copy; 2005－2018 douban.com, all rights reserved 北京豆网科技有限公司\n",
      "  <br>\n",
      "  <a href=\"http://www.miibeian.gov.cn/\">京ICP证090015号</a> 京ICP备11027288号 网络视听许可证<a href=\"https://www.douban.com/about?topic=licence\" target=\"_blank\">0110418</a>号\n",
      "  <br>京网文[2015]2026-368号 <img src=\"https://img3.doubanio.com/pics/biaoshi.gif\" align=\"absmiddle\"> <a href=\"http://www.beian.gov.cn/portal/registerSystemInfo?recordcode=11010502000728\">京公网安备11010502000728</a>&nbsp;&nbsp;新出网证(京)字129号\n",
      "  <br>违法和不良信息举报电话：4008353331&nbsp;<img src=\"https://img3.doubanio.com/img/files/file-1423193113.png\" height=\"16\" align=\"top\"/>\n",
      "  <br><img src=\"https://img3.doubanio.com/pics/icon/jubao.png\" align=\"absmiddle\" width=\"15px\"> <a href=\"http://www.12377.cn/\">中国互联网举报中心</a> 电话：12377 <a href=\"https://img1.doubanio.com/img/files/file-1478594087.jpg\">《食品流通许可证》许可证：SP1101051510347287</a>\n",
      "  <br><a href=\"https://img3.doubanio.com/img/files/file-1495708840.jpg\">新出发京批字第直160029号</a>\n",
      "</span>\n",
      "\n",
      "<a href=\"https://www.douban.com/hnypt/variformcyst.py\" style=\"display: none;\"></a>\n",
      "\n",
      "<span class=\"fright\">\n",
      "    <a href=\"https://www.douban.com/about\">关于豆瓣</a>\n",
      "    · <a href=\"https://www.douban.com/jobs\">在豆瓣工作</a>\n",
      "    · <a href=\"https://www.douban.com/about?topic=contactus\">联系我们</a>\n",
      "    · <a href=\"https://www.douban.com/about?policy=disclaimer\">免责声明</a>\n",
      "    \n",
      "    · <a href=\"https://help.douban.com/?app=main\" target=\"_blank\">帮助中心</a>\n",
      "    · <a href=\"https://www.douban.com/doubanapp/\">移动应用</a>\n",
      "    · <a href=\"https://www.douban.com/partner/\">豆瓣广告</a>\n",
      "    <a href=\"http://report.12377.cn:13225/toreportinputNormal_anis.do\" target=\"_blank\" style=\"display: block; margin-top: 20px; width: 150px\">\n",
      "      <img src=\"https://img3.doubanio.com/img/files/file-1489464722.jpg\" alt=\"网上有害信息举报专区\">\n",
      "    </a>\n",
      "</span>\n",
      "\n",
      "  </div>\n",
      "</div>\n",
      "\n",
      "\n",
      "\n",
      "\n",
      "\n",
      "\n",
      "<script src=\"https://img3.doubanio.com/f/shire/4b1bbfaa49f8fb30d2719ec0ec08a11f24412ff5/js/core/do/_init_.js\" data-cfg-corelib=\"https://img3.doubanio.com/f/shire/72ced6df41d4d158420cebdd254f9562942464e3/js/jquery.min.js\"></script>\n",
      "<script type=\"text/javascript\" src=\"https://img3.doubanio.com/misc/mixed_static/2ceb92e7c6fe6644.js\"></script>\n",
      "\n",
      "    <!-- douban ad begin -->\n",
      "    \n",
      "\n",
      "\n",
      "\n",
      "\n",
      "    \n",
      "<script type=\"text/javascript\">\n",
      "    (function (global) {\n",
      "        var newNode = global.document.createElement('script'),\n",
      "            existingNode = global.document.getElementsByTagName('script')[0],\n",
      "            adSource = '//erebor.douban.com/',\n",
      "            userId = '',\n",
      "            browserId = 'IA1IQZSKfgQ',\n",
      "            criteria = '3:/',\n",
      "            preview = '',\n",
      "            debug = false,\n",
      "            adSlots = ['dale_anonymous_homepage_top_for_crazy_ad', 'dale_anonymous_homepage_right_top', 'dale_anonymous_homepage_movie_bottom', 'dale_anonymous_home_page_top', 'dale_homepage_online_activity_promo_1', 'dale_anonymous_homepage_doublemint', 'dale_anonymous_home_page_middle', 'dale_anonymous_home_page_middle_2', 'dale_anonymous_home_page_bottom'];\n",
      "\n",
      "        global.DoubanAdRequest = {src: adSource, uid: userId, bid: browserId, crtr: criteria, prv: preview, debug: debug};\n",
      "        global.DoubanAdSlots = (global.DoubanAdSlots || []).concat(adSlots);\n",
      "\n",
      "        newNode.setAttribute('type', 'text/javascript');\n",
      "        newNode.setAttribute('src', 'https://img3.doubanio.com/f/adjs/d59867ddbe8a25645584b467a58a41cbd672c9be/ad.release.js');\n",
      "        newNode.setAttribute('async', true);\n",
      "        existingNode.parentNode.insertBefore(newNode, existingNode);\n",
      "    })(this);\n",
      "</script>\n",
      "\n",
      "\n",
      "\n",
      "\n",
      "\n",
      "\n",
      "\n",
      "\n",
      "\n",
      "\n",
      "    <!-- douban ad end -->\n",
      "    \n",
      "\n",
      "\n",
      "\n",
      "\n",
      "\n",
      "\n",
      "\n",
      "\n",
      "\n",
      "<!-- Google Tag Manager -->\n",
      "<noscript><iframe src=\"//www.googletagmanager.com/ns.html?id=GTM-5WP579\" height=\"0\" width=\"0\" style=\"display:none;visibility:hidden\"></iframe></noscript>\n",
      "<script>(function(w,d,s,l,i){w[l]=w[l]||[];w[l].push({'gtm.start':new Date().getTime(),event:'gtm.js'});var f=d.getElementsByTagName(s)[0],j=d.createElement(s),dl=l!='dataLayer'?'&l='+l:'';j.async=true;j.src='//www.googletagmanager.com/gtm.js?id='+i+dl;f.parentNode.insertBefore(j,f);})(window,document,'script','dataLayer','GTM-5WP579');</script>\n",
      "<!-- End Google Tag Manager -->\n",
      "\n",
      "\n",
      "<script type=\"text/javascript\">\n",
      "var _paq = _paq || [];\n",
      "_paq.push(['trackPageView']);\n",
      "_paq.push(['enableLinkTracking']);\n",
      "(function() {\n",
      "    var p=(('https:' == document.location.protocol) ? 'https' : 'http'), u=p+'://fundin.douban.com/';\n",
      "    _paq.push(['setTrackerUrl', u+'piwik']);\n",
      "    _paq.push(['setSiteId', '100001']);\n",
      "    var d=document, g=d.createElement('script'), s=d.getElementsByTagName('script')[0];\n",
      "    g.type='text/javascript';\n",
      "    g.defer=true;\n",
      "    g.async=true;\n",
      "    g.src=p+'://img3.doubanio.com/dae/fundin/piwik.js';\n",
      "    s.parentNode.insertBefore(g,s);\n",
      "})();\n",
      "</script>\n",
      "\n",
      "<script type=\"text/javascript\">\n",
      "var _gaq = _gaq || [];\n",
      "_gaq.push(['_setAccount', 'UA-7019765-1']);\n",
      "_gaq.push(['_setCampNameKey', 'dcn']);\n",
      "_gaq.push(['_setCampSourceKey', 'dcs']);\n",
      "_gaq.push(['_setCampMediumKey', 'dcm']);\n",
      "_gaq.push(['_setCampTermKey', 'dct']);\n",
      "_gaq.push(['_setCampContentKey', 'dcc']);\n",
      "_gaq.push(['_addOrganic', 'baidu', 'word']);\n",
      "_gaq.push(['_addOrganic', 'soso', 'w']);\n",
      "_gaq.push(['_addOrganic', '3721', 'name']);\n",
      "_gaq.push(['_addOrganic', 'youdao', 'q']);\n",
      "_gaq.push(['_addOrganic', 'so.360.cn', 'q']);\n",
      "_gaq.push(['_addOrganic', 'vnet', 'kw']);\n",
      "_gaq.push(['_addOrganic', 'sogou', 'query']);\n",
      "_gaq.push(['_addIgnoredOrganic', '豆瓣']);\n",
      "_gaq.push(['_addIgnoredOrganic', 'douban']);\n",
      "_gaq.push(['_addIgnoredOrganic', '豆瓣网']);\n",
      "_gaq.push(['_addIgnoredOrganic', 'www.douban.com']);\n",
      "_gaq.push(['_setDomainName', '.douban.com']);\n",
      "\n",
      "\n",
      "    _gaq.push(['_setCustomVar', 1, 'responsive_view_mode', 'desktop', 3]);\n",
      "\n",
      "_gaq.push(['_trackPageview']);\n",
      "_gaq.push(['_trackPageLoadTime']);\n",
      "\n",
      "window._ga_init = function() {\n",
      "    var ga = document.createElement('script');\n",
      "    ga.src = ('https:' == document.location.protocol ? 'https://ssl' : 'http://www') + '.google-analytics.com/ga.js';\n",
      "    ga.setAttribute('async', 'true');\n",
      "    document.documentElement.firstChild.appendChild(ga);\n",
      "};\n",
      "if (window.addEventListener) {\n",
      "    window.addEventListener('load', _ga_init, false);\n",
      "} else {\n",
      "    window.attachEvent('onload', _ga_init);\n",
      "}\n",
      "</script>\n",
      "\n",
      "\n",
      "\n",
      "\n",
      "\n",
      "\n",
      "</body>\n",
      "</html>\n",
      "\n",
      "\n",
      "\n",
      "\n"
     ]
    }
   ],
   "source": [
    "import requests\n",
    "r = requests.get('https://www.douban.com')\n",
    "print(r.status_code, r.text)"
   ]
  },
  {
   "cell_type": "code",
   "execution_count": 7,
   "metadata": {},
   "outputs": [
    {
     "data": {
      "text/plain": [
       "'https://www.douban.com/search?q=python&cat=1001'"
      ]
     },
     "execution_count": 7,
     "metadata": {},
     "output_type": "execute_result"
    }
   ],
   "source": [
    "# 对于带参数的URL，传入一个dict作为params参数\n",
    "r = requests.get('https://www.douban.com/search', params={\n",
    "    'q':'python', 'cat':'1001'\n",
    "})\n",
    "r.url # return the true url"
   ]
  },
  {
   "cell_type": "code",
   "execution_count": 8,
   "metadata": {},
   "outputs": [
    {
     "data": {
      "text/plain": [
       "'utf-8'"
      ]
     },
     "execution_count": 8,
     "metadata": {},
     "output_type": "execute_result"
    }
   ],
   "source": [
    "r.encoding #自动检测编码"
   ]
  },
  {
   "cell_type": "markdown",
   "metadata": {},
   "source": [
    "# chardet\n",
    "字符串编码检测"
   ]
  },
  {
   "cell_type": "code",
   "execution_count": 12,
   "metadata": {},
   "outputs": [
    {
     "data": {
      "text/plain": [
       "{'confidence': 1.0, 'encoding': 'ascii', 'language': ''}"
      ]
     },
     "execution_count": 12,
     "metadata": {},
     "output_type": "execute_result"
    }
   ],
   "source": [
    "import chardet\n",
    "chardet.detect(b'Hello World!')"
   ]
  },
  {
   "cell_type": "code",
   "execution_count": 14,
   "metadata": {},
   "outputs": [
    {
     "data": {
      "text/plain": [
       "{'confidence': 0.99, 'encoding': 'GB2312', 'language': 'Chinese'}"
      ]
     },
     "execution_count": 14,
     "metadata": {},
     "output_type": "execute_result"
    }
   ],
   "source": [
    "data = '你好, 我是张三'.encode('gbk')\n",
    "chardet.detect(data)"
   ]
  },
  {
   "cell_type": "markdown",
   "metadata": {},
   "source": [
    "## psutil\n",
    "process and system utilites 它不仅可以通过一两行代码实现系统监控，还可以跨平台使用，支持Linux／UNIX／OSX／Windows等，是系统管理员和运维小伙伴不可或缺的必备模块。"
   ]
  },
  {
   "cell_type": "code",
   "execution_count": 15,
   "metadata": {},
   "outputs": [
    {
     "data": {
      "text/plain": [
       "4"
      ]
     },
     "execution_count": 15,
     "metadata": {},
     "output_type": "execute_result"
    }
   ],
   "source": [
    "import psutil\n",
    "psutil.cpu_count() # cpu逻辑数量"
   ]
  },
  {
   "cell_type": "code",
   "execution_count": 16,
   "metadata": {},
   "outputs": [
    {
     "data": {
      "text/plain": [
       "2"
      ]
     },
     "execution_count": 16,
     "metadata": {},
     "output_type": "execute_result"
    }
   ],
   "source": [
    "psutil.cpu_count(logical=False) # cpu物理核心"
   ]
  },
  {
   "cell_type": "code",
   "execution_count": 17,
   "metadata": {},
   "outputs": [
    {
     "data": {
      "text/plain": [
       "scputimes(user=4112.40625, system=2657.53125, idle=44920.15625, interrupt=244.65625, dpc=87.46875381469727)"
      ]
     },
     "execution_count": 17,
     "metadata": {},
     "output_type": "execute_result"
    }
   ],
   "source": [
    "psutil.cpu_times()"
   ]
  },
  {
   "cell_type": "code",
   "execution_count": 18,
   "metadata": {},
   "outputs": [
    {
     "data": {
      "text/plain": [
       "[sconn(fd=-1, family=<AddressFamily.AF_INET: 2>, type=1, laddr=addr(ip='127.0.0.1', port=6912), raddr=addr(ip='127.0.0.1', port=6932), status='ESTABLISHED', pid=13216),\n",
       " sconn(fd=-1, family=<AddressFamily.AF_INET: 2>, type=1, laddr=addr(ip='192.168.43.121', port=3810), raddr=addr(ip='183.236.28.142', port=80), status='CLOSE_WAIT', pid=8060),\n",
       " sconn(fd=-1, family=<AddressFamily.AF_INET: 2>, type=1, laddr=addr(ip='192.168.43.121', port=6986), raddr=addr(ip='183.236.28.142', port=80), status='CLOSE_WAIT', pid=8060),\n",
       " sconn(fd=-1, family=<AddressFamily.AF_INET: 2>, type=2, laddr=addr(ip='192.168.75.1', port=138), raddr=(), status='NONE', pid=4),\n",
       " sconn(fd=-1, family=<AddressFamily.AF_INET: 2>, type=2, laddr=addr(ip='192.168.43.121', port=1900), raddr=(), status='NONE', pid=10656),\n",
       " sconn(fd=-1, family=<AddressFamily.AF_INET: 2>, type=1, laddr=addr(ip='0.0.0.0', port=902), raddr=(), status='LISTEN', pid=4800),\n",
       " sconn(fd=-1, family=<AddressFamily.AF_INET: 2>, type=1, laddr=addr(ip='127.0.0.1', port=6941), raddr=addr(ip='127.0.0.1', port=6940), status='ESTABLISHED', pid=13216),\n",
       " sconn(fd=-1, family=<AddressFamily.AF_INET: 2>, type=1, laddr=addr(ip='127.0.0.1', port=6916), raddr=addr(ip='127.0.0.1', port=6917), status='ESTABLISHED', pid=11684),\n",
       " sconn(fd=-1, family=<AddressFamily.AF_INET: 2>, type=1, laddr=addr(ip='192.168.43.121', port=2757), raddr=addr(ip='183.236.28.142', port=80), status='CLOSE_WAIT', pid=8060),\n",
       " sconn(fd=-1, family=<AddressFamily.AF_INET: 2>, type=1, laddr=addr(ip='127.0.0.1', port=7097), raddr=addr(ip='127.0.0.1', port=7098), status='ESTABLISHED', pid=13216),\n",
       " sconn(fd=-1, family=<AddressFamily.AF_INET6: 23>, type=2, laddr=addr(ip='::', port=54443), raddr=(), status='NONE', pid=8692),\n",
       " sconn(fd=-1, family=<AddressFamily.AF_INET: 2>, type=1, laddr=addr(ip='127.0.0.1', port=6911), raddr=addr(ip='127.0.0.1', port=6969), status='ESTABLISHED', pid=13216),\n",
       " sconn(fd=-1, family=<AddressFamily.AF_INET: 2>, type=1, laddr=addr(ip='192.168.75.1', port=139), raddr=(), status='LISTEN', pid=4),\n",
       " sconn(fd=-1, family=<AddressFamily.AF_INET: 2>, type=1, laddr=addr(ip='127.0.0.1', port=6945), raddr=addr(ip='127.0.0.1', port=6944), status='ESTABLISHED', pid=13216),\n",
       " sconn(fd=-1, family=<AddressFamily.AF_INET6: 23>, type=1, laddr=addr(ip='::', port=1537), raddr=(), status='LISTEN', pid=1624),\n",
       " sconn(fd=-1, family=<AddressFamily.AF_INET: 2>, type=1, laddr=addr(ip='192.168.43.121', port=3823), raddr=addr(ip='183.236.28.142', port=80), status='CLOSE_WAIT', pid=8060),\n",
       " sconn(fd=-1, family=<AddressFamily.AF_INET: 2>, type=1, laddr=addr(ip='127.0.0.1', port=6957), raddr=addr(ip='127.0.0.1', port=6958), status='ESTABLISHED', pid=13216),\n",
       " sconn(fd=-1, family=<AddressFamily.AF_INET: 2>, type=1, laddr=addr(ip='127.0.0.1', port=7101), raddr=addr(ip='127.0.0.1', port=7102), status='ESTABLISHED', pid=13216),\n",
       " sconn(fd=-1, family=<AddressFamily.AF_INET: 2>, type=1, laddr=addr(ip='127.0.0.1', port=1001), raddr=(), status='LISTEN', pid=4),\n",
       " sconn(fd=-1, family=<AddressFamily.AF_INET: 2>, type=1, laddr=addr(ip='127.0.0.1', port=1547), raddr=(), status='LISTEN', pid=12752),\n",
       " sconn(fd=-1, family=<AddressFamily.AF_INET: 2>, type=1, laddr=addr(ip='127.0.0.1', port=6903), raddr=addr(ip='127.0.0.1', port=6904), status='ESTABLISHED', pid=11684),\n",
       " sconn(fd=-1, family=<AddressFamily.AF_INET: 2>, type=1, laddr=addr(ip='127.0.0.1', port=6943), raddr=addr(ip='127.0.0.1', port=6942), status='ESTABLISHED', pid=13216),\n",
       " sconn(fd=-1, family=<AddressFamily.AF_INET: 2>, type=1, laddr=addr(ip='127.0.0.1', port=6911), raddr=(), status='LISTEN', pid=13216),\n",
       " sconn(fd=-1, family=<AddressFamily.AF_INET6: 23>, type=1, laddr=addr(ip='::1', port=6928), raddr=addr(ip='::1', port=8888), status='ESTABLISHED', pid=5884),\n",
       " sconn(fd=-1, family=<AddressFamily.AF_INET: 2>, type=1, laddr=addr(ip='127.0.0.1', port=6940), raddr=addr(ip='127.0.0.1', port=6941), status='ESTABLISHED', pid=13216),\n",
       " sconn(fd=-1, family=<AddressFamily.AF_INET6: 23>, type=1, laddr=addr(ip='::', port=445), raddr=(), status='LISTEN', pid=4),\n",
       " sconn(fd=-1, family=<AddressFamily.AF_INET: 2>, type=1, laddr=addr(ip='127.0.0.1', port=6939), raddr=addr(ip='127.0.0.1', port=6938), status='ESTABLISHED', pid=13216),\n",
       " sconn(fd=-1, family=<AddressFamily.AF_INET: 2>, type=1, laddr=addr(ip='127.0.0.1', port=6961), raddr=addr(ip='127.0.0.1', port=6962), status='ESTABLISHED', pid=13216),\n",
       " sconn(fd=-1, family=<AddressFamily.AF_INET6: 23>, type=1, laddr=addr(ip='::1', port=1548), raddr=(), status='LISTEN', pid=6024),\n",
       " sconn(fd=-1, family=<AddressFamily.AF_INET: 2>, type=1, laddr=addr(ip='127.0.0.1', port=6918), raddr=addr(ip='127.0.0.1', port=6919), status='ESTABLISHED', pid=11684),\n",
       " sconn(fd=-1, family=<AddressFamily.AF_INET6: 23>, type=1, laddr=addr(ip='::1', port=6908), raddr=addr(ip='::1', port=8888), status='ESTABLISHED', pid=5884),\n",
       " sconn(fd=-1, family=<AddressFamily.AF_INET: 2>, type=1, laddr=addr(ip='127.0.0.1', port=55568), raddr=(), status='LISTEN', pid=4072),\n",
       " sconn(fd=-1, family=<AddressFamily.AF_INET: 2>, type=1, laddr=addr(ip='127.0.0.1', port=6969), raddr=addr(ip='127.0.0.1', port=6911), status='ESTABLISHED', pid=11684),\n",
       " sconn(fd=-1, family=<AddressFamily.AF_INET: 2>, type=1, laddr=addr(ip='192.168.43.121', port=2756), raddr=addr(ip='183.236.28.142', port=80), status='CLOSE_WAIT', pid=8060),\n",
       " sconn(fd=-1, family=<AddressFamily.AF_INET6: 23>, type=1, laddr=addr(ip='::', port=443), raddr=(), status='LISTEN', pid=5384),\n",
       " sconn(fd=-1, family=<AddressFamily.AF_INET: 2>, type=1, laddr=addr(ip='127.0.0.1', port=6919), raddr=addr(ip='127.0.0.1', port=6918), status='ESTABLISHED', pid=11684),\n",
       " sconn(fd=-1, family=<AddressFamily.AF_INET6: 23>, type=1, laddr=addr(ip='::', port=1538), raddr=(), status='LISTEN', pid=1564),\n",
       " sconn(fd=-1, family=<AddressFamily.AF_INET: 2>, type=1, laddr=addr(ip='127.0.0.1', port=6958), raddr=addr(ip='127.0.0.1', port=6957), status='ESTABLISHED', pid=13216),\n",
       " sconn(fd=-1, family=<AddressFamily.AF_INET: 2>, type=1, laddr=addr(ip='127.0.0.1', port=6925), raddr=addr(ip='127.0.0.1', port=6926), status='ESTABLISHED', pid=11684),\n",
       " sconn(fd=-1, family=<AddressFamily.AF_INET: 2>, type=1, laddr=addr(ip='127.0.0.1', port=6921), raddr=addr(ip='127.0.0.1', port=6920), status='ESTABLISHED', pid=11684),\n",
       " sconn(fd=-1, family=<AddressFamily.AF_INET: 2>, type=2, laddr=addr(ip='0.0.0.0', port=57570), raddr=(), status='NONE', pid=4028),\n",
       " sconn(fd=-1, family=<AddressFamily.AF_INET: 2>, type=1, laddr=addr(ip='127.0.0.1', port=6964), raddr=addr(ip='127.0.0.1', port=6963), status='ESTABLISHED', pid=13216),\n",
       " sconn(fd=-1, family=<AddressFamily.AF_INET: 2>, type=2, laddr=addr(ip='127.0.0.1', port=1900), raddr=(), status='NONE', pid=10656),\n",
       " sconn(fd=-1, family=<AddressFamily.AF_INET: 2>, type=1, laddr=addr(ip='127.0.0.1', port=6923), raddr=addr(ip='127.0.0.1', port=6922), status='ESTABLISHED', pid=11684),\n",
       " sconn(fd=-1, family=<AddressFamily.AF_INET: 2>, type=1, laddr=addr(ip='127.0.0.1', port=6936), raddr=addr(ip='127.0.0.1', port=6937), status='ESTABLISHED', pid=13216),\n",
       " sconn(fd=-1, family=<AddressFamily.AF_INET: 2>, type=1, laddr=addr(ip='127.0.0.1', port=6944), raddr=addr(ip='127.0.0.1', port=6945), status='ESTABLISHED', pid=13216),\n",
       " sconn(fd=-1, family=<AddressFamily.AF_INET: 2>, type=1, laddr=addr(ip='127.0.0.1', port=6914), raddr=(), status='LISTEN', pid=13216),\n",
       " sconn(fd=-1, family=<AddressFamily.AF_INET: 2>, type=1, laddr=addr(ip='127.0.0.1', port=6954), raddr=addr(ip='127.0.0.1', port=6953), status='ESTABLISHED', pid=13216),\n",
       " sconn(fd=-1, family=<AddressFamily.AF_INET: 2>, type=1, laddr=addr(ip='127.0.0.1', port=6932), raddr=addr(ip='127.0.0.1', port=6912), status='ESTABLISHED', pid=11684),\n",
       " sconn(fd=-1, family=<AddressFamily.AF_INET: 2>, type=2, laddr=addr(ip='192.168.93.1', port=64802), raddr=(), status='NONE', pid=10656),\n",
       " sconn(fd=-1, family=<AddressFamily.AF_INET: 2>, type=1, laddr=addr(ip='192.168.43.121', port=4380), raddr=addr(ip='183.236.28.147', port=80), status='CLOSE_WAIT', pid=8060),\n",
       " sconn(fd=-1, family=<AddressFamily.AF_INET: 2>, type=1, laddr=addr(ip='192.168.93.1', port=139), raddr=(), status='LISTEN', pid=4),\n",
       " sconn(fd=-1, family=<AddressFamily.AF_INET: 2>, type=1, laddr=addr(ip='192.168.43.121', port=3822), raddr=addr(ip='183.236.28.142', port=80), status='CLOSE_WAIT', pid=8060),\n",
       " sconn(fd=-1, family=<AddressFamily.AF_INET: 2>, type=1, laddr=addr(ip='0.0.0.0', port=445), raddr=(), status='LISTEN', pid=4),\n",
       " sconn(fd=-1, family=<AddressFamily.AF_INET: 2>, type=2, laddr=addr(ip='192.168.43.121', port=138), raddr=(), status='NONE', pid=4),\n",
       " sconn(fd=-1, family=<AddressFamily.AF_INET: 2>, type=1, laddr=addr(ip='127.0.0.1', port=6913), raddr=(), status='LISTEN', pid=13216),\n",
       " sconn(fd=-1, family=<AddressFamily.AF_INET6: 23>, type=1, laddr=addr(ip='::1', port=55568), raddr=(), status='LISTEN', pid=4072),\n",
       " sconn(fd=-1, family=<AddressFamily.AF_INET6: 23>, type=1, laddr=addr(ip='::1', port=8307), raddr=(), status='LISTEN', pid=5384),\n",
       " sconn(fd=-1, family=<AddressFamily.AF_INET6: 23>, type=2, laddr=addr(ip='::1', port=1900), raddr=(), status='NONE', pid=10656),\n",
       " sconn(fd=-1, family=<AddressFamily.AF_INET: 2>, type=1, laddr=addr(ip='192.168.43.121', port=5697), raddr=addr(ip='183.236.28.147', port=80), status='CLOSE_WAIT', pid=8060),\n",
       " sconn(fd=-1, family=<AddressFamily.AF_INET: 2>, type=1, laddr=addr(ip='127.0.0.1', port=6967), raddr=addr(ip='127.0.0.1', port=6968), status='ESTABLISHED', pid=11684),\n",
       " sconn(fd=-1, family=<AddressFamily.AF_INET: 2>, type=1, laddr=addr(ip='192.168.43.121', port=139), raddr=(), status='LISTEN', pid=4),\n",
       " sconn(fd=-1, family=<AddressFamily.AF_INET6: 23>, type=1, laddr=addr(ip='::1', port=8888), raddr=(), status='LISTEN', pid=11684),\n",
       " sconn(fd=-1, family=<AddressFamily.AF_INET6: 23>, type=1, laddr=addr(ip='::', port=1539), raddr=(), status='LISTEN', pid=3308),\n",
       " sconn(fd=-1, family=<AddressFamily.AF_INET: 2>, type=2, laddr=addr(ip='192.168.93.1', port=137), raddr=(), status='NONE', pid=4),\n",
       " sconn(fd=-1, family=<AddressFamily.AF_INET: 2>, type=1, laddr=addr(ip='127.0.0.1', port=6933), raddr=addr(ip='127.0.0.1', port=6914), status='ESTABLISHED', pid=11684),\n",
       " sconn(fd=-1, family=<AddressFamily.AF_INET: 2>, type=1, laddr=addr(ip='127.0.0.1', port=6963), raddr=addr(ip='127.0.0.1', port=6964), status='ESTABLISHED', pid=13216),\n",
       " sconn(fd=-1, family=<AddressFamily.AF_INET: 2>, type=1, laddr=addr(ip='127.0.0.1', port=6948), raddr=addr(ip='127.0.0.1', port=6949), status='ESTABLISHED', pid=13216),\n",
       " sconn(fd=-1, family=<AddressFamily.AF_INET: 2>, type=1, laddr=addr(ip='127.0.0.1', port=6972), raddr=addr(ip='127.0.0.1', port=6974), status='ESTABLISHED', pid=11684),\n",
       " sconn(fd=-1, family=<AddressFamily.AF_INET: 2>, type=1, laddr=addr(ip='192.168.43.121', port=7169), raddr=addr(ip='111.13.101.191', port=443), status='CLOSE_WAIT', pid=5884),\n",
       " sconn(fd=-1, family=<AddressFamily.AF_INET: 2>, type=1, laddr=addr(ip='192.168.43.121', port=7194), raddr=addr(ip='52.230.84.217', port=443), status='ESTABLISHED', pid=4336),\n",
       " sconn(fd=-1, family=<AddressFamily.AF_INET: 2>, type=1, laddr=addr(ip='0.0.0.0', port=1540), raddr=(), status='LISTEN', pid=864),\n",
       " sconn(fd=-1, family=<AddressFamily.AF_INET: 2>, type=1, laddr=addr(ip='192.168.43.121', port=3357), raddr=addr(ip='183.236.28.142', port=80), status='CLOSE_WAIT', pid=8060),\n",
       " sconn(fd=-1, family=<AddressFamily.AF_INET: 2>, type=1, laddr=addr(ip='192.168.93.1', port=5040), raddr=(), status='LISTEN', pid=11092),\n",
       " sconn(fd=-1, family=<AddressFamily.AF_INET: 2>, type=1, laddr=addr(ip='0.0.0.0', port=135), raddr=(), status='LISTEN', pid=968),\n",
       " sconn(fd=-1, family=<AddressFamily.AF_INET6: 23>, type=1, laddr=addr(ip='::', port=1540), raddr=(), status='LISTEN', pid=864),\n",
       " sconn(fd=-1, family=<AddressFamily.AF_INET: 2>, type=2, laddr=addr(ip='0.0.0.0', port=5050), raddr=(), status='NONE', pid=11092),\n",
       " sconn(fd=-1, family=<AddressFamily.AF_INET: 2>, type=1, laddr=addr(ip='0.0.0.0', port=1539), raddr=(), status='LISTEN', pid=3308),\n",
       " sconn(fd=-1, family=<AddressFamily.AF_INET: 2>, type=1, laddr=addr(ip='127.0.0.1', port=7099), raddr=addr(ip='127.0.0.1', port=7100), status='ESTABLISHED', pid=13216),\n",
       " sconn(fd=-1, family=<AddressFamily.AF_INET: 2>, type=2, laddr=addr(ip='0.0.0.0', port=5353), raddr=(), status='NONE', pid=2752),\n",
       " sconn(fd=-1, family=<AddressFamily.AF_INET: 2>, type=1, laddr=addr(ip='127.0.0.1', port=6915), raddr=(), status='LISTEN', pid=13216),\n",
       " sconn(fd=-1, family=<AddressFamily.AF_INET: 2>, type=1, laddr=addr(ip='127.0.0.1', port=6937), raddr=addr(ip='127.0.0.1', port=6936), status='ESTABLISHED', pid=13216),\n",
       " sconn(fd=-1, family=<AddressFamily.AF_INET: 2>, type=1, laddr=addr(ip='127.0.0.1', port=6920), raddr=addr(ip='127.0.0.1', port=6921), status='ESTABLISHED', pid=11684),\n",
       " sconn(fd=-1, family=<AddressFamily.AF_INET: 2>, type=1, laddr=addr(ip='192.168.43.121', port=4379), raddr=addr(ip='183.236.28.147', port=80), status='CLOSE_WAIT', pid=8060),\n",
       " sconn(fd=-1, family=<AddressFamily.AF_INET: 2>, type=1, laddr=addr(ip='0.0.0.0', port=1541), raddr=(), status='LISTEN', pid=880),\n",
       " sconn(fd=-1, family=<AddressFamily.AF_INET: 2>, type=1, laddr=addr(ip='192.168.43.121', port=6982), raddr=addr(ip='183.236.28.142', port=80), status='CLOSE_WAIT', pid=8060),\n",
       " sconn(fd=-1, family=<AddressFamily.AF_INET: 2>, type=2, laddr=addr(ip='0.0.0.0', port=5355), raddr=(), status='NONE', pid=2752),\n",
       " sconn(fd=-1, family=<AddressFamily.AF_INET: 2>, type=1, laddr=addr(ip='127.0.0.1', port=6951), raddr=addr(ip='127.0.0.1', port=6950), status='ESTABLISHED', pid=13216),\n",
       " sconn(fd=-1, family=<AddressFamily.AF_INET6: 23>, type=2, laddr=addr(ip='::', port=49670), raddr=(), status='NONE', pid=8692),\n",
       " sconn(fd=-1, family=<AddressFamily.AF_INET: 2>, type=1, laddr=addr(ip='192.168.43.121', port=7171), raddr=addr(ip='111.13.101.191', port=443), status='CLOSE_WAIT', pid=5884),\n",
       " sconn(fd=-1, family=<AddressFamily.AF_INET: 2>, type=1, laddr=addr(ip='127.0.0.1', port=6947), raddr=addr(ip='127.0.0.1', port=6946), status='ESTABLISHED', pid=13216),\n",
       " sconn(fd=-1, family=<AddressFamily.AF_INET: 2>, type=1, laddr=addr(ip='127.0.0.1', port=6971), raddr=addr(ip='127.0.0.1', port=6970), status='ESTABLISHED', pid=11684),\n",
       " sconn(fd=-1, family=<AddressFamily.AF_INET: 2>, type=1, laddr=addr(ip='192.168.43.121', port=3368), raddr=addr(ip='183.236.28.142', port=80), status='CLOSE_WAIT', pid=8060),\n",
       " sconn(fd=-1, family=<AddressFamily.AF_INET: 2>, type=1, laddr=addr(ip='127.0.0.1', port=7098), raddr=addr(ip='127.0.0.1', port=7097), status='ESTABLISHED', pid=13216),\n",
       " sconn(fd=-1, family=<AddressFamily.AF_INET: 2>, type=1, laddr=addr(ip='192.168.43.121', port=2755), raddr=addr(ip='183.236.28.142', port=80), status='CLOSE_WAIT', pid=8060),\n",
       " sconn(fd=-1, family=<AddressFamily.AF_INET: 2>, type=1, laddr=addr(ip='192.168.43.121', port=7193), raddr=addr(ip='183.60.225.154', port=88), status='ESTABLISHED', pid=10564),\n",
       " sconn(fd=-1, family=<AddressFamily.AF_INET: 2>, type=1, laddr=addr(ip='127.0.0.1', port=7096), raddr=addr(ip='127.0.0.1', port=7095), status='ESTABLISHED', pid=13216),\n",
       " sconn(fd=-1, family=<AddressFamily.AF_INET: 2>, type=1, laddr=addr(ip='127.0.0.1', port=6914), raddr=addr(ip='127.0.0.1', port=6933), status='ESTABLISHED', pid=13216),\n",
       " sconn(fd=-1, family=<AddressFamily.AF_INET: 2>, type=1, laddr=addr(ip='127.0.0.1', port=6973), raddr=addr(ip='127.0.0.1', port=6912), status='ESTABLISHED', pid=11684),\n",
       " sconn(fd=-1, family=<AddressFamily.AF_INET: 2>, type=1, laddr=addr(ip='127.0.0.1', port=6904), raddr=addr(ip='127.0.0.1', port=6903), status='ESTABLISHED', pid=11684),\n",
       " sconn(fd=-1, family=<AddressFamily.AF_INET: 2>, type=1, laddr=addr(ip='192.168.43.121', port=3367), raddr=addr(ip='183.236.28.142', port=80), status='CLOSE_WAIT', pid=8060),\n",
       " sconn(fd=-1, family=<AddressFamily.AF_INET: 2>, type=1, laddr=addr(ip='127.0.0.1', port=6968), raddr=addr(ip='127.0.0.1', port=6967), status='ESTABLISHED', pid=11684),\n",
       " sconn(fd=-1, family=<AddressFamily.AF_INET6: 23>, type=1, laddr=addr(ip='::', port=1541), raddr=(), status='LISTEN', pid=880),\n",
       " sconn(fd=-1, family=<AddressFamily.AF_INET: 2>, type=1, laddr=addr(ip='0.0.0.0', port=1538), raddr=(), status='LISTEN', pid=1564),\n",
       " sconn(fd=-1, family=<AddressFamily.AF_INET6: 23>, type=1, laddr=addr(ip='::1', port=8888), raddr=addr(ip='::1', port=6908), status='ESTABLISHED', pid=11684),\n",
       " sconn(fd=-1, family=<AddressFamily.AF_INET: 2>, type=1, laddr=addr(ip='127.0.0.1', port=7100), raddr=addr(ip='127.0.0.1', port=7099), status='ESTABLISHED', pid=13216),\n",
       " sconn(fd=-1, family=<AddressFamily.AF_INET: 2>, type=1, laddr=addr(ip='127.0.0.1', port=6922), raddr=addr(ip='127.0.0.1', port=6923), status='ESTABLISHED', pid=11684),\n",
       " sconn(fd=-1, family=<AddressFamily.AF_INET: 2>, type=2, laddr=addr(ip='0.0.0.0', port=5353), raddr=(), status='NONE', pid=5884),\n",
       " sconn(fd=-1, family=<AddressFamily.AF_INET: 2>, type=1, laddr=addr(ip='127.0.0.1', port=6913), raddr=addr(ip='127.0.0.1', port=6975), status='ESTABLISHED', pid=13216),\n",
       " sconn(fd=-1, family=<AddressFamily.AF_INET: 2>, type=2, laddr=addr(ip='192.168.75.1', port=137), raddr=(), status='NONE', pid=4),\n",
       " sconn(fd=-1, family=<AddressFamily.AF_INET6: 23>, type=1, laddr=addr(ip='::', port=1536), raddr=(), status='LISTEN', pid=716),\n",
       " sconn(fd=-1, family=<AddressFamily.AF_INET: 2>, type=1, laddr=addr(ip='0.0.0.0', port=5091), raddr=(), status='LISTEN', pid=7624),\n",
       " sconn(fd=-1, family=<AddressFamily.AF_INET: 2>, type=1, laddr=addr(ip='127.0.0.1', port=6942), raddr=addr(ip='127.0.0.1', port=6943), status='ESTABLISHED', pid=13216),\n",
       " sconn(fd=-1, family=<AddressFamily.AF_INET: 2>, type=1, laddr=addr(ip='127.0.0.1', port=6960), raddr=addr(ip='127.0.0.1', port=6959), status='ESTABLISHED', pid=13216),\n",
       " sconn(fd=-1, family=<AddressFamily.AF_INET: 2>, type=1, laddr=addr(ip='192.168.43.121', port=1916), raddr=addr(ip='183.236.28.142', port=80), status='CLOSE_WAIT', pid=8060),\n",
       " sconn(fd=-1, family=<AddressFamily.AF_INET: 2>, type=1, laddr=addr(ip='127.0.0.1', port=6949), raddr=addr(ip='127.0.0.1', port=6948), status='ESTABLISHED', pid=13216),\n",
       " sconn(fd=-1, family=<AddressFamily.AF_INET: 2>, type=2, laddr=addr(ip='192.168.75.1', port=64801), raddr=(), status='NONE', pid=10656),\n",
       " sconn(fd=-1, family=<AddressFamily.AF_INET: 2>, type=1, laddr=addr(ip='192.168.43.121', port=6985), raddr=addr(ip='183.236.28.142', port=80), status='CLOSE_WAIT', pid=8060),\n",
       " sconn(fd=-1, family=<AddressFamily.AF_INET: 2>, type=1, laddr=addr(ip='192.168.43.121', port=3055), raddr=addr(ip='223.111.213.33', port=443), status='CLOSE_WAIT', pid=4528),\n",
       " sconn(fd=-1, family=<AddressFamily.AF_INET: 2>, type=2, laddr=addr(ip='192.168.93.1', port=1900), raddr=(), status='NONE', pid=10656),\n",
       " sconn(fd=-1, family=<AddressFamily.AF_INET: 2>, type=2, laddr=addr(ip='192.168.43.121', port=137), raddr=(), status='NONE', pid=4),\n",
       " sconn(fd=-1, family=<AddressFamily.AF_INET: 2>, type=2, laddr=addr(ip='192.168.43.121', port=64803), raddr=(), status='NONE', pid=10656),\n",
       " sconn(fd=-1, family=<AddressFamily.AF_INET: 2>, type=2, laddr=addr(ip='127.0.0.1', port=64804), raddr=(), status='NONE', pid=10656),\n",
       " sconn(fd=-1, family=<AddressFamily.AF_INET: 2>, type=1, laddr=addr(ip='127.0.0.1', port=6966), raddr=addr(ip='127.0.0.1', port=6965), status='ESTABLISHED', pid=13216),\n",
       " sconn(fd=-1, family=<AddressFamily.AF_INET: 2>, type=1, laddr=addr(ip='127.0.0.1', port=7094), raddr=addr(ip='127.0.0.1', port=7093), status='ESTABLISHED', pid=13216),\n",
       " sconn(fd=-1, family=<AddressFamily.AF_INET: 2>, type=1, laddr=addr(ip='127.0.0.1', port=7102), raddr=addr(ip='127.0.0.1', port=7101), status='ESTABLISHED', pid=13216),\n",
       " sconn(fd=-1, family=<AddressFamily.AF_INET: 2>, type=1, laddr=addr(ip='0.0.0.0', port=1537), raddr=(), status='LISTEN', pid=1624),\n",
       " sconn(fd=-1, family=<AddressFamily.AF_INET: 2>, type=1, laddr=addr(ip='127.0.0.1', port=6935), raddr=addr(ip='127.0.0.1', port=6934), status='ESTABLISHED', pid=13216),\n",
       " sconn(fd=-1, family=<AddressFamily.AF_INET: 2>, type=1, laddr=addr(ip='127.0.0.1', port=6946), raddr=addr(ip='127.0.0.1', port=6947), status='ESTABLISHED', pid=13216),\n",
       " sconn(fd=-1, family=<AddressFamily.AF_INET: 2>, type=1, laddr=addr(ip='127.0.0.1', port=6959), raddr=addr(ip='127.0.0.1', port=6960), status='ESTABLISHED', pid=13216),\n",
       " sconn(fd=-1, family=<AddressFamily.AF_INET6: 23>, type=1, laddr=addr(ip='::1', port=8888), raddr=addr(ip='::1', port=6928), status='ESTABLISHED', pid=11684),\n",
       " sconn(fd=-1, family=<AddressFamily.AF_INET: 2>, type=1, laddr=addr(ip='127.0.0.1', port=6934), raddr=addr(ip='127.0.0.1', port=6935), status='ESTABLISHED', pid=13216),\n",
       " sconn(fd=-1, family=<AddressFamily.AF_INET: 2>, type=1, laddr=addr(ip='192.168.43.121', port=7174), raddr=addr(ip='203.208.51.69', port=443), status='ESTABLISHED', pid=5884),\n",
       " sconn(fd=-1, family=<AddressFamily.AF_INET: 2>, type=1, laddr=addr(ip='127.0.0.1', port=6955), raddr=addr(ip='127.0.0.1', port=6956), status='ESTABLISHED', pid=13216),\n",
       " sconn(fd=-1, family=<AddressFamily.AF_INET: 2>, type=1, laddr=addr(ip='127.0.0.1', port=8888), raddr=(), status='LISTEN', pid=11684),\n",
       " sconn(fd=-1, family=<AddressFamily.AF_INET: 2>, type=2, laddr=addr(ip='192.168.93.1', port=138), raddr=(), status='NONE', pid=4),\n",
       " sconn(fd=-1, family=<AddressFamily.AF_INET: 2>, type=1, laddr=addr(ip='192.168.43.121', port=1918), raddr=addr(ip='183.236.28.142', port=80), status='CLOSE_WAIT', pid=8060),\n",
       " sconn(fd=-1, family=<AddressFamily.AF_INET: 2>, type=1, laddr=addr(ip='192.168.43.121', port=5817), raddr=addr(ip='183.236.28.147', port=80), status='CLOSE_WAIT', pid=8060),\n",
       " sconn(fd=-1, family=<AddressFamily.AF_INET: 2>, type=1, laddr=addr(ip='192.168.43.121', port=7167), raddr=addr(ip='183.232.172.26', port=443), status='TIME_WAIT', pid=0),\n",
       " sconn(fd=-1, family=<AddressFamily.AF_INET: 2>, type=1, laddr=addr(ip='127.0.0.1', port=6953), raddr=addr(ip='127.0.0.1', port=6954), status='ESTABLISHED', pid=13216),\n",
       " sconn(fd=-1, family=<AddressFamily.AF_INET: 2>, type=1, laddr=addr(ip='127.0.0.1', port=6974), raddr=addr(ip='127.0.0.1', port=6972), status='ESTABLISHED', pid=11684),\n",
       " sconn(fd=-1, family=<AddressFamily.AF_INET: 2>, type=1, laddr=addr(ip='192.168.43.121', port=1914), raddr=addr(ip='183.236.28.142', port=80), status='CLOSE_WAIT', pid=8060),\n",
       " sconn(fd=-1, family=<AddressFamily.AF_INET: 2>, type=1, laddr=addr(ip='127.0.0.1', port=6962), raddr=addr(ip='127.0.0.1', port=6961), status='ESTABLISHED', pid=13216),\n",
       " sconn(fd=-1, family=<AddressFamily.AF_INET: 2>, type=1, laddr=addr(ip='127.0.0.1', port=62522), raddr=(), status='LISTEN', pid=2760),\n",
       " sconn(fd=-1, family=<AddressFamily.AF_INET: 2>, type=1, laddr=addr(ip='127.0.0.1', port=8307), raddr=(), status='LISTEN', pid=5384),\n",
       " sconn(fd=-1, family=<AddressFamily.AF_INET6: 23>, type=1, laddr=addr(ip='::1', port=55569), raddr=(), status='LISTEN', pid=4072),\n",
       " sconn(fd=-1, family=<AddressFamily.AF_INET: 2>, type=1, laddr=addr(ip='0.0.0.0', port=443), raddr=(), status='LISTEN', pid=5384),\n",
       " sconn(fd=-1, family=<AddressFamily.AF_INET: 2>, type=1, laddr=addr(ip='127.0.0.1', port=6912), raddr=(), status='LISTEN', pid=13216),\n",
       " sconn(fd=-1, family=<AddressFamily.AF_INET: 2>, type=1, laddr=addr(ip='127.0.0.1', port=7095), raddr=addr(ip='127.0.0.1', port=7096), status='ESTABLISHED', pid=13216),\n",
       " sconn(fd=-1, family=<AddressFamily.AF_INET: 2>, type=1, laddr=addr(ip='127.0.0.1', port=6970), raddr=addr(ip='127.0.0.1', port=6971), status='ESTABLISHED', pid=11684),\n",
       " sconn(fd=-1, family=<AddressFamily.AF_INET: 2>, type=2, laddr=addr(ip='0.0.0.0', port=49670), raddr=(), status='NONE', pid=8692),\n",
       " sconn(fd=-1, family=<AddressFamily.AF_INET6: 23>, type=2, laddr=addr(ip='::1', port=64800), raddr=(), status='NONE', pid=10656),\n",
       " sconn(fd=-1, family=<AddressFamily.AF_INET: 2>, type=2, laddr=addr(ip='127.0.0.1', port=49664), raddr=(), status='NONE', pid=4812),\n",
       " sconn(fd=-1, family=<AddressFamily.AF_INET: 2>, type=1, laddr=addr(ip='0.0.0.0', port=1536), raddr=(), status='LISTEN', pid=716),\n",
       " sconn(fd=-1, family=<AddressFamily.AF_INET: 2>, type=1, laddr=addr(ip='127.0.0.1', port=6938), raddr=addr(ip='127.0.0.1', port=6939), status='ESTABLISHED', pid=13216),\n",
       " sconn(fd=-1, family=<AddressFamily.AF_INET: 2>, type=1, laddr=addr(ip='127.0.0.1', port=6975), raddr=addr(ip='127.0.0.1', port=6913), status='ESTABLISHED', pid=11684),\n",
       " sconn(fd=-1, family=<AddressFamily.AF_INET: 2>, type=1, laddr=addr(ip='127.0.0.1', port=6926), raddr=addr(ip='127.0.0.1', port=6925), status='ESTABLISHED', pid=11684),\n",
       " sconn(fd=-1, family=<AddressFamily.AF_INET: 2>, type=1, laddr=addr(ip='127.0.0.1', port=6952), raddr=(), status='LISTEN', pid=13216),\n",
       " sconn(fd=-1, family=<AddressFamily.AF_INET: 2>, type=2, laddr=addr(ip='0.0.0.0', port=54443), raddr=(), status='NONE', pid=8692),\n",
       " sconn(fd=-1, family=<AddressFamily.AF_INET: 2>, type=1, laddr=addr(ip='127.0.0.1', port=55569), raddr=(), status='LISTEN', pid=4072),\n",
       " sconn(fd=-1, family=<AddressFamily.AF_INET: 2>, type=1, laddr=addr(ip='127.0.0.1', port=6965), raddr=addr(ip='127.0.0.1', port=6966), status='ESTABLISHED', pid=13216),\n",
       " sconn(fd=-1, family=<AddressFamily.AF_INET: 2>, type=1, laddr=addr(ip='127.0.0.1', port=7093), raddr=addr(ip='127.0.0.1', port=7094), status='ESTABLISHED', pid=13216),\n",
       " sconn(fd=-1, family=<AddressFamily.AF_INET: 2>, type=1, laddr=addr(ip='192.168.43.121', port=4356), raddr=addr(ip='183.236.28.147', port=80), status='CLOSE_WAIT', pid=8060),\n",
       " sconn(fd=-1, family=<AddressFamily.AF_INET: 2>, type=1, laddr=addr(ip='127.0.0.1', port=6950), raddr=addr(ip='127.0.0.1', port=6951), status='ESTABLISHED', pid=13216),\n",
       " sconn(fd=-1, family=<AddressFamily.AF_INET6: 23>, type=1, laddr=addr(ip='::', port=135), raddr=(), status='LISTEN', pid=968),\n",
       " sconn(fd=-1, family=<AddressFamily.AF_INET: 2>, type=1, laddr=addr(ip='0.0.0.0', port=912), raddr=(), status='LISTEN', pid=4800),\n",
       " sconn(fd=-1, family=<AddressFamily.AF_INET: 2>, type=2, laddr=addr(ip='192.168.75.1', port=1900), raddr=(), status='NONE', pid=10656),\n",
       " sconn(fd=-1, family=<AddressFamily.AF_INET: 2>, type=1, laddr=addr(ip='127.0.0.1', port=6917), raddr=addr(ip='127.0.0.1', port=6916), status='ESTABLISHED', pid=11684),\n",
       " sconn(fd=-1, family=<AddressFamily.AF_INET: 2>, type=1, laddr=addr(ip='127.0.0.1', port=6956), raddr=addr(ip='127.0.0.1', port=6955), status='ESTABLISHED', pid=13216),\n",
       " sconn(fd=-1, family=<AddressFamily.AF_INET: 2>, type=1, laddr=addr(ip='127.0.0.1', port=1555), raddr=(), status='LISTEN', pid=12976),\n",
       " sconn(fd=-1, family=<AddressFamily.AF_INET: 2>, type=1, laddr=addr(ip='192.168.43.121', port=5816), raddr=addr(ip='183.236.28.147', port=80), status='CLOSE_WAIT', pid=8060),\n",
       " sconn(fd=-1, family=<AddressFamily.AF_INET: 2>, type=1, laddr=addr(ip='127.0.0.1', port=6912), raddr=addr(ip='127.0.0.1', port=6973), status='ESTABLISHED', pid=13216)]"
      ]
     },
     "execution_count": 18,
     "metadata": {},
     "output_type": "execute_result"
    }
   ],
   "source": [
    "psutil.net_connections()"
   ]
  },
  {
   "cell_type": "code",
   "execution_count": 20,
   "metadata": {},
   "outputs": [
    {
     "name": "stdout",
     "output_type": "stream",
     "text": [
      "USER         PID %MEM     VSZ     RSS TTY           START    TIME  COMMAND\n",
      "SYSTEM         0    ?      52       8 ?             13:36   39:12  System Idle Process\n",
      "SYSTEM         4  0.1     172    6612 ?             13:36   03:26  System\n",
      "              76  0.3   11504   26100 ?             13:36   00:05  svchost.exe\n",
      "             432  0.1    2880    9144 ?             13:36   00:00  WUDFHost.exe\n",
      "             464    ?     456    1072 ?             13:36   00:00  smss.exe\n",
      "             500    ?    2020    2816 ?             13:36   00:00  fontdrvhost.exe\n",
      "             536  0.3    9228   20948 ?             13:37   00:10  speedfan.exe\n",
      "             620  0.1    1748    4988 ?             13:36   00:00  csrss.exe\n",
      "             716  0.1    1308    5472 ?             13:36   00:00  wininit.exe\n",
      "             724  0.1    2592    6592 ?             13:36   00:50  csrss.exe\n",
      "             788  0.1    2208    9428 ?             13:36   00:00  winlogon.exe\n",
      "             864  0.1    5772    9528 ?             13:36   00:06  services.exe\n",
      "             880  0.2    7100   14760 ?             13:36   00:06  lsass.exe\n",
      "             968  0.2    7364   13180 ?             13:36   00:14  svchost.exe\n",
      "            1008    ?     928    3388 ?             13:36   00:00  svchost.exe\n",
      "            1052  0.1    2352    6540 ?             13:36   00:00  svchost.exe\n",
      "            1080  0.1    2448   11620 ?             13:36   00:12  svchost.exe\n",
      "            1120  0.1    1516    5444 ?             13:36   00:00  WUDFHost.exe\n",
      "            1168  0.1    3728   12076 ?             13:36   00:01  fontdrvhost.exe\n",
      "            1232  0.1    2176    6560 ?             13:36   00:00  svchost.exe\n",
      "            1280  0.1    1284    5024 ?             13:36   00:00  svchost.exe\n",
      "            1292  0.9   80948   75972 ?             13:36   04:06  dwm.exe\n",
      "            1336  0.1    2284    9196 ?             13:36   00:00  svchost.exe\n",
      "            1344  0.1    2036   10832 ?             13:36   00:00  svchost.exe\n",
      "            1416  0.1    2144    8112 ?             13:38   00:00  svchost.exe\n",
      "            1488  0.1    1516    5052 ?             13:36   00:00  svchost.exe\n",
      "            1504  0.1    1928    6436 ?             13:36   00:00  svchost.exe\n",
      "derek       1532  3.5  251784  286164 ?             16:44   06:28  chrome.exe\n",
      "            1564  0.2    6416   13484 ?             13:36   00:01  svchost.exe\n",
      "            1624  0.2   15532   13088 ?             13:36   00:01  svchost.exe\n",
      "            1716  0.1    2392    9460 ?             13:36   00:00  svchost.exe\n",
      "            1728  0.2    3336   13280 ?             13:36   00:00  svchost.exe\n",
      "            1772  0.2   10316   15060 ?             13:36   00:03  svchost.exe\n",
      "            1812  0.1    5308    6304 ?             13:36   00:00  svchost.exe\n",
      "            1820  0.1    1960    7272 ?             13:36   00:00  WUDFHost.exe\n",
      "            1888  0.1    1416    4476 ?             13:36   00:00  ibmpmsvc.exe\n",
      "            1896  0.1    2092    5968 ?             13:36   00:00  LPlatSvc.exe\n",
      "            2012  0.2    5548   13500 ?             13:36   00:01  svchost.exe\n",
      "            2116  0.1    2516    7020 ?             13:36   00:04  svchost.exe\n",
      "            2160  0.1    2716    8528 ?             13:36   00:01  svchost.exe\n",
      "derek       2208  0.1    2052   10860 ?             14:28   00:00  RuntimeBroker.exe\n",
      "            2248  2.2     568  185388 ?             13:36   00:10  Memory Compression\n",
      "            2288  0.1    1908    7312 ?             13:36   00:00  svchost.exe\n",
      "            2332    ?    2648    1984 ?             13:36   00:00  winwfpmonitor.exe\n",
      "            2372  0.1    4812   11280 ?             13:36   00:02  svchost.exe\n",
      "            2420  0.1    1640    6572 ?             13:36   00:00  igfxCUIService.exe\n",
      "derek       2456  0.6   36844   48560 ?             14:40   00:02  Lenovo.Modern.ImController.PluginHost.SettingsApp.exe\n",
      "            2500  0.1    1808    7092 ?             13:36   00:00  svchost.exe\n",
      "            2508  0.1    1692   10404 ?             13:36   00:01  svchost.exe\n",
      "            2560  0.1    3340    8892 ?             13:36   00:01  svchost.exe\n",
      "            2668  0.1    3256   11864 ?             13:36   00:18  svchost.exe\n",
      "            2736  0.1    3748   11348 ?             13:36   00:00  svchost.exe\n",
      "            2744  0.1    1796    5836 ?             13:36   00:00  svchost.exe\n",
      "            2752  0.1    4024    8428 ?             13:36   00:02  svchost.exe\n",
      "            2760  0.2    5128   16476 ?             13:36   00:01  vpnagent.exe\n",
      "            2884  0.1    3784   11364 ?             13:36   00:07  svchost.exe\n",
      "derek       2924  0.4   12808   33468 ?             14:28   00:01  HxTsr.exe\n",
      "            2948  0.1    2108    7012 ?             13:36   00:01  svchost.exe\n",
      "            3044  0.1    1964    9152 ?             13:36   00:00  svchost.exe\n",
      "            3116  0.2    4420   12728 ?             13:36   00:00  wlanext.exe\n",
      "            3144  0.1    1160    4400 ?             13:36   00:00  conhost.exe\n",
      "derek       3240  0.1    2192    9376 ?             14:28   00:00  RuntimeBroker.exe\n",
      "            3244  0.1    1296    5840 ?             13:36   00:00  SASrv.exe\n",
      "            3260  0.2    2768   12912 ?             13:36   00:00  svchost.exe\n",
      "            3308  0.1    5272   10560 ?             13:36   00:00  spoolsv.exe\n",
      "            3404  0.1    1968    7384 ?             13:36   00:00  svchost.exe\n",
      "            3416  0.1    2328    8340 ?             13:36   00:00  svchost.exe\n",
      "            3600  0.1    1836    6108 ?             13:36   00:00  ListaryService.exe\n",
      "derek       3648  0.3    7628   28644 ?             16:45   00:00  Clover.exe\n",
      "            3656  0.2    5436   12420 ?             13:36   00:01  svchost.exe\n",
      "            3664  0.1    1392    6040 ?             13:36   00:00  IntelCpHDCPSvc.exe\n",
      "            3672  0.1    1324    6180 ?             13:36   00:00  armsvc.exe\n",
      "            3680  0.1    1904    7012 ?             13:36   00:00  CxAudMsg64.exe\n",
      "            3688  0.4   13096   29824 ?             13:36   00:06  svchost.exe\n",
      "            3696  0.1    2236   10360 ?             13:36   00:00  AGSService.exe\n",
      "            3708  0.1    1348    6132 ?             13:36   00:00  AdobeUpdateService.exe\n",
      "            3724  0.1    1464    7028 ?             13:36   00:00  CxUtilSvc.exe\n",
      "            3732  0.3   35240   27816 ?             13:36   00:01  OfficeClickToRun.exe\n",
      "            3744  0.1    1964    8196 ?             17:16   00:00  SearchProtocolHost.exe\n",
      "            3748  0.2    4780   12376 ?             13:36   00:00  EvtEng.exe\n",
      "            3772  0.5   34976   40136 ?             13:36   00:12  svchost.exe\n",
      "            3848  0.1    2568    7248 ?             13:36   00:03  svchost.exe\n",
      "derek       3856  0.7   20912   57908 ?             16:42   00:39  Windows.Media.BackgroundPlayback.exe\n",
      "            3900  0.2    7620   15508 ?             13:36   00:02  svchost.exe\n",
      "            3912  0.5   42336   40724 ?             13:36   00:06  Lenovo.Modern.ImController.exe\n",
      "            3920    ?     940    3704 ?             13:36   00:00  ibtsiva.exe\n",
      "derek       3932  0.4   43060   36416 ?             13:39   00:24  chrome.exe\n",
      "            3976  0.1    1788    6344 ?             13:36   00:00  InstantOnSrv.exe\n",
      "            4028  0.2   14900   17692 ?             13:36   00:01  QQProtect.exe\n",
      "            4044  0.1    1556    5696 ?             13:36   00:00  svchost.exe\n",
      "            4060  0.1    1908    7676 ?             13:36   00:00  RegSrvc.exe\n",
      "            4072  0.1    3444    8008 ?             13:36   00:00  RosettaStoneDaemon.exe\n",
      "            4120  0.1    2188    8860 ?             13:36   00:00  svchost.exe\n",
      "            4132  0.1    2416    7196 ?             13:36   00:00  SynTPEnhService.exe\n",
      "            4152  0.2    3956   13300 ?             13:36   00:00  SecurityHealthService.exe\n",
      "            4180  0.1    1360    5040 ?             13:36   00:00  svchost.exe\n",
      "            4224  0.1    3636    7276 ?             13:36   00:57  UPService.exe\n",
      "            4240  0.1    7424    4644 ?             13:36   00:00  vmnetdhcp.exe\n",
      "            4304  0.1    1820    6428 ?             13:36   00:00  vmnat.exe\n",
      "            4336  0.2    5096   20400 ?             13:36   00:00  svchost.exe\n",
      "            4344  0.2    4796   20440 ?             13:36   00:00  ZeroConfigService.exe\n",
      "            4368  1.4  142764  117704 ?             13:36   03:07  MsMpEng.exe\n",
      "derek       4376  0.1    3596   11160 ?             14:13   00:00  dllhost.exe\n",
      "derek       4456  0.1    1756    9604 ?             16:42   00:00  rundll32.exe\n",
      "            4492  0.1    4384   11440 ?             13:36   00:23  svchost.exe\n",
      "derek       4528  0.9   45268   75044 ?             14:28   00:01  WinStore.App.exe\n",
      "            4616  0.1    2692    9208 ?             13:36   00:00  IntelCpHeciSvc.exe\n",
      "            4792  0.1    2512    9384 ?             13:36   00:00  micmute.exe\n",
      "            4800  0.1    5840   11244 ?             13:36   00:17  vmware-authd.exe\n",
      "            4812  0.2    4436   14484 ?             13:36   00:01  svchost.exe\n",
      "            4820  0.1    3572    9608 ?             13:36   00:00  tphkload.exe\n",
      "            4836  0.1    2516    8172 ?             13:36   00:00  vmware-usbarbitrator64.exe\n",
      "            4936  0.4    9912   34660 ?             13:36   00:07  svchost.exe\n",
      "            5084  0.1    1708    6828 ?             14:40   00:00  svchost.exe\n",
      "            5124  0.1    1292    4768 ?             13:36   00:00  svchost.exe\n",
      "            5172  0.2    5000   13972 ?             14:16   00:00  ChsIME.exe\n",
      "            5384  0.3   28712   27456 ?             13:36   00:01  vmware-hostd.exe\n",
      "            5596  0.1    1256    5100 ?             13:36   00:00  svchost.exe\n",
      "derek       5856  0.9   34544   72468 ?             14:28   00:00  HxOutlook.exe\n",
      "derek       5884  2.5  136508  201944 ?             13:39   08:48  chrome.exe\n",
      "            6024  0.1    2120    8688 ?             13:38   00:00  jhi_service.exe\n",
      "            6080  0.1    3968   11196 ?             13:36   00:00  WmiPrvSE.exe\n",
      "derek       6220  1.3   74912  106696 ?             13:49   02:34  chrome.exe\n",
      "derek       6264  0.3    6172   26064 ?             16:42   00:00  RuntimeBroker.exe\n",
      "derek       6320  0.4    7488   32748 ?             13:36   00:03  sihost.exe\n",
      "            6340  0.1   13084    9364 ?             13:36   00:03  NisSrv.exe\n",
      "derek       6344  0.2    4980   16520 ?             13:36   00:00  svchost.exe\n",
      "derek       6448  0.4    7916   31256 ?             13:36   00:06  svchost.exe\n",
      "derek       6464  0.5   31964   40628 ?             14:40   00:37  Lenovo.Modern.ImController.PluginHost.SettingsApp.exe\n",
      "            6568  0.2    3456   14848 ?             13:36   00:02  svchost.exe\n",
      "derek       6620  0.2    6128   15196 ?             13:36   00:00  taskhostw.exe\n",
      "            6672  0.2   26116   15788 ?             13:36   00:00  PresentationFontCache.exe\n",
      "            6712  0.1    1540    6232 ?             13:36   00:00  unsecapp.exe\n",
      "derek       6760    ?    1960     612 ?             13:36   00:00  TpShocks.exe\n",
      "            6932  0.1    1736    6800 ?             13:36   00:00  svchost.exe\n",
      "            6992  0.3   10228   23864 ?             13:36   00:08  ctfmon.exe\n",
      "derek       7064  2.0  138968  165244 ?             13:36   02:34  explorer.exe\n",
      "derek       7136  0.1    3392   10376 ?             13:36   00:00  igfxEM.exe\n",
      "derek       7228    ?    5632    2780 ?             13:36   00:00  RuntimeBroker.exe\n",
      "derek       7240  0.7   58080   58632 ?             13:39   00:23  chrome.exe\n",
      "            7336  0.1    2388    7972 ?             13:39   00:00  svchost.exe\n",
      "derek       7520  0.1    3324    8232 ?             13:36   00:00  igfxext.exe\n",
      "            7544  0.1    1552    6492 ?             13:36   00:00  svchost.exe\n",
      "            7608  0.1    1748    7864 ?             13:36   00:00  svchost.exe\n",
      "derek       7624  0.2   13340   14316 ?             13:36   00:47  UPSecurityInput.exe\n",
      "            7660  0.6   16964   48880 ?             13:36   00:10  ChsIME.exe\n",
      "derek       7680  0.5   12968   43744 ?             14:15   00:09  IDMan.exe\n",
      "derek       7696  0.4    7764   33476 ?             13:40   00:03  RuntimeBroker.exe\n",
      "derek       7704  0.9   76276   77076 ?             13:36   00:03  SearchUI.exe\n",
      "derek       7732  0.2    5288   19116 ?             13:39   00:00  SystemSettingsBroker.exe\n",
      "derek       7856  1.1   92476   91104 ?             13:39   00:45  chrome.exe\n",
      "derek       7940  0.1    2400   10616 ?             13:36   00:00  tposd.exe\n",
      "            7952  0.1    2436    7296 ?             13:36   00:00  shtctky.exe\n",
      "            8016  0.2   10000   17884 ?             14:13   00:00  svchost.exe\n",
      "            8060  0.1    7356    8748 ?             13:36   00:05  ClvAssist.exe\n",
      "derek       8072  1.3   46208  110108 ?             13:36   00:15  ShellExperienceHost.exe\n",
      "derek       8256  0.4    8228   29116 ?             14:39   00:00  RuntimeBroker.exe\n",
      "derek       8492  0.2    9380   20156 ?             13:36   00:01  RuntimeBroker.exe\n",
      "derek       8572  0.3    5820   22792 ?             16:42   00:00  RuntimeBroker.exe\n",
      "derek       8592  0.4   13604   34748 ?             13:36   00:01  RuntimeBroker.exe\n",
      "derek       8692    ?   42568     216 ?             13:36   00:01  SkypeHost.exe\n",
      "derek       8784  0.3    7836   22244 ?             16:44   00:00  conhost.exe\n",
      "            8788  0.2    4120   12360 ?             13:38   00:11  Core Temp.exe\n",
      "derek       8840  0.1   15648    6052 ?             13:36   00:12  SettingSyncHost.exe\n",
      "            8900  0.6   34420   46688 ?             13:36   00:14  SearchIndexer.exe\n",
      "            8928    ?    1524     720 ?             13:36   00:01  conhost.exe\n",
      "derek       9000  1.6   71568  133368 ?             16:42   00:26  NeteaseMusic.exe\n",
      "            9032    ?    2204    1832 ?             13:38   00:00  GoogleUpdate.exe\n",
      "            9136  0.1    6804    8768 ?             15:37   00:00  svchost.exe\n",
      "derek       9308  0.2   11620   18136 ?             13:36   00:03  flux.exe\n",
      "            9312  0.1    2204    8368 ?             13:38   00:00  aesm_service.exe\n",
      "derek       9352  0.1    1880    7804 ?             13:36   00:00  MSASCuiL.exe\n",
      "derek       9624  0.2    7176   19256 ?             13:36   00:02  SynTPEnh.exe\n",
      "            9676  0.2   11848   18772 ?             16:42   02:12  audiodg.exe\n",
      "derek       9848  0.4    9372   31068 ?             13:36   00:04  svchost.exe\n",
      "            9928  0.1    1316    5728 ?             13:36   00:00  svchost.exe\n",
      "           10128    ?     992    4088 ?             13:36   00:00  SynTPHelper.exe\n",
      "derek      10160  1.0   57028   78368 ?             13:36   00:32  Listary.exe\n",
      "derek      10292  0.3    8472   27676 ?             13:36   00:01  ListaryHelper64.exe\n",
      "           10316  0.2    7344   19508 ?             13:36   00:40  ListaryHookHelper32.exe\n",
      "derek      10332    ?    5128    4088 ?             13:36   00:01  rundll32.exe\n",
      "           10340  0.3   10616   21128 ?             13:36   00:00  ListaryHookHelper64.exe\n",
      "derek      10564  0.6   37460   52596 ?             13:36   18:57  Rainmeter.exe\n",
      "derek      10652  2.7  228460  222604 ?             13:39   04:41  chrome.exe\n",
      "           10656  0.1    2192    6852 ?             13:38   00:00  svchost.exe\n",
      "derek      10764  2.1  122668  170152 ?             14:43   01:48  chrome.exe\n",
      "derek      10872  0.1    1568    8076 ?             13:36   00:04  TranslucentTB.exe\n",
      "derek      10928  0.3    5944   21000 ?             14:28   00:00  RuntimeBroker.exe\n",
      "           10944  0.2    4072   14256 ?             13:36   00:00  svchost.exe\n",
      "           10960  0.1    8544    9400 ?             13:36   00:03  CCleaner64.exe\n",
      "derek      10980  0.1    1772    8224 ?             14:15   00:12  IEMonitor.exe\n",
      "derek      11000  0.1    2140    8548 ?             13:39   00:00  chrome.exe\n",
      "           11092  0.2    5080   14648 ?             13:36   00:00  svchost.exe\n",
      "derek      11300  0.5   12368   38340 ?             14:39   00:00  LockApp.exe\n",
      "derek      11344  0.1    2112    8868 ?             13:39   00:00  chrome.exe\n",
      "derek      11504  0.5   21988   37348 ?             14:13   00:01  ApplicationFrameHost.exe\n",
      "derek      11684  1.1   66680   87660 ?             16:44   00:04  python.exe\n",
      "           11796  0.3   30896   27920 ?             13:36   00:01  DolbyDAX2API.exe\n",
      "derek      12348  0.2    8216   15112 ?             16:44   00:00  python.exe\n",
      "derek      12752  0.1   66176    5816 ?             13:36   00:01  SmartAudio.exe\n",
      "           12884  0.1    3252   10656 ?             13:38   00:00  LMS.exe\n",
      "derek      12924    ?    1980     392 ?             13:37   00:00  CAudioFilterAgent64.exe\n",
      "           12976  0.1    1648    7148 ?             13:38   00:00  SocketHeciServer.exe\n",
      "derek      13216  1.3  101140  110840 ?             16:44   00:03  python.exe\n",
      "           13236  0.2    3788   14152 ?             13:46   00:04  svchost.exe\n",
      "derek      13296  0.1    1972    7540 ?             13:37   00:00  dllhost.exe\n",
      "           13436  0.1    1524    6516 ?             17:16   00:00  SearchFilterHost.exe\n",
      "derek      13700  0.3   18848   24376 ?             14:40   00:08  chrome.exe\n",
      "derek      14228  0.1    1716    7660 ?             14:41   00:00  LPlatSvc.exe\n"
     ]
    }
   ],
   "source": [
    "psutil.test()"
   ]
  },
  {
   "cell_type": "markdown",
   "metadata": {},
   "source": [
    "## 图形界面"
   ]
  },
  {
   "cell_type": "code",
   "execution_count": 23,
   "metadata": {
    "collapsed": true
   },
   "outputs": [],
   "source": [
    "from tkinter import *\n",
    "\n",
    "class Application(Frame):\n",
    "    def __init__(self, master=None):\n",
    "        Frame.__init__(self, master)\n",
    "        self.pack()\n",
    "        self.createWidgets()\n",
    "    \n",
    "    def createWidgets(self):\n",
    "        self.HelloLabel = Label(self, text='Hello World')\n",
    "        self.HelloLabel.pack()\n",
    "        self.quitButton = Button(self, text='Quit', command = self.quit)\n",
    "        self.quitButton.pack()"
   ]
  },
  {
   "cell_type": "raw",
   "metadata": {},
   "source": [
    "说明：\n",
    "在GUI中，每个Button、Label、输入框等，都是一个Widget。Frame则是可以容纳其他Widget的Widget，所有的Widget组合起来就是一棵树。每一个gui程序都有一个称为顶层(toplevel)的窗口管理器用于管理那些Widget(即窗口部件,如按钮，输入框之类的)，这个窗口管理器就是这些下级部件的master，master=None是表示Application这个类的master默认为None，即它是顶层窗口。\n",
    "\n",
    "pack()方法把Widget加入到父容器中，并实现布局。pack()是最简单的布局，grid()可以实现更复杂的布局。\n",
    "\n",
    "在createWidgets()方法中，我们创建一个Label和一个Button，当Button被点击时，触发self.quit()使程序退出。\n",
    "\n",
    "在建立好可以容纳所有Widget的父容器Application类之后，实例化Application，并启动消息循环\n",
    "note: app.master是返回当前顶层窗口的对象，然后再调用title这个方法设置title，master=None只是表明app是顶层窗口而已。"
   ]
  },
  {
   "cell_type": "code",
   "execution_count": null,
   "metadata": {
    "collapsed": true
   },
   "outputs": [],
   "source": [
    "app = Application()\n",
    "app.master.title('hello world')\n",
    "app.mainloop()"
   ]
  },
  {
   "cell_type": "code",
   "execution_count": 8,
   "metadata": {
    "collapsed": true
   },
   "outputs": [],
   "source": [
    "# 输入文本\n",
    "from tkinter import *\n",
    "import tkinter.messagebox as messagebox\n",
    "\n",
    "class Application(Frame):\n",
    "    def __init__(self, master=None):\n",
    "        Frame.__init__(self, master)\n",
    "        self.pack()\n",
    "        self.createWidgets()\n",
    "        \n",
    "    def createWidgets(self):\n",
    "        self.nameInput = Entry(self)\n",
    "        self.nameInput.pack()\n",
    "        self.alertButton = Button(self, text='Hello', command=self.hello)\n",
    "        self.alertButton.pack()\n",
    "# 注意此处，command = self.hello， 而不是self.hello(), 两者的区别在于前者的调用函数本身，而后者是调用函数返回的结果，见下面例子说\n",
    "# 若想向button的command中传递参数，可以选择使用lambda函数: command = lambda: f(x)\n",
    "    def hello(self):\n",
    "        name = self.nameInput.get() or 'World'\n",
    "        messagebox.showinfo('Message', 'Hello %s' % name)\n",
    "        \n",
    "app = Application()\n",
    "app.master.title('Hello World')\n",
    "app.mainloop()"
   ]
  },
  {
   "cell_type": "code",
   "execution_count": 34,
   "metadata": {},
   "outputs": [
    {
     "name": "stdout",
     "output_type": "stream",
     "text": [
      "<function f at 0x000001CE8458B268>\n",
      "4\n"
     ]
    }
   ],
   "source": [
    "def f(x):\n",
    "    return x * x\n",
    "\n",
    "print(f)\n",
    "print(f(2))"
   ]
  },
  {
   "cell_type": "markdown",
   "metadata": {},
   "source": [
    "# 网络编程\n",
    "## TCP编程"
   ]
  },
  {
   "cell_type": "code",
   "execution_count": 37,
   "metadata": {
    "collapsed": true
   },
   "outputs": [],
   "source": [
    "# 导入socket库\n",
    "import socket\n",
    "\n",
    "#创建一个基于tcp链接的Socket：AF_INET指定使用IPv4协议，如果要用IPv6，就指定为AF_INET6。SOCK_STREAM指定使用面向流的TCP协议\n",
    "s = socket.socket(socket.AF_INET, socket.SOCK_STREAM)\n",
    "#建立连接：\n",
    "s.connect(('www.sina.com.cn',80))"
   ]
  },
  {
   "cell_type": "code",
   "execution_count": 38,
   "metadata": {},
   "outputs": [
    {
     "name": "stdout",
     "output_type": "stream",
     "text": [
      "HTTP/1.1 200 OK\r\n",
      "Server: nginx\r\n",
      "Date: Mon, 19 Mar 2018 03:00:41 GMT\r\n",
      "Content-Type: text/html\r\n",
      "Content-Length: 603473\r\n",
      "Connection: close\r\n",
      "Last-Modified: Mon, 19 Mar 2018 02:56:56 GMT\r\n",
      "Vary: Accept-Encoding\r\n",
      "X-Powered-By: shci_v1.03\r\n",
      "Expires: Mon, 19 Mar 2018 03:01:40 GMT\r\n",
      "Cache-Control: max-age=60\r\n",
      "Age: 0\r\n",
      "Via: http/1.1 ctc.ningbo.ha2ts4.97 (ApacheTrafficServer/6.2.1 [cHs f ]), http/1.1 ctc.xiamen.ha2ts4.41 (ApacheTrafficServer/6.2.1 [cHs f ])\r\n",
      "X-Via-Edge: 1521428441485575d18743cd64cde6d9f1713\r\n",
      "X-Cache: HIT.41\r\n",
      "X-Via-CDN: f=edge,s=ctc.xiamen.ha2ts4.41.nb.sinaedge.com,c=116.24.93.87;f=Edge,s=ctc.xiamen.ha2ts4.41,c=222.76.214.41\n"
     ]
    }
   ],
   "source": [
    "#发送数据\n",
    "s.send(b'GET / HTTP/1.1\\r\\nHost:www.sina.com.cn\\r\\nConnection:close\\r\\n\\r\\n')\n",
    "\n",
    "#接受数据\n",
    "buffer = []\n",
    "while True:\n",
    "    # 每次最多接收1k字节\n",
    "    d = s.recv(1024)\n",
    "    if d:\n",
    "        buffer.append(d)\n",
    "    else:\n",
    "        break\n",
    "data = b''.join(buffer)\n",
    "\n",
    "#关闭连接\n",
    "s.close()\n",
    "\n",
    "header, html = data.split(b'\\r\\n\\r\\n', 1)\n",
    "print(header.decode('utf-8'))\n",
    "with open('sina.html', 'wb') as f:\n",
    "    f.write(html)"
   ]
  },
  {
   "cell_type": "markdown",
   "metadata": {},
   "source": [
    "# 电子邮件\n",
    "\n",
    "要编写程序来发送和接收邮件，本质上就是：\n",
    "\n",
    "编写MUA(message user agent)把邮件发到MTA (message transfer agent)；\n",
    "\n",
    "编写MUA从MDA (message delivery agent)上收邮件。\n",
    "\n",
    "发邮件时，MUA和MTA使用的协议就是SMTP：Simple Mail Transfer Protocol，后面的MTA到另一个MTA也是用SMTP协议。\n",
    "\n",
    "收邮件时，MUA和MDA使用的协议有两种：POP：Post Office Protocol，目前版本是3，俗称POP3；IMAP：Internet Message Access Protocol，目前版本是4，优点是不但能取邮件，还可以直接操作MDA上存储的邮件，比如从收件箱移到垃圾箱，等等。\n",
    "\n",
    "SMTP是发送邮件的协议，Python内置对SMTP的支持，可以发送纯文本邮件、HTML邮件以及带附件的邮件。\n",
    "\n",
    "Python对SMTP支持有smtplib和email两个模块，email负责构造邮件，smtplib负责发送邮件。"
   ]
  },
  {
   "cell_type": "code",
   "execution_count": 50,
   "metadata": {
    "collapsed": true
   },
   "outputs": [],
   "source": [
    "# 构造邮件\n",
    "from email.mime.text import MIMEText\n",
    "\n",
    "msg = MIMEText('hello, this is message sent by me using python', 'plain', 'utf-8')"
   ]
  },
  {
   "cell_type": "raw",
   "metadata": {},
   "source": [
    "注意到构造MIMEText对象时，第一个参数就是邮件正文，第二个参数是MIME的subtype，传入'plain'表示纯文本，最终的MIME就是'text/plain'，最后一定要用utf-8编码保证多语言兼容性。\n",
    "\n",
    "然后，通过SMTP发出去：注意到构造MIMEText对象时，第一个参数就是邮件正文，第二个参数是MIME的subtype，传入'plain'表示纯文本，最终的MIME就是'text/plain'，最后一定要用utf-8编码保证多语言兼容性。\n",
    "\n",
    "然后，通过SMTP发出去："
   ]
  },
  {
   "cell_type": "code",
   "execution_count": 51,
   "metadata": {},
   "outputs": [
    {
     "name": "stdout",
     "output_type": "stream",
     "text": [
      "From: derekwangwx@163.com\n",
      "Password:albertml@2018\n",
      "To: 954844431@qq.com\n",
      "SMTP Server: smtp.163.com\n"
     ]
    },
    {
     "data": {
      "text/plain": [
       "(221, b'Bye')"
      ]
     },
     "execution_count": 51,
     "metadata": {},
     "output_type": "execute_result"
    }
   ],
   "source": [
    "from_addr = input('From: ')\n",
    "password = input('Password:')\n",
    "to_addr = input('To: ')\n",
    "\n",
    "msg['Subject'] = 'first_email'\n",
    "msg['From'] = from_addr\n",
    "msg['To'] = to_addr\n",
    "# 如果没有给msg加上这些属性，会出现554 DT:SPM的错误\n",
    "\n",
    "smtp_server = input('SMTP Server: ')\n",
    "\n",
    "import smtplib\n",
    "server = smtplib.SMTP(smtp_server, 25) # SMTP协议默认端口是25\n",
    "server.set_debuglevel(1)\n",
    "#用set_debuglevel(1)就可以打印出和SMTP服务器交互的所有信息。\n",
    "server.login(from_addr, password)\n",
    "server.sendmail(from_addr, [to_addr], msg.as_string())\n",
    "server.quit()"
   ]
  },
  {
   "cell_type": "raw",
   "metadata": {},
   "source": [
    "邮件主题、如何显示发件人、收件人等信息并不是通过SMTP协议发给MTA，而是包含在发给MTA的文本中的，所以，我们必须把From、To和Subject添加到MIMEText中，才是一封完整的邮件\n",
    "\n",
    "首先编写一个函数_format_addr()来格式化一个邮件地址。注意不能简单地传入name <addr@example.com>，因为如果包含中文，需要通过Header对象进行编码。\n",
    "\n",
    "msg['To']接收的是字符串而不是list，如果有多个邮件地址，用,分隔即可。\n",
    "\n",
    "再发送一遍邮件，就可以在收件人邮箱中看到正确的标题、发件人和收件人"
   ]
  },
  {
   "cell_type": "code",
   "execution_count": 53,
   "metadata": {},
   "outputs": [
    {
     "name": "stdout",
     "output_type": "stream",
     "text": [
      "From: derekwangwx@163.com\n",
      "Password: albertml@2018\n",
      "To: 954844431@qq.com\n",
      "SMTP server: smtp.163.com\n"
     ]
    },
    {
     "name": "stderr",
     "output_type": "stream",
     "text": [
      "send: 'ehlo windows10.microdone.cn\\r\\n'\n",
      "reply: b'250-mail\\r\\n'\n",
      "reply: b'250-PIPELINING\\r\\n'\n",
      "reply: b'250-AUTH LOGIN PLAIN\\r\\n'\n",
      "reply: b'250-AUTH=LOGIN PLAIN\\r\\n'\n",
      "reply: b'250-coremail 1Uxr2xKj7kG0xkI17xGrU7I0s8FY2U3Uj8Cz28x1UUUUU7Ic2I0Y2UFiscqCUCa0xDrUUUUj\\r\\n'\n",
      "reply: b'250-STARTTLS\\r\\n'\n",
      "reply: b'250 8BITMIME\\r\\n'\n",
      "reply: retcode (250); Msg: b'mail\\nPIPELINING\\nAUTH LOGIN PLAIN\\nAUTH=LOGIN PLAIN\\ncoremail 1Uxr2xKj7kG0xkI17xGrU7I0s8FY2U3Uj8Cz28x1UUUUU7Ic2I0Y2UFiscqCUCa0xDrUUUUj\\nSTARTTLS\\n8BITMIME'\n",
      "send: 'AUTH PLAIN AGRlcmVrd2FuZ3d4QDE2My5jb20AYWxiZXJ0bWxAMjAxOA==\\r\\n'\n",
      "reply: b'235 Authentication successful\\r\\n'\n",
      "reply: retcode (235); Msg: b'Authentication successful'\n",
      "send: 'mail FROM:<derekwangwx@163.com>\\r\\n'\n",
      "reply: b'250 Mail OK\\r\\n'\n",
      "reply: retcode (250); Msg: b'Mail OK'\n",
      "send: 'rcpt TO:<954844431@qq.com>\\r\\n'\n",
      "reply: b'250 Mail OK\\r\\n'\n",
      "reply: retcode (250); Msg: b'Mail OK'\n",
      "send: 'data\\r\\n'\n",
      "reply: b'354 End data with <CR><LF>.<CR><LF>\\r\\n'\n",
      "reply: retcode (354); Msg: b'End data with <CR><LF>.<CR><LF>'\n",
      "data: (354, b'End data with <CR><LF>.<CR><LF>')\n",
      "send: b'Content-Type: text/html; charset=\"utf-8\"\\r\\nMIME-Version: 1.0\\r\\nContent-Transfer-Encoding: base64\\r\\nFrom: =?utf-8?b?UHl0aG9u54ix5aW96ICF?= <derekwangwx@163.com>\\r\\nTo: =?utf-8?b?566h55CG5ZGY?= <954844431@qq.com>\\r\\nSubject: =?utf-8?b?5p2l6IeqU01UUOeahOmXruWAmQ==?=\\r\\n\\r\\nPGh0bWw+PGJvZHk+PGgxPkhlbGxvPC9oMT48cD4gc2VudCBieSA8YSBocmVmPSJodHRwOi8vd3d3\\r\\nLnB5dGhvbi5vcmciPlB5dGhvbjwvYT48L3A+PC9ib2R5PjwvaHRtbD4=\\r\\n.\\r\\n'\n",
      "reply: b'250 Mail OK queued as smtp12,EMCowAC3+s4+Ua9aZJCAFA--.21877S2 1521439040\\r\\n'\n",
      "reply: retcode (250); Msg: b'Mail OK queued as smtp12,EMCowAC3+s4+Ua9aZJCAFA--.21877S2 1521439040'\n",
      "data: (250, b'Mail OK queued as smtp12,EMCowAC3+s4+Ua9aZJCAFA--.21877S2 1521439040')\n",
      "send: 'quit\\r\\n'\n",
      "reply: b'221 Bye\\r\\n'\n",
      "reply: retcode (221); Msg: b'Bye'\n"
     ]
    },
    {
     "data": {
      "text/plain": [
       "(221, b'Bye')"
      ]
     },
     "execution_count": 53,
     "metadata": {},
     "output_type": "execute_result"
    }
   ],
   "source": [
    "from email import encoders\n",
    "from email.header import Header\n",
    "from email.mime.text import MIMEText\n",
    "from email.utils import parseaddr, formataddr\n",
    "\n",
    "import smtplib\n",
    "\n",
    "def _format_addr(s):\n",
    "    name, addr = parseaddr(s)\n",
    "    return formataddr((Header(name, 'utf-8').encode(), addr))\n",
    "\n",
    "from_addr = input('From: ')\n",
    "password = input('Password: ')\n",
    "to_addr = input('To: ')\n",
    "smtp_server = input('SMTP server: ')\n",
    "\n",
    "msg = MIMEText('<html><body><h1>Hello</h1>' +\n",
    "              '<p> sent by <a href=\"http://www.python.org\">Python</a></p>' + \n",
    "              '</body></html>', 'html', 'utf-8')\n",
    "msg['From'] = _format_addr('Python爱好者<%s>' % from_addr)\n",
    "msg['To'] = _format_addr('管理员<%s>'% to_addr)\n",
    "msg['Subject'] = Header('来自SMTP的问候', 'utf-8').encode()\n",
    "# encode(): Encode a message header into an RFC-compliant format\n",
    "# RFC 2822 is the base standard that describes the format of email messages\n",
    "\n",
    "server = smtplib.SMTP(smtp_server, 25)\n",
    "server.set_debuglevel(1)\n",
    "server.login(from_addr, password)\n",
    "server.sendmail(from_addr, [to_addr], msg.as_string())\n",
    "server.quit()"
   ]
  },
  {
   "cell_type": "code",
   "execution_count": 54,
   "metadata": {
    "collapsed": true
   },
   "outputs": [],
   "source": [
    "# 发送html邮件\n",
    "# 在构造MIMEText对象时，把HTML字符串传进去，再把第二个参数由plain变为html就可以了\n",
    "msg = MIMEText('<html><body><h1>Hello</h1>' +\n",
    "              '<p> sent by <a href=\"http://www.python.org\">Python</a></p>' + \n",
    "              '</body></html>', 'html', 'utf-8')"
   ]
  },
  {
   "cell_type": "raw",
   "metadata": {},
   "source": [
    "POP3 收取邮件\n",
    "\n",
    "收取邮件分两步：\n",
    "\n",
    "第一步：用poplib把邮件的原始文本下载到本地；\n",
    "\n",
    "第二部：用email解析原始文本，还原为邮件对象。\n"
   ]
  },
  {
   "cell_type": "code",
   "execution_count": null,
   "metadata": {
    "collapsed": true
   },
   "outputs": [],
   "source": [
    "import poplib\n",
    "\n",
    "#输入邮件地址，口令和pop3服务器地址\n",
    "email = input('Email: ')\n",
    "password = input('password: ')\n",
    "pop3_server = input('Pop3 server: ')\n",
    "\n",
    "#连接到POP3服务器\n",
    "server = poplib.POP3(pop3_server)\n",
    "# 可以打开或关闭调试信息:\n",
    "server.set_debuglevel(1)\n",
    "# 可选，打印POP3服务器的欢迎文字:\n",
    "print(server.getWelcome().decode('utf-8'))\n",
    "\n",
    "#身份认证\n",
    "server.user(email)\n",
    "server.pass_(password)\n",
    "\n",
    "# stat() 返回邮件数量和占用空间\n",
    "print('Messags: %s, Size: %s' % server.stat())\n",
    "# list() 返回所有邮件的编号\n",
    "resp, mails, octets = server.list()\n",
    "# 可以查看返回的列表\n",
    "print(mails)\n",
    "\n",
    "#获取最新的一封邮件，索引从1开始，而不是0\n",
    "index = len(mails)\n",
    "resp, lines, octets = server.retr(index)\n",
    "\n",
    "msg_content = b'\\r\\n'.join(lines).decode('utf-8')\n",
    "msg = Parser().parsestr(msg_content)\n",
    "\n",
    "server.quit()"
   ]
  },
  {
   "cell_type": "markdown",
   "metadata": {},
   "source": [
    "# 数据库"
   ]
  },
  {
   "cell_type": "code",
   "execution_count": 3,
   "metadata": {
    "collapsed": true
   },
   "outputs": [],
   "source": [
    "import sqlite3\n",
    "\n",
    "conn = sqlite3.connect('test.db')"
   ]
  },
  {
   "cell_type": "code",
   "execution_count": null,
   "metadata": {
    "collapsed": true
   },
   "outputs": [],
   "source": [
    "\n"
   ]
  }
 ],
 "metadata": {
  "kernelspec": {
   "display_name": "Python 3",
   "language": "python",
   "name": "python3"
  },
  "language_info": {
   "codemirror_mode": {
    "name": "ipython",
    "version": 3
   },
   "file_extension": ".py",
   "mimetype": "text/x-python",
   "name": "python",
   "nbconvert_exporter": "python",
   "pygments_lexer": "ipython3",
   "version": "3.6.4"
  }
 },
 "nbformat": 4,
 "nbformat_minor": 2
}
