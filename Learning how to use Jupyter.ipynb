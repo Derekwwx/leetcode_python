{
 "cells": [
  {
   "cell_type": "markdown",
   "metadata": {},
   "source": [
    "# Learning Jupyter"
   ]
  },
  {
   "cell_type": "markdown",
   "metadata": {},
   "source": [
    "Other helpful links for learning Jupyter notebook:\n",
    "\n",
    "Jupyter Notebook的27个秘诀: https://www.zybuluo.com/hanxiaoyang/note/534296\n",
    "\n",
    "Jupyter notebook快捷键大全: http://blog.csdn.net/lawme/article/details/51034543"
   ]
  },
  {
   "cell_type": "markdown",
   "metadata": {},
   "source": [
    "# 快捷键"
   ]
  },
  {
   "cell_type": "markdown",
   "metadata": {},
   "source": [
    "Jupyter Notebook 有两种键盘输入模式。编辑模式，允许你往单元中键入代码或文本；这时的单元框线是绿色的。命令模式，键盘输入运行程序命令；这时的单元框线是灰色。\n",
    "NOTE：需要查看jupyter快捷键，点击 help->keyboard shortcuts"
   ]
  },
  {
   "cell_type": "markdown",
   "metadata": {},
   "source": [
    "## 命令模式(按键Esc开启)\n",
    "\n",
    "Enter : 转入编辑模式\n",
    "Shift-Enter : 运行本单元，选中下个单元\n",
    "Ctrl-Enter : 运行本单元\n",
    "Alt-Enter : 运行本单元，在其下插入新单元\n",
    "Y : 单元转入代码状态\n",
    "M :单元转入markdown状态\n",
    "R : 单元转入raw状态\n",
    "1 : 设定 1 级标题\n",
    "2 : 设定 2 级标题\n",
    "3 : 设定 3 级标题 etc.\n",
    "shift-J : 扩大选中下方单元\n",
    "A : 在上方插入新单元\n",
    "B : 在下方插入新单元\n",
    "X : 剪切选中的单元\n",
    "C : 复制选中的单元\n",
    "Shift-V : 粘贴到上方单元\n",
    "V : 粘贴到下方单元\n",
    "Z : 恢复删除的最后一个单元\n",
    "D,D : 删除选中的单元 (连点两下D键)\n",
    "Shift-M : 合并选中的单元"
   ]
  },
  {
   "cell_type": "markdown",
   "metadata": {},
   "source": [
    "## 编辑模式(按Enter键启动)\n",
    "Tab : 代码补全或缩进\n",
    "Shift-Tab : 查看函数帮助\n",
    "Ctrl-] : 缩进\n",
    "Ctrl-[ : 解除缩进\n",
    "Ctrl-A : 全选\n",
    "Ctrl-Z : 复原"
   ]
  },
  {
   "cell_type": "markdown",
   "metadata": {
    "collapsed": true
   },
   "source": [
    "## A very simple operation\n",
    "let's add two numbers"
   ]
  },
  {
   "cell_type": "code",
   "execution_count": 15,
   "metadata": {},
   "outputs": [
    {
     "data": {
      "text/plain": [
       "5"
      ]
     },
     "execution_count": 15,
     "metadata": {},
     "output_type": "execute_result"
    }
   ],
   "source": [
    "2+3"
   ]
  },
  {
   "cell_type": "code",
   "execution_count": 23,
   "metadata": {},
   "outputs": [
    {
     "data": {
      "text/plain": [
       "3"
      ]
     },
     "execution_count": 23,
     "metadata": {},
     "output_type": "execute_result"
    }
   ],
   "source": [
    "x=3\n",
    "x"
   ]
  },
  {
   "cell_type": "markdown",
   "metadata": {
    "collapsed": true
   },
   "source": [
    "## Python plot practice\n",
    "想要输出图像，必须在之前的单元格内输入：%matplotlib inline，并且执行，否则只会输出图像的说明文字"
   ]
  },
  {
   "cell_type": "code",
   "execution_count": 9,
   "metadata": {
    "collapsed": true
   },
   "outputs": [],
   "source": [
    "%matplotlib inline"
   ]
  },
  {
   "cell_type": "code",
   "execution_count": 10,
   "metadata": {},
   "outputs": [
    {
     "data": {
      "text/plain": [
       "[<matplotlib.lines.Line2D at 0x17f558cd748>]"
      ]
     },
     "execution_count": 10,
     "metadata": {},
     "output_type": "execute_result"
    },
    {
     "data": {
      "image/png": "[encoded data removed]",
      "text/plain": [
       "<matplotlib.figure.Figure at 0x17f5584c8d0>"
      ]
     },
     "metadata": {},
     "output_type": "display_data"
    }
   ],
   "source": [
    "import matplotlib.pyplot as plt\n",
    "import numpy as np\n",
    "\n",
    "x = np.arange(20)\n",
    "y = x ** 2\n",
    "\n",
    "plt.plot(x, y)"
   ]
  },
  {
   "cell_type": "markdown",
   "metadata": {
    "collapsed": true
   },
   "source": [
    "# 列出所在文件夹的文件"
   ]
  },
  {
   "cell_type": "code",
   "execution_count": 13,
   "metadata": {},
   "outputs": [
    {
     "name": "stdout",
     "output_type": "stream",
     "text": [
      " Volume in drive D is Software and Entertainment\n",
      " Volume Serial Number is E4AB-1D54\n",
      "\n",
      " Directory of D:\\software\\Anaconda\\projects\n",
      "\n",
      "02/14/2018  01:43 PM    <DIR>          .\n",
      "02/14/2018  01:43 PM    <DIR>          ..\n",
      "02/14/2018  01:31 PM    <DIR>          .ipynb_checkpoints\n",
      "02/14/2018  01:43 PM            15,584 test.ipynb\n",
      "               1 File(s)         15,584 bytes\n",
      "               3 Dir(s)  183,953,580,032 bytes free\n"
     ]
    }
   ],
   "source": [
    "ls"
   ]
  },
  {
   "cell_type": "markdown",
   "metadata": {},
   "source": [
    "# Markdown用法\n",
    "插入图片"
   ]
  },
  {
   "cell_type": "markdown",
   "metadata": {},
   "source": [
    "<img src=\"http://blog.jupyter.org/content/images/2015/02/jupyter-sq-text.png\"\n",
    "style=\"width:100px;height:100px;float:left\">"
   ]
  },
  {
   "cell_type": "markdown",
   "metadata": {},
   "source": [
    "如果将Jupyter Notebook导给一个业务报告员看，不想显示那些密密麻麻的代码，只想显示markdown和图表，可以在notebook中加入以下代码即可\n",
    "import IPython.core.display as di\n",
    "di.display_html(‘<script>jQuery(function() {if (jQuery(\"body.notebook_app\").length == 0) { jQuery(\".input_area\").toggle(); jQuery(\".prompt\").toggle();}}); </script>’, raw=True)"
   ]
  },
  {
   "cell_type": "markdown",
   "metadata": {},
   "source": [
    "## Jupyter Commands\n",
    "使用%%前缀或者%，如下写入文件"
   ]
  },
  {
   "cell_type": "code",
   "execution_count": 25,
   "metadata": {},
   "outputs": [
    {
     "name": "stdout",
     "output_type": "stream",
     "text": [
      "Overwriting printName.py\n"
     ]
    }
   ],
   "source": [
    "%%writefile printName.py\n",
    "print(\"Derek Wang\")"
   ]
  },
  {
   "cell_type": "markdown",
   "metadata": {},
   "source": [
    "打开刚才写入的文件"
   ]
  },
  {
   "cell_type": "code",
   "execution_count": 26,
   "metadata": {
    "collapsed": true
   },
   "outputs": [],
   "source": [
    "%pycat printName.py"
   ]
  },
  {
   "cell_type": "code",
   "execution_count": 27,
   "metadata": {},
   "outputs": [
    {
     "name": "stdout",
     "output_type": "stream",
     "text": [
      "Derek Wang\n"
     ]
    }
   ],
   "source": [
    "%run printName.py"
   ]
  },
  {
   "cell_type": "markdown",
   "metadata": {},
   "source": [
    "## Magic Lists"
   ]
  },
  {
   "cell_type": "markdown",
   "metadata": {},
   "source": [
    "魔法命令都以%或者%%开头，以%开头的称为行命令，%%开头的称为单元命令。行命令只对命令所在的行有效，而单元命令则必须出现在单元的第一行，对整个单元的代码进行处理。       \n",
    "\n",
    "在Jupyter中执行%lsmagic可以列举所有的魔法命令；%magic可以查看关于各个命令的说明，而在%命令之后添加?可以查看该命令的详细说明。\n",
    "\n",
    "%load ./printName.py 载入外部脚本\n",
    "\n",
    "%%writefile\n",
    "可以保存cell下面内容到文件\n",
    "\n",
    "%pycat\n",
    "弹窗打开文件\n",
    "\n",
    "%pdb\n",
    "调试程序\n",
    "\n",
    "%%time\n",
    "cell内代码的单次运行时间信息\n",
    "\n",
    "%who\n",
    "列出所有的全局变量\n",
    "\n",
    "%%bash,%%HTML,%%python2,%%ruby  指定解释器\n",
    "\n",
    "使用Unix命令, 加！， eg. !pwd (显示当前目录)"
   ]
  },
  {
   "cell_type": "code",
   "execution_count": null,
   "metadata": {
    "collapsed": true
   },
   "outputs": [],
   "source": [
    "# %load ./printName.py\n",
    "print(\"Derek Wang\")"
   ]
  },
  {
   "cell_type": "code",
   "execution_count": 21,
   "metadata": {
    "collapsed": true
   },
   "outputs": [],
   "source": [
    "%magic"
   ]
  }
 ],
 "metadata": {
  "kernelspec": {
   "display_name": "Python 3",
   "language": "python",
   "name": "python3"
  },
  "language_info": {
   "codemirror_mode": {
    "name": "ipython",
    "version": 3
   },
   "file_extension": ".py",
   "mimetype": "text/x-python",
   "name": "python",
   "nbconvert_exporter": "python",
   "pygments_lexer": "ipython3",
   "version": "3.6.3"
  }
 },
 "nbformat": 4,
 "nbformat_minor": 2
}
