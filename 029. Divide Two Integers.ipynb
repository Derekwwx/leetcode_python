{
 "cells": [
  {
   "cell_type": "markdown",
   "metadata": {},
   "source": [
    "# Description"
   ]
  },
  {
   "cell_type": "raw",
   "metadata": {},
   "source": [
    "Given two integers dividend and divisor, divide two integers without using multiplication, division and mod operator.\n",
    "\n",
    "Return the quotient after dividing dividend by divisor.\n",
    "\n",
    "Example 1:\n",
    "Input: dividend = 10, divisor = 3\n",
    "Output: 3\n",
    "\n",
    "Example 2:\n",
    "Input: dividend = 7, divisor = -3\n",
    "Output: -2\n",
    "\n",
    "Note:\n",
    "Both dividend and divisor will be 32-bit signed integers.\n",
    "The divisor will never be 0.\n",
    "Assume we are dealing with an environment which could only store integers within the 32-bit signed integer range: [−2^31,  2^31 − 1]. For the purpose of this problem, assume that your function returns 2^31 − 1 when the division result overflows."
   ]
  },
  {
   "cell_type": "code",
   "execution_count": 9,
   "metadata": {},
   "outputs": [
    {
     "name": "stdout",
     "output_type": "stream",
     "text": [
      "-7\n"
     ]
    }
   ],
   "source": [
    "# Time limit exceeded\n",
    "# 修改循环语句while dividend >= divisor的内容\n",
    "# 56 ms in 989 tests, over 98%\n",
    "class Solution:\n",
    "    def divide(self, dividend, divisor):\n",
    "        \"\"\"\n",
    "        :type dividend: int\n",
    "        :type divisor: int\n",
    "        :rtype: int\n",
    "        \"\"\"\n",
    "        if abs(dividend) < abs(divisor):\n",
    "            return 0\n",
    "        else:\n",
    "            sign = (dividend > 0) == (divisor > 0)\n",
    "            dividend, divisor = abs(dividend), abs(divisor)\n",
    "            diff = 0\n",
    "            while dividend >= divisor:\n",
    "#                 当 divisor很小，dividend很大的时候，循环次数过多\n",
    "#                 diff += 1\n",
    "#                 dividend -= divisor\n",
    "                temp, i = divisor, 1\n",
    "                # temp是divisor的倍数，dividend减去几倍的除数，商就要加上对应的倍数\n",
    "                # 左移一位相当于在原数的基础乘以2\n",
    "                while dividend >= temp:\n",
    "                    dividend -= temp\n",
    "                    diff += i\n",
    "                    i <<= 1\n",
    "                    temp <<= 1\n",
    "            if not sign:\n",
    "                diff = 0 - diff\n",
    "            return min(max(-2147483648, diff), 2147483647)\n",
    "sol = Solution()\n",
    "print(sol.divide(7, -1))"
   ]
  },
  {
   "cell_type": "markdown",
   "metadata": {},
   "source": [
    "# 分析\n",
    "对于这道题目，因为不能用乘除法和取余运算，我们只能使用位运算和加减法。比较直接的方法是用被除数一直减去除数，直到为0。这种方法的迭代次数是结果的大小，即比如结果为n，算法复杂度是O(n)。\n",
    "\n",
    "那么有没有办法优化呢？ 这个我们就得使用位运算。我们知道任何一个整数可以表示成以2的幂为底的一组基的线性组合，即num=a_0*2^0+a_1*2^1+a_2*2^2+...+a_n*2^n。基于以上这个公式以及左移一位相当于乘以2，我们先让除数左移直到大于被除数之前得到一个最大的基。然后接下来我们每次尝试减去这个基，如果可以则结果增加加2^k,然后基继续右移迭代，直到基为0为止。因为这个方法的迭代次数是按2的幂直到超过结果，所以时间复杂度为O(logn)。"
   ]
  },
  {
   "cell_type": "code",
   "execution_count": null,
   "metadata": {},
   "outputs": [],
   "source": []
  }
 ],
 "metadata": {
  "kernelspec": {
   "display_name": "Python 3",
   "language": "python",
   "name": "python3"
  },
  "language_info": {
   "codemirror_mode": {
    "name": "ipython",
    "version": 3
   },
   "file_extension": ".py",
   "mimetype": "text/x-python",
   "name": "python",
   "nbconvert_exporter": "python",
   "pygments_lexer": "ipython3",
   "version": "3.6.4"
  }
 },
 "nbformat": 4,
 "nbformat_minor": 2
}
