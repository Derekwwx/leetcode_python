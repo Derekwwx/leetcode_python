{
 "cells": [
  {
   "cell_type": "markdown",
   "metadata": {},
   "source": [
    "# Description"
   ]
  },
  {
   "cell_type": "raw",
   "metadata": {},
   "source": [
    "Merge two sorted linked lists and return it as a new list. The new list should be made by splicing together the nodes of the first two lists.\n",
    "\n",
    "Example:\n",
    "\n",
    "Input: 1->2->4, 1->3->4\n",
    "Output: 1->1->2->3->4->4"
   ]
  },
  {
   "cell_type": "code",
   "execution_count": 12,
   "metadata": {},
   "outputs": [
    {
     "name": "stdout",
     "output_type": "stream",
     "text": [
      "1->1->2->3->4->4"
     ]
    }
   ],
   "source": [
    "# 48 ms in 208 tests, over 97.38%\n",
    "# Definition for singly-linked list.\n",
    "class ListNode:\n",
    "    def __init__(self, x):\n",
    "        self.val = x\n",
    "        self.next = None\n",
    "        \n",
    "def LinkList(*args):\n",
    "    head = p = ListNode(0)\n",
    "    for arg in args:\n",
    "        p.next = ListNode(arg)\n",
    "        p = p.next\n",
    "    head = head.next\n",
    "    return head\n",
    "\n",
    "class Solution:\n",
    "    def mergeTwoLists(self, l1, l2):\n",
    "        \"\"\"\n",
    "        :type l1: ListNode\n",
    "        :type l2: ListNode\n",
    "        :rtype: ListNode\n",
    "        \"\"\"\n",
    "        new = p = ListNode(0)\n",
    "        while l1 or l2:\n",
    "            if l1 and l2:\n",
    "                if l1.val < l2.val:\n",
    "                    p.next = l1\n",
    "                    p, l1 = p.next, l1.next\n",
    "                else:\n",
    "                    p.next = l2\n",
    "                    p, l2 = p.next, l2.next\n",
    "            elif l1:\n",
    "                p.next = l1\n",
    "                break\n",
    "            else:\n",
    "                p.next = l2\n",
    "                break\n",
    "        new = new.next\n",
    "        return new\n",
    "l1 = LinkList(1,2,4)\n",
    "l2 = LinkList(1,3,4)\n",
    "sol = Solution()\n",
    "printLL(sol.mergeTwoLists(l1, l2))"
   ]
  },
  {
   "cell_type": "code",
   "execution_count": 5,
   "metadata": {},
   "outputs": [
    {
     "name": "stdout",
     "output_type": "stream",
     "text": [
      "1->2->3->4"
     ]
    }
   ],
   "source": [
    "class ListNode:\n",
    "    def __init__(self, x):\n",
    "        self.val = x\n",
    "        self.next = None\n",
    "        \n",
    "def LinkList(*args):\n",
    "    head = p = ListNode(0)\n",
    "    for arg in args:\n",
    "        p.next = ListNode(arg)\n",
    "        p = p.next\n",
    "    head = head.next\n",
    "    return head\n",
    "\n",
    "def printLL(h):\n",
    "    while h:\n",
    "        print(h.val, end='')\n",
    "        h = h.next\n",
    "        if h:\n",
    "            print('->', end='')\n",
    "h = LinkList(1,2,3,4)\n",
    "printLL(h)"
   ]
  },
  {
   "cell_type": "code",
   "execution_count": null,
   "metadata": {},
   "outputs": [],
   "source": []
  }
 ],
 "metadata": {
  "kernelspec": {
   "display_name": "Python 3",
   "language": "python",
   "name": "python3"
  },
  "language_info": {
   "codemirror_mode": {
    "name": "ipython",
    "version": 3
   },
   "file_extension": ".py",
   "mimetype": "text/x-python",
   "name": "python",
   "nbconvert_exporter": "python",
   "pygments_lexer": "ipython3",
   "version": "3.6.4"
  }
 },
 "nbformat": 4,
 "nbformat_minor": 2
}
