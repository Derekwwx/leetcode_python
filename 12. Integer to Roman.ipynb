{
 "cells": [
  {
   "cell_type": "markdown",
   "metadata": {},
   "source": [
    "# Description\n",
    "题目：Given an integer, convert it to a roman numeral.\n",
    "\n",
    "Input is guaranteed to be within the range from 1 to 3999.\n",
    "\n",
    "科普了一下表达方式，理解了就不复杂了。\n",
    "I = 1;\n",
    "V = 5;\n",
    "X = 10;\n",
    "L = 50;\n",
    "C = 100;\n",
    "D = 500;\n",
    "M = 1000;\n",
    "\n",
    "1~9: {\"I\", \"II\", \"III\", \"IV\", \"V\", \"VI\", \"VII\", \"VIII\", \"IX\"};\n",
    "\n",
    "10~90: {\"X\", \"XX\", \"XXX\", \"XL\", \"L\", \"LX\", \"LXX\", \"LXXX\", \"XC\"};\n",
    "\n",
    "100~900: {\"C\", \"CC\", \"CCC\", \"CD\", \"D\", \"DC\", \"DCC\", \"DCCC\", \"CM\"};\n",
    "\n",
    "1000~3000: {\"M\", \"MM\", \"MMM\"}.\n",
    "\n",
    "例如整数 1437 的罗马数字为 MCDXXXVII， 我们不难发现，千位，百位，十位和个位上的数分别用罗马数字表示了。 1000 - M, 400 - CD, 30 - XXX, 7 - VII"
   ]
  },
  {
   "cell_type": "code",
   "execution_count": 8,
   "metadata": {
    "scrolled": true
   },
   "outputs": [
    {
     "name": "stdout",
     "output_type": "stream",
     "text": [
      "MCDXXXVII\n"
     ]
    }
   ],
   "source": [
    "def intToRoman(num):\n",
    "    '''\n",
    "    :type num: int\n",
    "    :rtype: str\n",
    "    '''\n",
    "    nums = str(num)\n",
    "    length = len(nums)\n",
    "    roman = ''\n",
    "    #  threshold: {1:{3:'I', 8:'V'}, 2:{30:'X', 80:'L'}, 3:{300:'C', 800:'D'}, 4:{3000:'M'}}\n",
    "    table = {1:{3:'I', 8:'V'}, 2:{3:'X', 8:'L'}, 3:{3:'C', 8:'D'}, 4:{3:'M'}}\n",
    "    for i in range(length):\n",
    "        if nums[i] <= '3':\n",
    "            roman += table[length-i][3] * int(nums[i])\n",
    "        elif nums[i] == '4':\n",
    "            roman += table[length-i][3]+ table[length-i][8]\n",
    "        elif '5' <= nums[i] <= '8':\n",
    "            roman += table[length-i][8] + table[length-i][3] * (int(nums[i])-5)\n",
    "        elif '9' == nums[i]:\n",
    "            roman += table[length-i][3] + table[length+1-i][3]\n",
    "    return roman\n",
    "\n",
    "print(intToRoman(1437))"
   ]
  },
  {
   "cell_type": "code",
   "execution_count": 10,
   "metadata": {},
   "outputs": [
    {
     "data": {
      "text/plain": [
       "'MCDXXXVII'"
      ]
     },
     "execution_count": 10,
     "metadata": {},
     "output_type": "execute_result"
    }
   ],
   "source": [
    "# A more simpler way to think this quesition is to make a table\n",
    "def intToRoman(num):\n",
    "    M = ['','M','MM','MMM']\n",
    "    C = ['', \"C\", \"CC\", \"CCC\", \"CD\", \"D\", \"DC\", \"DCC\", \"DCCC\", \"CM\"]\n",
    "    X = ['',\"X\", \"XX\", \"XXX\", \"XL\", \"L\", \"LX\", \"LXX\", \"LXXX\", \"XC\"]\n",
    "    I = [\"\", \"I\", \"II\", \"III\", \"IV\", \"V\", \"VI\", \"VII\", \"VIII\", \"IX\"]\n",
    "    return M[num//1000] + C[(num%1000)//100] + X[(num%100)//10] + I[num%10]\n",
    "\n",
    "intToRoman(1437)"
   ]
  },
  {
   "cell_type": "markdown",
   "metadata": {},
   "source": [
    "# Comparison in python\n",
    "Unlike C, all comparison operations in Python have the same priority, which is lower than that of any arithmetic, shifting or bitwise operation. Also unlike C, expressions like a < b < c have the interpretation that is conventional in mathematics:\n",
    "\n",
    "comparison    ::=  or_expr ( comp_operator or_expr )*\n",
    "\n",
    "comp_operator ::=  \"<\" | \">\" | \"==\" | \">=\" | \"<=\" | \"<>\" | \"!=\"\n",
    "\n",
    "                   | \"is\" [\"not\"] | [\"not\"] \"in\"\n",
    "                   \n",
    "Comparisons yield boolean values: True or False.\n",
    "\n",
    "Comparisons can be chained arbitrarily, e.g., x < y <= z is equivalent to x < y and y <= z, except that y is evaluated only once (but in both cases z is not evaluated at all when x < y is found to be false).\n",
    "\n",
    "Formally, if a, b, c, …, y, z are expressions and op1, op2, …, opN are comparison operators, then a op1 b op2 c ... y opN z is equivalent to a op1 b and b op2 c and ... y opN z, except that each expression is evaluated at most once.\n",
    "\n",
    "Note that a op1 b op2 c doesn’t imply any kind of comparison between a and c, so that, e.g., x < y > z is perfectly legal (though perhaps not pretty).\n",
    "\n",
    "The forms <> and != are equivalent; for consistency with C, != is preferred; where != is mentioned below <> is also accepted. The <> spelling is considered obsolescent."
   ]
  },
  {
   "cell_type": "code",
   "execution_count": null,
   "metadata": {},
   "outputs": [],
   "source": []
  }
 ],
 "metadata": {
  "kernelspec": {
   "display_name": "Python 3",
   "language": "python",
   "name": "python3"
  },
  "language_info": {
   "codemirror_mode": {
    "name": "ipython",
    "version": 3
   },
   "file_extension": ".py",
   "mimetype": "text/x-python",
   "name": "python",
   "nbconvert_exporter": "python",
   "pygments_lexer": "ipython3",
   "version": "3.6.4"
  }
 },
 "nbformat": 4,
 "nbformat_minor": 2
}
