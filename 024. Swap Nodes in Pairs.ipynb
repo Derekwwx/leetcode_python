{
 "cells": [
  {
   "cell_type": "markdown",
   "metadata": {},
   "source": [
    "# Description"
   ]
  },
  {
   "cell_type": "raw",
   "metadata": {},
   "source": [
    "Given a linked list, swap every two adjacent nodes and return its head.\n",
    "\n",
    "Example:\n",
    "\n",
    "Given 1->2->3->4, you should return the list as 2->1->4->3.\n",
    "Note:\n",
    "\n",
    "Your algorithm should use only constant extra space.\n",
    "You may not modify the values in the list's nodes, only nodes itself may be changed."
   ]
  },
  {
   "cell_type": "code",
   "execution_count": 10,
   "metadata": {},
   "outputs": [
    {
     "name": "stdout",
     "output_type": "stream",
     "text": [
      "2->1->3"
     ]
    }
   ],
   "source": [
    "# 36 ms in 55 tests, over 99.56%\n",
    "class ListNode:\n",
    "    def __init__(self, x):\n",
    "        self.val = x\n",
    "        self.next = None\n",
    "        \n",
    "def LinkList(*args):\n",
    "    head = p = ListNode(0)\n",
    "    for arg in args:\n",
    "        p.next = ListNode(arg)\n",
    "        p = p.next\n",
    "    head = head.next\n",
    "    return head\n",
    "\n",
    "def printLL(h):\n",
    "    while h:\n",
    "        print(h.val, end='')\n",
    "        h = h.next\n",
    "        if h:\n",
    "            print('->', end='')\n",
    "            \n",
    "class Solution:\n",
    "    def swapPairs(self, head):\n",
    "        \"\"\"\n",
    "        :type head: ListNode\n",
    "        :rtype: ListNode\n",
    "        \"\"\"\n",
    "        cur = nex = head\n",
    "        # 不能忽略头为空的情况\n",
    "        if not head:\n",
    "            return\n",
    "        # 使用cur.next需先判断是否存在\n",
    "        if cur.next:\n",
    "            nex = cur.next\n",
    "        while nex:\n",
    "            cur.val, nex.val = nex.val, cur.val\n",
    "            if nex.next:\n",
    "                cur, nex = nex.next, nex.next.next\n",
    "            else:\n",
    "                break\n",
    "        return head\n",
    "l1 = LinkList(1, 2, 3)\n",
    "sol = Solution()\n",
    "printLL(sol.swapPairs(l1))"
   ]
  },
  {
   "cell_type": "code",
   "execution_count": null,
   "metadata": {},
   "outputs": [],
   "source": []
  }
 ],
 "metadata": {
  "kernelspec": {
   "display_name": "Python 3",
   "language": "python",
   "name": "python3"
  },
  "language_info": {
   "codemirror_mode": {
    "name": "ipython",
    "version": 3
   },
   "file_extension": ".py",
   "mimetype": "text/x-python",
   "name": "python",
   "nbconvert_exporter": "python",
   "pygments_lexer": "ipython3",
   "version": "3.6.4"
  }
 },
 "nbformat": 4,
 "nbformat_minor": 2
}
