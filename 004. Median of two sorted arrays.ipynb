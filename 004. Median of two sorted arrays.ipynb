{
 "cells": [
  {
   "cell_type": "raw",
   "metadata": {},
   "source": [
    "Description:\n",
    "There are two sorted arrays nums1 and nums2 of size m and n respectively.\n",
    "\n",
    "Find the median of the two sorted arrays. The overall run time complexity should be O(log (m+n)).\n",
    "\n",
    "Example 1:\n",
    "nums1 = [1, 3]\n",
    "nums2 = [2]\n",
    "\n",
    "The median is 2.0\n",
    "Example 2:\n",
    "nums1 = [1, 2]\n",
    "nums2 = [3, 4]\n",
    "\n",
    "The median is (2 + 3)/2 = 2.5"
   ]
  },
  {
   "cell_type": "code",
   "execution_count": 9,
   "metadata": {},
   "outputs": [
    {
     "data": {
      "text/plain": [
       "2"
      ]
     },
     "execution_count": 9,
     "metadata": {},
     "output_type": "execute_result"
    }
   ],
   "source": [
    "# Version 1 by myself\n",
    "# 2080 / 2080 test cases passed.\n",
    "# Status: Accepted\n",
    "# Runtime: 1872 ms\n",
    "class Solution:\n",
    "    def quick_sort(self, l):\n",
    "        if l == []:\n",
    "            return []\n",
    "        else:\n",
    "            pivot = l[0]\n",
    "            less = self.quick_sort([x for x in l[1:] if x <= l[0]])\n",
    "            more = self.quick_sort([x for x in l[1:] if x > l[0]])\n",
    "        return less + [pivot] + more\n",
    "    \n",
    "    def findMedianSortedArrays(self, nums1, nums2):\n",
    "        \"\"\"\n",
    "        :type nums1: List[int]\n",
    "        :type nums2: List[int]\n",
    "        :rtype: float\n",
    "        \"\"\"\n",
    "        nums = self.quick_sort(nums1+nums2)\n",
    "        if len(nums) == 0:\n",
    "            return ''\n",
    "        elif len(nums) % 2 == 0:\n",
    "            return (nums[len(nums)/2 - 1] + nums[len(nums)/2])/2\n",
    "        else:\n",
    "            return nums[(len(nums) - 1)//2]\n",
    "sol = Solution()\n",
    "sol.findMedianSortedArrays([1, 3], [2])"
   ]
  },
  {
   "cell_type": "code",
   "execution_count": 10,
   "metadata": {},
   "outputs": [],
   "source": [
    "# version 2 Recursive Approach by binary search from solutions\n",
    "# source from https://leetcode.com/problems/median-of-two-sorted-arrays/solution/\n",
    "## this is a search probelm, not a sorting problem, so there is no need to sort the list\n",
    "# 2080 / 2080 test cases passed.\n",
    "# Status: Accepted\n",
    "# Runtime: 100 ms\n",
    "def median(A, B):\n",
    "    m, n = len(A), len(B)\n",
    "    if m > n:\n",
    "        A, B, m, n = B, A, n, m\n",
    "    if n == 0:            #!!\n",
    "        raise ValueError  #!!\n",
    "    half_len = (m + n + 1) // 2\n",
    "#     for i in range(m):  # instead of doing a for loop over m, a less expensive way is to do binary search\n",
    "    imin, imax = 0, m\n",
    "    while imin < imax:\n",
    "        i = (imin + imax) // 2\n",
    "        j = half_len - i\n",
    "        if B[j - 1] > A[i] and i < m:\n",
    "            # i is too small\n",
    "            imin = i + 1\n",
    "        elif B[j] < A[i] and i > 0:\n",
    "            # i is too large\n",
    "            imax = i - 1\n",
    "        else:\n",
    "            # i is perfect\n",
    "            if i == 0: # i==0 则数列A整个被划分到右半边\n",
    "                max_of_left = B[j-1]\n",
    "            elif j == 0:\n",
    "                max_of_left = A[i-1]\n",
    "            else:\n",
    "                max_of_left = max(A[i-1], B[j-1])\n",
    "            \n",
    "            if (m + n) % 2 == 1:\n",
    "                return max_of_left\n",
    "            \n",
    "            if i == m:\n",
    "                min_of_right = B[j]\n",
    "            elif j == n:\n",
    "                min_of_right = A[i]\n",
    "            else:\n",
    "                min_of_right = min(A[i], B[j])\n",
    "            return (min_of_right + max_of_left)/2.0"
   ]
  },
  {
   "cell_type": "markdown",
   "metadata": {},
   "source": [
    "## Complexity Analysis"
   ]
  },
  {
   "cell_type": "raw",
   "metadata": {},
   "source": [
    "Time complexity:O(log(min(m,n))).\n",
    "At first, the searching range is [0, m]. And the length of this searching range will be reduced by half after each loop. So, we only need log(m) loops. Since we do constant operations in each loop, so the time complexity is O(log(m)). Since m≤n, so the time complexity is O(log(min(m,n))).\n",
    "\n",
    "Space complexity: O(1).\n",
    "We only need constant memory to store 99 local variables, so the space complexity is O(1)."
   ]
  },
  {
   "cell_type": "code",
   "execution_count": null,
   "metadata": {},
   "outputs": [],
   "source": []
  }
 ],
 "metadata": {
  "kernelspec": {
   "display_name": "Python 3",
   "language": "python",
   "name": "python3"
  },
  "language_info": {
   "codemirror_mode": {
    "name": "ipython",
    "version": 3
   },
   "file_extension": ".py",
   "mimetype": "text/x-python",
   "name": "python",
   "nbconvert_exporter": "python",
   "pygments_lexer": "ipython3",
   "version": "3.6.4"
  }
 },
 "nbformat": 4,
 "nbformat_minor": 2
}
