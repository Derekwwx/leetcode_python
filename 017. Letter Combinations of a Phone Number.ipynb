{
 "cells": [
  {
   "cell_type": "markdown",
   "metadata": {},
   "source": [
    "# Description\n",
    "Given a string containing digits from 2-9 inclusive, return all possible letter combinations that the number could represent.\n",
    "\n",
    "A mapping of digit to letters (just like on the telephone buttons) is given below. Note that 1 does not map to any letters.\n",
    "\n",
    "Example:\n",
    "\n",
    "Input: \"23\"\n",
    "Output: [\"ad\", \"ae\", \"af\", \"bd\", \"be\", \"bf\", \"cd\", \"ce\", \"cf\"].\n",
    "\n",
    "Note:\n",
    "\n",
    "Although the above answer is in lexicographical order, your answer could be in any order you want."
   ]
  },
  {
   "cell_type": "code",
   "execution_count": 4,
   "metadata": {},
   "outputs": [
    {
     "data": {
      "text/plain": [
       "['ad', 'ae', 'af', 'bd', 'be', 'bf', 'cd', 'ce', 'cf']"
      ]
     },
     "execution_count": 4,
     "metadata": {},
     "output_type": "execute_result"
    }
   ],
   "source": [
    "# 36 ms in 25 tests, over 97.83%\n",
    "def letterCombinations(digits):\n",
    "    '''\n",
    "    :type digits: str (from 2 to 9 only)\n",
    "    :type: List(str)\n",
    "    '''\n",
    "    num = len(digits)\n",
    "    dic = {'2':['a', 'b', 'c'], '3':['d', 'e', 'f'], '4':['g', 'h', 'i'],'5':['j', 'k','l'] \\\n",
    "          ,'6':['m', 'n', 'o'], '7':['p', 'q', 'r', 's'], '8':['t', 'u', 'v'], '9':['w', 'x', 'y','z']}\n",
    "    if not num:\n",
    "        return []\n",
    "    elif num == 1:\n",
    "        return dic[digits]\n",
    "    else:\n",
    "        letters = []\n",
    "        return listcombine(dic[digits[0]], letterCombinations(digits[1:]))\n",
    "\n",
    "def listcombine(l1, l2):\n",
    "    new = []\n",
    "    for a in l1:\n",
    "        for b in l2:\n",
    "            new.append(a+b)\n",
    "    return new\n",
    "\n",
    "letterCombinations('23')"
   ]
  },
  {
   "cell_type": "code",
   "execution_count": null,
   "metadata": {},
   "outputs": [],
   "source": []
  }
 ],
 "metadata": {
  "kernelspec": {
   "display_name": "Python 3",
   "language": "python",
   "name": "python3"
  },
  "language_info": {
   "codemirror_mode": {
    "name": "ipython",
    "version": 3
   },
   "file_extension": ".py",
   "mimetype": "text/x-python",
   "name": "python",
   "nbconvert_exporter": "python",
   "pygments_lexer": "ipython3",
   "version": "3.6.4"
  }
 },
 "nbformat": 4,
 "nbformat_minor": 2
}
