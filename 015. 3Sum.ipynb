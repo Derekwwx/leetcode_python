{
 "cells": [
  {
   "cell_type": "markdown",
   "metadata": {},
   "source": [
    "# Description\n",
    "Given an array nums of n integers, are there elements a, b, c in nums such that a + b + c = 0? Find all unique triplets in the array which gives the sum of zero.\n",
    "\n",
    "Note:\n",
    "\n",
    "The solution set must not contain duplicate triplets.\n",
    "\n",
    "Example:\n",
    "\n",
    "Given array nums = [-1, 0, 1, 2, -1, -4],\n",
    "\n",
    "A solution set is:\n",
    "[\n",
    "  [-1, 0, 1],\n",
    "  [-1, -1, 2]\n",
    "]"
   ]
  },
  {
   "cell_type": "code",
   "execution_count": 8,
   "metadata": {},
   "outputs": [
    {
     "name": "stdout",
     "output_type": "stream",
     "text": [
      "[[-1, 0, 1]]\n"
     ]
    }
   ],
   "source": [
    "# Approach I: brute force\n",
    "# 306/313 tests passed but time limit exceeded\n",
    "def threesum(nums):\n",
    "    '''\n",
    "    :type nums: list[int]\n",
    "    :rtype: list[list[int]]\n",
    "    '''\n",
    "    res = []\n",
    "    num = len(nums)\n",
    "    # 如果nums的元素个数少于3(note: 不只是为空)、全正、全负或者全是不为0的相同元素，无匹配结果\n",
    "    if num < 3 or min(nums) > 0 or max(nums) < 0 or min(nums) == max(nums) \\\n",
    "       and min(nums) != 0:\n",
    "        return res\n",
    "    else:\n",
    "        for i in range(num):\n",
    "            for j in range(i+1, num):\n",
    "                last = -(nums[i] + nums[j])\n",
    "                # 不能忽略三个数都相等的情况\n",
    "                if nums[i] == nums[j] == 0 and nums.count(0) < 3 or \\\n",
    "                    nums.count(last) == 1 and last in [nums[i], nums[j]]:\n",
    "                    continue\n",
    "                # 新建数列不能马上用sort方法\n",
    "                # term = [nums[i], nums[j], last].sort()\n",
    "                term = [nums[i], nums[j], last]\n",
    "                term.sort()\n",
    "                if last in nums and term not in res:\n",
    "                    res.append(term)\n",
    "        return res\n",
    "print(threesum([1,0,2,3,-1]))"
   ]
  },
  {
   "cell_type": "code",
   "execution_count": 19,
   "metadata": {},
   "outputs": [
    {
     "name": "stdout",
     "output_type": "stream",
     "text": [
      "[[-1, 0, 1], [-2, -1, 3], [-2, 0, 2], [-2, -1, 3]]\n"
     ]
    }
   ],
   "source": [
    "# Approach II: 先排序再分类\n",
    "# 311 / 313 test cases passed but still time limit exceeded\n",
    "# 修改, 引入dictionary\n",
    "# 488 ms in 313 test (over 98.16%)\n",
    "def threesum(nums):\n",
    "    num = len(nums)\n",
    "    dic = {}\n",
    "    for n in nums:\n",
    "        if n in dic:\n",
    "            dic[n] += 1\n",
    "        else:\n",
    "            dic[n] = 1\n",
    "    if 0 in dic and dic[0] >= 3:\n",
    "        res = [[0, 0, 0]]\n",
    "    else:\n",
    "        res = []\n",
    "    ns = sorted([x for x in dic if x < 0], reverse=True)\n",
    "    nns = sorted([x for x in dic if x >= 0]) \n",
    "    for n in ns:\n",
    "        for nn in nns:\n",
    "            last = - (nn + n)\n",
    "            term = [n, last, nn]\n",
    "            if last in dic:\n",
    "                # note: last < n or last > nn 不等价于 last not in [n, nn], 前者可以保证不会选到重复的三个数\n",
    "                if last < n or last > nn or last in [n, nn] and dic[last] > 1:\n",
    "                    res.append(term)\n",
    "    return res\n",
    "\n",
    "# Copy from others\n",
    "#        dic={}\n",
    "#         for num in nums:\n",
    "#             if num in dic:\n",
    "#                 dic[num]+=1\n",
    "#             else:\n",
    "#                 dic[num]=1\n",
    "#         if 0 in dic and dic[0]>=3:\n",
    "#             ans=[[0,0,0]]\n",
    "#         else:\n",
    "#             ans=[]\n",
    "#         ns = sorted([x for x in dic if x<0], reverse=True)\n",
    "#         nns = sorted([x for x in dic if x>=0])\n",
    "#         for n in ns:\n",
    "#             for nn in nns:\n",
    "#                 chk = -(nn + n)\n",
    "#                 if chk in dic:\n",
    "#                     if chk in [n,nn] and dic[chk] > 1:\n",
    "#                         ans.append([n, chk, nn])\n",
    "#                     elif chk<n: \n",
    "#                         ans.append([chk, n, nn])\n",
    "#                     elif nn<chk:\n",
    "#                         ans.append([n,nn,chk])\n",
    "#         return ans\n",
    "\n",
    "# My original idea\n",
    "#     neg = [x for x in nums if x < 0]\n",
    "#     zeros = [x for x in nums if x == 0]\n",
    "#     pos = [x for x in nums if x > 0]\n",
    "    # 如果nums的元素个数少于3(note: 不只是为空)、全正、全负或者全是不为0的相同元素(包含在 not neg or not pos)中，\n",
    "    # 无匹配结果\n",
    "#     if num < 3 or (not neg or not pos) and len(zeros) < 3:\n",
    "#         return res\n",
    "#     else:\n",
    "#         if len(zeros) >= 3:\n",
    "#             res.append([0, 0, 0])\n",
    "#         for i in range(len(neg)):\n",
    "#             for j in range(len(pos)):\n",
    "#                 last = - (neg[i] + pos[j])\n",
    "#                 term = [neg[i], pos[j], last]\n",
    "#                 term.sort()\n",
    "#                 if term not in res:\n",
    "#                     # 如果last与neg[i], pos[j]其中一个相等，则必须保证nums有至少两个等于last的元素\n",
    "#                     if nums.count(last) > 1 and last in [neg[i], pos[j]]:\n",
    "#                         res.append(term)\n",
    "#                     elif last in nums and last not in [neg[i], pos[j]]:\n",
    "#                         res.append(term)\n",
    "#         return res\n",
    "print(threesum([3,0,-2,-1,1,2]))          "
   ]
  },
  {
   "cell_type": "code",
   "execution_count": 15,
   "metadata": {},
   "outputs": [
    {
     "name": "stdout",
     "output_type": "stream",
     "text": [
      "[[-1, -1, 2], [-1, 0, 1]]\n"
     ]
    }
   ],
   "source": [
    "# Approach III 先排序然后从第一个元素开始检查\n",
    "# 892 ms in 313 tests (over 72.85%)\n",
    "def threesum(nums):\n",
    "    res = []\n",
    "    num = len(nums)\n",
    "    nums.sort()\n",
    "    # 保证i后面至少有两个元素可以检索\n",
    "    for i in range(num - 2):\n",
    "        # i>0是为了防止越界， 若i的前一个元素与i对应的元素相同，则其可能的组合已经被输出过了，故直接跳过即可\n",
    "        if i > 0 and nums[i-1] == nums[i]:\n",
    "            continue\n",
    "        l, r = i+1, num-1\n",
    "        while l < r:\n",
    "            s = nums[i] + nums[l] + nums[r]\n",
    "            if s < 0:\n",
    "                l += 1\n",
    "            elif s > 0:\n",
    "                r -= 1\n",
    "            else:\n",
    "                res.append([nums[i], nums[l], nums[r]])\n",
    "                # 为了防止出现重复数列，跳过数值相同的 num[l]和num[r]\n",
    "                while l < r and nums[l+1] == nums[l]:\n",
    "                    l += 1\n",
    "                while l < r and nums[r-1] == nums[r]:\n",
    "                    r -= 1\n",
    "                l += 1; r -= 1\n",
    "    return res\n",
    "print(threesum([-1,0,1,2,-1,-4])) "
   ]
  },
  {
   "cell_type": "code",
   "execution_count": null,
   "metadata": {},
   "outputs": [],
   "source": []
  }
 ],
 "metadata": {
  "kernelspec": {
   "display_name": "Python 3",
   "language": "python",
   "name": "python3"
  },
  "language_info": {
   "codemirror_mode": {
    "name": "ipython",
    "version": 3
   },
   "file_extension": ".py",
   "mimetype": "text/x-python",
   "name": "python",
   "nbconvert_exporter": "python",
   "pygments_lexer": "ipython3",
   "version": "3.6.4"
  }
 },
 "nbformat": 4,
 "nbformat_minor": 2
}
