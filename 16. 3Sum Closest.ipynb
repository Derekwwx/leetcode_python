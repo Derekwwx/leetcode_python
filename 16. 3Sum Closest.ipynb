{
 "cells": [
  {
   "cell_type": "markdown",
   "metadata": {},
   "source": [
    "# Description\n",
    "Given an array nums of n integers and an integer target, find three integers in nums such that the sum is closest to target. Return the sum of the three integers. You may assume that each input would have exactly one solution.\n",
    "\n",
    "Example:\n",
    "\n",
    "Given array nums = [-1, 2, 1, -4], and target = 1.\n",
    "\n",
    "The sum that is closest to the target is 2. (-1 + 2 + 1 = 2)."
   ]
  },
  {
   "cell_type": "code",
   "execution_count": 9,
   "metadata": {},
   "outputs": [
    {
     "name": "stdout",
     "output_type": "stream",
     "text": [
      "3\n"
     ]
    }
   ],
   "source": [
    "# Approach I: 先排序，再从第一个元素往后检验; another trick, 其他两个数设成两个极端，分别是剩下的数的最小值\n",
    "# 和最大值，然后再逐步调整\n",
    "# 76 ms in 125 tests, over 99.28%\n",
    "def tsc(nums, target):\n",
    "    \"\"\"\n",
    "    :type nums: List[int]\n",
    "    :type target: int\n",
    "    :rtype: int\n",
    "    \"\"\"\n",
    "    num = len(nums)\n",
    "    # note: diff必须设成一个很大的数字，以保证再第一次判定时能够被赋值\n",
    "    # 考虑 [0, 1, 2], 0; [1, 1, 1, 1], -100\n",
    "    diff = sum([abs(x) for x in nums]) + abs(target) + 1\n",
    "    nst = 0\n",
    "    if not nums or num < 3:\n",
    "        return 0\n",
    "    nums.sort()\n",
    "    # 保证i后面至少有两个元素可以检索\n",
    "    for i in range(num - 2):\n",
    "        # i>0是为了防止越界， 若i的前一个元素与i对应的元素相同，则其可能的组合已经被输出过了，故直接跳过即可\n",
    "        if i > 0 and nums[i-1] == nums[i]:\n",
    "            continue\n",
    "        l, r = i+1, num-1\n",
    "        while l < r:\n",
    "            s = nums[i] + nums[l] + nums[r]\n",
    "            if s < target:\n",
    "                if diff > target - s:\n",
    "                    diff = target - s\n",
    "                    nst = s\n",
    "                l += 1\n",
    "            elif s > target:\n",
    "                if diff > s - target:\n",
    "                    diff = s - target\n",
    "                    nst = s\n",
    "                r -= 1\n",
    "            else:\n",
    "                return s\n",
    "    return nst\n",
    "\n",
    "print(tsc([0,1,2], 0))"
   ]
  },
  {
   "cell_type": "code",
   "execution_count": null,
   "metadata": {},
   "outputs": [],
   "source": []
  }
 ],
 "metadata": {
  "kernelspec": {
   "display_name": "Python 3",
   "language": "python",
   "name": "python3"
  },
  "language_info": {
   "codemirror_mode": {
    "name": "ipython",
    "version": 3
   },
   "file_extension": ".py",
   "mimetype": "text/x-python",
   "name": "python",
   "nbconvert_exporter": "python",
   "pygments_lexer": "ipython3",
   "version": "3.6.4"
  }
 },
 "nbformat": 4,
 "nbformat_minor": 2
}
