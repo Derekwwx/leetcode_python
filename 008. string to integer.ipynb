{
 "cells": [
  {
   "cell_type": "markdown",
   "metadata": {},
   "source": [
    "# Description\n",
    "Implement atoi to convert a string to an integer.\n",
    "\n",
    "Hint: Carefully consider all possible input cases. If you want a challenge, please do not see below and ask yourself what are the possible input cases.\n",
    "\n",
    "Notes: It is intended for this problem to be specified vaguely (ie, no given input specs). You are responsible to gather all the input requirements up front.\n",
    "\n",
    " \n",
    "\n",
    "Requirements for atoi:\n",
    "\n",
    "The function first discards as many whitespace characters as necessary until the first non-whitespace character is found. Then, starting from this character, takes an optional initial plus or minus sign followed by as many numerical digits as possible, and interprets them as a numerical value.\n",
    "\n",
    "The string can contain additional characters after those that form the integral number, which are ignored and have no effect on the behavior of this function.\n",
    "\n",
    "If the first sequence of non-whitespace characters in str is not a valid integral number, or if no such sequence exists because either str is empty or it contains only whitespace characters, no conversion is performed.\n",
    "\n",
    "If no valid conversion could be performed, a zero value is returned. If the correct value is out of the range of representable values, INT_MAX (2147483647) or INT_MIN (-2147483648) is returned."
   ]
  },
  {
   "cell_type": "code",
   "execution_count": 42,
   "metadata": {},
   "outputs": [
    {
     "name": "stdout",
     "output_type": "stream",
     "text": [
      "num3 is  12 start= 1\n"
     ]
    },
    {
     "data": {
      "text/plain": [
       "-12"
      ]
     },
     "execution_count": 42,
     "metadata": {},
     "output_type": "execute_result"
    }
   ],
   "source": [
    "# 64 ms in 1047 tests, over 94.07%\n",
    "def atoi(str0):\n",
    "    '''\n",
    "    :type str: str\n",
    "    :rtype: int\n",
    "    '''\n",
    "    num = 0\n",
    "    sign = 1\n",
    "    start = 0 # start标识是否遇到了 -+或者数字\n",
    "    end = 0 \n",
    "    # 是否可以结束识别整数，可以为1，不可以为0, 例如 ' -0012a42'不加end进行识别会返回0\n",
    "    for c in str0:\n",
    "        if c not in ' +-0123456789' and start == 0: \n",
    "        #条件1：如果遇到的第一非空格字符不是+-号，返回0\n",
    "            return 0\n",
    "        elif end == 1 and not c.isdigit(): \n",
    "        # 条件2：如果可以结束且遇到了非数字字符则退出，记住此时不返回0，因为num中已经有数了\n",
    "            break\n",
    "        elif start and not c.isdigit():  \n",
    "        # 条件3：如果已经开始识别数字，又遇到非数字字符，则返回0\n",
    "        # note 条件2和3不能调换，因为如果已经可以结束了，遇到非数字字符也可以接受\n",
    "            return 0\n",
    "        elif c in '-+' or c.isdigit():# isdigit(c)是错误的\n",
    "            start = 1\n",
    "            if c == '-':\n",
    "                sign = -1 * sign\n",
    "            elif c.isdigit():\n",
    "                num = 10 * num + (ord(c) - ord('0'))\n",
    "                end = 1\n",
    "        else:\n",
    "            continue\n",
    "    \n",
    "    if num < 0 or num > 2**31 -1:\n",
    "        if sign == 1:\n",
    "            print('num is ', num)\n",
    "            return 2147483647\n",
    "        else:\n",
    "            return -2147483648\n",
    "    else:\n",
    "        return num*sign\n",
    "atoi('  -12b')"
   ]
  },
  {
   "cell_type": "code",
   "execution_count": null,
   "metadata": {},
   "outputs": [],
   "source": []
  }
 ],
 "metadata": {
  "kernelspec": {
   "display_name": "Python 3",
   "language": "python",
   "name": "python3"
  },
  "language_info": {
   "codemirror_mode": {
    "name": "ipython",
    "version": 3
   },
   "file_extension": ".py",
   "mimetype": "text/x-python",
   "name": "python",
   "nbconvert_exporter": "python",
   "pygments_lexer": "ipython3",
   "version": "3.6.4"
  }
 },
 "nbformat": 4,
 "nbformat_minor": 2
}
