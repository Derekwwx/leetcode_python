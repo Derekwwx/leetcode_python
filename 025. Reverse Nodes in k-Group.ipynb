{
 "cells": [
  {
   "cell_type": "markdown",
   "metadata": {},
   "source": [
    "# Description"
   ]
  },
  {
   "cell_type": "raw",
   "metadata": {},
   "source": [
    "Given a linked list, reverse the nodes of a linked list k at a time and return its modified list.\n",
    "\n",
    "k is a positive integer and is less than or equal to the length of the linked list. If the number of nodes is not a multiple of k then left-out nodes in the end should remain as it is.\n",
    "\n",
    "Example:\n",
    "\n",
    "Given this linked list: 1->2->3->4->5\n",
    "\n",
    "For k = 2, you should return: 2->1->4->3->5\n",
    "\n",
    "For k = 3, you should return: 3->2->1->4->5\n",
    "\n",
    "Note:\n",
    "\n",
    "Only constant extra memory is allowed.\n",
    "You may not alter the values in the list's nodes, only nodes itself may be changed."
   ]
  },
  {
   "cell_type": "code",
   "execution_count": 19,
   "metadata": {},
   "outputs": [
    {
     "name": "stdout",
     "output_type": "stream",
     "text": [
      "1->2\n",
      "\n",
      "2->1\n",
      "\n"
     ]
    }
   ],
   "source": [
    "# 172 ms in 81 tests, only over 1.72%\n",
    "class ListNode:\n",
    "    def __init__(self, x):\n",
    "        self.val = x\n",
    "        self.next = None\n",
    "        \n",
    "def LinkList(*args):\n",
    "    head = p = ListNode(0)\n",
    "    for arg in args:\n",
    "        p.next = ListNode(arg)\n",
    "        p = p.next\n",
    "    head = head.next\n",
    "    return head\n",
    "\n",
    "def printLL(h):\n",
    "    while h:\n",
    "        print(h.val, end='')\n",
    "        h = h.next\n",
    "        if h:\n",
    "            print('->', end='') \n",
    "    print('\\n')\n",
    "            \n",
    "class Solution:\n",
    "    def reverseKGroup(self, head, k):\n",
    "        \"\"\"\n",
    "        :type head: ListNode\n",
    "        :type k: int\n",
    "        :rtype: ListNode\n",
    "        \"\"\"\n",
    "        l = self.length(head)\n",
    "        if l < k:\n",
    "            return head\n",
    "        else:\n",
    "            cur = head\n",
    "            while self.length(cur) >= k:\n",
    "                cur_start = cur\n",
    "                for i in range(k//2, -1, -1):\n",
    "                    temp = self.move_k(cur, k - 1 - i)\n",
    "                    cur.val, temp.val = temp.val, cur.val\n",
    "                    cur = cur.next\n",
    "                cur = self.move_k(cur_start, k)\n",
    "            return head\n",
    "            \n",
    "    def length(self, head):\n",
    "        l = 0\n",
    "        while head:\n",
    "            l += 1\n",
    "            head = head.next\n",
    "        return l\n",
    "    \n",
    "    def move_k(self, head, k):\n",
    "        for i in range(k):\n",
    "            head = head.next\n",
    "        return head\n",
    "    \n",
    "#     def reverse(self, head):\n",
    "#         cur = head\n",
    "#         l = self.length(head)\n",
    "#         for i in range(l//2):\n",
    "#             temp = self.move_k(head, l - 1 - i)\n",
    "#             cur.val, temp.val = temp.val, cur.val\n",
    "#             cur = cur.next\n",
    "#         return head\n",
    "        \n",
    "sol = Solution()\n",
    "a = LinkList(1,2)\n",
    "printLL(a)\n",
    "printLL(sol.reverseKGroup(a, 2))"
   ]
  },
  {
   "cell_type": "code",
   "execution_count": 3,
   "metadata": {},
   "outputs": [
    {
     "data": {
      "text/plain": [
       "[0, 0, 0]"
      ]
     },
     "execution_count": 3,
     "metadata": {},
     "output_type": "execute_result"
    }
   ],
   "source": [
    "[0] * 3"
   ]
  }
 ],
 "metadata": {
  "kernelspec": {
   "display_name": "Python 3",
   "language": "python",
   "name": "python3"
  },
  "language_info": {
   "codemirror_mode": {
    "name": "ipython",
    "version": 3
   },
   "file_extension": ".py",
   "mimetype": "text/x-python",
   "name": "python",
   "nbconvert_exporter": "python",
   "pygments_lexer": "ipython3",
   "version": "3.6.4"
  }
 },
 "nbformat": 4,
 "nbformat_minor": 2
}
