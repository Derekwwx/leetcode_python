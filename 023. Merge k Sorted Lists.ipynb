{
 "cells": [
  {
   "cell_type": "markdown",
   "metadata": {},
   "source": [
    "# Description"
   ]
  },
  {
   "cell_type": "raw",
   "metadata": {},
   "source": [
    "Merge k sorted linked lists and return it as one sorted list. Analyze and describe its complexity.\n",
    "\n",
    "Example:\n",
    "\n",
    "Input:\n",
    "[\n",
    "  1->4->5,\n",
    "  1->3->4,\n",
    "  2->6\n",
    "]\n",
    "Output: 1->1->2->3->4->4->5->6"
   ]
  },
  {
   "cell_type": "code",
   "execution_count": 10,
   "metadata": {},
   "outputs": [
    {
     "name": "stdout",
     "output_type": "stream",
     "text": [
      "1->1->2->3->4->4->5->6"
     ]
    }
   ],
   "source": [
    "# 76 ms in 131 tests, over 98%\n",
    "class ListNode:\n",
    "    def __init__(self, x):\n",
    "        self.val = x\n",
    "        self.next = None\n",
    "        \n",
    "def LinkList(*args):\n",
    "    head = p = ListNode(0)\n",
    "    for arg in args:\n",
    "        p.next = ListNode(arg)\n",
    "        p = p.next\n",
    "    head = head.next\n",
    "    return head\n",
    "\n",
    "def printLL(h):\n",
    "    while h:\n",
    "        print(h.val, end='')\n",
    "        h = h.next\n",
    "        if h:\n",
    "            print('->', end='')\n",
    "            \n",
    "class Solution:\n",
    "    def mergeKLists(self, lists):\n",
    "        \"\"\"\n",
    "        :type lists: List[ListNode]\n",
    "        :rtype: ListNode\n",
    "        \"\"\"\n",
    "        new = cur = ListNode(0)\n",
    "        total = []\n",
    "        for i in range(len(lists)):\n",
    "            while lists[i]:\n",
    "                total.append(lists[i].val)\n",
    "                lists[i] = lists[i].next\n",
    "        total.sort()\n",
    "        for val in total:\n",
    "            cur.next = ListNode(val)\n",
    "            cur = cur.next\n",
    "        new = new.next\n",
    "        return new\n",
    "l1 = LinkList(1, 4, 5)\n",
    "l2 = LinkList(1, 3, 4)\n",
    "l3 = LinkList(2, 6)\n",
    "sol = Solution()\n",
    "printLL(sol.mergeKLists([l1,l2,l3]))"
   ]
  },
  {
   "cell_type": "code",
   "execution_count": 3,
   "metadata": {},
   "outputs": [
    {
     "name": "stdout",
     "output_type": "stream",
     "text": [
      "yes\n"
     ]
    }
   ],
   "source": [
    "if [None, None]:\n",
    "    print('yes')"
   ]
  },
  {
   "cell_type": "code",
   "execution_count": null,
   "metadata": {},
   "outputs": [],
   "source": []
  }
 ],
 "metadata": {
  "kernelspec": {
   "display_name": "Python 3",
   "language": "python",
   "name": "python3"
  },
  "language_info": {
   "codemirror_mode": {
    "name": "ipython",
    "version": 3
   },
   "file_extension": ".py",
   "mimetype": "text/x-python",
   "name": "python",
   "nbconvert_exporter": "python",
   "pygments_lexer": "ipython3",
   "version": "3.6.4"
  }
 },
 "nbformat": 4,
 "nbformat_minor": 2
}
