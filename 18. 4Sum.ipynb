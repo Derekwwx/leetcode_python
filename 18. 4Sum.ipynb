{
 "cells": [
  {
   "cell_type": "markdown",
   "metadata": {},
   "source": [
    "# Description\n",
    "\n",
    "Given an array nums of n integers and an integer target, are there elements a, b, c, and d in nums such that a + b + c + d = target? Find all unique quadruplets in the array which gives the sum of target.\n",
    "\n",
    "Note:\n",
    "\n",
    "The solution set must not contain duplicate quadruplets.\n",
    "\n",
    "Example:\n",
    "\n",
    "Given array nums = [1, 0, -1, 0, -2, 2], and target = 0.\n",
    "\n",
    "A solution set is:\n",
    "[\n",
    "  [-1,  0, 0, 1],\n",
    "  [-2, -1, 1, 2],\n",
    "  [-2,  0, 0, 2]\n",
    "]"
   ]
  },
  {
   "cell_type": "code",
   "execution_count": 4,
   "metadata": {},
   "outputs": [
    {
     "name": "stdout",
     "output_type": "stream",
     "text": [
      "[[-3, -2, 2, 3], [-3, -1, 1, 3], [-3, 0, 0, 3], [-3, 0, 1, 2], [-2, -1, 0, 3], [-2, -1, 1, 2], [-2, 0, 0, 2], [-1, 0, 0, 1]]\n"
     ]
    }
   ],
   "source": [
    "# 1044 ms in 282 tests over 30.96%\n",
    "def foursum(nums, target):\n",
    "    '''\n",
    "    :type nums: List[int]\n",
    "    :type target: int\n",
    "    :rtype: List[List[int]]\n",
    "    '''\n",
    "    num = len(nums)\n",
    "    if num < 4 or sum(map(abs, nums)) < abs(target):\n",
    "        return []\n",
    "    else:\n",
    "        res = []\n",
    "        nums.sort()\n",
    "        for first in range(num - 3):\n",
    "        # i>0是为了防止越界， 若first的前一个元素与first对应的元素相同，则其可能的组合已经被输出过\n",
    "        # 故直接跳过即可\n",
    "            if first > 0 and nums[first-1] == nums[first]:\n",
    "                continue\n",
    "            last = num - 1\n",
    "            while last >= 3:\n",
    "                if last < num - 1 and nums[last + 1] == nums[last]:\n",
    "                    last -= 1\n",
    "                    continue\n",
    "                second, third = first + 1, last - 1\n",
    "                while second < third:\n",
    "                    s = nums[first] + nums[second] + nums[third] + nums[last]\n",
    "                    if s < target:\n",
    "                        second += 1\n",
    "                    elif s > target:\n",
    "                        third -= 1\n",
    "                    else:\n",
    "                        res.append([nums[first], nums[second], nums[third], nums[last]])\n",
    "                        while second < third and nums[second+1] == nums[second]:\n",
    "                            second += 1\n",
    "                        while second < third and nums[third-1] == nums[third]:\n",
    "                            third -= 1\n",
    "                        second += 1; third -= 1\n",
    "                last -= 1\n",
    "        return res\n",
    "print(foursum([-3,-2,-1,0,0,1,2,3], 0))"
   ]
  },
  {
   "cell_type": "code",
   "execution_count": 10,
   "metadata": {},
   "outputs": [
    {
     "name": "stdout",
     "output_type": "stream",
     "text": [
      "[(-3, -2, 2, 3), (-3, -1, 1, 3), (-3, 0, 0, 3), (-2, -1, 0, 3), (-2, 0, 0, 2), (-1, 0, 0, 1)]\n"
     ]
    }
   ],
   "source": [
    "# 大神答案，kSum通用解法\n",
    "# 80 ms in 282 tests, compared 1042 ms\n",
    "\n",
    "def fourSum(self, nums, target):\n",
    "    nums.sort()\n",
    "    results = []\n",
    "    self.findNsum(nums, target, 4, [], results)\n",
    "    return results\n",
    "\n",
    "def findNsum(self, nums, target, N, result, results):\n",
    "    if len(nums) < N or N < 2: return\n",
    "\n",
    "    # solve 2-sum\n",
    "    if N == 2:\n",
    "        l, r = 0,len(nums)-1\n",
    "        while l < r:\n",
    "            if nums[l] + nums[r] == target:\n",
    "                results.append(result + [nums[l], nums[r]])\n",
    "                l += 1\n",
    "                r -= 1\n",
    "                while l < r and nums[l] == nums[l - 1]:\n",
    "                    l += 1\n",
    "                while r > l and nums[r] == nums[r + 1]:\n",
    "                    r -= 1\n",
    "            elif nums[l] + nums[r] < target:\n",
    "                l += 1\n",
    "            else:\n",
    "                r -= 1\n",
    "    else:\n",
    "        for i in range(0, len(nums)-N+1):   # careful about range\n",
    "            if target < nums[i]*N or target > nums[-1]*N:  # take advantages of sorted list\n",
    "                break\n",
    "            if i == 0 or i > 0 and nums[i-1] != nums[i]:  # recursively reduce N\n",
    "                self.findNsum(nums[i+1:], target-nums[i], N-1, result+[nums[i]], results)\n",
    "    return\n",
    "print(foursum([-3,-2,-1,0,0,1,2,3], 0))"
   ]
  },
  {
   "cell_type": "code",
   "execution_count": null,
   "metadata": {},
   "outputs": [],
   "source": []
  }
 ],
 "metadata": {
  "kernelspec": {
   "display_name": "Python 3",
   "language": "python",
   "name": "python3"
  },
  "language_info": {
   "codemirror_mode": {
    "name": "ipython",
    "version": 3
   },
   "file_extension": ".py",
   "mimetype": "text/x-python",
   "name": "python",
   "nbconvert_exporter": "python",
   "pygments_lexer": "ipython3",
   "version": "3.6.4"
  }
 },
 "nbformat": 4,
 "nbformat_minor": 2
}
