{
 "cells": [
  {
   "cell_type": "raw",
   "metadata": {},
   "source": [
    "Description:\n",
    "\n",
    "You are given two non-empty linked lists representing two non-negative integers. The digits are stored in reverse order and each of their nodes contain a single digit. Add the two numbers and return it as a linked list.\n",
    "\n",
    "You may assume the two numbers do not contain any leading zero, except the number 0 itself.\n",
    "\n",
    "Example\n",
    "\n",
    "Input: (2 -> 4 -> 3) + (5 -> 6 -> 4)\n",
    "Output: 7 -> 0 -> 8\n",
    "Explanation: 342 + 465 = 807."
   ]
  },
  {
   "cell_type": "code",
   "execution_count": 1,
   "metadata": {},
   "outputs": [],
   "source": [
    "# Definition for singly-linked list.\n",
    "class ListNode: # exp3\n",
    "    def __init__(self, x):\n",
    "        self.val = x\n",
    "        self.next = None\n",
    "\n",
    "class Solution:\n",
    "    def addTwoNumbers(self, l1, l2):\n",
    "        \"\"\"\n",
    "        :type l1: ListNode\n",
    "        :type l2: ListNode\n",
    "        :rtype: ListNode\n",
    "        \"\"\"\n",
    "        res = n = ListNode(0)\n",
    "        carry = 0 \n",
    "        while l1 or l2 or carry:\n",
    "            if l1:\n",
    "                carry += l1.val\n",
    "                l1 = l1.next\n",
    "            if l2:\n",
    "                carry += l2.val\n",
    "                l2 = l2.next\n",
    "            carry, val = divmod(carry, 10) # exp1\n",
    "            n.next = n = ListNode(val) # exp2\n",
    "        return res.next"
   ]
  },
  {
   "cell_type": "raw",
   "metadata": {},
   "source": [
    "exp1: python divmod 函数\n",
    "python divmod() 函数把除数和余数运算结果结合起来，返回一个包含商和余数的元组(a // b, a % b)。\n",
    "\n",
    "在 python 2.3 版本之前不允许处理复数。\n",
    "函数语法： divmod(a, b)\n",
    "参数说明：a: 数字， b: 数字"
   ]
  },
  {
   "cell_type": "code",
   "execution_count": 2,
   "metadata": {},
   "outputs": [
    {
     "data": {
      "text/plain": [
       "(3, 1)"
      ]
     },
     "execution_count": 2,
     "metadata": {},
     "output_type": "execute_result"
    }
   ],
   "source": [
    "divmod(7, 2)"
   ]
  },
  {
   "cell_type": "raw",
   "metadata": {},
   "source": [
    "exp2: chained assignment 链式赋值 BE CAREFUL!!!\n",
    "    x = y = some_function()\n",
    "is equivalent to\n",
    "    temp = some_function()\n",
    "    x = temp\n",
    "    y = temp\n",
    "Note the order. The leftmost target is assigned first. (A similar expression in C may assign in the opposite order.) \n",
    "\n",
    "1. n.next = n = ListNode(val) means first n.next = ListNode(val) then n point to the same address\n",
    "2. n = n.next = ListNode(val) means first n = ListNode(val) , now the n is ListNode(val), then n.next point to the address ListNode(val) which means point to itself!!!\n",
    "\n",
    "See more on: https://stackoverflow.com/questions/7601823/how-do-chained-assignments-work"
   ]
  },
  {
   "cell_type": "raw",
   "metadata": {},
   "source": [
    "exp3: listnode in python 链表\n",
    "链表的节点的结构如下：\n",
    "data | next\n",
    "\n",
    "data为自定义的数据，next为下一个节点的地址。"
   ]
  },
  {
   "cell_type": "code",
   "execution_count": 3,
   "metadata": {},
   "outputs": [],
   "source": [
    "#!/user/bin/python\n",
    "#-*- coding: utf-8 -*-\n",
    "\n",
    "# 先定义节点类\n",
    "class ListNode(object):\n",
    "    def __init__(self, val, p = None):\n",
    "        self.data = val\n",
    "        self.next = p\n",
    "    def __repr__(self):\n",
    "        '''\n",
    "        用来定义Node的字符输出\n",
    "        print为输出data\n",
    "        '''\n",
    "        return str(self.data)\n",
    "# 定义链表类\n",
    "class LinkList(object):\n",
    "    def __init__(self):\n",
    "        self.head = None\n",
    "        self.length = 0\n",
    "    \n",
    "    def InitList(self, data):\n",
    "        self.head = ListNode(data[0])\n",
    "        self.length = len(data)\n",
    "        p = self.head\n",
    "        for i in data[1:]:\n",
    "            node = ListNode(i)\n",
    "            p, p.next = p.next, node\n",
    "    \n",
    "    def getlength(self):\n",
    "        p = self.head\n",
    "        length = 0\n",
    "        while p:\n",
    "            length += 1\n",
    "            p = p.next\n",
    "        return length\n",
    "\n",
    "    def is_empty(self):\n",
    "        if self.length == 0:\n",
    "            return True\n",
    "        else:\n",
    "            return False\n",
    "    \n",
    "    def clear(self):\n",
    "        self.head = None\n",
    "        self.length = 0"
   ]
  },
  {
   "cell_type": "code",
   "execution_count": null,
   "metadata": {},
   "outputs": [],
   "source": []
  }
 ],
 "metadata": {
  "kernelspec": {
   "display_name": "Python 3",
   "language": "python",
   "name": "python3"
  },
  "language_info": {
   "codemirror_mode": {
    "name": "ipython",
    "version": 3
   },
   "file_extension": ".py",
   "mimetype": "text/x-python",
   "name": "python",
   "nbconvert_exporter": "python",
   "pygments_lexer": "ipython3",
   "version": "3.6.4"
  }
 },
 "nbformat": 4,
 "nbformat_minor": 2
}
