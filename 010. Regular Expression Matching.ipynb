{
 "cells": [
  {
   "cell_type": "markdown",
   "metadata": {},
   "source": [
    "# Description"
   ]
  },
  {
   "cell_type": "raw",
   "metadata": {},
   "source": [
    "Implement regular expression matching with support for '.' and '*'.\n",
    "\n",
    "'.' Matches any single character.\n",
    "'*' Matches zero or more of the preceding element.\n",
    "\n",
    "The matching should cover the entire input string (not partial).\n",
    "\n",
    "The function prototype should be:\n",
    "bool isMatch(const char *s, const char *p)\n",
    "\n",
    "Note:\n",
    "\n",
    "s could be empty and contains only lowercase letters a-z.\n",
    "p could be empty and contains only lowercase letters a-z, and characters like . or *.\n",
    "\n",
    "Example 1:\n",
    "Input:\n",
    "s = \"aa\"\n",
    "p = \"a\"\n",
    "Output: false\n",
    "Explanation: \"a\" does not match the entire string \"aa\".\n",
    "\n",
    "Example 2:\n",
    "Input:\n",
    "s = \"aa\"\n",
    "p = \"a*\"\n",
    "Output: true\n",
    "Explanation: '*' means zero or more of the precedeng element, 'a'. Therefore, by repeating 'a' once, it becomes \"aa\".\n",
    "\n",
    "Example 3:\n",
    "Input:\n",
    "s = \"ab\"\n",
    "p = \".*\"\n",
    "Output: true\n",
    "Explanation: \".*\" means \"zero or more (*) of any character (.)\".\n",
    "\n",
    "Example 4:\n",
    "Input:\n",
    "s = \"aab\"\n",
    "p = \"c*a*b\"\n",
    "Output: true\n",
    "Explanation: c can be repeated 0 times, a can be repeated 1 time. Therefore it matches \"aab\".\n",
    "\n",
    "Example 5:\n",
    "Input:\n",
    "s = \"mississippi\"\n",
    "p = \"mis*is*p*.\"\n",
    "Output: false"
   ]
  },
  {
   "cell_type": "markdown",
   "metadata": {},
   "source": [
    "# Approach I Recursion Approach\n",
    "## 太难了，不会~"
   ]
  },
  {
   "cell_type": "raw",
   "metadata": {},
   "source": [
    "Intuition：\n",
    "\n",
    "If there were no Kleene stars (the * wildcard character for regular expressions), the problem would be easier - we simply check from left to right if each character of the text matches the pattern.\n",
    "\n",
    "When a star is present, we may need to check many different suffixes of the text and see if they match the rest of the pattern. A recursive solution is a straightforward way to represent this relationship.\n",
    "\n",
    "Algorithm\n",
    "\n",
    "Without a Kleene star, our solution would look like this:\n",
    "\n",
    "def match(text, pattern):\n",
    "    if not pattern: return not text\n",
    "    first_match = bool(text) and pattern[0] in {text[0], '.'}\n",
    "    return first_match and match(text[1:], pattern[1:])\n",
    "\n",
    "If a star is present in the pattern, it will be in the second position pattern[1]. Then, we may ignore this part of the pattern, or delete a matching character in the text. If we have a match on the remaining strings after any of these operations, then the initial inputs matched"
   ]
  },
  {
   "cell_type": "code",
   "execution_count": 21,
   "metadata": {},
   "outputs": [
    {
     "name": "stdout",
     "output_type": "stream",
     "text": [
      "False\n"
     ]
    }
   ],
   "source": [
    "def isMatch(text, reg):\n",
    "    '''\n",
    "    :type target: str\n",
    "    :type reg: str\n",
    "    :rtype：bool\n",
    "    '''\n",
    "    # if reg is empty, only return true when text is empty as well\n",
    "    if not reg:\n",
    "        return not text\n",
    "    first_match = reg[0] in [text[0], '.'] and bool(text)\n",
    "    if len(reg) >= 2 and reg[1] == '*':  # note: two * cannot be next to each other\n",
    "        return isMatch(text, reg[2:]) or \\\n",
    "               first_match and isMatch(text[1:], reg) \n",
    "           # or之前\n",
    "           # if first doesn't match, we can simply delete a matching\n",
    "           # or之后\n",
    "           # note1: and优先级大于or\n",
    "           # note2: if first already matches, then check the next char in text but keep reg unchanged\n",
    "           #        because * can match zero or many chars.\n",
    "    else:\n",
    "        # condition1: if there is only one char in reg, then reg[1:] = ''\n",
    "        # condition2: if len(reg) >= 2 and reg[1] != '*', simply move to the next char to compare\n",
    "        return first_match and isMatch(text[1:], reg[1:]) \n",
    "\n",
    "print(isMatch('aabc', 'c*aab'))"
   ]
  },
  {
   "cell_type": "markdown",
   "metadata": {},
   "source": [
    "# Appoarch 2 Dynamic Programming\n",
    "## Top-down\n",
    "Intuition\n",
    "\n",
    "As the problem has an optimal substructure, it is natural to cache intermediate results. We ask the question dp(i, j): does text[i:] and pattern[j:] match? We can describe our answer in terms of answers to questions involving smaller strings.\n",
    "\n",
    "Algorithm\n",
    "\n",
    "We proceed with the same recursion as in Approach #1, except because calls will only ever be made to match(text[i:], pattern[j:]), we use dp(i, j) to handle those calls instead, saving us expensive string-building operations and allowing us to cache the intermediate results."
   ]
  },
  {
   "cell_type": "code",
   "execution_count": 29,
   "metadata": {},
   "outputs": [
    {
     "name": "stdout",
     "output_type": "stream",
     "text": [
      "{(3, 5): False}\n",
      "{(3, 5): False, (2, 4): False}\n",
      "{(3, 5): False, (2, 4): False, (1, 3): False}\n",
      "{(3, 5): False, (2, 4): False, (1, 3): False, (0, 2): False}\n",
      "{(3, 5): False, (2, 4): False, (1, 3): False, (0, 2): False, (0, 0): False}\n",
      "False\n"
     ]
    }
   ],
   "source": [
    "# 自顶而下，即备忘录法 memo\n",
    "# note: 特别注意这里用的表格不是二维列表，而是字典dictionary的存储形式!!!\n",
    "# 60 ms in 447 tests(over 97.83%)\n",
    "def isMatch(text, reg):\n",
    "    memo = {}\n",
    "    def dp(i, j):\n",
    "        if (i, j) not in memo:\n",
    "            # 如果reg匹配完了，text也恰巧匹配完了，则输出True\n",
    "            if j == len(reg):\n",
    "                ans = i == len(text)\n",
    "            else:\n",
    "                # 如果 text[i]不空，则判断text[i]与reg[j]是否匹配\n",
    "                first_match = i < len(text) and reg[j] in {text[i], '.'}\n",
    "                \n",
    "                # 匹配了第一个字符后，查看reg[j]后一位是否是 *, 为防止溢出需要判断 j+1是否小于len(reg)\n",
    "                if j+1 < len(reg) and reg[j+1] == '*':\n",
    "                    ans = dp(i, j+2) or first_match and dp(i+1, j)\n",
    "                # or之前\n",
    "                # if reg[j+1] = '*', first doesn't match, we can simply delete a matching\n",
    "                # or之后\n",
    "                # note1: and优先级大于or\n",
    "                # note2: if first already matches, then just check the next char in text but keep reg\n",
    "                #        unchanged because * can match zero or many chars.\n",
    "                else:\n",
    "                # condition1: if there is only one char in reg, then reg[1:] = ''\n",
    "                # condition2: if len(reg) >= 2 and reg[1] != '*', simply move to the next char to compare\n",
    "                    ans = first_match and dp(i+1, j+1)\n",
    "            memo[i, j] = ans\n",
    "#         print(memo)\n",
    "        return memo[i, j]\n",
    "    return dp(0, 0)\n",
    "\n",
    "print(isMatch('aabc', 'c*aab'))"
   ]
  },
  {
   "cell_type": "code",
   "execution_count": 21,
   "metadata": {},
   "outputs": [
    {
     "name": "stdout",
     "output_type": "stream",
     "text": [
      "1 1\n",
      "1 0\n",
      "0 1\n",
      "0 0\n",
      "[False, False, False]\n",
      "[False, False, False]\n",
      "[False, False, True]\n",
      "False\n"
     ]
    }
   ],
   "source": [
    "# Bottom-up variation\n",
    "# dp(i, j): does text[i:] and pattern[j:] match?\n",
    "# 112 ms in 447 tests(over 40.56%)\n",
    "def isMatch(text, pattern):\n",
    "    dp = [[False] * (len(pattern)+1) for _ in range(len(text)+1)]\n",
    "    # 防止越界\n",
    "    dp[-1][-1] = True\n",
    "    for i in range(len(text), -1, -1):\n",
    "    # i从len(text)开始循环，而不是len(text)-1的目的是为了处理text为空时的匹配情况\n",
    "    # 实在不理解可用spyder调试\n",
    "        for j in range(len(pattern) - 1, -1, -1):\n",
    "            first_match = i < len(text) and pattern[j] in {text[i], '.'}\n",
    "            print(i, j)\n",
    "            if j+1 < len(pattern) and pattern[j+1] == '*':\n",
    "                dp[i][j] = dp[i][j+2] or first_match and dp[i+1][j]\n",
    "            else:\n",
    "                dp[i][j] = first_match and dp[i+1][j+1]\n",
    "    for c in dp:\n",
    "        print(c)\n",
    "    return dp[0][0]\n",
    "print(isMatch('aa', 'a*'))"
   ]
  },
  {
   "cell_type": "markdown",
   "metadata": {},
   "source": [
    "Time Complexity: Let T, P be the lengths of the text and the pattern respectively. The work for every call to dp(i, j) for i=0,...,T; j=0, ... ,P is done once, and it is O(1) work. Hence, the time complexity is O(TP).\n",
    "\n",
    "Space Complexity: The only memory we use is the O(TP) boolean entries in our cache. Hence, the space complexity is O(TP)."
   ]
  },
  {
   "cell_type": "code",
   "execution_count": null,
   "metadata": {},
   "outputs": [],
   "source": []
  }
 ],
 "metadata": {
  "kernelspec": {
   "display_name": "Python 3",
   "language": "python",
   "name": "python3"
  },
  "language_info": {
   "codemirror_mode": {
    "name": "ipython",
    "version": 3
   },
   "file_extension": ".py",
   "mimetype": "text/x-python",
   "name": "python",
   "nbconvert_exporter": "python",
   "pygments_lexer": "ipython3",
   "version": "3.6.4"
  }
 },
 "nbformat": 4,
 "nbformat_minor": 2
}
