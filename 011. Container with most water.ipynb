{
 "cells": [
  {
   "cell_type": "markdown",
   "metadata": {},
   "source": [
    "# Description\n",
    "Given n non-negative integers a1, a2, ..., an, where each represents a point at coordinate (i, ai). n vertical lines are drawn such that the two endpoints of line i is at (i, ai) and (i, 0). Find two lines, which together with x-axis forms a container, such that the container contains the most water.\n",
    "\n",
    "Note: You may not slant the container and n is at least 2."
   ]
  },
  {
   "cell_type": "code",
   "execution_count": 13,
   "metadata": {},
   "outputs": [
    {
     "data": {
      "text/plain": [
       "2"
      ]
     },
     "execution_count": 13,
     "metadata": {},
     "output_type": "execute_result"
    }
   ],
   "source": [
    "# Approach I Brute force\n",
    "# Time limit exceeded\n",
    "# results are corret but not efficient enough\n",
    "# Time complexity: O(n^2), space complexity: O(1)\n",
    "def maxArea(height):\n",
    "    s = 0\n",
    "    for i in range(len(height) - 1):\n",
    "        for j in range(i+1, len(height)):\n",
    "            if s < min(height[i], height[j]) * (j - i):\n",
    "                s = min(height[i], height[j])*(j - i)\n",
    "    return s\n",
    "maxArea([1, 2, 1])"
   ]
  },
  {
   "cell_type": "code",
   "execution_count": 19,
   "metadata": {},
   "outputs": [
    {
     "name": "stdout",
     "output_type": "stream",
     "text": [
      "2\n"
     ]
    },
    {
     "data": {
      "text/plain": [
       "2"
      ]
     },
     "execution_count": 19,
     "metadata": {},
     "output_type": "execute_result"
    }
   ],
   "source": [
    "# Approach II recursion\n",
    "# time limit exceeded\n",
    "def maxArea(h):\n",
    "    if len(h) <= 1:\n",
    "        return 0\n",
    "    elif len(h) == 2:\n",
    "        return min(h[0],h[1])\n",
    "    else:\n",
    "        s = 0\n",
    "        for i in range(len(h)-1):\n",
    "            t = (len(h) - 1 - i) * min(h[i], h[len(h)-1])\n",
    "            if t > s:\n",
    "                s = t\n",
    "        print(s)\n",
    "        return max(s, maxArea(h[:-1]))\n",
    "maxArea([1, 2, 1])"
   ]
  },
  {
   "cell_type": "markdown",
   "metadata": {},
   "source": [
    "# Apporach III Two pointer \n",
    "\n",
    "The intuition behind this approach is that the area formed between the lines will always be limited by the height of the shorter line. Further, the farther the lines, the more will be the area obtained.\n",
    "\n",
    "We take two pointers, one at the beginning and one at the end of the array constituting the length of the lines. Futher, we maintain a variable maxareamaxarea to store the maximum area obtained till now. At every step, we find out the area formed between them, update maxareamaxarea and move the pointer pointing to the shorter line towards the other end by one step.\n",
    "\n",
    "Initially we consider the area constituting the exterior most lines. Now, to maximize the area, we need to consider the area between the lines of larger lengths. If we try to move the pointer at the longer line inwards, we won't gain any increase in area, since it is limited by the shorter line. But moving the shorter line's pointer could turn out to be beneficial, as per the same argument, despite the reduction in the width. This is done since a relatively longer line obtained by moving the shorter line's pointer might overcome the reduction in area caused by the width reduction."
   ]
  },
  {
   "cell_type": "code",
   "execution_count": 20,
   "metadata": {},
   "outputs": [
    {
     "data": {
      "text/plain": [
       "2"
      ]
     },
     "execution_count": 20,
     "metadata": {},
     "output_type": "execute_result"
    }
   ],
   "source": [
    "# 72 ms in 49 tests (over 71%)\n",
    "# note: if we don't use min function, then the performace can be enhanced to 56 ms (over 99.61%)\n",
    "# time complexity: O(n), space complexity: O(1)\n",
    "\n",
    "def maxArea(h):\n",
    "    s, l, r = 0, 0, len(h) - 1\n",
    "    while l < r:\n",
    "#         t = (r - l) * min(h[r], h[l])\n",
    "#         if t > s:\n",
    "#             s = t\n",
    "        if h[l] < h[r]:\n",
    "            t = (r - l) * h[l]\n",
    "            if t > s:\n",
    "                s = t\n",
    "            l += 1\n",
    "        else:\n",
    "            t = (r - l) * h[r]\n",
    "            if t > s:\n",
    "                s = t\n",
    "            r -= 1\n",
    "    return s\n",
    "\n",
    "maxArea([1, 2, 1])"
   ]
  },
  {
   "cell_type": "code",
   "execution_count": null,
   "metadata": {},
   "outputs": [],
   "source": []
  }
 ],
 "metadata": {
  "kernelspec": {
   "display_name": "Python 3",
   "language": "python",
   "name": "python3"
  },
  "language_info": {
   "codemirror_mode": {
    "name": "ipython",
    "version": 3
   },
   "file_extension": ".py",
   "mimetype": "text/x-python",
   "name": "python",
   "nbconvert_exporter": "python",
   "pygments_lexer": "ipython3",
   "version": "3.6.4"
  }
 },
 "nbformat": 4,
 "nbformat_minor": 2
}
