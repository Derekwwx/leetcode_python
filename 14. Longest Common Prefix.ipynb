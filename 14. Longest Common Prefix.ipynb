{
 "cells": [
  {
   "cell_type": "markdown",
   "metadata": {},
   "source": [
    "# Description\n",
    "Write a function to find the longest common prefix string amongst an array of strings."
   ]
  },
  {
   "cell_type": "code",
   "execution_count": 2,
   "metadata": {},
   "outputs": [],
   "source": [
    "# 84 ms in 117 test (over 4.5%)\n",
    "def lcp(strs):\n",
    "    \"\"\"\n",
    "    :type strs: List[str]\n",
    "    :rtype: str\n",
    "    \"\"\"\n",
    "    if not strs:\n",
    "        return ''\n",
    "    else:\n",
    "        len0 = len(strs[0])\n",
    "        nums = len(strs)\n",
    "        pre = ''\n",
    "        for i in range(len0):\n",
    "            # pre的赋值不能防在j的循环后，否则i循环结束的时候会有一个字符加入pre但没有\n",
    "            # 进行检验\n",
    "            pre += strs[0][i]\n",
    "            for j in range(nums):\n",
    "                # 判断pre是不是第j个字符串的前缀，不能用pre not in strs[j]，因为pre\n",
    "                # 可能出现在strs[j]的中间部分\n",
    "                if len(pre)>len(strs[j]) or pre != strs[j][:len(pre)]:\n",
    "                    return pre[:(len(pre)-1)]\n",
    "        return pre"
   ]
  },
  {
   "cell_type": "code",
   "execution_count": 3,
   "metadata": {},
   "outputs": [],
   "source": [
    "# 40 ms (over 98%)\n",
    "def lcp(strs):\n",
    "        if not strs:   #if strs = []\n",
    "            return(\"\")\n",
    "        '''\n",
    "        Input:\n",
    "            for i, j in enumerate(zip([1,4],[2,3,5])):\n",
    "                print(i, j)\n",
    "        Output:\n",
    "            0 (1, 2)\n",
    "            1 (4, 3)\n",
    "        '''\n",
    "        # Python允许在list或tuple前面加一个*号，把list或tuple的元素变成可变参数传进去, 如果不加，则默认list作为一个整体被当成一个参数\n",
    "        # 也即是*strs表示把strs这个list的所有字符串作为可变参数传进去\n",
    "        for i, letter_group in enumerate(zip(*strs)):\n",
    "            if len(set(letter_group)) > 1:\n",
    "                return(strs[0][:i])\n",
    "            \n",
    "        ##if shortest string is the common prefix or strs contains \"\"\n",
    "        else:\n",
    "            return(min(strs))"
   ]
  },
  {
   "cell_type": "markdown",
   "metadata": {},
   "source": [
    "# Approach III Binary Search"
   ]
  },
  {
   "cell_type": "code",
   "execution_count": 9,
   "metadata": {},
   "outputs": [
    {
     "data": {
      "text/plain": [
       "''"
      ]
     },
     "execution_count": 9,
     "metadata": {},
     "output_type": "execute_result"
    }
   ],
   "source": [
    "# 有bug\n",
    "# def lcp(strs):\n",
    "#     if not strs:\n",
    "#         return ''\n",
    "#     else:\n",
    "#         minlen = min(map(len, strs))\n",
    "#         low, high = 0, minlen\n",
    "#         while low <= high:\n",
    "#             middle = (low + high) // 2\n",
    "#             if min([1 if strs[0][:middle+1] == test[:middle+1] else 0 for test in strs ]):\n",
    "#                 low = middle + 1\n",
    "#             else:\n",
    "#                 high = middle -1\n",
    "#         return strs[0][:(low+high)//2]\n",
    "\n",
    "# lcp(['aa', 'ab'])"
   ]
  },
  {
   "cell_type": "code",
   "execution_count": null,
   "metadata": {},
   "outputs": [],
   "source": []
  }
 ],
 "metadata": {
  "kernelspec": {
   "display_name": "Python 3",
   "language": "python",
   "name": "python3"
  },
  "language_info": {
   "codemirror_mode": {
    "name": "ipython",
    "version": 3
   },
   "file_extension": ".py",
   "mimetype": "text/x-python",
   "name": "python",
   "nbconvert_exporter": "python",
   "pygments_lexer": "ipython3",
   "version": "3.6.4"
  }
 },
 "nbformat": 4,
 "nbformat_minor": 2
}
