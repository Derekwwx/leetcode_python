{
 "cells": [
  {
   "cell_type": "raw",
   "metadata": {},
   "source": [
    "Description:\n",
    "Given a string, find the length of the longest substring without repeating characters.\n",
    "\n",
    "Examples:\n",
    "\n",
    "Given \"abcabcbb\", the answer is \"abc\", which the length is 3.\n",
    "\n",
    "Given \"bbbbb\", the answer is \"b\", with the length of 1.\n",
    "\n",
    "Given \"pwwkew\", the answer is \"wke\", with the length of 3. Note that the answer must be a substring, \"pwke\" is a subsequence and not a substring."
   ]
  },
  {
   "cell_type": "code",
   "execution_count": 6,
   "metadata": {},
   "outputs": [
    {
     "name": "stdout",
     "output_type": "stream",
     "text": [
      "{0: 2, 1: 3, 2: 4, 3: 5, 4: 5, 5: 6, 6: 6, 7: 7}\n"
     ]
    },
    {
     "data": {
      "text/plain": [
       "'abc'"
      ]
     },
     "execution_count": 6,
     "metadata": {},
     "output_type": "execute_result"
    }
   ],
   "source": [
    "# Version 1: \n",
    "# 983 / 983 test cases passed.\n",
    "# Runtime: 756 ms\n",
    "def substring(s):\n",
    "    \"\"\"\n",
    "    :type s: str\n",
    "    :rtype: int\n",
    "    \"\"\"\n",
    "    if 0 == len(s):\n",
    "        return ''\n",
    "    sub = {}\n",
    "    for i in range(len(s)):\n",
    "        sub[i] = i\n",
    "        for j in range(i+1, len(s)):\n",
    "            if s[j] not in s[i:j]:\n",
    "                sub[i] += 1\n",
    "                continue\n",
    "            else:\n",
    "                break\n",
    "    maxm = 0\n",
    "    for i, j in sub.items():\n",
    "        if j - i >= maxm:\n",
    "            maxm = j - i\n",
    "            string = s[i:j+1]\n",
    "    print(sub)\n",
    "    return string\n",
    "substring('abcabcbb')"
   ]
  },
  {
   "cell_type": "code",
   "execution_count": 15,
   "metadata": {},
   "outputs": [
    {
     "data": {
      "text/plain": [
       "5"
      ]
     },
     "execution_count": 15,
     "metadata": {},
     "output_type": "execute_result"
    }
   ],
   "source": [
    "# Version 2: from online source\n",
    "# O(n), time: 85ms\n",
    "def substring(s):\n",
    "    start = maxm = 0\n",
    "    used = {}\n",
    "    for i, c in enumerate(s):\n",
    "        if c in used and start <= used[c]: # exp1\n",
    "            start = used[c] + 1\n",
    "        else:\n",
    "            maxm = max(maxm, i - start + 1)\n",
    "        used[c] = i\n",
    "    return maxm\n",
    "\n",
    "substring('tmmzuxt')"
   ]
  },
  {
   "cell_type": "raw",
   "metadata": {},
   "source": [
    "exp1: 程序理解\n",
    "以abcabcbb这个串为例\n",
    "用一个数据结构，即字典，used记录每个元素曾出现的下标, start表示最大子串的起始下标\n",
    "只有当新字符c不在曾出现的字符中或者 start > used[c], 才将新字符算作最大子串的一部分，同时刷新最大子串长度并在used中记录其序号，如used['a'] = 0, used['b'] = 1, used['c'] = 2\n",
    "\n",
    "到s[3]时，c = 'a' 在used中出现过(c in used)且是在start之后的字符串中第二次出现(start <= used[c])，此时最大子串只有可能在当前记录的最大子串(从start开始)和从start + 1开始的字符串子串中出现，即更新 start = used[c] + 1"
   ]
  }
 ],
 "metadata": {
  "kernelspec": {
   "display_name": "Python 3",
   "language": "python",
   "name": "python3"
  },
  "language_info": {
   "codemirror_mode": {
    "name": "ipython",
    "version": 3
   },
   "file_extension": ".py",
   "mimetype": "text/x-python",
   "name": "python",
   "nbconvert_exporter": "python",
   "pygments_lexer": "ipython3",
   "version": "3.6.4"
  }
 },
 "nbformat": 4,
 "nbformat_minor": 2
}
