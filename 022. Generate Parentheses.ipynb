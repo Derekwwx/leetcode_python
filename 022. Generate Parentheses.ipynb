{
 "cells": [
  {
   "cell_type": "markdown",
   "metadata": {},
   "source": [
    "# Description"
   ]
  },
  {
   "cell_type": "raw",
   "metadata": {},
   "source": [
    "Given n pairs of parentheses, write a function to generate all combinations of well-formed parentheses.\n",
    "\n",
    "For example, given n = 3, a solution set is:\n",
    "\n",
    "[\n",
    "  \"((()))\",\n",
    "  \"(()())\",\n",
    "  \"(())()\",\n",
    "  \"()(())\",\n",
    "  \"()()()\"\n",
    "]"
   ]
  },
  {
   "cell_type": "code",
   "execution_count": 7,
   "metadata": {},
   "outputs": [
    {
     "name": "stdout",
     "output_type": "stream",
     "text": [
      "['()()()', '(())()', '()(())', '(()())', '((()))']\n"
     ]
    }
   ],
   "source": [
    "# 120 ms in 8 tests, over 5.13%\n",
    "def getp(n):\n",
    "\n",
    "    if n == 1:\n",
    "        return ['()']\n",
    "    else:\n",
    "        pre = getp(n - 1)\n",
    "        res = []\n",
    "        for sol in pre:\n",
    "            # 在位置i插入一个新的()即构成新的括号集\n",
    "            for i in range(n):\n",
    "                new = sol[:i] + '()' + sol[i:]\n",
    "                if new not in res:\n",
    "                    res.append(new)\n",
    "    return res\n",
    "print(getp(3))"
   ]
  },
  {
   "cell_type": "code",
   "execution_count": 4,
   "metadata": {},
   "outputs": [
    {
     "data": {
      "text/plain": [
       "''"
      ]
     },
     "execution_count": 4,
     "metadata": {},
     "output_type": "execute_result"
    }
   ],
   "source": [
    "'()'[:0]"
   ]
  },
  {
   "cell_type": "code",
   "execution_count": null,
   "metadata": {},
   "outputs": [],
   "source": [
    "# 大神答案, 双递归, 36 ms (vs. my solution's 120 ms)\n",
    "# 合法的情况是，任意一时刻，左（“(”）括号数要大于等于右（\")\"）括号数, 用left和right分别表示剩余左右括号的个数\n",
    "# 1) left和right都等于0说明，临时变量string中左右括号数相等，所以将临时变量中的值存入result中；\n",
    "# 2) 其余的情况是，先放左括号，然后放右括号，然后递归。注意参数的更新。\n",
    "# 3) left大于right，即，临时变量中右括号的数大于左括号的数，则说明出现了')('，这是非法情况，直接返回不用处理\n",
    "def getp(n):\n",
    "    if n == 0:\n",
    "        return []\n",
    "    left = right = n\n",
    "    res = []\n",
    "    generate(left, right, res, '')\n",
    "    return res\n",
    "\n",
    "def generate(left, right, res, string):\n",
    "    if left == 0 and right == 0:\n",
    "        result.append(string)\n",
    "        return\n",
    "    if left:\n",
    "        generate(left - 1, right, result, string + '(')\n",
    "    if left < right:\n",
    "        generate(left, right - 1, result, string + ')')"
   ]
  }
 ],
 "metadata": {
  "kernelspec": {
   "display_name": "Python 3",
   "language": "python",
   "name": "python3"
  },
  "language_info": {
   "codemirror_mode": {
    "name": "ipython",
    "version": 3
   },
   "file_extension": ".py",
   "mimetype": "text/x-python",
   "name": "python",
   "nbconvert_exporter": "python",
   "pygments_lexer": "ipython3",
   "version": "3.6.4"
  }
 },
 "nbformat": 4,
 "nbformat_minor": 2
}
