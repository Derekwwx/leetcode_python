{
 "cells": [
  {
   "attachments": {},
   "cell_type": "markdown",
   "metadata": {},
   "source": [
    "Given a string s, find the longest palindromic substring in s. You may assume that the maximum length of s is 1000.\n",
    "\n",
    "Example:\n",
    "\n",
    "Input: \"babad\"\n",
    "\n",
    "Output: \"bab\"\n",
    "\n",
    "Note: \"aba\" is also a valid answer.\n",
    " \n",
    "\n",
    "Example:\n",
    "\n",
    "Input: \"cbbd\"\n",
    "\n",
    "Output: \"bb\""
   ]
  },
  {
   "cell_type": "markdown",
   "metadata": {},
   "source": [
    "# Approach 1 (longest common string)"
   ]
  },
  {
   "cell_type": "code",
   "execution_count": 63,
   "metadata": {},
   "outputs": [
    {
     "name": "stdout",
     "output_type": "stream",
     "text": [
      "[0, 0, 0, 0]\n",
      "[0, 1, 0, 1]\n",
      "[0, 0, 2, 0]\n",
      "[0, 1, 0, 3]\n"
     ]
    },
    {
     "ename": "TypeError",
     "evalue": "'axis' is an invalid keyword argument for this function",
     "output_type": "error",
     "traceback": [
      "\u001b[1;31m---------------------------------------------------------------------------\u001b[0m",
      "\u001b[1;31mTypeError\u001b[0m                                 Traceback (most recent call last)",
      "\u001b[1;32m<ipython-input-63-8398e2185f05>\u001b[0m in \u001b[0;36m<module>\u001b[1;34m()\u001b[0m\n\u001b[0;32m     23\u001b[0m     \u001b[0mprint\u001b[0m\u001b[1;33m(\u001b[0m\u001b[1;34m'Max is '\u001b[0m\u001b[1;33m,\u001b[0m \u001b[0mmax\u001b[0m\u001b[1;33m(\u001b[0m\u001b[0mm\u001b[0m\u001b[1;33m,\u001b[0m \u001b[0maxis\u001b[0m\u001b[1;33m=\u001b[0m\u001b[1;36m1\u001b[0m\u001b[1;33m)\u001b[0m\u001b[1;33m)\u001b[0m\u001b[1;33m\u001b[0m\u001b[0m\n\u001b[0;32m     24\u001b[0m     \u001b[1;32mreturn\u001b[0m \u001b[0ms\u001b[0m\u001b[1;33m[\u001b[0m\u001b[0mp\u001b[0m\u001b[1;33m-\u001b[0m\u001b[0mmmax\u001b[0m\u001b[1;33m:\u001b[0m\u001b[0mp\u001b[0m\u001b[1;33m]\u001b[0m\u001b[1;33m,\u001b[0m \u001b[0mmmax\u001b[0m\u001b[1;33m,\u001b[0m \u001b[0mp\u001b[0m\u001b[1;33m\u001b[0m\u001b[0m\n\u001b[1;32m---> 25\u001b[1;33m \u001b[0mprint\u001b[0m\u001b[1;33m(\u001b[0m\u001b[0mlongestPalindrome\u001b[0m\u001b[1;33m(\u001b[0m\u001b[1;34m'aba'\u001b[0m\u001b[1;33m)\u001b[0m\u001b[1;33m)\u001b[0m\u001b[1;33m\u001b[0m\u001b[0m\n\u001b[0m",
      "\u001b[1;32m<ipython-input-63-8398e2185f05>\u001b[0m in \u001b[0;36mlongestPalindrome\u001b[1;34m(s)\u001b[0m\n\u001b[0;32m     21\u001b[0m     \u001b[1;32mfor\u001b[0m \u001b[0mc\u001b[0m \u001b[1;32min\u001b[0m \u001b[0mm\u001b[0m\u001b[1;33m:\u001b[0m\u001b[1;33m\u001b[0m\u001b[0m\n\u001b[0;32m     22\u001b[0m         \u001b[0mprint\u001b[0m\u001b[1;33m(\u001b[0m\u001b[0mc\u001b[0m\u001b[1;33m)\u001b[0m\u001b[1;33m\u001b[0m\u001b[0m\n\u001b[1;32m---> 23\u001b[1;33m     \u001b[0mprint\u001b[0m\u001b[1;33m(\u001b[0m\u001b[1;34m'Max is '\u001b[0m\u001b[1;33m,\u001b[0m \u001b[0mmax\u001b[0m\u001b[1;33m(\u001b[0m\u001b[0mm\u001b[0m\u001b[1;33m,\u001b[0m \u001b[0maxis\u001b[0m\u001b[1;33m=\u001b[0m\u001b[1;36m1\u001b[0m\u001b[1;33m)\u001b[0m\u001b[1;33m)\u001b[0m\u001b[1;33m\u001b[0m\u001b[0m\n\u001b[0m\u001b[0;32m     24\u001b[0m     \u001b[1;32mreturn\u001b[0m \u001b[0ms\u001b[0m\u001b[1;33m[\u001b[0m\u001b[0mp\u001b[0m\u001b[1;33m-\u001b[0m\u001b[0mmmax\u001b[0m\u001b[1;33m:\u001b[0m\u001b[0mp\u001b[0m\u001b[1;33m]\u001b[0m\u001b[1;33m,\u001b[0m \u001b[0mmmax\u001b[0m\u001b[1;33m,\u001b[0m \u001b[0mp\u001b[0m\u001b[1;33m\u001b[0m\u001b[0m\n\u001b[0;32m     25\u001b[0m \u001b[0mprint\u001b[0m\u001b[1;33m(\u001b[0m\u001b[0mlongestPalindrome\u001b[0m\u001b[1;33m(\u001b[0m\u001b[1;34m'aba'\u001b[0m\u001b[1;33m)\u001b[0m\u001b[1;33m)\u001b[0m\u001b[1;33m\u001b[0m\u001b[0m\n",
      "\u001b[1;31mTypeError\u001b[0m: 'axis' is an invalid keyword argument for this function"
     ]
    }
   ],
   "source": [
    "def longestPalindrome(s):\n",
    "    '''\n",
    "    :type s: str\n",
    "    :rtype: str\n",
    "    '''\n",
    "    dim = len(s)\n",
    "    rev = s[::-1]\n",
    "    m = [[0 for x in range(dim+1)] for x in range(dim + 1)]\n",
    "    mmax = 0\n",
    "    p = 0\n",
    "    for i in range(dim):\n",
    "        for j in range(dim):\n",
    "            if s[i] == rev[j]:\n",
    "                m[i+1][j+1] = m[i][j] + 1\n",
    "                if m[i+1][j+1] > mmax:\n",
    "                    p = i + 1\n",
    "                    mmax = m[i+1][j+1]\n",
    "\n",
    "    for c in m:\n",
    "        print(c)\n",
    "    print('Max is ', max(m, axis=1))\n",
    "    return s[p-mmax:p], mmax, p\n",
    "print(longestPalindrome('aba'))"
   ]
  },
  {
   "cell_type": "markdown",
   "metadata": {},
   "source": [
    "最长公共子串(The Longest Common Substring)\n",
    "\n",
    "LCS问题就是求两个字符串最长公共子串的问题. 解法可以用一个矩阵来记录两个字符串中所有位置的两个字符之间的匹配情况，若是匹配则为1,否则为0。然后求出对角线最长的1的序列，其对应的位置就是最长匹配子串的位置。"
   ]
  },
  {
   "cell_type": "code",
   "execution_count": 7,
   "metadata": {},
   "outputs": [
    {
     "name": "stdout",
     "output_type": "stream",
     "text": [
      "[0, 0, 0, 0, 0, 0]\n",
      "[0, 1, 0, 0, 0, 0]\n",
      "[0, 0, 2, 0, 0, 0]\n",
      "[0, 0, 0, 0, 0, 0]\n",
      "[0, 0, 0, 1, 0, 0]\n",
      "[0, 0, 0, 0, 2, 0]\n",
      "[0, 0, 0, 0, 0, 3]\n",
      "('dfg', 3)\n"
     ]
    }
   ],
   "source": [
    "def lcs(s1, s2):\n",
    "    m = [([0]*range(len(s2)+1)) for j in range(len(s1)+1)]\n",
    "    # 生成(len(s2)+1)*(len(s1)+1)的0矩阵，为方便后续计算（特别是\n",
    "    # 循环的时候防止出现列下标溢出的情况），比字符串长度多了一列  \n",
    "    mmax = 0 # 最长匹配的长度\n",
    "    p = 0 # 最长匹配子串的最后一位在s1的序号 + 1\n",
    "    for i in range(len(s1)):\n",
    "        for j in range(len(s2)):\n",
    "            if s1[i] == s2[j]:\n",
    "                m[i+1][j+1] = m[i][j] + 1\n",
    "                if m[i+1][j+1] > mmax:\n",
    "                    mmax = m[i+1][j+1]\n",
    "                    p = i + 1\n",
    "    for r in m:\n",
    "        print(r)\n",
    "    return s1[p-mmax:p], mmax\n",
    "\n",
    "print(lcs('abcdfg', 'abdfg'))"
   ]
  },
  {
   "cell_type": "raw",
   "metadata": {},
   "source": [
    "最长公共子序列 (The Longest Common Subsequence) ?????\n",
    "\n",
    "    子串要求字符必须是连续的，但是子序列就不是这样。最长公共子序列是一个十分实用的问题，它可以描述两段文字之间的“相似度”，即它们的雷同程度，从而能够用来辨别抄袭。对一段文字进行修改之后，计算改动前后文字的最长公共子序列，将除此子序列外的部分提取出来，这种方法判断修改的部分，往往十分准确。\n",
    "    解法就是用动态回归的思想，先建立好两个表(矩阵)，一个矩阵记录两个字符串中匹配情况，若是匹配则为左上方的值加1，否则为左方和上方的最大值，同时存储在(i,j)处是当前最长公共子序列长度;另一个存储在(i,j)处的回溯方向(或转移方向），然后根据转移方向，回溯找到最长子序列。算法思想如下：\n",
    "    序列a共有m个元素，序列b共有n个元素，如果a[m-1]==b[n-1]，那么a[:m]和b[:n]的最长公共子序列长度就是a[:m-1]和b[:n-1]的最长公共子序列长度+1；如果a[m-1]!=b[n-1]，那么a[:m]和b[:n]的最长公共子序列长度就是MAX（a[:m-1]和b[:n]的最长公共子序列长度，a[:m]和b[:n-1]的最长公共子序列长度）。"
   ]
  },
  {
   "cell_type": "code",
   "execution_count": 12,
   "metadata": {},
   "outputs": [
    {
     "name": "stdout",
     "output_type": "stream",
     "text": [
      "[[None None None None None None None]\n",
      " [None 'ok' 'lf' 'lf' 'lf' 'lf' 'lf']\n",
      " [None 'up' 'ok' 'lf' 'lf' 'lf' 'lf']\n",
      " [None 'up' 'up' 'up' 'ok' 'lf' 'lf']\n",
      " [None 'up' 'up' 'up' 'up' 'ok' 'lf']\n",
      " [None 'up' 'up' 'up' 'up' 'up' 'ok']]\n",
      "abdfg\n"
     ]
    }
   ],
   "source": [
    "import numpy\n",
    "def lcseq(s1, s2):\n",
    "    # 生成字符串长度加1的0矩阵，m保存对应位置匹配的结果\n",
    "    m = [[0 for x in range(len(s2) + 1)] for y in range(len(s1)+1)]\n",
    "    # d用来记录转移方向\n",
    "    d = [[None for x in range(len(s2)+1)] for y in range(len(s1)+1)]\n",
    "    \n",
    "    for p1 in range(len(s1)):\n",
    "        for p2 in range(len(s2)):\n",
    "            if s1[p1] == s2[p2]:  # 字符串匹配成功，则该位置的值为左上方加1\n",
    "                m[p1+1][p2+1] = m[p1][p2] + 1\n",
    "                d[p1+1][p2+1] = 'ok'\n",
    "            elif m[p1+1][p2] > m[p1][p2+1]:  #左值大于上值，则该位置的值为左值，并标记回溯时的方向  \n",
    "                m[p1+1][p2+1] = m[p1+1][p2]   \n",
    "                d[p1+1][p2+1] = 'lf'            \n",
    "            else:                           #上值大于左值，则该位置的值为上值，并标记方向up  \n",
    "                m[p1+1][p2+1] = m[p1][p2+1]     \n",
    "                d[p1+1][p2+1] = 'up'           \n",
    "    (p1, p2) = (len(s1), len(s2))   \n",
    "    print(numpy.array(d))\n",
    "    s = []   \n",
    "    while m[p1][p2]:    #不为None时  \n",
    "        c = d[p1][p2]  \n",
    "        if c == 'ok':   #匹配成功，插入该字符，并向左上角找下一个  \n",
    "            s.append(s1[p1-1])  \n",
    "            p1-=1  \n",
    "            p2-=1   \n",
    "        if c =='lf':  #根据标记，向左找下一个  \n",
    "            p2 -= 1  \n",
    "        if c == 'up':   #根据标记，向上找下一个  \n",
    "            p1 -= 1  \n",
    "    s.reverse()   \n",
    "    return ''.join(s)   \n",
    "  \n",
    "print(lcseq('abdfg','abcdfg'))"
   ]
  },
  {
   "cell_type": "markdown",
   "metadata": {},
   "source": [
    "# Approach II Dynamic Programming"
   ]
  },
  {
   "cell_type": "code",
   "execution_count": 102,
   "metadata": {},
   "outputs": [
    {
     "name": "stdout",
     "output_type": "stream",
     "text": [
      "('aba', 3)\n"
     ]
    }
   ],
   "source": [
    "# 94/94 test cases passed\n",
    "# runtime: 5440 ms\n",
    "def longestPalindrome(s):\n",
    "    '''\n",
    "    :type s: str\n",
    "    :rtype: str\n",
    "    :define a table to store all P(i, j), where P(i, j) = true if Si...Sj is palindrom\n",
    "    and P(i, j)=false, otherwise\n",
    "    The base cases are:\n",
    "        P(i, i) = True\n",
    "        P(i, i+1) = (Si == Si+1)\n",
    "    '''\n",
    "    dim = len(s)\n",
    "    table = [([0]*dim) for x in range(dim)]\n",
    "    for i in range(dim): \n",
    "        table[i][i] = True\n",
    "        if i < dim - 1:\n",
    "            table[i][i+1] = (s[i] == s[i+1])\n",
    "    # First, initialize the one and two letters palindromes, and work our way up\n",
    "    # finding all three letters palindromes, and so on...\n",
    "    for step in range(2, dim): \n",
    "        for i in range(0, dim-step):\n",
    "            table[i][i+step] = table[i+1][i+step-1] and (s[i] == s[i+step])\n",
    "#     for c in table:\n",
    "#         print(c)\n",
    "    mmax = 0\n",
    "    t = s[0]\n",
    "    for col in range(dim-1,-1, -1):\n",
    "        for row in range(0,col): # 对角线上最后考虑\n",
    "            if table[row][col] and col+1-row > mmax: #必须引入mmax, eg.‘abadd’\n",
    "                t = s[row:col+1]\n",
    "                mmax = col + 1 - row\n",
    "    #若没有包含至少两个字母的回文字符串，则随便输出一个字母即可\n",
    "    return t, mmax\n",
    "print(longestPalindrome('abadd'))"
   ]
  },
  {
   "cell_type": "raw",
   "metadata": {},
   "source": [
    "Complexity Analysis:\n",
    "\n",
    "Time complexity: O(n^2)\n",
    "\n",
    "Space complexity: O(n^2). It uses O(n^2) space to store the table."
   ]
  },
  {
   "cell_type": "markdown",
   "metadata": {},
   "source": [
    "# Approach 3 Expand around enter"
   ]
  },
  {
   "cell_type": "raw",
   "metadata": {},
   "source": [
    "Explanation:\n",
    "In fact, we could solve it in O(n^2) time using only constant space.\n",
    "\n",
    "We observe that a palindrome mirrors around its center. Therefore, a palindrome can be expanded from its center, and there are only 2n - 1 such centers.\n",
    "\n",
    "You might be asking why there are 2n−1 but not n centers. The reason is the center of a palindrome can be in between two letters. Such palindromes have even number of letters (such as 'abba') and its center are between the two 'b's."
   ]
  },
  {
   "cell_type": "code",
   "execution_count": 104,
   "metadata": {},
   "outputs": [
    {
     "name": "stdout",
     "output_type": "stream",
     "text": [
      "('aaaa', 4)\n"
     ]
    }
   ],
   "source": [
    "# runtime: 896 ms (in 94 tests)\n",
    "def longestPalindrome(s):\n",
    "    dim = len(s)\n",
    "    if dim == 1:\n",
    "        return s\n",
    "    mmax = 0\n",
    "    sbegin = 0\n",
    "    for i in range(dim):\n",
    "        # if dim is odd\n",
    "        left, right = i - 1, i + 1\n",
    "        while left >= 0 and right < dim and s[left] == s[right]:\n",
    "            if mmax < right - left:\n",
    "                mmax = right - left\n",
    "                sbegin = left\n",
    "            left -= 1\n",
    "            right += 1\n",
    "        \n",
    "        # if dim is even\n",
    "        left, right = i, i + 1\n",
    "        while left >= 0 and right < dim and s[left] == s[right]:\n",
    "            if mmax < right - left:\n",
    "                mmax = right - left\n",
    "                sbegin = left\n",
    "            left -= 1\n",
    "            right += 1\n",
    "            \n",
    "        return s[sbegin:(sbegin+mmax+1)]\n",
    "\n",
    "print(longestPalindrome('aaaa'))"
   ]
  },
  {
   "cell_type": "markdown",
   "metadata": {},
   "source": [
    "# Approach 4 Manacher's Algorithm"
   ]
  },
  {
   "cell_type": "raw",
   "metadata": {},
   "source": [
    "一）第一步是改造字符串S，变为T，其改造的方法如下：\n",
    "\n",
    "在字符串S的字符之间和S的首尾都插入一个“#”，如：S=“abba”变为T=\"#a#b#b#a#\" 。我们会发现S的长度是4，而T的长度为9，长度变为奇数了！！那S的长度为奇数的情况时，变化后的长度还是奇数吗？我们举个例子，S=“abcba”，变化为T=“#a#b#c#b#a#”，T的长度为11，所以我们发现其改造的目的是将字符串的长度变为奇数，这样就可以统一的处理奇偶的情况了。\n",
    "\n",
    "二）第二步，为了改进回文相互重叠的情况，我们将改造完后的T[ i ] 处的回文半径存储到数组P[ ]中，P[ i ]为新字符串T的T[ i ]处的回文半径，表示以字符T[i]为中心的最长回文字串的最端右字符到T[i]的长度，如以T[ i ]为中心的最长回文子串的为T[ l, r ]，那么P[ i ]=r-i+1。这样最后遍历数组P[ ]，取其中最大值即可。若P[i]=1表示该回文串就是T[i]本身。\n",
    "\n",
    "具体参考：\n",
    "https://www.cnblogs.com/grandyang/p/4475985.html\n",
    "http://www.cnblogs.com/love-yh/p/7072161.html"
   ]
  },
  {
   "cell_type": "code",
   "execution_count": 116,
   "metadata": {},
   "outputs": [
    {
     "name": "stdout",
     "output_type": "stream",
     "text": [
      "bcb\n"
     ]
    }
   ],
   "source": [
    "# runtime: 88 ms (in 94 tests)\n",
    "def longestPalindrome(s):\n",
    "    t = '^' + '#'+'#'.join(list(s))+'#' + '$' # 首尾加^ $是为了防止越界 (while循环)\n",
    "    dim = len(t)\n",
    "    # p[i] records the palindromic radius in the center of t[i]\n",
    "    p = [0]* dim\n",
    "    R = 0 # 已检索的回文串中能延伸到的最右端位置\n",
    "    C = 0 # 对应右边是R的回文串中心\n",
    "    maxlen = 0 # 最大回文串长度\n",
    "    centerIndex = 0  # 最大回文串长度\n",
    "    for i in range(1, dim - 1):\n",
    "        '''当i<mx时，能对称取值得下标，当半径小于mx-i时，就是本身，\n",
    "          大于则只能取mx-lc，超过的部分只能++的比较。当i>mx时，只能++的比较。\n",
    "        '''\n",
    "        i_mirror = 2 * C - i\n",
    "        if R > i:\n",
    "            p[i] = min(p[i_mirror], R - i)\n",
    "        else:\n",
    "            p[i] = 1\n",
    "        # Attempt to expand palindrome centered at i\n",
    "        while t[i + p[i]] == t[i - p[i]]: \n",
    "            p[i] += 1\n",
    "        # If palindrome centered at i expand past R,\n",
    "        # adjust center based on expanded palindrome.\n",
    "        if p[i] > maxlen:\n",
    "            maxlen = p[i]\n",
    "            centerIndex = i\n",
    "        if R < i + p[i]:\n",
    "            R = i + p[i]\n",
    "            C = i\n",
    "    return s[(centerIndex - maxlen + 1)//2:(centerIndex + maxlen - 1)//2]        \n",
    "print(longestPalindrome('abbcbae'))"
   ]
  },
  {
   "cell_type": "code",
   "execution_count": null,
   "metadata": {},
   "outputs": [],
   "source": []
  }
 ],
 "metadata": {
  "kernelspec": {
   "display_name": "Python 3",
   "language": "python",
   "name": "python3"
  },
  "language_info": {
   "codemirror_mode": {
    "name": "ipython",
    "version": 3
   },
   "file_extension": ".py",
   "mimetype": "text/x-python",
   "name": "python",
   "nbconvert_exporter": "python",
   "pygments_lexer": "ipython3",
   "version": "3.6.4"
  }
 },
 "nbformat": 4,
 "nbformat_minor": 2
}
