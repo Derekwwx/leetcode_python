{
 "cells": [
  {
   "cell_type": "markdown",
   "metadata": {},
   "source": [
    "# Description"
   ]
  },
  {
   "cell_type": "raw",
   "metadata": {},
   "source": [
    "Given a string containing just the characters '(', ')', '{', '}', '[' and ']', determine if the input string is valid.\n",
    "\n",
    "An input string is valid if:\n",
    "\n",
    "    Open brackets must be closed by the same type of brackets.\n",
    "    \n",
    "    Open brackets must be closed in the correct order.\n",
    "Note that an empty string is also considered valid.\n",
    "\n",
    "Example 1:\n",
    "\n",
    "Input: \"()\"         Output: true\n",
    "\n",
    "Example 2:\n",
    "\n",
    "Input: \"()[]{}\"     Output: true\n",
    "\n",
    "Example 3:\n",
    "\n",
    "Input: \"(]\"         Output: false\n",
    "\n",
    "Example 4:\n",
    "\n",
    "Input: \"([)]\"      Output: false\n",
    "\n",
    "Example 5:\n",
    "\n",
    "Input: \"{[]}\"     Output: true"
   ]
  },
  {
   "cell_type": "code",
   "execution_count": 35,
   "metadata": {},
   "outputs": [
    {
     "name": "stdout",
     "output_type": "stream",
     "text": [
      "right is \n",
      "False\n"
     ]
    }
   ],
   "source": [
    "# 36 ms in 76 tests, over 99.85%\n",
    "def isValid(s):\n",
    "    \"\"\"\n",
    "    :type s: str\n",
    "    :rtype: bool\n",
    "    \"\"\"\n",
    "    pair = {'(':')', '[':']', '{': '}'}\n",
    "    right = ''\n",
    "    s = s[::-1]\n",
    "    for c in s:\n",
    "        if c in ')]}':\n",
    "            right += c\n",
    "        # 为防止越界（right为空）, 应加上条件 right\n",
    "        elif right and right[-1] == pair[c]:\n",
    "            right = right[:-1]\n",
    "            continue\n",
    "        else:\n",
    "#             print('right is',right)\n",
    "            return False\n",
    "    # 遍历完字符串后，right应该为空，如果不为空，说明还有的括号没有匹配\n",
    "    if not right:\n",
    "        return True\n",
    "    else:\n",
    "        return False\n",
    "print(isValid('['))"
   ]
  },
  {
   "cell_type": "code",
   "execution_count": 26,
   "metadata": {},
   "outputs": [
    {
     "data": {
      "text/plain": [
       "'12'"
      ]
     },
     "execution_count": 26,
     "metadata": {},
     "output_type": "execute_result"
    }
   ],
   "source": [
    "'123'[:-1]"
   ]
  },
  {
   "cell_type": "code",
   "execution_count": null,
   "metadata": {},
   "outputs": [],
   "source": []
  }
 ],
 "metadata": {
  "kernelspec": {
   "display_name": "Python 3",
   "language": "python",
   "name": "python3"
  },
  "language_info": {
   "codemirror_mode": {
    "name": "ipython",
    "version": 3
   },
   "file_extension": ".py",
   "mimetype": "text/x-python",
   "name": "python",
   "nbconvert_exporter": "python",
   "pygments_lexer": "ipython3",
   "version": "3.6.4"
  }
 },
 "nbformat": 4,
 "nbformat_minor": 2
}
