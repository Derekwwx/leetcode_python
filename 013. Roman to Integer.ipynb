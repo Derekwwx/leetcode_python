{
 "cells": [
  {
   "cell_type": "markdown",
   "metadata": {},
   "source": [
    "# Description\n",
    "Given a roman numeral, convert it to an integer.\n",
    "\n",
    "Input is guaranteed to be within the range from 1 to 3999."
   ]
  },
  {
   "cell_type": "raw",
   "metadata": {},
   "source": [
    "罗马字母的规律是如果左边的字母表示的数字小于右边的字母，则用右边的数字减去左边的数字；反之，则需要进行加法。\n",
    "\n",
    "我们从左向右进行遍历的时候，不太好计算出最终值；从另一个角度考虑，就是从右向左计算，就可以看出来了， 即遇到前面数大于等于后面的最大数的时候，相加；遇到前面数小于后面的最大数的时候，相减。"
   ]
  },
  {
   "cell_type": "code",
   "execution_count": 9,
   "metadata": {},
   "outputs": [
    {
     "data": {
      "text/plain": [
       "1437"
      ]
     },
     "execution_count": 9,
     "metadata": {},
     "output_type": "execute_result"
    }
   ],
   "source": [
    "# 13 ms in 3999 tests (over 86.07%)\n",
    "def romanToInt(s):\n",
    "    \"\"\"\n",
    "    :type s: str\n",
    "    :rtype: int\n",
    "    \"\"\"\n",
    "    num = 0\n",
    "    digits = {'I': 1, 'V': 5, 'X': 10, 'L': 50, 'C': 100, 'D':500, 'M':1000}\n",
    "    maxdigit = 1\n",
    "    for i in range(len(s) - 1, -1, -1):\n",
    "        digit = digits[s[i]]\n",
    "        if digit >= maxdigit:\n",
    "            maxdigit = digit\n",
    "            num += digit\n",
    "        else:\n",
    "            num -= digit\n",
    "    return num\n",
    "romanToInt('MCDXXXVII')"
   ]
  },
  {
   "cell_type": "code",
   "execution_count": null,
   "metadata": {},
   "outputs": [],
   "source": [
    "1437"
   ]
  }
 ],
 "metadata": {
  "kernelspec": {
   "display_name": "Python 3",
   "language": "python",
   "name": "python3"
  },
  "language_info": {
   "codemirror_mode": {
    "name": "ipython",
    "version": 3
   },
   "file_extension": ".py",
   "mimetype": "text/x-python",
   "name": "python",
   "nbconvert_exporter": "python",
   "pygments_lexer": "ipython3",
   "version": "3.6.4"
  }
 },
 "nbformat": 4,
 "nbformat_minor": 2
}
