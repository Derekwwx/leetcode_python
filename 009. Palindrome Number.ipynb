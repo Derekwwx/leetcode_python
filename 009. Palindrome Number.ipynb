{
 "cells": [
  {
   "cell_type": "markdown",
   "metadata": {},
   "source": [
    "# Palindrome Number\n",
    "Determine whether an integer is a palindrome. Do this without extra space."
   ]
  },
  {
   "cell_type": "code",
   "execution_count": 2,
   "metadata": {},
   "outputs": [
    {
     "data": {
      "text/plain": [
       "False"
      ]
     },
     "execution_count": 2,
     "metadata": {},
     "output_type": "execute_result"
    }
   ],
   "source": [
    "# 292 ms in 11507 tests (over 74.33%)\n",
    "def isPalindrome(x):\n",
    "    '''\n",
    "    :type x: int\n",
    "    :rtype: bool\n",
    "    '''\n",
    "#     不需要单独判断正负\n",
    "#     if x < 0:\n",
    "#         return False\n",
    "    \n",
    "    s = str(x)\n",
    "    h, t = 0, len(s) - 1\n",
    "    while True:\n",
    "        if h < t:\n",
    "            if s[h] == s[t]:\n",
    "                h += 1\n",
    "                t -= 1\n",
    "                continue\n",
    "            else:\n",
    "                return False\n",
    "        if h >= t:\n",
    "            return True\n",
    "isPalindrome(1231)\n",
    "            "
   ]
  },
  {
   "cell_type": "code",
   "execution_count": 3,
   "metadata": {},
   "outputs": [],
   "source": [
    "# 284 ms in 11507 tests (over 83.63%)\n",
    "def isPalindrome(x):\n",
    "    '''\n",
    "    :type x: int\n",
    "    :rtype: bool\n",
    "    '''\n",
    "    s = str(x)\n",
    "    rev = s[::-1]\n",
    "    return rev == s"
   ]
  },
  {
   "cell_type": "code",
   "execution_count": null,
   "metadata": {},
   "outputs": [],
   "source": []
  }
 ],
 "metadata": {
  "kernelspec": {
   "display_name": "Python 3",
   "language": "python",
   "name": "python3"
  },
  "language_info": {
   "codemirror_mode": {
    "name": "ipython",
    "version": 3
   },
   "file_extension": ".py",
   "mimetype": "text/x-python",
   "name": "python",
   "nbconvert_exporter": "python",
   "pygments_lexer": "ipython3",
   "version": "3.6.4"
  }
 },
 "nbformat": 4,
 "nbformat_minor": 2
}
