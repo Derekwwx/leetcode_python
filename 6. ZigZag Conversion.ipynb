{
 "cells": [
  {
   "cell_type": "raw",
   "metadata": {},
   "source": [
    "Description:\n",
    "The string \"PAYPALISHIRING\" is written in a zigzag pattern on a given number of rows like this: (you may want to display this pattern in a fixed font for better legibility)\n",
    "\n",
    "P   A   H   N\n",
    "A P L S I I G\n",
    "Y   I   R\n",
    "And then read line by line: \"PAHNAPLSIIGYIR\"\n",
    "\n",
    " \n",
    "\n",
    "Write the code that will take a string and make this conversion given a number of rows:\n",
    "\n",
    "string convert(string text, int nRows);\n",
    "convert(\"PAYPALISHIRING\", 3) should return \"PAHNAPLSIIGYIR\"."
   ]
  },
  {
   "cell_type": "markdown",
   "metadata": {},
   "source": [
    "# Approach I by myself"
   ]
  },
  {
   "cell_type": "code",
   "execution_count": 3,
   "metadata": {},
   "outputs": [
    {
     "name": "stdout",
     "output_type": "stream",
     "text": [
      "PAHNAPLSIIGYIR\n"
     ]
    }
   ],
   "source": [
    "# 108 ms in 1058 tests\n",
    "def convert(s, rw):\n",
    "    '''\n",
    "    :type s: str\n",
    "    :type rw: int\n",
    "    :rtype: str\n",
    "    '''\n",
    "    m = len(s)\n",
    "    t = ''  # t denotes the converted string\n",
    "    # if only one row, then returns the original string\n",
    "    if rw == 1:\n",
    "        return s\n",
    "    # 完全填充列的列号分别是 0, 2*rw-2, 2*(2*rw-2), 3*(2*rw-2), etc.\n",
    "    # 两完全填充列之间(包含前列但不包含后列)相隔 2*rw - 2个元素\n",
    "    cycle = 2 * rw - 2\n",
    "#     if m % cycle == 0:\n",
    "#         col = (rw-1)*(m//cycle)\n",
    "#     else:\n",
    "#         col = (rw-1)*(m//cycle) + m % cycle\n",
    "#   注意对j的循环的写法，如此写就不用考虑列数的困扰~\n",
    "    for i in range(rw):\n",
    "        for j in range(i, m, cycle):\n",
    "            t += s[j]\n",
    "            # 非首行和尾行，每个cycle之间只要没到字符串尾部都会有一个元素\n",
    "            if i > 0 and i < rw - 1 and j + cycle - 2 * i < m:\n",
    "                t += s[j + cycle - 2 * i]\n",
    "    return t\n",
    "\n",
    "print(convert(\"PAYPALISHIRING\", 3))"
   ]
  },
  {
   "cell_type": "code",
   "execution_count": null,
   "metadata": {},
   "outputs": [],
   "source": []
  }
 ],
 "metadata": {
  "kernelspec": {
   "display_name": "Python 3",
   "language": "python",
   "name": "python3"
  },
  "language_info": {
   "codemirror_mode": {
    "name": "ipython",
    "version": 3
   },
   "file_extension": ".py",
   "mimetype": "text/x-python",
   "name": "python",
   "nbconvert_exporter": "python",
   "pygments_lexer": "ipython3",
   "version": "3.6.4"
  }
 },
 "nbformat": 4,
 "nbformat_minor": 2
}
